{
  "nbformat": 4,
  "nbformat_minor": 0,
  "metadata": {
    "colab": {
      "name": "R7-Introduction to Neural Networks & Deep Learning_Project2.ipynb",
      "version": "0.3.2",
      "provenance": [],
      "collapsed_sections": []
    },
    "kernelspec": {
      "name": "python3",
      "display_name": "Python 3"
    },
    "accelerator": "GPU"
  },
  "cells": [
    {
      "metadata": {
        "id": "Dlhq976ITpZH",
        "colab_type": "code",
        "outputId": "001d9b2d-43a9-47da-862c-8ac08659169e",
        "colab": {
          "base_uri": "https://localhost:8080/",
          "height": 34
        }
      },
      "cell_type": "code",
      "source": [
        "import keras"
      ],
      "execution_count": 0,
      "outputs": [
        {
          "output_type": "stream",
          "text": [
            "Using TensorFlow backend.\n"
          ],
          "name": "stderr"
        }
      ]
    },
    {
      "metadata": {
        "id": "y27TDsTaUEPi",
        "colab_type": "code",
        "outputId": "efeb4ad2-1a93-42c8-abc4-fa9ebe602322",
        "colab": {
          "base_uri": "https://localhost:8080/",
          "height": 121
        }
      },
      "cell_type": "code",
      "source": [
        "from google.colab import drive\n",
        "drive.mount('/content/gdrive')"
      ],
      "execution_count": 0,
      "outputs": [
        {
          "output_type": "stream",
          "text": [
            "Go to this URL in a browser: https://accounts.google.com/o/oauth2/auth?client_id=947318989803-6bn6qk8qdgf4n4g3pfee6491hc0brc4i.apps.googleusercontent.com&redirect_uri=urn%3Aietf%3Awg%3Aoauth%3A2.0%3Aoob&scope=email%20https%3A%2F%2Fwww.googleapis.com%2Fauth%2Fdocs.test%20https%3A%2F%2Fwww.googleapis.com%2Fauth%2Fdrive%20https%3A%2F%2Fwww.googleapis.com%2Fauth%2Fdrive.photos.readonly%20https%3A%2F%2Fwww.googleapis.com%2Fauth%2Fpeopleapi.readonly&response_type=code\n",
            "\n",
            "Enter your authorization code:\n",
            "··········\n",
            "Mounted at /content/gdrive\n"
          ],
          "name": "stdout"
        }
      ]
    },
    {
      "metadata": {
        "id": "sbE150hcXsVm",
        "colab_type": "code",
        "outputId": "3fad01a2-0ab5-4b55-df5f-8d470f96626f",
        "colab": {
          "base_uri": "https://localhost:8080/",
          "height": 67
        }
      },
      "cell_type": "code",
      "source": [
        "!pip install h5py"
      ],
      "execution_count": 0,
      "outputs": [
        {
          "output_type": "stream",
          "text": [
            "Requirement already satisfied: h5py in /usr/local/lib/python3.6/dist-packages (2.8.0)\n",
            "Requirement already satisfied: numpy>=1.7 in /usr/local/lib/python3.6/dist-packages (from h5py) (1.14.6)\n",
            "Requirement already satisfied: six in /usr/local/lib/python3.6/dist-packages (from h5py) (1.11.0)\n"
          ],
          "name": "stdout"
        }
      ]
    },
    {
      "metadata": {
        "id": "ds2s9SRXXwsI",
        "colab_type": "code",
        "colab": {}
      },
      "cell_type": "code",
      "source": [
        "import h5py\n",
        "import numpy as np\n",
        "import matplotlib.pyplot as plt\n",
        "from sklearn.neighbors import KNeighborsClassifier\n",
        "from sklearn.preprocessing import StandardScaler\n",
        "filename = '/content/gdrive/My Drive/Files/SVHN_single_grey1.h5'\n",
        "f = h5py.File(filename,'r')"
      ],
      "execution_count": 0,
      "outputs": []
    },
    {
      "metadata": {
        "id": "aur-4N7QYtxL",
        "colab_type": "code",
        "outputId": "c07d6f0a-6b7d-4be3-8481-d80b4227d111",
        "colab": {
          "base_uri": "https://localhost:8080/",
          "height": 50
        }
      },
      "cell_type": "code",
      "source": [
        "# List all groups\n",
        "print(\"Keys: %s\" % f.keys())\n",
        "a_group_key = list(f.keys())\n",
        "print(a_group_key)"
      ],
      "execution_count": 0,
      "outputs": [
        {
          "output_type": "stream",
          "text": [
            "Keys: KeysView(<HDF5 file \"SVHN_single_grey1.h5\" (mode r)>)\n",
            "['X_test', 'X_train', 'X_val', 'y_test', 'y_train', 'y_val']\n"
          ],
          "name": "stdout"
        }
      ]
    },
    {
      "metadata": {
        "id": "0HyTBfrnZVrh",
        "colab_type": "code",
        "colab": {}
      },
      "cell_type": "code",
      "source": [
        "x_train = np.array(f['X_train'])\n",
        "y_train = np.array(f['y_train'])\n",
        "x_val = np.array(f['X_val'])\n",
        "y_val = np.array(f['y_val'])\n",
        "x_test = np.array(f['X_test'])\n",
        "y_test = np.array(f['y_test'])"
      ],
      "execution_count": 0,
      "outputs": []
    },
    {
      "metadata": {
        "id": "sc7yOikXcS3K",
        "colab_type": "code",
        "outputId": "a84cbc5a-6b6c-4337-b43c-1d99a992b8a5",
        "colab": {
          "base_uri": "https://localhost:8080/",
          "height": 67
        }
      },
      "cell_type": "code",
      "source": [
        "print(x_train.shape)\n",
        "print(x_val.shape)\n",
        "print(x_test.shape)"
      ],
      "execution_count": 0,
      "outputs": [
        {
          "output_type": "stream",
          "text": [
            "(42000, 32, 32)\n",
            "(60000, 32, 32)\n",
            "(18000, 32, 32)\n"
          ],
          "name": "stdout"
        }
      ]
    },
    {
      "metadata": {
        "id": "BWCxNJZ9_gEL",
        "colab_type": "code",
        "colab": {}
      },
      "cell_type": "code",
      "source": [
        "import cv2"
      ],
      "execution_count": 0,
      "outputs": []
    },
    {
      "metadata": {
        "id": "PeeZ9q3eAVoW",
        "colab_type": "code",
        "colab": {}
      },
      "cell_type": "code",
      "source": [
        "def resize(data):\n",
        "  return cv2.resize(data, dsize=(16,16), interpolation = cv2.INTER_LANCZOS4)"
      ],
      "execution_count": 0,
      "outputs": []
    },
    {
      "metadata": {
        "id": "uqtpukr0Abpw",
        "colab_type": "code",
        "colab": {}
      },
      "cell_type": "code",
      "source": [
        "x_train_resize = np.zeros(shape =(42000,16,16))\n",
        "x_test_resize = np.zeros(shape = (18000,16,16))\n",
        "for i in range(0,len(x_train)):\n",
        "  x_train_resize[i] = resize(x_train[i])\n",
        "for i in range(0,len(x_test)):\n",
        "  x_test_resize[i] = resize(x_test[i])  "
      ],
      "execution_count": 0,
      "outputs": []
    },
    {
      "metadata": {
        "id": "T5vWFR9shgAu",
        "colab_type": "code",
        "colab": {}
      },
      "cell_type": "code",
      "source": [
        "x_train_reshape = x_train_resize.reshape(x_train_resize.shape[0],1024)\n",
        "#x_train_reshape = x_train.reshape(x_train.shape[0],1024)\n",
        "x_test_reshape = x_test_resize.reshape(x_test_resize.shape[0],1024)\n",
        "#x_test_reshape = x_test.reshape(x_test.shape[0],1024)"
      ],
      "execution_count": 0,
      "outputs": []
    },
    {
      "metadata": {
        "id": "_H0PBwBj2UIM",
        "colab_type": "code",
        "colab": {}
      },
      "cell_type": "code",
      "source": [
        "scaler = StandardScaler()\n",
        "eda_scaled = scaler.fit_transform(x_train_reshape)\n",
        "eda_scaled_t = scaler.fit_transform(x_test_reshape)\n"
      ],
      "execution_count": 0,
      "outputs": []
    },
    {
      "metadata": {
        "id": "kMVvRzAMrOZi",
        "colab_type": "code",
        "colab": {}
      },
      "cell_type": "code",
      "source": [
        "def data_manipul(data):\n",
        "  cov_matrix = np.cov(eda_scaled.T)\n",
        "  e_vals, e_vecs = np.linalg.eig(cov_matrix)\n",
        "  tot = sum(e_vals)\n",
        "  var_exp = [( i /tot ) * 100 for i in sorted(e_vals, reverse=True)]\n",
        "  cum_var_exp = np.cumsum(var_exp)\n",
        "  print(\"Cumulative Variance Explained\", cum_var_exp)\n",
        "  # Ploting \n",
        "  plt.figure(figsize=(10 , 5))\n",
        "  plt.bar(range(1, e_vals.size + 1), var_exp, alpha = 0.5, align = 'center', label = 'Individual explained variance')\n",
        "  plt.step(range(1, e_vals.size + 1), cum_var_exp, where='mid', label = 'Cumulative explained variance')\n",
        "  plt.ylabel('Explained Variance Ratio')\n",
        "  plt.xlabel('Principal Components')\n",
        "  plt.legend(loc = 'best')\n",
        "  plt.tight_layout()\n",
        "  plt.show()"
      ],
      "execution_count": 0,
      "outputs": []
    },
    {
      "metadata": {
        "id": "UqwvY7UrrQ5q",
        "colab_type": "code",
        "outputId": "1f757d0a-c1b7-446c-e6df-e1fee602cb15",
        "colab": {
          "base_uri": "https://localhost:8080/",
          "height": 1238
        }
      },
      "cell_type": "code",
      "source": [
        "data_manipul(eda_scaled)"
      ],
      "execution_count": 0,
      "outputs": [
        {
          "output_type": "stream",
          "text": [
            "Cumulative Variance Explained [ 56.18107564  62.68060245  67.9733506   72.08604219  74.16920586\n",
            "  75.92892632  77.61696905  79.05650722  80.38802268  81.52367619\n",
            "  82.55476113  83.46346398  84.19004649  84.85930179  85.45537336\n",
            "  86.02629461  86.55908166  87.08011032  87.56978632  88.00869437\n",
            "  88.43634371  88.85482065  89.24692453  89.60901316  89.95119596\n",
            "  90.2789009   90.59142609  90.89603275  91.19135217  91.47617956\n",
            "  91.7465523   92.00905242  92.26041958  92.50434031  92.73371072\n",
            "  92.95486024  93.17152563  93.37275313  93.57180203  93.76206459\n",
            "  93.94473982  94.12329718  94.2925616   94.45762581  94.61511241\n",
            "  94.76718676  94.91649138  95.06108531  95.19969625  95.33436707\n",
            "  95.46849575  95.60033506  95.7261004   95.8466359   95.95962364\n",
            "  96.07225886  96.1772443   96.28033467  96.38042214  96.48015028\n",
            "  96.5765601   96.66607268  96.75155212  96.83466816  96.91487993\n",
            "  96.99279656  97.0690497   97.14389477  97.21654303  97.28610205\n",
            "  97.35437612  97.42013767  97.48529848  97.54966795  97.61089009\n",
            "  97.67113668  97.72917385  97.78689418  97.84231764  97.89553055\n",
            "  97.94765191  97.99729572  98.04580307  98.09250511  98.13834822\n",
            "  98.18185065  98.22482863  98.2653383   98.30555005  98.34460438\n",
            "  98.38311611  98.42082822  98.45773677  98.49427132  98.52849376\n",
            "  98.56107506  98.59261265  98.62339373  98.65381392  98.68348505\n",
            "  98.71239218  98.74090976  98.76872344  98.79640833  98.82325809\n",
            "  98.84950117  98.87557834  98.90110025  98.92573804  98.9493608\n",
            "  98.97191072  98.99384048  99.01553959  99.03692281  99.05797757\n",
            "  99.07862786  99.0989525   99.11850737  99.13744128  99.15608223\n",
            "  99.17464415  99.19250867  99.21027217  99.22752699  99.24437573\n",
            "  99.26101155  99.2771495   99.29288697  99.30812786  99.32330539\n",
            "  99.33771846  99.35195657  99.36598107  99.37965321  99.39308641\n",
            "  99.40646166  99.4194586   99.43235627  99.44485363  99.45699784\n",
            "  99.46892626  99.4806615   99.49216335  99.50333343  99.51423131\n",
            "  99.52488291  99.53545591  99.54574113  99.55586074  99.56592487\n",
            "  99.57578877  99.5853441   99.59470389  99.60397665  99.61291444\n",
            "  99.62178352  99.63054344  99.63896019  99.6471636   99.65522414\n",
            "  99.66304451  99.67083099  99.6784409   99.68584199  99.69314635\n",
            "  99.70016692  99.70714333  99.71399163  99.72075293  99.72730172\n",
            "  99.73373854  99.7400116   99.74616322  99.7521125   99.7580009\n",
            "  99.76378508  99.7695017   99.77516999  99.78077516  99.78633427\n",
            "  99.79177582  99.79705273  99.80231149  99.8075043   99.81250702\n",
            "  99.81741645  99.82225461  99.82699882  99.83157878  99.83610406\n",
            "  99.84057135  99.84502655  99.84931389  99.85351424  99.85767503\n",
            "  99.86175897  99.86575759  99.86963634  99.87339717  99.87712472\n",
            "  99.88080174  99.88437548  99.88794286  99.89146003  99.8949504\n",
            "  99.89834768  99.90156352  99.90475393  99.90793611  99.91101065\n",
            "  99.91402542  99.91699163  99.91992374  99.92283801  99.92564856\n",
            "  99.92837712  99.93107485  99.93367402  99.93626178  99.93877416\n",
            "  99.94124391  99.94367994  99.94610514  99.94845926  99.95078273\n",
            "  99.95303956  99.95524761  99.9574032   99.95954432  99.9616612\n",
            "  99.96370097  99.96570522  99.96761343  99.96949884  99.9713406\n",
            "  99.97316584  99.97494873  99.97663097  99.97827893  99.97991544\n",
            "  99.98149062  99.98303234  99.98453517  99.98599248  99.98739153\n",
            "  99.9887803   99.99010592  99.99138908  99.99264271  99.99382038\n",
            "  99.99498826  99.99608077  99.99715435  99.99814446  99.99911082\n",
            " 100.        ]\n"
          ],
          "name": "stdout"
        },
        {
          "output_type": "display_data",
          "data": {
            "image/png": "[encoded data removed]",
            "text/plain": [
              "<Figure size 720x360 with 1 Axes>"
            ]
          },
          "metadata": {
            "tags": []
          }
        }
      ]
    },
    {
      "metadata": {
        "id": "cnNux3nM1S1w",
        "colab_type": "code",
        "colab": {}
      },
      "cell_type": "code",
      "source": [
        "from sklearn.decomposition import PCA\n",
        "pca = PCA(n_components=45)\n",
        "principalComponents = pca.fit_transform(eda_scaled)"
      ],
      "execution_count": 0,
      "outputs": []
    },
    {
      "metadata": {
        "id": "ZJfq7loi1yvD",
        "colab_type": "code",
        "colab": {}
      },
      "cell_type": "code",
      "source": [
        "principalComponents_t = pca.transform(eda_scaled_t)"
      ],
      "execution_count": 0,
      "outputs": []
    },
    {
      "metadata": {
        "id": "L6l210sYVpmX",
        "colab_type": "code",
        "colab": {}
      },
      "cell_type": "code",
      "source": [
        "from sklearn.neighbors import KNeighborsClassifier\n",
        "from sklearn.metrics import confusion_matrix\n",
        "from sklearn.metrics import classification_report\n",
        "from sklearn.model_selection import GridSearchCV"
      ],
      "execution_count": 0,
      "outputs": []
    },
    {
      "metadata": {
        "id": "OQqp1YZ_fwHY",
        "colab_type": "code",
        "outputId": "2841a2f6-ca21-4f0e-9d30-60b5c45b4efa",
        "colab": {
          "base_uri": "https://localhost:8080/",
          "height": 134
        }
      },
      "cell_type": "code",
      "source": [
        "accuracies = []\n",
        "for i in range(30,100,10):\n",
        "  model = KNeighborsClassifier(n_neighbors=i, weights ='distance', p=1)\n",
        "  model.fit(principalComponents, y_train)\n",
        "  # evaluate the model and update the accuracies list\n",
        "  score = model.score(principalComponents_t, y_test)\n",
        "  print(\"k=%d, accuracy=%.2f%%\" % (i, score * 100))\n",
        "  accuracies.append(score)"
      ],
      "execution_count": 0,
      "outputs": [
        {
          "output_type": "stream",
          "text": [
            "k=30, accuracy=61.21%\n",
            "k=40, accuracy=61.58%\n",
            "k=50, accuracy=61.53%\n",
            "k=60, accuracy=61.62%\n",
            "k=70, accuracy=61.89%\n",
            "k=80, accuracy=61.82%\n",
            "k=90, accuracy=61.71%\n"
          ],
          "name": "stdout"
        }
      ]
    },
    {
      "metadata": {
        "id": "gOmTBreCkfsk",
        "colab_type": "text"
      },
      "cell_type": "markdown",
      "source": [
        "From above, we can see an accuracy of 61.89% for k=70 and on using distance based weighted KNN and Manhattan Distance as the metric."
      ]
    },
    {
      "metadata": {
        "id": "4UJCmyUhkeon",
        "colab_type": "code",
        "colab": {}
      },
      "cell_type": "code",
      "source": [
        "model_opti = KNeighborsClassifier(n_neighbors=70, weights = 'distance', p=1, algorithm = 'ball_tree' )\n",
        "model_opti.fit(principalComponents, y_train)\n",
        "# evaluate the model and update the accuracies list\n",
        "y_pred = model_opti.predict(principalComponents_t)"
      ],
      "execution_count": 0,
      "outputs": []
    },
    {
      "metadata": {
        "id": "pR9CjKKgopa3",
        "colab_type": "code",
        "outputId": "a9bd3321-36c7-43b9-ba41-5ee02c336cf3",
        "colab": {
          "base_uri": "https://localhost:8080/",
          "height": 319
        }
      },
      "cell_type": "code",
      "source": [
        "from sklearn.metrics import classification_report\n",
        "print(classification_report(y_test, y_pred))\n",
        "score = model_opti.score(principalComponents_t, y_test)\n",
        "print('Overall Accuracy Score', score)"
      ],
      "execution_count": 0,
      "outputs": [
        {
          "output_type": "stream",
          "text": [
            "              precision    recall  f1-score   support\n",
            "\n",
            "           0       0.55      0.75      0.63      1814\n",
            "           1       0.53      0.77      0.63      1828\n",
            "           2       0.77      0.60      0.68      1803\n",
            "           3       0.58      0.49      0.53      1719\n",
            "           4       0.72      0.73      0.72      1812\n",
            "           5       0.61      0.52      0.56      1768\n",
            "           6       0.62      0.51      0.56      1832\n",
            "           7       0.74      0.69      0.72      1808\n",
            "           8       0.57      0.53      0.55      1812\n",
            "           9       0.60      0.57      0.58      1804\n",
            "\n",
            "   micro avg       0.62      0.62      0.62     18000\n",
            "   macro avg       0.63      0.62      0.62     18000\n",
            "weighted avg       0.63      0.62      0.62     18000\n",
            "\n",
            "Overall Accuracy Score 0.6189444444444444\n"
          ],
          "name": "stdout"
        }
      ]
    },
    {
      "metadata": {
        "id": "TW2gDcX0JPzS",
        "colab_type": "code",
        "colab": {}
      },
      "cell_type": "code",
      "source": [
        "from keras.models import Sequential\n",
        "from keras.layers import Convolution2D, MaxPooling2D, Dense, Activation, Dropout, Flatten, Reshape, BatchNormalization\n",
        "from keras import backend as K\n",
        "K.set_image_dim_ordering('th')"
      ],
      "execution_count": 0,
      "outputs": []
    },
    {
      "metadata": {
        "id": "JvM3F_qGMTx0",
        "colab_type": "code",
        "colab": {}
      },
      "cell_type": "code",
      "source": [
        "x_train = x_train.reshape(x_train.shape[0], 1,32,32).astype('float32')\n",
        "x_test = x_test.reshape(x_test.shape[0], 1,32,32).astype('float32')\n",
        "x_train /= 255\n",
        "x_test /= 255"
      ],
      "execution_count": 0,
      "outputs": []
    },
    {
      "metadata": {
        "id": "CVDaHUA7LMU8",
        "colab_type": "code",
        "colab": {}
      },
      "cell_type": "code",
      "source": [
        "y_train_dum = keras.utils.to_categorical(y_train,num_classes=10)\n",
        "y_test_dum = keras.utils.to_categorical(y_test,num_classes=10)"
      ],
      "execution_count": 0,
      "outputs": []
    },
    {
      "metadata": {
        "id": "fhYCxIvpISkU",
        "colab_type": "code",
        "outputId": "82357665-afca-4969-a07c-087d5f8ddef2",
        "colab": {
          "base_uri": "https://localhost:8080/",
          "height": 910
        }
      },
      "cell_type": "code",
      "source": [
        " # Define Model\n",
        "    model_cnn = Sequential()\n",
        "    \n",
        "    # 1st Conv Layer\n",
        "    model_cnn.add(Convolution2D(32,(3, 3), input_shape=(1,32,32), data_format='channels_first'))\n",
        "    model_cnn.add(BatchNormalization())\n",
        "    model_cnn.add(Activation('relu'))\n",
        "    # Max Pooling\n",
        "    #model_cnn.add(MaxPooling2D(pool_size=(2,2)))\n",
        "    # Dropout\n",
        "    model_cnn.add(Dropout(0.2))\n",
        "\n",
        "\n",
        "    # 2nd Conv Layer\n",
        "    model_cnn.add(Convolution2D(64,(3, 3), data_format='channels_first'))\n",
        "    model_cnn.add(BatchNormalization())\n",
        "    model_cnn.add(Activation('relu'))\n",
        "    # Max Pooling\n",
        "    model_cnn.add(MaxPooling2D(pool_size=(2,2)))\n",
        "    # Dropout\n",
        "    model_cnn.add(Dropout(0.2))\n",
        "\n",
        "    \n",
        "     # 3rd Conv Layer\n",
        "    model_cnn.add(Convolution2D(64,(3, 3), data_format='channels_first'))\n",
        "    model_cnn.add(BatchNormalization())\n",
        "    model_cnn.add(Activation('relu'))\n",
        "    # Max Pooling\n",
        "    model_cnn.add(MaxPooling2D(pool_size=(2,2)))\n",
        "    # Dropout\n",
        "    model_cnn.add(Dropout(0.2))\n",
        "    \n",
        "     \n",
        "     # 4th Conv Layer\n",
        "    model_cnn.add(Convolution2D(64,(3, 3), data_format='channels_first'))\n",
        "    model_cnn.add(BatchNormalization())\n",
        "    model_cnn.add(Activation('relu'))\n",
        "    # Max Pooling\n",
        "    #model_cnn.add(MaxPooling2D(pool_size=(2,2)))\n",
        "    # Dropout\n",
        "    model_cnn.add(Dropout(0.25))\n",
        "    \n",
        "    # Fully Connected Layer\n",
        "    model_cnn.add(Flatten())\n",
        "    model_cnn.add(Dense(128, activation='relu'))\n",
        "    model_cnn.add(Dense(256, activation='relu'))\n",
        "        \n",
        "    # Prediction Layer\n",
        "    model_cnn.add(Dense(10, activation = 'softmax'))\n",
        "    \n",
        "    # Loss and Optimizer\n",
        "    model_cnn.compile(loss='categorical_crossentropy', optimizer='adam', metrics=['accuracy'])\n",
        "    \n",
        "    # Store Training Results\n",
        "    early_stopping = keras.callbacks.EarlyStopping(monitor='val_acc', patience=7, verbose=1, mode='auto')\n",
        "    callback_list = [early_stopping]\n",
        "\n",
        "    # Train the model\n",
        "    model_cnn.fit(x_train, y_train_dum, batch_size=32, nb_epoch=20, \n",
        "              validation_data=(x_test, y_test_dum), callbacks = callback_list)"
      ],
      "execution_count": 0,
      "outputs": [
        {
          "output_type": "stream",
          "text": [
            "WARNING:tensorflow:From /usr/local/lib/python3.6/dist-packages/tensorflow/python/framework/op_def_library.py:263: colocate_with (from tensorflow.python.framework.ops) is deprecated and will be removed in a future version.\n",
            "Instructions for updating:\n",
            "Colocations handled automatically by placer.\n",
            "WARNING:tensorflow:From /usr/local/lib/python3.6/dist-packages/keras/backend/tensorflow_backend.py:3445: calling dropout (from tensorflow.python.ops.nn_ops) with keep_prob is deprecated and will be removed in a future version.\n",
            "Instructions for updating:\n",
            "Please use `rate` instead of `keep_prob`. Rate should be set to `rate = 1 - keep_prob`.\n",
            "WARNING:tensorflow:From /usr/local/lib/python3.6/dist-packages/tensorflow/python/ops/math_ops.py:3066: to_int32 (from tensorflow.python.ops.math_ops) is deprecated and will be removed in a future version.\n",
            "Instructions for updating:\n",
            "Use tf.cast instead.\n"
          ],
          "name": "stdout"
        },
        {
          "output_type": "stream",
          "text": [
            "/usr/local/lib/python3.6/dist-packages/ipykernel_launcher.py:59: UserWarning: The `nb_epoch` argument in `fit` has been renamed `epochs`.\n"
          ],
          "name": "stderr"
        },
        {
          "output_type": "stream",
          "text": [
            "Train on 42000 samples, validate on 18000 samples\n",
            "Epoch 1/20\n",
            "42000/42000 [==============================] - 28s 668us/step - loss: 1.7713 - acc: 0.3413 - val_loss: 0.6348 - val_acc: 0.8069\n",
            "Epoch 2/20\n",
            "42000/42000 [==============================] - 24s 565us/step - loss: 0.5189 - acc: 0.8396 - val_loss: 0.3620 - val_acc: 0.8943\n",
            "Epoch 3/20\n",
            "42000/42000 [==============================] - 24s 566us/step - loss: 0.3930 - acc: 0.8792 - val_loss: 0.3309 - val_acc: 0.9011\n",
            "Epoch 4/20\n",
            "42000/42000 [==============================] - 24s 566us/step - loss: 0.3430 - acc: 0.8945 - val_loss: 0.3155 - val_acc: 0.9060\n",
            "Epoch 5/20\n",
            "42000/42000 [==============================] - 24s 573us/step - loss: 0.3120 - acc: 0.9048 - val_loss: 0.2743 - val_acc: 0.9188\n",
            "Epoch 6/20\n",
            "42000/42000 [==============================] - 24s 574us/step - loss: 0.2859 - acc: 0.9131 - val_loss: 0.2621 - val_acc: 0.9234\n",
            "Epoch 7/20\n",
            "42000/42000 [==============================] - 24s 573us/step - loss: 0.2681 - acc: 0.9174 - val_loss: 0.2667 - val_acc: 0.9198\n",
            "Epoch 8/20\n",
            "42000/42000 [==============================] - 24s 574us/step - loss: 0.2478 - acc: 0.9252 - val_loss: 0.2436 - val_acc: 0.9295\n",
            "Epoch 9/20\n",
            "42000/42000 [==============================] - 24s 573us/step - loss: 0.2400 - acc: 0.9267 - val_loss: 0.2645 - val_acc: 0.9229\n",
            "Epoch 10/20\n",
            "42000/42000 [==============================] - 24s 575us/step - loss: 0.2278 - acc: 0.9312 - val_loss: 0.2512 - val_acc: 0.9277\n",
            "Epoch 11/20\n",
            "42000/42000 [==============================] - 24s 573us/step - loss: 0.2136 - acc: 0.9349 - val_loss: 0.2543 - val_acc: 0.9268\n",
            "Epoch 12/20\n",
            "42000/42000 [==============================] - 24s 573us/step - loss: 0.2032 - acc: 0.9378 - val_loss: 0.2447 - val_acc: 0.9292\n",
            "Epoch 13/20\n",
            "42000/42000 [==============================] - 24s 572us/step - loss: 0.1947 - acc: 0.9390 - val_loss: 0.2421 - val_acc: 0.9322\n",
            "Epoch 14/20\n",
            "42000/42000 [==============================] - 24s 573us/step - loss: 0.1886 - acc: 0.9419 - val_loss: 0.2512 - val_acc: 0.9297\n",
            "Epoch 15/20\n",
            "42000/42000 [==============================] - 24s 575us/step - loss: 0.1793 - acc: 0.9442 - val_loss: 0.2340 - val_acc: 0.9334\n",
            "Epoch 16/20\n",
            "42000/42000 [==============================] - 24s 574us/step - loss: 0.1711 - acc: 0.9483 - val_loss: 0.2462 - val_acc: 0.9339\n",
            "Epoch 17/20\n",
            "42000/42000 [==============================] - 24s 575us/step - loss: 0.1607 - acc: 0.9502 - val_loss: 0.2450 - val_acc: 0.9339\n",
            "Epoch 18/20\n",
            "42000/42000 [==============================] - 24s 575us/step - loss: 0.1560 - acc: 0.9505 - val_loss: 0.2525 - val_acc: 0.9327\n",
            "Epoch 19/20\n",
            "42000/42000 [==============================] - 24s 574us/step - loss: 0.1532 - acc: 0.9504 - val_loss: 0.2748 - val_acc: 0.9263\n",
            "Epoch 20/20\n",
            "42000/42000 [==============================] - 24s 573us/step - loss: 0.1472 - acc: 0.9535 - val_loss: 0.2482 - val_acc: 0.9365\n"
          ],
          "name": "stdout"
        },
        {
          "output_type": "execute_result",
          "data": {
            "text/plain": [
              "<keras.callbacks.History at 0x7f8d2e5ff780>"
            ]
          },
          "metadata": {
            "tags": []
          },
          "execution_count": 11
        }
      ]
    },
    {
      "metadata": {
        "id": "_wn9CAdXQWGB",
        "colab_type": "code",
        "colab": {}
      },
      "cell_type": "code",
      "source": [
        "y_pred = model_cnn.predict_classes(x_test)"
      ],
      "execution_count": 0,
      "outputs": []
    },
    {
      "metadata": {
        "id": "8f_DEeI3QZYT",
        "colab_type": "code",
        "outputId": "321a7ded-d5a0-4d5d-e551-5d5defbc5a50",
        "colab": {
          "base_uri": "https://localhost:8080/",
          "height": 302
        }
      },
      "cell_type": "code",
      "source": [
        "from sklearn.metrics import classification_report\n",
        "print(classification_report(y_test, y_pred))"
      ],
      "execution_count": 0,
      "outputs": [
        {
          "output_type": "stream",
          "text": [
            "              precision    recall  f1-score   support\n",
            "\n",
            "           0       0.95      0.95      0.95      1814\n",
            "           1       0.91      0.93      0.92      1828\n",
            "           2       0.94      0.94      0.94      1803\n",
            "           3       0.93      0.91      0.92      1719\n",
            "           4       0.94      0.95      0.94      1812\n",
            "           5       0.93      0.95      0.94      1768\n",
            "           6       0.94      0.93      0.94      1832\n",
            "           7       0.94      0.95      0.95      1808\n",
            "           8       0.95      0.92      0.94      1812\n",
            "           9       0.93      0.93      0.93      1804\n",
            "\n",
            "   micro avg       0.94      0.94      0.94     18000\n",
            "   macro avg       0.94      0.94      0.94     18000\n",
            "weighted avg       0.94      0.94      0.94     18000\n",
            "\n"
          ],
          "name": "stdout"
        }
      ]
    },
    {
      "metadata": {
        "id": "OhwuRRLLQjrG",
        "colab_type": "code",
        "colab": {}
      },
      "cell_type": "code",
      "source": [
        ""
      ],
      "execution_count": 0,
      "outputs": []
    }
  ]
}