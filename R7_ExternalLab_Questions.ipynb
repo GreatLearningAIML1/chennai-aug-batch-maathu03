{
 "cells": [
  {
   "cell_type": "markdown",
   "metadata": {
    "colab_type": "text",
    "id": "4WH1Pr4KQlCh"
   },
   "source": [
    "### Build a DNN using Keras with `RELU` and `ADAM`"
   ]
  },
  {
   "cell_type": "markdown",
   "metadata": {
    "colab_type": "text",
    "id": "TbvI8LqlQlCl",
    "slideshow": {
     "slide_type": "slide"
    }
   },
   "source": [
    "#### Load tensorflow"
   ]
  },
  {
   "cell_type": "code",
   "execution_count": 1,
   "metadata": {
    "colab": {},
    "colab_type": "code",
    "id": "SPW-a-qYQlCp"
   },
   "outputs": [
    {
     "name": "stderr",
     "output_type": "stream",
     "text": [
      "/anaconda3/lib/python3.6/site-packages/h5py/__init__.py:36: FutureWarning: Conversion of the second argument of issubdtype from `float` to `np.floating` is deprecated. In future, it will be treated as `np.float64 == np.dtype(float).type`.\n",
      "  from ._conv import register_converters as _register_converters\n",
      "Using TensorFlow backend.\n"
     ]
    }
   ],
   "source": [
    "# Import tensorflow package and set random seed to 42\n",
    "import tensorflow as tf\n",
    "tf.set_random_seed(42)\n",
    "\n",
    "# Importing keras package\n",
    "import keras\n",
    "from keras.datasets import mnist\n",
    "from keras.models import Sequential\n",
    "from keras.layers import Dense, Activation, Dropout, Flatten, Reshape\n",
    "from keras.layers import Convolution2D, MaxPooling2D\n",
    "from keras.utils import np_utils"
   ]
  },
  {
   "cell_type": "markdown",
   "metadata": {
    "colab_type": "text",
    "id": "74cQBsi5QlCw",
    "slideshow": {
     "slide_type": "slide"
    }
   },
   "source": [
    "#### Collect Fashion mnist data from tf.keras.datasets "
   ]
  },
  {
   "cell_type": "code",
   "execution_count": 2,
   "metadata": {
    "colab": {},
    "colab_type": "code",
    "id": "8H4gOaeJQlCx"
   },
   "outputs": [],
   "source": [
    "# importing the mnist dataset and split data into test and train\n",
    "from keras.datasets import fashion_mnist\n",
    "(x_train, y_train), (x_test, y_test) = fashion_mnist.load_data()"
   ]
  },
  {
   "cell_type": "code",
   "execution_count": 3,
   "metadata": {},
   "outputs": [
    {
     "name": "stdout",
     "output_type": "stream",
     "text": [
      "60000 train samples\n"
     ]
    }
   ],
   "source": [
    "# Shape of training dataset\n",
    "x_train.shape\n",
    "print(x_train.shape[0], 'train samples')"
   ]
  },
  {
   "cell_type": "code",
   "execution_count": 4,
   "metadata": {},
   "outputs": [
    {
     "data": {
      "text/plain": [
       "(60000,)"
      ]
     },
     "execution_count": 4,
     "metadata": {},
     "output_type": "execute_result"
    }
   ],
   "source": [
    "# Shape of y train, 60000 rows\n",
    "y_train.shape"
   ]
  },
  {
   "cell_type": "code",
   "execution_count": 5,
   "metadata": {},
   "outputs": [
    {
     "name": "stdout",
     "output_type": "stream",
     "text": [
      "10000 test samples\n"
     ]
    }
   ],
   "source": [
    "# Shape of Test dataset\n",
    "x_test.shape\n",
    "print(x_test.shape[0], 'test samples')"
   ]
  },
  {
   "cell_type": "code",
   "execution_count": 6,
   "metadata": {},
   "outputs": [
    {
     "data": {
      "text/plain": [
       "(10000,)"
      ]
     },
     "execution_count": 6,
     "metadata": {},
     "output_type": "execute_result"
    }
   ],
   "source": [
    "# Shape of y test, 10000 rows\n",
    "y_test.shape"
   ]
  },
  {
   "cell_type": "code",
   "execution_count": 7,
   "metadata": {},
   "outputs": [
    {
     "data": {
      "text/plain": [
       "(28, 28)"
      ]
     },
     "execution_count": 7,
     "metadata": {},
     "output_type": "execute_result"
    }
   ],
   "source": [
    "# Getting the dimension of the image from one training example\n",
    "x_train[0].shape"
   ]
  },
  {
   "cell_type": "markdown",
   "metadata": {
    "colab_type": "text",
    "id": "no7aWYZyQlC1",
    "slideshow": {
     "slide_type": "slide"
    }
   },
   "source": [
    "#### Change train and test labels into one-hot vectors"
   ]
  },
  {
   "cell_type": "code",
   "execution_count": 8,
   "metadata": {
    "colab": {},
    "colab_type": "code",
    "id": "UX6otc4wQlC2"
   },
   "outputs": [],
   "source": [
    "# Converting the training set to one hot vectors\n",
    "y_train = tf.keras.utils.to_categorical(y_train)"
   ]
  },
  {
   "cell_type": "code",
   "execution_count": 9,
   "metadata": {},
   "outputs": [],
   "source": [
    "# Converting the test set to one hot vectors\n",
    "y_test = tf.keras.utils.to_categorical(y_test)"
   ]
  },
  {
   "cell_type": "markdown",
   "metadata": {
    "colab_type": "text",
    "id": "QjNrRTdoQlC5",
    "slideshow": {
     "slide_type": "slide"
    }
   },
   "source": [
    "#### Build the Graph"
   ]
  },
  {
   "cell_type": "code",
   "execution_count": 10,
   "metadata": {},
   "outputs": [
    {
     "data": {
      "text/plain": [
       "<Figure size 1000x1000 with 10 Axes>"
      ]
     },
     "metadata": {},
     "output_type": "display_data"
    }
   ],
   "source": [
    "# Plotting the first 10 images using imshow function in matplotlib\n",
    "import matplotlib.pyplot as plt\n",
    "\n",
    "fig=plt.figure(figsize=(10, 10))\n",
    "columns = 10\n",
    "rows = 1\n",
    "for i in range(1, 11):\n",
    "    fig.add_subplot(rows, columns, i)\n",
    "    plt.imshow(x_train[i-1], cmap='gray')\n",
    "plt.show()"
   ]
  },
  {
   "cell_type": "markdown",
   "metadata": {
    "colab_type": "text",
    "id": "CDJ9DHVNQlC7"
   },
   "source": [
    "#### Initialize model, reshape & normalize data"
   ]
  },
  {
   "cell_type": "code",
   "execution_count": 11,
   "metadata": {},
   "outputs": [],
   "source": [
    "#Initializing a Sequential model\n",
    "model = tf.keras.models.Sequential()\n",
    "\n",
    "#Reshaping data from 2D to 1D -> 28x28 to 784\n",
    "model.add(tf.keras.layers.Reshape((784,),input_shape=(28,28,)))\n",
    "\n",
    "#Normalizing the data\n",
    "model.add(tf.keras.layers.BatchNormalization())"
   ]
  },
  {
   "cell_type": "code",
   "execution_count": 12,
   "metadata": {},
   "outputs": [
    {
     "name": "stdout",
     "output_type": "stream",
     "text": [
      "--- THE DATA ---\n",
      "x_train shape: (60000, 28, 28)\n",
      "60000 train samples\n",
      "10000 test samples\n"
     ]
    }
   ],
   "source": [
    "print('--- THE DATA ---')\n",
    "print('x_train shape:', x_train.shape)\n",
    "print(x_train.shape[0], 'train samples')\n",
    "print(x_test.shape[0], 'test samples')"
   ]
  },
  {
   "cell_type": "markdown",
   "metadata": {
    "colab_type": "text",
    "id": "kBGwTTilQlDD",
    "slideshow": {
     "slide_type": "slide"
    }
   },
   "source": [
    "#### Add two fully connected layers with 200 and 100 neurons respectively with `relu` activations. Add a dropout layer with `p=0.25`"
   ]
  },
  {
   "cell_type": "code",
   "execution_count": 13,
   "metadata": {
    "colab": {},
    "colab_type": "code",
    "id": "IXbfpfOzQlDF"
   },
   "outputs": [],
   "source": [
    "#Adding 1st FC layer with relu activation\n",
    "model.add(tf.keras.layers.Dense(200, activation='relu'))\n",
    "\n",
    "#Adding 2nd FC layer with relu activation\n",
    "model.add(tf.keras.layers.Dense(100, activation='relu'))\n",
    "\n",
    "# Adding a dropout layer of 0.25\n",
    "model.add(tf.keras.layers.Dropout(0.25))"
   ]
  },
  {
   "cell_type": "markdown",
   "metadata": {
    "colab_type": "text",
    "id": "5I8f5otcQlDJ"
   },
   "source": [
    "### Add the output layer with a fully connected layer with 10 neurons with `softmax` activation. Use `categorical_crossentropy` loss and `adam` optimizer and train the network. And, report the final validation."
   ]
  },
  {
   "cell_type": "code",
   "execution_count": 14,
   "metadata": {
    "colab": {},
    "colab_type": "code",
    "id": "E25kuP_NQlDM"
   },
   "outputs": [],
   "source": [
    "#Adding output layer with 10 neurons and softmax activation\n",
    "model.add(tf.keras.layers.Dense(10, activation='softmax'))\n",
    "\n",
    "# Loss and Optimizer\n",
    "model.compile(loss='categorical_crossentropy', optimizer='adam', metrics=['accuracy'])"
   ]
  },
  {
   "cell_type": "code",
   "execution_count": 15,
   "metadata": {},
   "outputs": [
    {
     "name": "stdout",
     "output_type": "stream",
     "text": [
      "WARNING:tensorflow:The `nb_epoch` argument in `fit` has been renamed `epochs`.\n",
      "Train on 60000 samples, validate on 10000 samples\n",
      "Epoch 1/10\n",
      "60000/60000 [==============================] - 9s 143us/step - loss: 0.5086 - acc: 0.8177 - val_loss: 0.3954 - val_acc: 0.8520\n",
      "Epoch 2/10\n",
      "60000/60000 [==============================] - 8s 137us/step - loss: 0.3918 - acc: 0.8576 - val_loss: 0.3814 - val_acc: 0.8620\n",
      "Epoch 3/10\n",
      "60000/60000 [==============================] - 8s 137us/step - loss: 0.3603 - acc: 0.8673 - val_loss: 0.3591 - val_acc: 0.8681\n",
      "Epoch 4/10\n",
      "60000/60000 [==============================] - 8s 138us/step - loss: 0.3346 - acc: 0.8757 - val_loss: 0.3604 - val_acc: 0.8766\n",
      "Epoch 5/10\n",
      "60000/60000 [==============================] - 8s 140us/step - loss: 0.3139 - acc: 0.8840 - val_loss: 0.3333 - val_acc: 0.8812\n",
      "Epoch 6/10\n",
      "60000/60000 [==============================] - 8s 140us/step - loss: 0.2972 - acc: 0.8896 - val_loss: 0.3549 - val_acc: 0.8741\n",
      "Epoch 7/10\n",
      "60000/60000 [==============================] - 8s 140us/step - loss: 0.2828 - acc: 0.8936 - val_loss: 0.3535 - val_acc: 0.8818\n",
      "Epoch 8/10\n",
      "60000/60000 [==============================] - 9s 143us/step - loss: 0.2735 - acc: 0.8959 - val_loss: 0.3379 - val_acc: 0.8836\n",
      "Epoch 9/10\n",
      "60000/60000 [==============================] - 9s 142us/step - loss: 0.2615 - acc: 0.9010 - val_loss: 0.3404 - val_acc: 0.8842\n",
      "Epoch 10/10\n",
      "60000/60000 [==============================] - 9s 143us/step - loss: 0.2523 - acc: 0.9052 - val_loss: 0.3498 - val_acc: 0.8813\n"
     ]
    },
    {
     "data": {
      "text/plain": [
       "<tensorflow.python.keras.callbacks.History at 0xb302f56d8>"
      ]
     },
     "execution_count": 15,
     "metadata": {},
     "output_type": "execute_result"
    }
   ],
   "source": [
    "# Train the model\n",
    "model.fit(x_train, y_train, batch_size=35, nb_epoch=10, \n",
    "        validation_data=(x_test, y_test))"
   ]
  },
  {
   "cell_type": "code",
   "execution_count": 16,
   "metadata": {},
   "outputs": [
    {
     "name": "stdout",
     "output_type": "stream",
     "text": [
      "60000/60000 [==============================] - 2s 41us/step\n",
      "Training accuracy:  0.9177333333333333\n"
     ]
    }
   ],
   "source": [
    "# Training accuracy\n",
    "score = model.evaluate(x_train, y_train)\n",
    "print('Training accuracy: ', score[1])"
   ]
  },
  {
   "cell_type": "code",
   "execution_count": 17,
   "metadata": {},
   "outputs": [
    {
     "name": "stdout",
     "output_type": "stream",
     "text": [
      "10000/10000 [==============================] - 0s 46us/step\n",
      "Training accuracy:  0.8813\n"
     ]
    }
   ],
   "source": [
    "# Test accuracy\n",
    "score = model.evaluate(x_test, y_test)\n",
    "print('Training accuracy: ', score[1])"
   ]
  },
  {
   "cell_type": "markdown",
   "metadata": {
    "colab_type": "text",
    "id": "vJl2GM7QQvs7"
   },
   "source": [
    "## Word Embeddings in Python with Gensim"
   ]
  },
  {
   "cell_type": "markdown",
   "metadata": {
    "colab_type": "text",
    "id": "9QoSmK_yQydL"
   },
   "source": [
    "In this, you will practice how to train and load word embedding models for natural language processing applications in Python using Gensim.\n"
   ]
  },
  {
   "cell_type": "markdown",
   "metadata": {
    "colab_type": "text",
    "id": "lqHUk1kBQ2Pl"
   },
   "source": [
    "1. How to train your own word2vec word embedding model on text data.\n",
    "2. How to visualize a trained word embedding model using Principal Component Analysis.\n",
    "3. How to load pre-trained word2vec word embedding models."
   ]
  },
  {
   "cell_type": "markdown",
   "metadata": {
    "colab_type": "text",
    "id": "x3EEkH5mQ6F0"
   },
   "source": [
    "### Run the below two commands to install gensim and the wiki dataset"
   ]
  },
  {
   "cell_type": "code",
   "execution_count": 18,
   "metadata": {
    "colab": {},
    "colab_type": "code",
    "id": "Z_dPUh8YQ6Yi"
   },
   "outputs": [],
   "source": [
    "#!pip install --upgrade gensim --user"
   ]
  },
  {
   "cell_type": "code",
   "execution_count": 19,
   "metadata": {
    "colab": {},
    "colab_type": "code",
    "id": "-9-xPiuTQ-nD"
   },
   "outputs": [],
   "source": [
    "#!pip3 install wikipedia --user"
   ]
  },
  {
   "cell_type": "markdown",
   "metadata": {
    "colab_type": "text",
    "id": "Te2mI1FHQ_I1"
   },
   "source": [
    "### Import gensim"
   ]
  },
  {
   "cell_type": "code",
   "execution_count": 20,
   "metadata": {
    "colab": {},
    "colab_type": "code",
    "id": "qQQwRUJ0RAlJ"
   },
   "outputs": [],
   "source": [
    "# importing gensim\n",
    "import gensim"
   ]
  },
  {
   "cell_type": "markdown",
   "metadata": {
    "colab_type": "text",
    "id": "5dXgBNlORBGP"
   },
   "source": [
    "### Obtain Text"
   ]
  },
  {
   "cell_type": "markdown",
   "metadata": {
    "colab_type": "text",
    "id": "xdnvuDLCRDO4"
   },
   "source": [
    "Import search and page functions from wikipedia module\n",
    "search(/key word/): search function takes keyword as argument and gives top 10 article titles matching the given keyword.\n",
    "\n",
    "page(/title of article/): page function takes page title as argument and gives content in the output."
   ]
  },
  {
   "cell_type": "code",
   "execution_count": 21,
   "metadata": {
    "colab": {},
    "colab_type": "code",
    "id": "VgB7SX-TRHNT"
   },
   "outputs": [],
   "source": [
    "# Importing wikipedia library\n",
    "from wikipedia import search, page\n",
    "\n",
    "# search for machine learning keyword\n",
    "titles = search(\"Machine Learning\")"
   ]
  },
  {
   "cell_type": "markdown",
   "metadata": {
    "colab_type": "text",
    "id": "q54h4vNaRJXe"
   },
   "source": [
    "### Print the top 10 titles for the keyword `Machine Learning`"
   ]
  },
  {
   "cell_type": "code",
   "execution_count": 22,
   "metadata": {
    "colab": {},
    "colab_type": "code",
    "id": "yuyLmsnsRK6f"
   },
   "outputs": [
    {
     "name": "stdout",
     "output_type": "stream",
     "text": [
      "['Machine learning', 'Active learning (machine learning)', 'Boosting (machine learning)', 'Deep learning', 'List of datasets for machine learning research', 'Support-vector machine', 'Outline of machine learning', 'Weka (machine learning)', 'Adversarial machine learning', 'Extreme learning machine']\n"
     ]
    }
   ],
   "source": [
    "# printing top 10 titles for the keyword 'Machine Learning'\n",
    "print(titles)"
   ]
  },
  {
   "cell_type": "markdown",
   "metadata": {
    "colab_type": "text",
    "id": "a3faXGqLRQx1"
   },
   "source": [
    "### Get the content from the first title from the above obtained 10 titles."
   ]
  },
  {
   "cell_type": "code",
   "execution_count": 23,
   "metadata": {
    "colab": {},
    "colab_type": "code",
    "id": "HOqiYzrqRQ-M"
   },
   "outputs": [
    {
     "data": {
      "text/plain": [
       "'Machine learning (ML) is the scientific study of algorithms and statistical models that computer systems use to effectively perform a specific task without using explicit instructions, relying on patterns and inference instead. It is seen as a subset of artificial intelligence. Machine learning algorithms build a mathematical model of sample data, known as \"training data\", in order to make predictions or decisions without being explicitly programmed to perform the task. Machine learning algorithms are used in the applications of email filtering, detection of network intruders, and computer vision, where it is infeasible to develop an algorithm of specific instructions for performing the task. Machine learning is closely related to computational statistics, which focuses on making predictions using computers. The study of mathematical optimization delivers methods, theory and application domains to the field of machine learning. Data mining is a field of study within machine learning, and focuses on exploratory data analysis through unsupervised learning. In its application across business problems, machine learning is also referred to as predictive analytics.\\n\\n\\n== Overview of Machine Learning ==\\nThe name machine learning was coined in 1959 by Arthur Samuel. Tom M. Mitchell provided a widely quoted, more formal definition of the algorithms studied in the machine learning field: \"A computer program is said to learn from experience E with respect to some class of tasks T and performance measure P if its performance at tasks in T, as measured by P,  improves with experience E.\" This definition of the tasks in which machine learning is concerned offers a fundamentally operational definition rather than defining the field in cognitive terms. This follows Alan Turing\\'s proposal in his paper \"Computing Machinery and Intelligence\", in which the question \"Can machines think?\" is replaced with the question \"Can machines do what we (as thinking entities) can do?\". In Turing\\'s proposal the various characteristics that could be possessed by a thinking machine and the various implications in constructing one are exposed.\\n\\n\\n=== Machine learning tasks ===\\n\\nMachine learning tasks are classified into several broad categories. In supervised learning, the algorithm builds a mathematical model from a set of data that contains both the inputs and the desired outputs. For example, if the task were determining whether an image contained a certain object, the training data for a supervised learning algorithm would include images with and without that object (the input), and each image would have a label (the output) designating whether it contained the object. In special cases, the input may be only partially available, or restricted to special feedback. Semi-supervised learning algorithms develop mathematical models from incomplete training data, where a portion of the sample input doesn\\'t have labels.\\nClassification algorithms and regression algorithms are types of supervised learning. Classification algorithms are used when the outputs are restricted to a limited set of values. For a classification algorithm that filters emails, the input would be an incoming email, and the output would be the name of the folder in which to file the email. For an algorithm that identifies spam emails, the output would be the prediction of either \"spam\" or \"not spam\", represented by the Boolean values true and false. Regression algorithms are named for their continuous outputs, meaning they may have any value within a range. Examples of a continuous value are the temperature, length, or price of an object.\\nIn unsupervised learning, the algorithm builds a mathematical model from a set of data which contains only inputs and no desired output labels. Unsupervised learning algorithms are used to find structure in the data, like grouping or clustering of data points. Unsupervised learning can discover patterns in the data, and can group the inputs into categories, as in feature learning. Dimensionality reduction is the process of reducing the number of \"features\", or inputs, in a set of data. \\nActive learning algorithms access the desired outputs (training labels) for a limited set of inputs based on a budget, and optimize the choice of inputs for which it will acquire training labels. When used interactively, these can be presented to a human user for labeling. Reinforcement learning algorithms are given feedback in the form of positive or negative reinforcement in a dynamic environment, and are used in autonomous vehicles or in learning to play a game against a human opponent. Other specialized algorithms in machine learning include topic modeling, where the computer program is given a set of natural language documents and finds other documents that cover similar topics. Machine learning algorithms can be used to find the unobservable probability density function in density estimation problems. Meta learning algorithms learn their own inductive bias based on previous experience. In developmental robotics, robot learning algorithms generate their own sequences of learning experiences, also known as a curriculum, to cumulatively acquire new skills through self-guided exploration and social interaction with humans. These robots use guidance mechanisms such as active learning, maturation, motor synergies, and imitation.\\n\\n\\n== History and relationships to other fields ==\\n\\nArthur Samuel, an American pioneer in the field of computer gaming and artificial intelligence, coined the term \"Machine Learning\" in 1959 while at IBM. \\nAs a scientific endeavour, machine learning grew out of the quest for artificial intelligence. Already in the early days of AI as an academic discipline, some researchers were interested in having machines learn from data. They attempted to approach the problem with various symbolic methods, as well as what were then termed \"neural networks\"; these were mostly perceptrons and other models that were later found to be reinventions of the generalized linear models of statistics. Probabilistic reasoning was also employed, especially in automated medical diagnosis.However, an increasing emphasis on the logical, knowledge-based approach caused a rift between AI and machine learning. Probabilistic systems were plagued by theoretical and practical problems of data acquisition and representation. By 1980, expert systems had come to dominate AI, and statistics was out of favor. Work on symbolic/knowledge-based learning did continue within AI, leading to inductive logic programming, but the more statistical line of research was now outside the field of AI proper, in pattern recognition and information retrieval. Neural networks research had been abandoned by AI and computer science around the same time. This line, too, was continued outside the AI/CS field, as \"connectionism\", by researchers from other disciplines including Hopfield, Rumelhart and Hinton. Their main success came in the mid-1980s with the reinvention of backpropagation.Machine learning, reorganized as a separate field, started to flourish in the 1990s. The field changed its goal from achieving artificial intelligence to tackling solvable problems of a practical nature. It shifted focus away from the symbolic approaches it had inherited from AI, and toward methods and models borrowed from statistics and probability theory. It also benefited from the increasing availability of digitized information, and the ability to distribute it via the Internet.\\n\\n\\n=== Relation to data mining ===\\nMachine learning and data mining often employ the same methods and overlap significantly, but while machine learning focuses on prediction, based on known properties learned from the training data, data mining focuses on the discovery of (previously) unknown properties in the data (this is the analysis step of knowledge discovery in databases). Data mining uses many machine learning methods, but with different goals; on the other hand, machine learning also employs data mining methods as \"unsupervised learning\" or as a preprocessing step to improve learner accuracy. Much of the confusion between these two research communities (which do often have separate conferences and separate journals, ECML PKDD being a major exception) comes from the basic assumptions they work with: in machine learning, performance is usually evaluated with respect to the ability to reproduce known knowledge, while in knowledge discovery and data mining (KDD) the key task is the discovery of previously unknown knowledge. Evaluated with respect to known knowledge, an uninformed (unsupervised) method will easily be outperformed by other supervised methods, while in a typical KDD task, supervised methods cannot be used due to the unavailability of training data.\\n\\n\\n=== Relation to optimization ===\\nMachine learning also has intimate ties to optimization: many learning problems are formulated as minimization of some loss function on a training set of examples. Loss functions express the discrepancy between the predictions of the model being trained and the actual problem instances (for example, in classification, one wants to assign a label to instances, and models are trained to correctly predict the pre-assigned labels of a set of examples). The difference between the two fields arises from the goal of generalization: while optimization algorithms can minimize the loss on a training set, machine learning is concerned with minimizing the loss on unseen samples.\\n\\n\\n=== Relation to statistics ===\\nMachine learning and statistics are closely related fields. According to Michael I. Jordan, the ideas of machine learning, from methodological principles to theoretical tools, have had a long pre-history in statistics. He also suggested the term data science as a placeholder to call the overall field.Leo Breiman distinguished two statistical modelling paradigms: data model and algorithmic model, wherein \"algorithmic model\" means more or less the machine learning algorithms like Random forest.\\nSome statisticians have adopted methods from machine learning, leading to a combined field that they call statistical learning.\\n\\n\\n== Theory ==\\n\\nA core objective of a learner is to generalize from its experience. Generalization in this context is the ability of a learning machine to perform accurately on new, unseen examples/tasks after having experienced a learning data set. The training examples come from some generally unknown probability distribution (considered representative of the space of occurrences) and the learner has to build a general model about this space that enables it to produce sufficiently accurate predictions in new cases.\\nThe computational analysis of machine learning algorithms and their performance is a branch of theoretical computer science known as computational learning theory. Because training sets are finite and the future is uncertain, learning theory usually does not yield guarantees of the performance of algorithms. Instead, probabilistic bounds on the performance are quite common. The bias–variance decomposition is one way to quantify generalization error.\\nFor the best performance in the context of generalization, the complexity of the hypothesis should match the complexity of the function underlying the data. If the hypothesis is less complex than the function, then the model has underfit the data. If the complexity of the model is increased in response, then the training error decreases. But if the hypothesis is too complex, then the model is subject to overfitting and generalization will be poorer.In addition to performance bounds, computational learning theorists study the time complexity and feasibility of learning. In computational learning theory, a computation is considered feasible if it can be done in polynomial time. There are two kinds of time complexity results. Positive results show that a certain class of functions can be learned in polynomial time. Negative results show that certain classes cannot be learned in polynomial time.\\n\\n\\n== Approaches ==\\n\\n\\n=== Types of learning algorithms ===\\nThe types of machine learning algorithms differ in their approach, the type of data they input and output, and the type of task or problem that they are intended to solve.\\n\\n\\n==== Supervised and semi-supervised learning ====\\n\\nSupervised learning algorithms build a mathematical model of a set of data that contains both the inputs and the desired outputs. The data is known as training data, and consists of a set of training examples. Each training example has one or more inputs and a desired output, also known as a supervisory signal. In the case of semi-supervised learning algorithms, some of the training examples are missing the desired output. In the mathematical model, each training example is represented by an array or vector, and the training data by a matrix. Through iterative optimization of an objective function, supervised learning algorithms learn a function that can be used to predict the output associated with new inputs. An optimal function will allow the algorithm to correctly determine the output for inputs that were not a part of the training data. An algorithm that improves the accuracy of its outputs or predictions over time is said to have learned to perform that task.Supervised learning algorithms include classification and regression. Classification algorithms are used when the outputs are restricted to a limited set of values, and regression algorithms are used when the outputs may have any numerical value within a range. Similarity learning is an area of supervised machine learning closely related to regression and classification, but the goal is to learn from examples using a similarity function that measures how similar or related two objects are. It has applications in ranking, recommendation systems, visual identity tracking, face verification, and speaker verification.\\n\\n\\n==== Unsupervised learning ====\\n\\nUnsupervised learning algorithms take a set of data that contains only inputs, and find structure in the data, like grouping or clustering of data points. The algorithms therefore learn from test data that has not been labeled, classified or categorized. Instead of responding to feedback, unsupervised learning algorithms identify commonalities in the data and react based on the presence or absence of such commonalities in each new piece of data. A central application of unsupervised learning is in the field of density estimation in statistics, though unsupervised learning encompasses other domains involving summarizing and explaining data features.\\nCluster analysis is the assignment of a set of observations into subsets (called clusters) so that observations within the same cluster are similar according to one or more predesignated criteria, while observations drawn from different clusters are dissimilar. Different clustering techniques make different assumptions on the structure of the data, often defined by some similarity metric and evaluated, for example, by internal compactness, or the similarity between members of the same cluster, and separation, the difference between clusters. Other methods are based on estimated density and graph connectivity.\\n\\n\\n==== Reinforcement learning ====\\n\\nReinforcement learning is an area of machine learning concerned with how software agents ought to take actions in an environment so as to maximize some notion of cumulative reward. Due to its generality, the field is studied in many other disciplines, such as game theory, control theory, operations research, information theory, simulation-based optimization, multi-agent systems, swarm intelligence, statistics and genetic algorithms. In machine learning, the environment is typically represented as a Markov Decision Process (MDP). Many reinforcement learning algorithms use dynamic programming techniques. Reinforcement learning algorithms do not assume knowledge of an exact mathematical model of the MDP, and are used when exact models are infeasible. Reinforcement learning algorithms are used in autonomous vehicles or in learning to play a game against a human opponent.\\n\\n\\n=== Processes and techniques ===\\nVarious processes, techniques and methods can be applied to one or more types of machine learning algorithms to enhance their performance.\\n\\n\\n==== Feature learning ====\\n\\nSeveral learning algorithms aim at discovering better representations of the inputs provided during training. Classic examples include principal components analysis and cluster analysis. Feature learning algorithms, also called representation learning algorithms, often attempt to preserve the information in their input but also transform it in a way that makes it useful, often as a pre-processing step before performing classification or predictions. This technique allows reconstruction of the inputs coming from the unknown data-generating distribution, while not being necessarily faithful to configurations that are implausible under that distribution. This replaces manual feature engineering, and allows a machine to both learn the features and use them to perform a specific task.\\nFeature learning can be either supervised or unsupervised. In supervised feature learning, features are learned using labeled input data. Examples include artificial neural networks, multilayer perceptrons, and supervised dictionary learning. In unsupervised feature learning, features are learned with unlabeled input data.  Examples include dictionary learning, independent component analysis, autoencoders, matrix factorization and various forms of clustering.Manifold learning algorithms attempt to do so under the constraint that the learned representation is low-dimensional. Sparse coding algorithms attempt to do so under the constraint that the learned representation is sparse, meaning that the mathematical model has many zeros. Multilinear subspace learning algorithms aim to learn low-dimensional representations directly from tensor representations for multidimensional data, without reshaping them into higher-dimensional vectors. Deep learning algorithms discover multiple levels of representation, or a hierarchy of features, with higher-level, more abstract features defined in terms of (or generating) lower-level features. It has been argued that an intelligent machine is one that learns a representation that disentangles the underlying factors of variation that explain the observed data.Feature learning is motivated by the fact that machine learning tasks such as classification often require input that is mathematically and computationally convenient to process. However, real-world data such as images, video, and sensory data has not yielded to attempts to algorithmically define specific features. An alternative is to discover such features or representations through examination, without relying on explicit algorithms.\\n\\n\\n==== Sparse dictionary learning ====\\n\\nSparse dictionary learning is a feature learning method where a training example is represented as a linear combination of basis functions, and is assumed to be a sparse matrix. The method is strongly NP-hard and difficult to solve approximately. A popular heuristic method for sparse dictionary learning is the K-SVD algorithm. Sparse dictionary learning has been applied in several contexts. In classification, the problem is to determine to which classes a previously unseen training example belongs. For a dictionary where each class has already been built, a new training example is associated with the class that is best sparsely represented by the corresponding dictionary. Sparse dictionary learning has also been applied in image de-noising. The key idea is that a clean image patch can be sparsely represented by an image dictionary, but the noise cannot.\\n\\n\\n==== Anomaly detection ====\\n\\nIn data mining, anomaly detection, also known as outlier detection, is the identification of rare items, events or observations which raise suspicions by differing significantly from the majority of the data. Typically, the anomalous items represent an issue such as bank fraud, a structural defect, medical problems or errors in a text. Anomalies are referred to as outliers, novelties, noise, deviations and exceptions.In particular, in the context of abuse and network intrusion detection, the interesting objects are often not rare objects, but unexpected bursts in activity. This pattern does not adhere to the common statistical definition of an outlier as a rare object, and many outlier detection methods (in particular, unsupervised algorithms) will fail on such data, unless it has been aggregated appropriately. Instead, a cluster analysis algorithm may be able to detect the micro-clusters formed by these patterns.Three broad categories of anomaly detection techniques exist. Unsupervised anomaly detection techniques detect anomalies in an unlabeled test data set under the assumption that the majority of the instances in the data set are normal, by looking for instances that seem to fit least to the remainder of the data set. Supervised anomaly detection techniques require a data set that has been labeled as \"normal\" and \"abnormal\" and involves training a classifier (the key difference to many other statistical classification problems is the inherent unbalanced nature of outlier detection). Semi-supervised anomaly detection techniques construct a model representing normal behavior from a given normal training data set, and then test the likelihood of a test instance to be generated by the model.\\n\\n\\n==== Decision trees ====\\n\\nDecision tree learning uses a decision tree as a predictive model to go from observations about an item (represented in the branches) to conclusions about the item\\'s target value (represented in the leaves). It is one of the predictive modeling approaches used in statistics, data mining and machine learning. Tree models where the target variable can take a discrete set of values are called classification trees; in these tree structures, leaves represent class labels and branches represent conjunctions of features that lead to those class labels. Decision trees where the target variable can take continuous values (typically real numbers) are called regression trees. In decision analysis, a decision tree can be used to visually and explicitly represent decisions and decision making. In data mining, a decision tree describes data, but the resulting classification tree can be an input for decision making.\\n\\n\\n==== Association rules ====\\n\\nAssociation rule learning is a rule-based machine learning method for discovering relationships between variables in large databases. It is intended to identify strong rules discovered in databases using some measure of \"interestingness\". This rule-based approach generates new rules as it analyzes more data. The ultimate goal, assuming the set of data is large enough, is to help a machine mimic the human brain’s feature extraction and abstract association capabilities for data that has not been categorized.Rule-based machine learning is a general term for any machine learning method that identifies, learns, or evolves \"rules\" to store, manipulate or apply knowledge. The defining characteristic of a rule-based machine learning algorithm is the identification and utilization of a set of relational rules that collectively represent the knowledge captured by the system. This is in contrast to other machine learning algorithms that commonly identify a singular model that can be universally applied to any instance in order to make a prediction. Rule-based machine learning approaches include learning classifier systems, association rule learning, and artificial immune systems.\\nBased on the concept of strong rules, Rakesh Agrawal, Tomasz Imieliński and Arun Swami introduced association rules for discovering regularities between products in large-scale transaction data recorded by point-of-sale (POS) systems in supermarkets. For example, the rule \\n  \\n    \\n      \\n        {\\n        \\n          o\\n          n\\n          i\\n          o\\n          n\\n          s\\n          ,\\n          p\\n          o\\n          t\\n          a\\n          t\\n          o\\n          e\\n          s\\n        \\n        }\\n        ⇒\\n        {\\n        \\n          b\\n          u\\n          r\\n          g\\n          e\\n          r\\n        \\n        }\\n      \\n    \\n    {\\\\displaystyle \\\\{\\\\mathrm {onions,potatoes} \\\\}\\\\Rightarrow \\\\{\\\\mathrm {burger} \\\\}}\\n   found in the sales data of a supermarket would indicate that if a customer buys onions and potatoes together, they are likely to also buy hamburger meat. Such information can be used as the basis for decisions about marketing activities such as promotional pricing or product placements. In addition to market basket analysis, association rules are employed today in application areas including Web usage mining, intrusion detection, continuous production, and bioinformatics. In contrast with sequence mining, association rule learning typically does not consider the order of items either within a transaction or across transactions.\\nLearning classifier systems (LCS) are a family of rule-based machine learning algorithms that combine a discovery component, typically a genetic algorithm, with a learning component, performing either supervised learning, reinforcement learning, or unsupervised learning. They seek to identify a set of context-dependent rules that collectively store and apply knowledge in a piecewise manner in order to make predictions.Inductive logic programming (ILP) is an approach to rule-learning using logic programming as a uniform representation for input examples, background knowledge, and hypotheses. Given an encoding of the known background knowledge and a set of examples represented as a logical database of facts, an ILP system will derive a hypothesized logic program that entails all positive and no negative examples. Inductive programming is a related field that considers any kind of programming languages for representing hypotheses (and not only logic programming), such as functional programs.\\nInductive logic programming is particularly useful in bioinformatics and natural language processing. Gordon Plotkin and Ehud Shapiro laid the initial theoretical foundation for inductive machine learning in a logical setting. Shapiro built their first implementation (Model Inference System) in 1981: a Prolog program that inductively inferred logic programs from positive and negative examples. The term inductive here refers to philosophical induction, suggesting a theory to explain observed facts, rather than mathematical induction, proving a property for all members of a well-ordered set.\\n\\n\\n=== Models ===\\n\\n\\n==== Artificial neural networks ====\\n\\nArtificial neural networks (ANNs), or connectionist systems, are computing systems vaguely inspired by the biological neural networks that constitute animal brains. The neural network itself is not an algorithm, but rather a framework for many different machine learning algorithms to work together and process complex data inputs. Such systems \"learn\" to perform tasks by considering examples, generally without being programmed with any task-specific rules.\\nAn ANN is a model based on a collection of connected units or nodes called \"artificial neurons\", which loosely model the neurons in a biological brain. Each connection, like the synapses in a biological brain, can transmit information, a \"signal\", from one artificial neuron to another. An artificial neuron that receives a signal can process it and then signal additional artificial neurons connected to it. In common ANN implementations, the signal at a connection between artificial neurons is a real number, and the output of each artificial neuron is computed by some non-linear function of the sum of its inputs. The connections between artificial neurons are called \"edges\". Artificial neurons and edges typically have a weight that adjusts as learning proceeds. The weight increases or decreases the strength of the signal at a connection. Artificial neurons may have a threshold such that the signal is only sent if the aggregate signal crosses that threshold. Typically, artificial neurons are aggregated into layers. Different layers may perform different kinds of transformations on their inputs. Signals travel from the first layer (the input layer), to the last layer (the output layer), possibly after traversing the layers multiple times.\\nThe original goal of the ANN approach was to solve problems in the same way that a human brain would. However, over time, attention moved to performing specific tasks, leading to deviations from biology. Artificial neural networks have been used on a variety of tasks, including computer vision, speech recognition, machine translation, social network filtering, playing board and video games and medical diagnosis.\\nDeep learning consists of multiple hidden layers in an artificial neural network. This approach tries to model the way the human brain processes light and sound into vision and hearing. Some successful applications of deep learning are computer vision and speech recognition.\\n\\n\\n==== Support vector machines ====\\n\\nSupport vector machines (SVMs), also known as support vector networks, are a set of related supervised learning methods used for classification and regression. Given a set of training examples, each marked as belonging to one of two categories, an SVM training algorithm builds a model that predicts whether a new example falls into one category or the other.  An SVM training algorithm is a non-probabilistic, binary, linear classifier, although methods such as Platt scaling exist to use SVM in a probabilistic classification setting. In addition to performing linear classification, SVMs can efficiently perform a non-linear classification using what is called the kernel trick, implicitly mapping their inputs into high-dimensional feature spaces.\\n\\n\\n==== Bayesian networks ====\\n\\nA Bayesian network, belief network or directed acyclic graphical model is a probabilistic graphical model that represents a set of random variables and their conditional independence with a directed acyclic graph (DAG). For example, a Bayesian network could represent the probabilistic relationships between diseases and symptoms. Given symptoms, the network can be used to compute the probabilities of the presence of various diseases. Efficient algorithms exist that perform inference and learning. Bayesian networks that model sequences of variables, like speech signals or protein sequences, are called dynamic Bayesian networks. Generalizations of Bayesian networks that can represent and solve decision problems under uncertainty are called influence diagrams.\\n\\n\\n==== Genetic algorithms ====\\n\\nA genetic algorithm (GA) is a search algorithm and heuristic technique that mimics the process of natural selection, using methods such as mutation and crossover to generate new genotypes in the hope of finding good solutions to a given problem. In machine learning, genetic algorithms were used in the 1980s and 1990s. Conversely, machine learning techniques have been used to improve the performance of genetic and evolutionary algorithms.\\n\\n\\n== Applications ==\\nApplications for machine learning include:\\n\\nIn 2006, the online movie company Netflix held the first \"Netflix Prize\" competition to find a program to better predict user preferences and improve the accuracy on its existing Cinematch movie recommendation algorithm by at least 10%.  A joint team made up of researchers from AT&T Labs-Research in collaboration with the teams Big Chaos and Pragmatic Theory built an ensemble model to win the Grand Prize in 2009 for $1 million. Shortly after the prize was awarded, Netflix realized that viewers\\' ratings were not the best indicators of their viewing patterns (\"everything is a recommendation\") and they changed their recommendation engine accordingly. In 2010 The Wall Street Journal wrote about the firm Rebellion Research and their use of machine learning to predict the financial crisis. In 2012, co-founder of Sun Microsystems, Vinod Khosla, predicted that 80% of medical doctors jobs would be lost in the next two decades to automated machine learning medical diagnostic software. In 2014, it was reported that a machine learning algorithm had been applied in the field of art history to study fine art paintings, and that it may have revealed previously unrecognized influences between artists.\\n\\n\\n== Limitations ==\\nAlthough machine learning has been transformative in some fields, machine-learning programs often fail to deliver expected results. Reasons for this are numerous: lack of (suitable) data, lack of access to the data, data bias, privacy problems, badly chosen tasks and algorithms, wrong tools and people, lack of resources, and evaluation problems.In 2018, a self-driving car from Uber failed to detect a pedestrian, who was killed after a collision. Attempts to use machine learning in healthcare with the IBM Watson system failed to deliver even after years of time and billions of investment.\\n\\n\\n=== Bias ===\\n\\nMachine learning approaches in particular can suffer from different data biases. A machine learning system trained on current customers only may not be able to predict the needs of new customer groups that are not represented in the training data. When trained on man-made data, machine learning is likely to pick up the same constitutional and unconscious biases already present in society. Language models learned from data have been shown to contain human-like biases. Machine learning systems used for criminal risk assessment have been found to be biased against black people. In 2015, Google photos would often tag black people as gorillas, and in 2018 this still was not well resolved, but Google reportedly was still using the workaround to remove all gorilla from the training data, and thus was not able to recognize real gorillas at all. Similar issues with recognizing non-white people have been found in many other systems. In 2016, Microsoft tested a chatbot that learned from Twitter, and it quickly picked up racist and sexist language. Because of such challenges, the effective use of machine learning may take longer to be adopted in other domains. Concern for reducing bias in machine learning and propelling its use for human good is increasingly expressed by artificial intelligence scientists, including Fei-Fei Li, who reminds engineers that \"There’s nothing artificial about AI...It’s inspired by people, it’s created by people, and—most importantly—it impacts people. It is a powerful tool we are only just beginning to understand, and that is a profound responsibility.”\\n\\n\\n== Model assessments ==\\nClassification machine learning models can be validated by accuracy estimation techniques like the Holdout method, which splits the data in a training and test set (conventionally 2/3 training set and 1/3 test set designation) and evaluates the performance of the training model on the test set. In comparison, the N-fold-cross-validation method randomly splits the data in k subsets where the k-1 instances of the data are used to train the model while the kth instance is used to test the predictive ability of the training model. In addition to the holdout and cross-validation methods, bootstrap, which samples n instances with replacement from the dataset, can be used to assess model accuracy.In addition to overall accuracy, investigators frequently report sensitivity and specificity meaning True Positive Rate (TPR) and True Negative Rate (TNR) respectively. Similarly, investigators sometimes report the False Positive Rate (FPR) as well as the False Negative Rate (FNR). However, these rates are ratios that fail to reveal their numerators and denominators. The Total Operating Characteristic (TOC) is an effective method to express a model\\'s diagnostic ability. TOC shows the numerators and denominators of the previously mentioned rates, thus TOC provides more information than the commonly used Receiver Operating Characteristic (ROC) and ROC\\'s associated Area Under the Curve (AUC).\\n\\n\\n== Ethics ==\\nMachine learning poses a host of ethical questions. Systems which are trained on datasets collected with biases may exhibit these biases upon use (algorithmic bias), thus digitizing cultural prejudices. For example, using job hiring data from a firm with racist hiring policies may lead to a machine learning system duplicating the bias by scoring job applicants against similarity to previous successful applicants. Responsible collection of data and documentation of algorithmic rules used by a system thus is a critical part of machine learning.\\nBecause language contains biases, machines trained on language corpora will necessarily also learn bias.Other forms of ethical challenges, not related to personal biases, are more seen in health care. There are concerns among health care professionals that these systems might not be designed in the public\\'s interest, but as income generating machines. This is especially true in the United States where there is a perpetual ethical dilemma of improving health care, but also increasing profits. For example, the algorithms could be designed to provide patients with unnecessary tests or medication in which the algorithm\\'s proprietary owners hold stakes in. There is huge potential for machine learning in health care to provide professionals a great tool to diagnose, medicate, and even plan recovery paths for patients, but this will not happen until the personal biases mentioned previously, and these \"greed\" biases are addressed.\\n\\n\\n== Software ==\\nSoftware suites containing a variety of machine learning algorithms include the following :\\n\\n\\n=== Free and open-source software ===\\n\\n\\n=== Proprietary software with free and open-source editions ===\\n\\n\\n=== Proprietary software ===\\n\\n\\n== Journals ==\\nJournal of Machine Learning Research\\nMachine Learning\\nNeural Computation\\nNature Machine Intelligence\\n\\n\\n== Conferences ==\\nConference on Neural Information Processing Systems\\nInternational Conference on Machine Learning\\n\\n\\n== See also ==\\n\\n\\n== References ==\\n\\n\\n== Further reading ==\\n\\nArtificial Intelligence: A Modern Approach (3rd Edition)\\n\\n\\n== External links ==\\nInternational Machine Learning Society\\nmloss is an academic database of open-source machine learning software.\\nMachine Learning Crash Course by Google. This is a free course on machine learning through the use of TensorFlow.'"
      ]
     },
     "execution_count": 23,
     "metadata": {},
     "output_type": "execute_result"
    }
   ],
   "source": [
    "# Getting the content for the first title\n",
    "wikipage = page(titles[0])\n",
    "wikipage.content"
   ]
  },
  {
   "cell_type": "markdown",
   "metadata": {
    "colab_type": "text",
    "id": "C8ugHUzSRTFH"
   },
   "source": [
    "### Create a list with name `documents` and append all the words in the 10 pages' content using the above 10 titles."
   ]
  },
  {
   "cell_type": "code",
   "execution_count": 26,
   "metadata": {},
   "outputs": [],
   "source": [
    "import re, string\n",
    "\n",
    "def clean_str(string):\n",
    "  \"\"\"\n",
    "  String cleaning before vectorization\n",
    "  \"\"\"\n",
    "  try:    \n",
    "    string = re.sub(r'^:{}\\/\\/<>=.*[\\r\\n]*', '', string, flags=re.MULTILINE)\n",
    "    string = re.sub(r\"[^A-Za-z]\", \" \", string)         \n",
    "    words = string.strip().lower().split()    \n",
    "    words = [w for w in words if len(w)>=1]\n",
    "    return \" \".join(words)\n",
    "  except:\n",
    "    return \"\""
   ]
  },
  {
   "cell_type": "code",
   "execution_count": 27,
   "metadata": {},
   "outputs": [],
   "source": [
    "#List to hold all words in each review\n",
    "documents = []\n",
    "\n",
    "#Iterate over each review\n",
    "for i in range(0,len(titles)):\n",
    "    documents.append(clean_str(page(titles[i]).content))"
   ]
  },
  {
   "cell_type": "code",
   "execution_count": 28,
   "metadata": {},
   "outputs": [],
   "source": [
    "corpus_doc = []\n",
    "for doc in documents:\n",
    "    corpus_doc.append(doc.split(' '))"
   ]
  },
  {
   "cell_type": "code",
   "execution_count": 29,
   "metadata": {},
   "outputs": [
    {
     "name": "stdout",
     "output_type": "stream",
     "text": [
      "10\n",
      "['machine', 'learning', 'ml', 'is', 'the', 'scientific', 'study', 'of', 'algorithms', 'and', 'statistical', 'models', 'that', 'computer', 'systems', 'use', 'to', 'effectively', 'perform', 'a', 'specific', 'task', 'without', 'using', 'explicit', 'instructions', 'relying', 'on', 'patterns', 'and', 'inference', 'instead', 'it', 'is', 'seen', 'as', 'a', 'subset', 'of', 'artificial', 'intelligence', 'machine', 'learning', 'algorithms', 'build', 'a', 'mathematical', 'model', 'of', 'sample', 'data', 'known', 'as', 'training', 'data', 'in', 'order', 'to', 'make', 'predictions', 'or', 'decisions', 'without', 'being', 'explicitly', 'programmed', 'to', 'perform', 'the', 'task', 'machine', 'learning', 'algorithms', 'are', 'used', 'in', 'the', 'applications', 'of', 'email', 'filtering', 'detection', 'of', 'network', 'intruders', 'and', 'computer', 'vision', 'where', 'it', 'is', 'infeasible', 'to', 'develop', 'an', 'algorithm', 'of', 'specific', 'instructions', 'for', 'performing', 'the', 'task', 'machine', 'learning', 'is', 'closely', 'related', 'to', 'computational', 'statistics', 'which', 'focuses', 'on', 'making', 'predictions', 'using', 'computers', 'the', 'study', 'of', 'mathematical', 'optimization', 'delivers', 'methods', 'theory', 'and', 'application', 'domains', 'to', 'the', 'field', 'of', 'machine', 'learning', 'data', 'mining', 'is', 'a', 'field', 'of', 'study', 'within', 'machine', 'learning', 'and', 'focuses', 'on', 'exploratory', 'data', 'analysis', 'through', 'unsupervised', 'learning', 'in', 'its', 'application', 'across', 'business', 'problems', 'machine', 'learning', 'is', 'also', 'referred', 'to', 'as', 'predictive', 'analytics', 'overview', 'of', 'machine', 'learning', 'the', 'name', 'machine', 'learning', 'was', 'coined', 'in', 'by', 'arthur', 'samuel', 'tom', 'm', 'mitchell', 'provided', 'a', 'widely', 'quoted', 'more', 'formal', 'definition', 'of', 'the', 'algorithms', 'studied', 'in', 'the', 'machine', 'learning', 'field', 'a', 'computer', 'program', 'is', 'said', 'to', 'learn', 'from', 'experience', 'e', 'with', 'respect', 'to', 'some', 'class', 'of', 'tasks', 't', 'and', 'performance', 'measure', 'p', 'if', 'its', 'performance', 'at', 'tasks', 'in', 't', 'as', 'measured', 'by', 'p', 'improves', 'with', 'experience', 'e', 'this', 'definition', 'of', 'the', 'tasks', 'in', 'which', 'machine', 'learning', 'is', 'concerned', 'offers', 'a', 'fundamentally', 'operational', 'definition', 'rather', 'than', 'defining', 'the', 'field', 'in', 'cognitive', 'terms', 'this', 'follows', 'alan', 'turing', 's', 'proposal', 'in', 'his', 'paper', 'computing', 'machinery', 'and', 'intelligence', 'in', 'which', 'the', 'question', 'can', 'machines', 'think', 'is', 'replaced', 'with', 'the', 'question', 'can', 'machines', 'do', 'what', 'we', 'as', 'thinking', 'entities', 'can', 'do', 'in', 'turing', 's', 'proposal', 'the', 'various', 'characteristics', 'that', 'could', 'be', 'possessed', 'by', 'a', 'thinking', 'machine', 'and', 'the', 'various', 'implications', 'in', 'constructing', 'one', 'are', 'exposed', 'machine', 'learning', 'tasks', 'machine', 'learning', 'tasks', 'are', 'classified', 'into', 'several', 'broad', 'categories', 'in', 'supervised', 'learning', 'the', 'algorithm', 'builds', 'a', 'mathematical', 'model', 'from', 'a', 'set', 'of', 'data', 'that', 'contains', 'both', 'the', 'inputs', 'and', 'the', 'desired', 'outputs', 'for', 'example', 'if', 'the', 'task', 'were', 'determining', 'whether', 'an', 'image', 'contained', 'a', 'certain', 'object', 'the', 'training', 'data', 'for', 'a', 'supervised', 'learning', 'algorithm', 'would', 'include', 'images', 'with', 'and', 'without', 'that', 'object', 'the', 'input', 'and', 'each', 'image', 'would', 'have', 'a', 'label', 'the', 'output', 'designating', 'whether', 'it', 'contained', 'the', 'object', 'in', 'special', 'cases', 'the', 'input', 'may', 'be', 'only', 'partially', 'available', 'or', 'restricted', 'to', 'special', 'feedback', 'semi', 'supervised', 'learning', 'algorithms', 'develop', 'mathematical', 'models', 'from', 'incomplete', 'training', 'data', 'where', 'a', 'portion', 'of', 'the', 'sample', 'input', 'doesn', 't', 'have', 'labels', 'classification', 'algorithms', 'and', 'regression', 'algorithms', 'are', 'types', 'of', 'supervised', 'learning', 'classification', 'algorithms', 'are', 'used', 'when', 'the', 'outputs', 'are', 'restricted', 'to', 'a', 'limited', 'set', 'of', 'values', 'for', 'a', 'classification', 'algorithm', 'that', 'filters', 'emails', 'the', 'input', 'would', 'be', 'an', 'incoming', 'email', 'and', 'the', 'output', 'would', 'be', 'the', 'name', 'of', 'the', 'folder', 'in', 'which', 'to', 'file', 'the', 'email', 'for', 'an', 'algorithm', 'that', 'identifies', 'spam', 'emails', 'the', 'output', 'would', 'be', 'the', 'prediction', 'of', 'either', 'spam', 'or', 'not', 'spam', 'represented', 'by', 'the', 'boolean', 'values', 'true', 'and', 'false', 'regression', 'algorithms', 'are', 'named', 'for', 'their', 'continuous', 'outputs', 'meaning', 'they', 'may', 'have', 'any', 'value', 'within', 'a', 'range', 'examples', 'of', 'a', 'continuous', 'value', 'are', 'the', 'temperature', 'length', 'or', 'price', 'of', 'an', 'object', 'in', 'unsupervised', 'learning', 'the', 'algorithm', 'builds', 'a', 'mathematical', 'model', 'from', 'a', 'set', 'of', 'data', 'which', 'contains', 'only', 'inputs', 'and', 'no', 'desired', 'output', 'labels', 'unsupervised', 'learning', 'algorithms', 'are', 'used', 'to', 'find', 'structure', 'in', 'the', 'data', 'like', 'grouping', 'or', 'clustering', 'of', 'data', 'points', 'unsupervised', 'learning', 'can', 'discover', 'patterns', 'in', 'the', 'data', 'and', 'can', 'group', 'the', 'inputs', 'into', 'categories', 'as', 'in', 'feature', 'learning', 'dimensionality', 'reduction', 'is', 'the', 'process', 'of', 'reducing', 'the', 'number', 'of', 'features', 'or', 'inputs', 'in', 'a', 'set', 'of', 'data', 'active', 'learning', 'algorithms', 'access', 'the', 'desired', 'outputs', 'training', 'labels', 'for', 'a', 'limited', 'set', 'of', 'inputs', 'based', 'on', 'a', 'budget', 'and', 'optimize', 'the', 'choice', 'of', 'inputs', 'for', 'which', 'it', 'will', 'acquire', 'training', 'labels', 'when', 'used', 'interactively', 'these', 'can', 'be', 'presented', 'to', 'a', 'human', 'user', 'for', 'labeling', 'reinforcement', 'learning', 'algorithms', 'are', 'given', 'feedback', 'in', 'the', 'form', 'of', 'positive', 'or', 'negative', 'reinforcement', 'in', 'a', 'dynamic', 'environment', 'and', 'are', 'used', 'in', 'autonomous', 'vehicles', 'or', 'in', 'learning', 'to', 'play', 'a', 'game', 'against', 'a', 'human', 'opponent', 'other', 'specialized', 'algorithms', 'in', 'machine', 'learning', 'include', 'topic', 'modeling', 'where', 'the', 'computer', 'program', 'is', 'given', 'a', 'set', 'of', 'natural', 'language', 'documents', 'and', 'finds', 'other', 'documents', 'that', 'cover', 'similar', 'topics', 'machine', 'learning', 'algorithms', 'can', 'be', 'used', 'to', 'find', 'the', 'unobservable', 'probability', 'density', 'function', 'in', 'density', 'estimation', 'problems', 'meta', 'learning', 'algorithms', 'learn', 'their', 'own', 'inductive', 'bias', 'based', 'on', 'previous', 'experience', 'in', 'developmental', 'robotics', 'robot', 'learning', 'algorithms', 'generate', 'their', 'own', 'sequences', 'of', 'learning', 'experiences', 'also', 'known', 'as', 'a', 'curriculum', 'to', 'cumulatively', 'acquire', 'new', 'skills', 'through', 'self', 'guided', 'exploration', 'and', 'social', 'interaction', 'with', 'humans', 'these', 'robots', 'use', 'guidance', 'mechanisms', 'such', 'as', 'active', 'learning', 'maturation', 'motor', 'synergies', 'and', 'imitation', 'history', 'and', 'relationships', 'to', 'other', 'fields', 'arthur', 'samuel', 'an', 'american', 'pioneer', 'in', 'the', 'field', 'of', 'computer', 'gaming', 'and', 'artificial', 'intelligence', 'coined', 'the', 'term', 'machine', 'learning', 'in', 'while', 'at', 'ibm', 'as', 'a', 'scientific', 'endeavour', 'machine', 'learning', 'grew', 'out', 'of', 'the', 'quest', 'for', 'artificial', 'intelligence', 'already', 'in', 'the', 'early', 'days', 'of', 'ai', 'as', 'an', 'academic', 'discipline', 'some', 'researchers', 'were', 'interested', 'in', 'having', 'machines', 'learn', 'from', 'data', 'they', 'attempted', 'to', 'approach', 'the', 'problem', 'with', 'various', 'symbolic', 'methods', 'as', 'well', 'as', 'what', 'were', 'then', 'termed', 'neural', 'networks', 'these', 'were', 'mostly', 'perceptrons', 'and', 'other', 'models', 'that', 'were', 'later', 'found', 'to', 'be', 'reinventions', 'of', 'the', 'generalized', 'linear', 'models', 'of', 'statistics', 'probabilistic', 'reasoning', 'was', 'also', 'employed', 'especially', 'in', 'automated', 'medical', 'diagnosis', 'however', 'an', 'increasing', 'emphasis', 'on', 'the', 'logical', 'knowledge', 'based', 'approach', 'caused', 'a', 'rift', 'between', 'ai', 'and', 'machine', 'learning', 'probabilistic', 'systems', 'were', 'plagued', 'by', 'theoretical', 'and', 'practical', 'problems', 'of', 'data', 'acquisition', 'and', 'representation', 'by', 'expert', 'systems', 'had', 'come', 'to', 'dominate', 'ai', 'and', 'statistics', 'was', 'out', 'of', 'favor', 'work', 'on', 'symbolic', 'knowledge', 'based', 'learning', 'did', 'continue', 'within', 'ai', 'leading', 'to', 'inductive', 'logic', 'programming', 'but', 'the', 'more', 'statistical', 'line', 'of', 'research', 'was', 'now', 'outside', 'the', 'field', 'of', 'ai', 'proper', 'in', 'pattern', 'recognition', 'and', 'information', 'retrieval', 'neural', 'networks', 'research', 'had', 'been', 'abandoned', 'by', 'ai', 'and', 'computer', 'science', 'around', 'the', 'same', 'time', 'this', 'line', 'too', 'was', 'continued', 'outside', 'the', 'ai', 'cs', 'field', 'as', 'connectionism', 'by', 'researchers', 'from', 'other', 'disciplines', 'including', 'hopfield', 'rumelhart', 'and', 'hinton', 'their', 'main', 'success', 'came', 'in', 'the', 'mid', 's', 'with', 'the', 'reinvention', 'of', 'backpropagation', 'machine', 'learning', 'reorganized', 'as', 'a', 'separate', 'field', 'started', 'to', 'flourish', 'in', 'the', 's', 'the', 'field', 'changed', 'its', 'goal', 'from', 'achieving', 'artificial', 'intelligence', 'to', 'tackling', 'solvable', 'problems', 'of', 'a', 'practical', 'nature', 'it', 'shifted', 'focus', 'away', 'from', 'the', 'symbolic', 'approaches', 'it', 'had', 'inherited', 'from', 'ai', 'and', 'toward', 'methods', 'and', 'models', 'borrowed', 'from', 'statistics', 'and', 'probability', 'theory', 'it', 'also', 'benefited', 'from', 'the', 'increasing', 'availability', 'of', 'digitized', 'information', 'and', 'the', 'ability', 'to', 'distribute', 'it', 'via', 'the', 'internet', 'relation', 'to', 'data', 'mining', 'machine', 'learning', 'and', 'data', 'mining', 'often', 'employ', 'the', 'same', 'methods', 'and', 'overlap', 'significantly', 'but', 'while', 'machine', 'learning', 'focuses', 'on', 'prediction', 'based', 'on', 'known', 'properties', 'learned', 'from', 'the', 'training', 'data', 'data', 'mining', 'focuses', 'on', 'the', 'discovery', 'of', 'previously', 'unknown', 'properties', 'in', 'the', 'data', 'this', 'is', 'the', 'analysis', 'step', 'of', 'knowledge', 'discovery', 'in', 'databases', 'data', 'mining', 'uses', 'many', 'machine', 'learning', 'methods', 'but', 'with', 'different', 'goals', 'on', 'the', 'other', 'hand', 'machine', 'learning', 'also', 'employs', 'data', 'mining', 'methods', 'as', 'unsupervised', 'learning', 'or', 'as', 'a', 'preprocessing', 'step', 'to', 'improve', 'learner', 'accuracy', 'much', 'of', 'the', 'confusion', 'between', 'these', 'two', 'research', 'communities', 'which', 'do', 'often', 'have', 'separate', 'conferences', 'and', 'separate', 'journals', 'ecml', 'pkdd', 'being', 'a', 'major', 'exception', 'comes', 'from', 'the', 'basic', 'assumptions', 'they', 'work', 'with', 'in', 'machine', 'learning', 'performance', 'is', 'usually', 'evaluated', 'with', 'respect', 'to', 'the', 'ability', 'to', 'reproduce', 'known', 'knowledge', 'while', 'in', 'knowledge', 'discovery', 'and', 'data', 'mining', 'kdd', 'the', 'key', 'task', 'is', 'the', 'discovery', 'of', 'previously', 'unknown', 'knowledge', 'evaluated', 'with', 'respect', 'to', 'known', 'knowledge', 'an', 'uninformed', 'unsupervised', 'method', 'will', 'easily', 'be', 'outperformed', 'by', 'other', 'supervised', 'methods', 'while', 'in', 'a', 'typical', 'kdd', 'task', 'supervised', 'methods', 'cannot', 'be', 'used', 'due', 'to', 'the', 'unavailability', 'of', 'training', 'data', 'relation', 'to', 'optimization', 'machine', 'learning', 'also', 'has', 'intimate', 'ties', 'to', 'optimization', 'many', 'learning', 'problems', 'are', 'formulated', 'as', 'minimization', 'of', 'some', 'loss', 'function', 'on', 'a', 'training', 'set', 'of', 'examples', 'loss', 'functions', 'express', 'the', 'discrepancy', 'between', 'the', 'predictions', 'of', 'the', 'model', 'being', 'trained', 'and', 'the', 'actual', 'problem', 'instances', 'for', 'example', 'in', 'classification', 'one', 'wants', 'to', 'assign', 'a', 'label', 'to', 'instances', 'and', 'models', 'are', 'trained', 'to', 'correctly', 'predict', 'the', 'pre', 'assigned', 'labels', 'of', 'a', 'set', 'of', 'examples', 'the', 'difference', 'between', 'the', 'two', 'fields', 'arises', 'from', 'the', 'goal', 'of', 'generalization', 'while', 'optimization', 'algorithms', 'can', 'minimize', 'the', 'loss', 'on', 'a', 'training', 'set', 'machine', 'learning', 'is', 'concerned', 'with', 'minimizing', 'the', 'loss', 'on', 'unseen', 'samples', 'relation', 'to', 'statistics', 'machine', 'learning', 'and', 'statistics', 'are', 'closely', 'related', 'fields', 'according', 'to', 'michael', 'i', 'jordan', 'the', 'ideas', 'of', 'machine', 'learning', 'from', 'methodological', 'principles', 'to', 'theoretical', 'tools', 'have', 'had', 'a', 'long', 'pre', 'history', 'in', 'statistics', 'he', 'also', 'suggested', 'the', 'term', 'data', 'science', 'as', 'a', 'placeholder', 'to', 'call', 'the', 'overall', 'field', 'leo', 'breiman', 'distinguished', 'two', 'statistical', 'modelling', 'paradigms', 'data', 'model', 'and', 'algorithmic', 'model', 'wherein', 'algorithmic', 'model', 'means', 'more', 'or', 'less', 'the', 'machine', 'learning', 'algorithms', 'like', 'random', 'forest', 'some', 'statisticians', 'have', 'adopted', 'methods', 'from', 'machine', 'learning', 'leading', 'to', 'a', 'combined', 'field', 'that', 'they', 'call', 'statistical', 'learning', 'theory', 'a', 'core', 'objective', 'of', 'a', 'learner', 'is', 'to', 'generalize', 'from', 'its', 'experience', 'generalization', 'in', 'this', 'context', 'is', 'the', 'ability', 'of', 'a', 'learning', 'machine', 'to', 'perform', 'accurately', 'on', 'new', 'unseen', 'examples', 'tasks', 'after', 'having', 'experienced', 'a', 'learning', 'data', 'set', 'the', 'training', 'examples', 'come', 'from', 'some', 'generally', 'unknown', 'probability', 'distribution', 'considered', 'representative', 'of', 'the', 'space', 'of', 'occurrences', 'and', 'the', 'learner', 'has', 'to', 'build', 'a', 'general', 'model', 'about', 'this', 'space', 'that', 'enables', 'it', 'to', 'produce', 'sufficiently', 'accurate', 'predictions', 'in', 'new', 'cases', 'the', 'computational', 'analysis', 'of', 'machine', 'learning', 'algorithms', 'and', 'their', 'performance', 'is', 'a', 'branch', 'of', 'theoretical', 'computer', 'science', 'known', 'as', 'computational', 'learning', 'theory', 'because', 'training', 'sets', 'are', 'finite', 'and', 'the', 'future', 'is', 'uncertain', 'learning', 'theory', 'usually', 'does', 'not', 'yield', 'guarantees', 'of', 'the', 'performance', 'of', 'algorithms', 'instead', 'probabilistic', 'bounds', 'on', 'the', 'performance', 'are', 'quite', 'common', 'the', 'bias', 'variance', 'decomposition', 'is', 'one', 'way', 'to', 'quantify', 'generalization', 'error', 'for', 'the', 'best', 'performance', 'in', 'the', 'context', 'of', 'generalization', 'the', 'complexity', 'of', 'the', 'hypothesis', 'should', 'match', 'the', 'complexity', 'of', 'the', 'function', 'underlying', 'the', 'data', 'if', 'the', 'hypothesis', 'is', 'less', 'complex', 'than', 'the', 'function', 'then', 'the', 'model', 'has', 'underfit', 'the', 'data', 'if', 'the', 'complexity', 'of', 'the', 'model', 'is', 'increased', 'in', 'response', 'then', 'the', 'training', 'error', 'decreases', 'but', 'if', 'the', 'hypothesis', 'is', 'too', 'complex', 'then', 'the', 'model', 'is', 'subject', 'to', 'overfitting', 'and', 'generalization', 'will', 'be', 'poorer', 'in', 'addition', 'to', 'performance', 'bounds', 'computational', 'learning', 'theorists', 'study', 'the', 'time', 'complexity', 'and', 'feasibility', 'of', 'learning', 'in', 'computational', 'learning', 'theory', 'a', 'computation', 'is', 'considered', 'feasible', 'if', 'it', 'can', 'be', 'done', 'in', 'polynomial', 'time', 'there', 'are', 'two', 'kinds', 'of', 'time', 'complexity', 'results', 'positive', 'results', 'show', 'that', 'a', 'certain', 'class', 'of', 'functions', 'can', 'be', 'learned', 'in', 'polynomial', 'time', 'negative', 'results', 'show', 'that', 'certain', 'classes', 'cannot', 'be', 'learned', 'in', 'polynomial', 'time', 'approaches', 'types', 'of', 'learning', 'algorithms', 'the', 'types', 'of', 'machine', 'learning', 'algorithms', 'differ', 'in', 'their', 'approach', 'the', 'type', 'of', 'data', 'they', 'input', 'and', 'output', 'and', 'the', 'type', 'of', 'task', 'or', 'problem', 'that', 'they', 'are', 'intended', 'to', 'solve', 'supervised', 'and', 'semi', 'supervised', 'learning', 'supervised', 'learning', 'algorithms', 'build', 'a', 'mathematical', 'model', 'of', 'a', 'set', 'of', 'data', 'that', 'contains', 'both', 'the', 'inputs', 'and', 'the', 'desired', 'outputs', 'the', 'data', 'is', 'known', 'as', 'training', 'data', 'and', 'consists', 'of', 'a', 'set', 'of', 'training', 'examples', 'each', 'training', 'example', 'has', 'one', 'or', 'more', 'inputs', 'and', 'a', 'desired', 'output', 'also', 'known', 'as', 'a', 'supervisory', 'signal', 'in', 'the', 'case', 'of', 'semi', 'supervised', 'learning', 'algorithms', 'some', 'of', 'the', 'training', 'examples', 'are', 'missing', 'the', 'desired', 'output', 'in', 'the', 'mathematical', 'model', 'each', 'training', 'example', 'is', 'represented', 'by', 'an', 'array', 'or', 'vector', 'and', 'the', 'training', 'data', 'by', 'a', 'matrix', 'through', 'iterative', 'optimization', 'of', 'an', 'objective', 'function', 'supervised', 'learning', 'algorithms', 'learn', 'a', 'function', 'that', 'can', 'be', 'used', 'to', 'predict', 'the', 'output', 'associated', 'with', 'new', 'inputs', 'an', 'optimal', 'function', 'will', 'allow', 'the', 'algorithm', 'to', 'correctly', 'determine', 'the', 'output', 'for', 'inputs', 'that', 'were', 'not', 'a', 'part', 'of', 'the', 'training', 'data', 'an', 'algorithm', 'that', 'improves', 'the', 'accuracy', 'of', 'its', 'outputs', 'or', 'predictions', 'over', 'time', 'is', 'said', 'to', 'have', 'learned', 'to', 'perform', 'that', 'task', 'supervised', 'learning', 'algorithms', 'include', 'classification', 'and', 'regression', 'classification', 'algorithms', 'are', 'used', 'when', 'the', 'outputs', 'are', 'restricted', 'to', 'a', 'limited', 'set', 'of', 'values', 'and', 'regression', 'algorithms', 'are', 'used', 'when', 'the', 'outputs', 'may', 'have', 'any', 'numerical', 'value', 'within', 'a', 'range', 'similarity', 'learning', 'is', 'an', 'area', 'of', 'supervised', 'machine', 'learning', 'closely', 'related', 'to', 'regression', 'and', 'classification', 'but', 'the', 'goal', 'is', 'to', 'learn', 'from', 'examples', 'using', 'a', 'similarity', 'function', 'that', 'measures', 'how', 'similar', 'or', 'related', 'two', 'objects', 'are', 'it', 'has', 'applications', 'in', 'ranking', 'recommendation', 'systems', 'visual', 'identity', 'tracking', 'face', 'verification', 'and', 'speaker', 'verification', 'unsupervised', 'learning', 'unsupervised', 'learning', 'algorithms', 'take', 'a', 'set', 'of', 'data', 'that', 'contains', 'only', 'inputs', 'and', 'find', 'structure', 'in', 'the', 'data', 'like', 'grouping', 'or', 'clustering', 'of', 'data', 'points', 'the', 'algorithms', 'therefore', 'learn', 'from', 'test', 'data', 'that', 'has', 'not', 'been', 'labeled', 'classified', 'or', 'categorized', 'instead', 'of', 'responding', 'to', 'feedback', 'unsupervised', 'learning', 'algorithms', 'identify', 'commonalities', 'in', 'the', 'data', 'and', 'react', 'based', 'on', 'the', 'presence', 'or', 'absence', 'of', 'such', 'commonalities', 'in', 'each', 'new', 'piece', 'of', 'data', 'a', 'central', 'application', 'of', 'unsupervised', 'learning', 'is', 'in', 'the', 'field', 'of', 'density', 'estimation', 'in', 'statistics', 'though', 'unsupervised', 'learning', 'encompasses', 'other', 'domains', 'involving', 'summarizing', 'and', 'explaining', 'data', 'features', 'cluster', 'analysis', 'is', 'the', 'assignment', 'of', 'a', 'set', 'of', 'observations', 'into', 'subsets', 'called', 'clusters', 'so', 'that', 'observations', 'within', 'the', 'same', 'cluster', 'are', 'similar', 'according', 'to', 'one', 'or', 'more', 'predesignated', 'criteria', 'while', 'observations', 'drawn', 'from', 'different', 'clusters', 'are', 'dissimilar', 'different', 'clustering', 'techniques', 'make', 'different', 'assumptions', 'on', 'the', 'structure', 'of', 'the', 'data', 'often', 'defined', 'by', 'some', 'similarity', 'metric', 'and', 'evaluated', 'for', 'example', 'by', 'internal', 'compactness', 'or', 'the', 'similarity', 'between', 'members', 'of', 'the', 'same', 'cluster', 'and', 'separation', 'the', 'difference', 'between', 'clusters', 'other', 'methods', 'are', 'based', 'on', 'estimated', 'density', 'and', 'graph', 'connectivity', 'reinforcement', 'learning', 'reinforcement', 'learning', 'is', 'an', 'area', 'of', 'machine', 'learning', 'concerned', 'with', 'how', 'software', 'agents', 'ought', 'to', 'take', 'actions', 'in', 'an', 'environment', 'so', 'as', 'to', 'maximize', 'some', 'notion', 'of', 'cumulative', 'reward', 'due', 'to', 'its', 'generality', 'the', 'field', 'is', 'studied', 'in', 'many', 'other', 'disciplines', 'such', 'as', 'game', 'theory', 'control', 'theory', 'operations', 'research', 'information', 'theory', 'simulation', 'based', 'optimization', 'multi', 'agent', 'systems', 'swarm', 'intelligence', 'statistics', 'and', 'genetic', 'algorithms', 'in', 'machine', 'learning', 'the', 'environment', 'is', 'typically', 'represented', 'as', 'a', 'markov', 'decision', 'process', 'mdp', 'many', 'reinforcement', 'learning', 'algorithms', 'use', 'dynamic', 'programming', 'techniques', 'reinforcement', 'learning', 'algorithms', 'do', 'not', 'assume', 'knowledge', 'of', 'an', 'exact', 'mathematical', 'model', 'of', 'the', 'mdp', 'and', 'are', 'used', 'when', 'exact', 'models', 'are', 'infeasible', 'reinforcement', 'learning', 'algorithms', 'are', 'used', 'in', 'autonomous', 'vehicles', 'or', 'in', 'learning', 'to', 'play', 'a', 'game', 'against', 'a', 'human', 'opponent', 'processes', 'and', 'techniques', 'various', 'processes', 'techniques', 'and', 'methods', 'can', 'be', 'applied', 'to', 'one', 'or', 'more', 'types', 'of', 'machine', 'learning', 'algorithms', 'to', 'enhance', 'their', 'performance', 'feature', 'learning', 'several', 'learning', 'algorithms', 'aim', 'at', 'discovering', 'better', 'representations', 'of', 'the', 'inputs', 'provided', 'during', 'training', 'classic', 'examples', 'include', 'principal', 'components', 'analysis', 'and', 'cluster', 'analysis', 'feature', 'learning', 'algorithms', 'also', 'called', 'representation', 'learning', 'algorithms', 'often', 'attempt', 'to', 'preserve', 'the', 'information', 'in', 'their', 'input', 'but', 'also', 'transform', 'it', 'in', 'a', 'way', 'that', 'makes', 'it', 'useful', 'often', 'as', 'a', 'pre', 'processing', 'step', 'before', 'performing', 'classification', 'or', 'predictions', 'this', 'technique', 'allows', 'reconstruction', 'of', 'the', 'inputs', 'coming', 'from', 'the', 'unknown', 'data', 'generating', 'distribution', 'while', 'not', 'being', 'necessarily', 'faithful', 'to', 'configurations', 'that', 'are', 'implausible', 'under', 'that', 'distribution', 'this', 'replaces', 'manual', 'feature', 'engineering', 'and', 'allows', 'a', 'machine', 'to', 'both', 'learn', 'the', 'features', 'and', 'use', 'them', 'to', 'perform', 'a', 'specific', 'task', 'feature', 'learning', 'can', 'be', 'either', 'supervised', 'or', 'unsupervised', 'in', 'supervised', 'feature', 'learning', 'features', 'are', 'learned', 'using', 'labeled', 'input', 'data', 'examples', 'include', 'artificial', 'neural', 'networks', 'multilayer', 'perceptrons', 'and', 'supervised', 'dictionary', 'learning', 'in', 'unsupervised', 'feature', 'learning', 'features', 'are', 'learned', 'with', 'unlabeled', 'input', 'data', 'examples', 'include', 'dictionary', 'learning', 'independent', 'component', 'analysis', 'autoencoders', 'matrix', 'factorization', 'and', 'various', 'forms', 'of', 'clustering', 'manifold', 'learning', 'algorithms', 'attempt', 'to', 'do', 'so', 'under', 'the', 'constraint', 'that', 'the', 'learned', 'representation', 'is', 'low', 'dimensional', 'sparse', 'coding', 'algorithms', 'attempt', 'to', 'do', 'so', 'under', 'the', 'constraint', 'that', 'the', 'learned', 'representation', 'is', 'sparse', 'meaning', 'that', 'the', 'mathematical', 'model', 'has', 'many', 'zeros', 'multilinear', 'subspace', 'learning', 'algorithms', 'aim', 'to', 'learn', 'low', 'dimensional', 'representations', 'directly', 'from', 'tensor', 'representations', 'for', 'multidimensional', 'data', 'without', 'reshaping', 'them', 'into', 'higher', 'dimensional', 'vectors', 'deep', 'learning', 'algorithms', 'discover', 'multiple', 'levels', 'of', 'representation', 'or', 'a', 'hierarchy', 'of', 'features', 'with', 'higher', 'level', 'more', 'abstract', 'features', 'defined', 'in', 'terms', 'of', 'or', 'generating', 'lower', 'level', 'features', 'it', 'has', 'been', 'argued', 'that', 'an', 'intelligent', 'machine', 'is', 'one', 'that', 'learns', 'a', 'representation', 'that', 'disentangles', 'the', 'underlying', 'factors', 'of', 'variation', 'that', 'explain', 'the', 'observed', 'data', 'feature', 'learning', 'is', 'motivated', 'by', 'the', 'fact', 'that', 'machine', 'learning', 'tasks', 'such', 'as', 'classification', 'often', 'require', 'input', 'that', 'is', 'mathematically', 'and', 'computationally', 'convenient', 'to', 'process', 'however', 'real', 'world', 'data', 'such', 'as', 'images', 'video', 'and', 'sensory', 'data', 'has', 'not', 'yielded', 'to', 'attempts', 'to', 'algorithmically', 'define', 'specific', 'features', 'an', 'alternative', 'is', 'to', 'discover', 'such', 'features', 'or', 'representations', 'through', 'examination', 'without', 'relying', 'on', 'explicit', 'algorithms', 'sparse', 'dictionary', 'learning', 'sparse', 'dictionary', 'learning', 'is', 'a', 'feature', 'learning', 'method', 'where', 'a', 'training', 'example', 'is', 'represented', 'as', 'a', 'linear', 'combination', 'of', 'basis', 'functions', 'and', 'is', 'assumed', 'to', 'be', 'a', 'sparse', 'matrix', 'the', 'method', 'is', 'strongly', 'np', 'hard', 'and', 'difficult', 'to', 'solve', 'approximately', 'a', 'popular', 'heuristic', 'method', 'for', 'sparse', 'dictionary', 'learning', 'is', 'the', 'k', 'svd', 'algorithm', 'sparse', 'dictionary', 'learning', 'has', 'been', 'applied', 'in', 'several', 'contexts', 'in', 'classification', 'the', 'problem', 'is', 'to', 'determine', 'to', 'which', 'classes', 'a', 'previously', 'unseen', 'training', 'example', 'belongs', 'for', 'a', 'dictionary', 'where', 'each', 'class', 'has', 'already', 'been', 'built', 'a', 'new', 'training', 'example', 'is', 'associated', 'with', 'the', 'class', 'that', 'is', 'best', 'sparsely', 'represented', 'by', 'the', 'corresponding', 'dictionary', 'sparse', 'dictionary', 'learning', 'has', 'also', 'been', 'applied', 'in', 'image', 'de', 'noising', 'the', 'key', 'idea', 'is', 'that', 'a', 'clean', 'image', 'patch', 'can', 'be', 'sparsely', 'represented', 'by', 'an', 'image', 'dictionary', 'but', 'the', 'noise', 'cannot', 'anomaly', 'detection', 'in', 'data', 'mining', 'anomaly', 'detection', 'also', 'known', 'as', 'outlier', 'detection', 'is', 'the', 'identification', 'of', 'rare', 'items', 'events', 'or', 'observations', 'which', 'raise', 'suspicions', 'by', 'differing', 'significantly', 'from', 'the', 'majority', 'of', 'the', 'data', 'typically', 'the', 'anomalous', 'items', 'represent', 'an', 'issue', 'such', 'as', 'bank', 'fraud', 'a', 'structural', 'defect', 'medical', 'problems', 'or', 'errors', 'in', 'a', 'text', 'anomalies', 'are', 'referred', 'to', 'as', 'outliers', 'novelties', 'noise', 'deviations', 'and', 'exceptions', 'in', 'particular', 'in', 'the', 'context', 'of', 'abuse', 'and', 'network', 'intrusion', 'detection', 'the', 'interesting', 'objects', 'are', 'often', 'not', 'rare', 'objects', 'but', 'unexpected', 'bursts', 'in', 'activity', 'this', 'pattern', 'does', 'not', 'adhere', 'to', 'the', 'common', 'statistical', 'definition', 'of', 'an', 'outlier', 'as', 'a', 'rare', 'object', 'and', 'many', 'outlier', 'detection', 'methods', 'in', 'particular', 'unsupervised', 'algorithms', 'will', 'fail', 'on', 'such', 'data', 'unless', 'it', 'has', 'been', 'aggregated', 'appropriately', 'instead', 'a', 'cluster', 'analysis', 'algorithm', 'may', 'be', 'able', 'to', 'detect', 'the', 'micro', 'clusters', 'formed', 'by', 'these', 'patterns', 'three', 'broad', 'categories', 'of', 'anomaly', 'detection', 'techniques', 'exist', 'unsupervised', 'anomaly', 'detection', 'techniques', 'detect', 'anomalies', 'in', 'an', 'unlabeled', 'test', 'data', 'set', 'under', 'the', 'assumption', 'that', 'the', 'majority', 'of', 'the', 'instances', 'in', 'the', 'data', 'set', 'are', 'normal', 'by', 'looking', 'for', 'instances', 'that', 'seem', 'to', 'fit', 'least', 'to', 'the', 'remainder', 'of', 'the', 'data', 'set', 'supervised', 'anomaly', 'detection', 'techniques', 'require', 'a', 'data', 'set', 'that', 'has', 'been', 'labeled', 'as', 'normal', 'and', 'abnormal', 'and', 'involves', 'training', 'a', 'classifier', 'the', 'key', 'difference', 'to', 'many', 'other', 'statistical', 'classification', 'problems', 'is', 'the', 'inherent', 'unbalanced', 'nature', 'of', 'outlier', 'detection', 'semi', 'supervised', 'anomaly', 'detection', 'techniques', 'construct', 'a', 'model', 'representing', 'normal', 'behavior', 'from', 'a', 'given', 'normal', 'training', 'data', 'set', 'and', 'then', 'test', 'the', 'likelihood', 'of', 'a', 'test', 'instance', 'to', 'be', 'generated', 'by', 'the', 'model', 'decision', 'trees', 'decision', 'tree', 'learning', 'uses', 'a', 'decision', 'tree', 'as', 'a', 'predictive', 'model', 'to', 'go', 'from', 'observations', 'about', 'an', 'item', 'represented', 'in', 'the', 'branches', 'to', 'conclusions', 'about', 'the', 'item', 's', 'target', 'value', 'represented', 'in', 'the', 'leaves', 'it', 'is', 'one', 'of', 'the', 'predictive', 'modeling', 'approaches', 'used', 'in', 'statistics', 'data', 'mining', 'and', 'machine', 'learning', 'tree', 'models', 'where', 'the', 'target', 'variable', 'can', 'take', 'a', 'discrete', 'set', 'of', 'values', 'are', 'called', 'classification', 'trees', 'in', 'these', 'tree', 'structures', 'leaves', 'represent', 'class', 'labels', 'and', 'branches', 'represent', 'conjunctions', 'of', 'features', 'that', 'lead', 'to', 'those', 'class', 'labels', 'decision', 'trees', 'where', 'the', 'target', 'variable', 'can', 'take', 'continuous', 'values', 'typically', 'real', 'numbers', 'are', 'called', 'regression', 'trees', 'in', 'decision', 'analysis', 'a', 'decision', 'tree', 'can', 'be', 'used', 'to', 'visually', 'and', 'explicitly', 'represent', 'decisions', 'and', 'decision', 'making', 'in', 'data', 'mining', 'a', 'decision', 'tree', 'describes', 'data', 'but', 'the', 'resulting', 'classification', 'tree', 'can', 'be', 'an', 'input', 'for', 'decision', 'making', 'association', 'rules', 'association', 'rule', 'learning', 'is', 'a', 'rule', 'based', 'machine', 'learning', 'method', 'for', 'discovering', 'relationships', 'between', 'variables', 'in', 'large', 'databases', 'it', 'is', 'intended', 'to', 'identify', 'strong', 'rules', 'discovered', 'in', 'databases', 'using', 'some', 'measure', 'of', 'interestingness', 'this', 'rule', 'based', 'approach', 'generates', 'new', 'rules', 'as', 'it', 'analyzes', 'more', 'data', 'the', 'ultimate', 'goal', 'assuming', 'the', 'set', 'of', 'data', 'is', 'large', 'enough', 'is', 'to', 'help', 'a', 'machine', 'mimic', 'the', 'human', 'brain', 's', 'feature', 'extraction', 'and', 'abstract', 'association', 'capabilities', 'for', 'data', 'that', 'has', 'not', 'been', 'categorized', 'rule', 'based', 'machine', 'learning', 'is', 'a', 'general', 'term', 'for', 'any', 'machine', 'learning', 'method', 'that', 'identifies', 'learns', 'or', 'evolves', 'rules', 'to', 'store', 'manipulate', 'or', 'apply', 'knowledge', 'the', 'defining', 'characteristic', 'of', 'a', 'rule', 'based', 'machine', 'learning', 'algorithm', 'is', 'the', 'identification', 'and', 'utilization', 'of', 'a', 'set', 'of', 'relational', 'rules', 'that', 'collectively', 'represent', 'the', 'knowledge', 'captured', 'by', 'the', 'system', 'this', 'is', 'in', 'contrast', 'to', 'other', 'machine', 'learning', 'algorithms', 'that', 'commonly', 'identify', 'a', 'singular', 'model', 'that', 'can', 'be', 'universally', 'applied', 'to', 'any', 'instance', 'in', 'order', 'to', 'make', 'a', 'prediction', 'rule', 'based', 'machine', 'learning', 'approaches', 'include', 'learning', 'classifier', 'systems', 'association', 'rule', 'learning', 'and', 'artificial', 'immune', 'systems', 'based', 'on', 'the', 'concept', 'of', 'strong', 'rules', 'rakesh', 'agrawal', 'tomasz', 'imieli', 'ski', 'and', 'arun', 'swami', 'introduced', 'association', 'rules', 'for', 'discovering', 'regularities', 'between', 'products', 'in', 'large', 'scale', 'transaction', 'data', 'recorded', 'by', 'point', 'of', 'sale', 'pos', 'systems', 'in', 'supermarkets', 'for', 'example', 'the', 'rule', 'o', 'n', 'i', 'o', 'n', 's', 'p', 'o', 't', 'a', 't', 'o', 'e', 's', 'b', 'u', 'r', 'g', 'e', 'r', 'displaystyle', 'mathrm', 'onions', 'potatoes', 'rightarrow', 'mathrm', 'burger', 'found', 'in', 'the', 'sales', 'data', 'of', 'a', 'supermarket', 'would', 'indicate', 'that', 'if', 'a', 'customer', 'buys', 'onions', 'and', 'potatoes', 'together', 'they', 'are', 'likely', 'to', 'also', 'buy', 'hamburger', 'meat', 'such', 'information', 'can', 'be', 'used', 'as', 'the', 'basis', 'for', 'decisions', 'about', 'marketing', 'activities', 'such', 'as', 'promotional', 'pricing', 'or', 'product', 'placements', 'in', 'addition', 'to', 'market', 'basket', 'analysis', 'association', 'rules', 'are', 'employed', 'today', 'in', 'application', 'areas', 'including', 'web', 'usage', 'mining', 'intrusion', 'detection', 'continuous', 'production', 'and', 'bioinformatics', 'in', 'contrast', 'with', 'sequence', 'mining', 'association', 'rule', 'learning', 'typically', 'does', 'not', 'consider', 'the', 'order', 'of', 'items', 'either', 'within', 'a', 'transaction', 'or', 'across', 'transactions', 'learning', 'classifier', 'systems', 'lcs', 'are', 'a', 'family', 'of', 'rule', 'based', 'machine', 'learning', 'algorithms', 'that', 'combine', 'a', 'discovery', 'component', 'typically', 'a', 'genetic', 'algorithm', 'with', 'a', 'learning', 'component', 'performing', 'either', 'supervised', 'learning', 'reinforcement', 'learning', 'or', 'unsupervised', 'learning', 'they', 'seek', 'to', 'identify', 'a', 'set', 'of', 'context', 'dependent', 'rules', 'that', 'collectively', 'store', 'and', 'apply', 'knowledge', 'in', 'a', 'piecewise', 'manner', 'in', 'order', 'to', 'make', 'predictions', 'inductive', 'logic', 'programming', 'ilp', 'is', 'an', 'approach', 'to', 'rule', 'learning', 'using', 'logic', 'programming', 'as', 'a', 'uniform', 'representation', 'for', 'input', 'examples', 'background', 'knowledge', 'and', 'hypotheses', 'given', 'an', 'encoding', 'of', 'the', 'known', 'background', 'knowledge', 'and', 'a', 'set', 'of', 'examples', 'represented', 'as', 'a', 'logical', 'database', 'of', 'facts', 'an', 'ilp', 'system', 'will', 'derive', 'a', 'hypothesized', 'logic', 'program', 'that', 'entails', 'all', 'positive', 'and', 'no', 'negative', 'examples', 'inductive', 'programming', 'is', 'a', 'related', 'field', 'that', 'considers', 'any', 'kind', 'of', 'programming', 'languages', 'for', 'representing', 'hypotheses', 'and', 'not', 'only', 'logic', 'programming', 'such', 'as', 'functional', 'programs', 'inductive', 'logic', 'programming', 'is', 'particularly', 'useful', 'in', 'bioinformatics', 'and', 'natural', 'language', 'processing', 'gordon', 'plotkin', 'and', 'ehud', 'shapiro', 'laid', 'the', 'initial', 'theoretical', 'foundation', 'for', 'inductive', 'machine', 'learning', 'in', 'a', 'logical', 'setting', 'shapiro', 'built', 'their', 'first', 'implementation', 'model', 'inference', 'system', 'in', 'a', 'prolog', 'program', 'that', 'inductively', 'inferred', 'logic', 'programs', 'from', 'positive', 'and', 'negative', 'examples', 'the', 'term', 'inductive', 'here', 'refers', 'to', 'philosophical', 'induction', 'suggesting', 'a', 'theory', 'to', 'explain', 'observed', 'facts', 'rather', 'than', 'mathematical', 'induction', 'proving', 'a', 'property', 'for', 'all', 'members', 'of', 'a', 'well', 'ordered', 'set', 'models', 'artificial', 'neural', 'networks', 'artificial', 'neural', 'networks', 'anns', 'or', 'connectionist', 'systems', 'are', 'computing', 'systems', 'vaguely', 'inspired', 'by', 'the', 'biological', 'neural', 'networks', 'that', 'constitute', 'animal', 'brains', 'the', 'neural', 'network', 'itself', 'is', 'not', 'an', 'algorithm', 'but', 'rather', 'a', 'framework', 'for', 'many', 'different', 'machine', 'learning', 'algorithms', 'to', 'work', 'together', 'and', 'process', 'complex', 'data', 'inputs', 'such', 'systems', 'learn', 'to', 'perform', 'tasks', 'by', 'considering', 'examples', 'generally', 'without', 'being', 'programmed', 'with', 'any', 'task', 'specific', 'rules', 'an', 'ann', 'is', 'a', 'model', 'based', 'on', 'a', 'collection', 'of', 'connected', 'units', 'or', 'nodes', 'called', 'artificial', 'neurons', 'which', 'loosely', 'model', 'the', 'neurons', 'in', 'a', 'biological', 'brain', 'each', 'connection', 'like', 'the', 'synapses', 'in', 'a', 'biological', 'brain', 'can', 'transmit', 'information', 'a', 'signal', 'from', 'one', 'artificial', 'neuron', 'to', 'another', 'an', 'artificial', 'neuron', 'that', 'receives', 'a', 'signal', 'can', 'process', 'it', 'and', 'then', 'signal', 'additional', 'artificial', 'neurons', 'connected', 'to', 'it', 'in', 'common', 'ann', 'implementations', 'the', 'signal', 'at', 'a', 'connection', 'between', 'artificial', 'neurons', 'is', 'a', 'real', 'number', 'and', 'the', 'output', 'of', 'each', 'artificial', 'neuron', 'is', 'computed', 'by', 'some', 'non', 'linear', 'function', 'of', 'the', 'sum', 'of', 'its', 'inputs', 'the', 'connections', 'between', 'artificial', 'neurons', 'are', 'called', 'edges', 'artificial', 'neurons', 'and', 'edges', 'typically', 'have', 'a', 'weight', 'that', 'adjusts', 'as', 'learning', 'proceeds', 'the', 'weight', 'increases', 'or', 'decreases', 'the', 'strength', 'of', 'the', 'signal', 'at', 'a', 'connection', 'artificial', 'neurons', 'may', 'have', 'a', 'threshold', 'such', 'that', 'the', 'signal', 'is', 'only', 'sent', 'if', 'the', 'aggregate', 'signal', 'crosses', 'that', 'threshold', 'typically', 'artificial', 'neurons', 'are', 'aggregated', 'into', 'layers', 'different', 'layers', 'may', 'perform', 'different', 'kinds', 'of', 'transformations', 'on', 'their', 'inputs', 'signals', 'travel', 'from', 'the', 'first', 'layer', 'the', 'input', 'layer', 'to', 'the', 'last', 'layer', 'the', 'output', 'layer', 'possibly', 'after', 'traversing', 'the', 'layers', 'multiple', 'times', 'the', 'original', 'goal', 'of', 'the', 'ann', 'approach', 'was', 'to', 'solve', 'problems', 'in', 'the', 'same', 'way', 'that', 'a', 'human', 'brain', 'would', 'however', 'over', 'time', 'attention', 'moved', 'to', 'performing', 'specific', 'tasks', 'leading', 'to', 'deviations', 'from', 'biology', 'artificial', 'neural', 'networks', 'have', 'been', 'used', 'on', 'a', 'variety', 'of', 'tasks', 'including', 'computer', 'vision', 'speech', 'recognition', 'machine', 'translation', 'social', 'network', 'filtering', 'playing', 'board', 'and', 'video', 'games', 'and', 'medical', 'diagnosis', 'deep', 'learning', 'consists', 'of', 'multiple', 'hidden', 'layers', 'in', 'an', 'artificial', 'neural', 'network', 'this', 'approach', 'tries', 'to', 'model', 'the', 'way', 'the', 'human', 'brain', 'processes', 'light', 'and', 'sound', 'into', 'vision', 'and', 'hearing', 'some', 'successful', 'applications', 'of', 'deep', 'learning', 'are', 'computer', 'vision', 'and', 'speech', 'recognition', 'support', 'vector', 'machines', 'support', 'vector', 'machines', 'svms', 'also', 'known', 'as', 'support', 'vector', 'networks', 'are', 'a', 'set', 'of', 'related', 'supervised', 'learning', 'methods', 'used', 'for', 'classification', 'and', 'regression', 'given', 'a', 'set', 'of', 'training', 'examples', 'each', 'marked', 'as', 'belonging', 'to', 'one', 'of', 'two', 'categories', 'an', 'svm', 'training', 'algorithm', 'builds', 'a', 'model', 'that', 'predicts', 'whether', 'a', 'new', 'example', 'falls', 'into', 'one', 'category', 'or', 'the', 'other', 'an', 'svm', 'training', 'algorithm', 'is', 'a', 'non', 'probabilistic', 'binary', 'linear', 'classifier', 'although', 'methods', 'such', 'as', 'platt', 'scaling', 'exist', 'to', 'use', 'svm', 'in', 'a', 'probabilistic', 'classification', 'setting', 'in', 'addition', 'to', 'performing', 'linear', 'classification', 'svms', 'can', 'efficiently', 'perform', 'a', 'non', 'linear', 'classification', 'using', 'what', 'is', 'called', 'the', 'kernel', 'trick', 'implicitly', 'mapping', 'their', 'inputs', 'into', 'high', 'dimensional', 'feature', 'spaces', 'bayesian', 'networks', 'a', 'bayesian', 'network', 'belief', 'network', 'or', 'directed', 'acyclic', 'graphical', 'model', 'is', 'a', 'probabilistic', 'graphical', 'model', 'that', 'represents', 'a', 'set', 'of', 'random', 'variables', 'and', 'their', 'conditional', 'independence', 'with', 'a', 'directed', 'acyclic', 'graph', 'dag', 'for', 'example', 'a', 'bayesian', 'network', 'could', 'represent', 'the', 'probabilistic', 'relationships', 'between', 'diseases', 'and', 'symptoms', 'given', 'symptoms', 'the', 'network', 'can', 'be', 'used', 'to', 'compute', 'the', 'probabilities', 'of', 'the', 'presence', 'of', 'various', 'diseases', 'efficient', 'algorithms', 'exist', 'that', 'perform', 'inference', 'and', 'learning', 'bayesian', 'networks', 'that', 'model', 'sequences', 'of', 'variables', 'like', 'speech', 'signals', 'or', 'protein', 'sequences', 'are', 'called', 'dynamic', 'bayesian', 'networks', 'generalizations', 'of', 'bayesian', 'networks', 'that', 'can', 'represent', 'and', 'solve', 'decision', 'problems', 'under', 'uncertainty', 'are', 'called', 'influence', 'diagrams', 'genetic', 'algorithms', 'a', 'genetic', 'algorithm', 'ga', 'is', 'a', 'search', 'algorithm', 'and', 'heuristic', 'technique', 'that', 'mimics', 'the', 'process', 'of', 'natural', 'selection', 'using', 'methods', 'such', 'as', 'mutation', 'and', 'crossover', 'to', 'generate', 'new', 'genotypes', 'in', 'the', 'hope', 'of', 'finding', 'good', 'solutions', 'to', 'a', 'given', 'problem', 'in', 'machine', 'learning', 'genetic', 'algorithms', 'were', 'used', 'in', 'the', 's', 'and', 's', 'conversely', 'machine', 'learning', 'techniques', 'have', 'been', 'used', 'to', 'improve', 'the', 'performance', 'of', 'genetic', 'and', 'evolutionary', 'algorithms', 'applications', 'applications', 'for', 'machine', 'learning', 'include', 'in', 'the', 'online', 'movie', 'company', 'netflix', 'held', 'the', 'first', 'netflix', 'prize', 'competition', 'to', 'find', 'a', 'program', 'to', 'better', 'predict', 'user', 'preferences', 'and', 'improve', 'the', 'accuracy', 'on', 'its', 'existing', 'cinematch', 'movie', 'recommendation', 'algorithm', 'by', 'at', 'least', 'a', 'joint', 'team', 'made', 'up', 'of', 'researchers', 'from', 'at', 't', 'labs', 'research', 'in', 'collaboration', 'with', 'the', 'teams', 'big', 'chaos', 'and', 'pragmatic', 'theory', 'built', 'an', 'ensemble', 'model', 'to', 'win', 'the', 'grand', 'prize', 'in', 'for', 'million', 'shortly', 'after', 'the', 'prize', 'was', 'awarded', 'netflix', 'realized', 'that', 'viewers', 'ratings', 'were', 'not', 'the', 'best', 'indicators', 'of', 'their', 'viewing', 'patterns', 'everything', 'is', 'a', 'recommendation', 'and', 'they', 'changed', 'their', 'recommendation', 'engine', 'accordingly', 'in', 'the', 'wall', 'street', 'journal', 'wrote', 'about', 'the', 'firm', 'rebellion', 'research', 'and', 'their', 'use', 'of', 'machine', 'learning', 'to', 'predict', 'the', 'financial', 'crisis', 'in', 'co', 'founder', 'of', 'sun', 'microsystems', 'vinod', 'khosla', 'predicted', 'that', 'of', 'medical', 'doctors', 'jobs', 'would', 'be', 'lost', 'in', 'the', 'next', 'two', 'decades', 'to', 'automated', 'machine', 'learning', 'medical', 'diagnostic', 'software', 'in', 'it', 'was', 'reported', 'that', 'a', 'machine', 'learning', 'algorithm', 'had', 'been', 'applied', 'in', 'the', 'field', 'of', 'art', 'history', 'to', 'study', 'fine', 'art', 'paintings', 'and', 'that', 'it', 'may', 'have', 'revealed', 'previously', 'unrecognized', 'influences', 'between', 'artists', 'limitations', 'although', 'machine', 'learning', 'has', 'been', 'transformative', 'in', 'some', 'fields', 'machine', 'learning', 'programs', 'often', 'fail', 'to', 'deliver', 'expected', 'results', 'reasons', 'for', 'this', 'are', 'numerous', 'lack', 'of', 'suitable', 'data', 'lack', 'of', 'access', 'to', 'the', 'data', 'data', 'bias', 'privacy', 'problems', 'badly', 'chosen', 'tasks', 'and', 'algorithms', 'wrong', 'tools', 'and', 'people', 'lack', 'of', 'resources', 'and', 'evaluation', 'problems', 'in', 'a', 'self', 'driving', 'car', 'from', 'uber', 'failed', 'to', 'detect', 'a', 'pedestrian', 'who', 'was', 'killed', 'after', 'a', 'collision', 'attempts', 'to', 'use', 'machine', 'learning', 'in', 'healthcare', 'with', 'the', 'ibm', 'watson', 'system', 'failed', 'to', 'deliver', 'even', 'after', 'years', 'of', 'time', 'and', 'billions', 'of', 'investment', 'bias', 'machine', 'learning', 'approaches', 'in', 'particular', 'can', 'suffer', 'from', 'different', 'data', 'biases', 'a', 'machine', 'learning', 'system', 'trained', 'on', 'current', 'customers', 'only', 'may', 'not', 'be', 'able', 'to', 'predict', 'the', 'needs', 'of', 'new', 'customer', 'groups', 'that', 'are', 'not', 'represented', 'in', 'the', 'training', 'data', 'when', 'trained', 'on', 'man', 'made', 'data', 'machine', 'learning', 'is', 'likely', 'to', 'pick', 'up', 'the', 'same', 'constitutional', 'and', 'unconscious', 'biases', 'already', 'present', 'in', 'society', 'language', 'models', 'learned', 'from', 'data', 'have', 'been', 'shown', 'to', 'contain', 'human', 'like', 'biases', 'machine', 'learning', 'systems', 'used', 'for', 'criminal', 'risk', 'assessment', 'have', 'been', 'found', 'to', 'be', 'biased', 'against', 'black', 'people', 'in', 'google', 'photos', 'would', 'often', 'tag', 'black', 'people', 'as', 'gorillas', 'and', 'in', 'this', 'still', 'was', 'not', 'well', 'resolved', 'but', 'google', 'reportedly', 'was', 'still', 'using', 'the', 'workaround', 'to', 'remove', 'all', 'gorilla', 'from', 'the', 'training', 'data', 'and', 'thus', 'was', 'not', 'able', 'to', 'recognize', 'real', 'gorillas', 'at', 'all', 'similar', 'issues', 'with', 'recognizing', 'non', 'white', 'people', 'have', 'been', 'found', 'in', 'many', 'other', 'systems', 'in', 'microsoft', 'tested', 'a', 'chatbot', 'that', 'learned', 'from', 'twitter', 'and', 'it', 'quickly', 'picked', 'up', 'racist', 'and', 'sexist', 'language', 'because', 'of', 'such', 'challenges', 'the', 'effective', 'use', 'of', 'machine', 'learning', 'may', 'take', 'longer', 'to', 'be', 'adopted', 'in', 'other', 'domains', 'concern', 'for', 'reducing', 'bias', 'in', 'machine', 'learning', 'and', 'propelling', 'its', 'use', 'for', 'human', 'good', 'is', 'increasingly', 'expressed', 'by', 'artificial', 'intelligence', 'scientists', 'including', 'fei', 'fei', 'li', 'who', 'reminds', 'engineers', 'that', 'there', 's', 'nothing', 'artificial', 'about', 'ai', 'it', 's', 'inspired', 'by', 'people', 'it', 's', 'created', 'by', 'people', 'and', 'most', 'importantly', 'it', 'impacts', 'people', 'it', 'is', 'a', 'powerful', 'tool', 'we', 'are', 'only', 'just', 'beginning', 'to', 'understand', 'and', 'that', 'is', 'a', 'profound', 'responsibility', 'model', 'assessments', 'classification', 'machine', 'learning', 'models', 'can', 'be', 'validated', 'by', 'accuracy', 'estimation', 'techniques', 'like', 'the', 'holdout', 'method', 'which', 'splits', 'the', 'data', 'in', 'a', 'training', 'and', 'test', 'set', 'conventionally', 'training', 'set', 'and', 'test', 'set', 'designation', 'and', 'evaluates', 'the', 'performance', 'of', 'the', 'training', 'model', 'on', 'the', 'test', 'set', 'in', 'comparison', 'the', 'n', 'fold', 'cross', 'validation', 'method', 'randomly', 'splits', 'the', 'data', 'in', 'k', 'subsets', 'where', 'the', 'k', 'instances', 'of', 'the', 'data', 'are', 'used', 'to', 'train', 'the', 'model', 'while', 'the', 'kth', 'instance', 'is', 'used', 'to', 'test', 'the', 'predictive', 'ability', 'of', 'the', 'training', 'model', 'in', 'addition', 'to', 'the', 'holdout', 'and', 'cross', 'validation', 'methods', 'bootstrap', 'which', 'samples', 'n', 'instances', 'with', 'replacement', 'from', 'the', 'dataset', 'can', 'be', 'used', 'to', 'assess', 'model', 'accuracy', 'in', 'addition', 'to', 'overall', 'accuracy', 'investigators', 'frequently', 'report', 'sensitivity', 'and', 'specificity', 'meaning', 'true', 'positive', 'rate', 'tpr', 'and', 'true', 'negative', 'rate', 'tnr', 'respectively', 'similarly', 'investigators', 'sometimes', 'report', 'the', 'false', 'positive', 'rate', 'fpr', 'as', 'well', 'as', 'the', 'false', 'negative', 'rate', 'fnr', 'however', 'these', 'rates', 'are', 'ratios', 'that', 'fail', 'to', 'reveal', 'their', 'numerators', 'and', 'denominators', 'the', 'total', 'operating', 'characteristic', 'toc', 'is', 'an', 'effective', 'method', 'to', 'express', 'a', 'model', 's', 'diagnostic', 'ability', 'toc', 'shows', 'the', 'numerators', 'and', 'denominators', 'of', 'the', 'previously', 'mentioned', 'rates', 'thus', 'toc', 'provides', 'more', 'information', 'than', 'the', 'commonly', 'used', 'receiver', 'operating', 'characteristic', 'roc', 'and', 'roc', 's', 'associated', 'area', 'under', 'the', 'curve', 'auc', 'ethics', 'machine', 'learning', 'poses', 'a', 'host', 'of', 'ethical', 'questions', 'systems', 'which', 'are', 'trained', 'on', 'datasets', 'collected', 'with', 'biases', 'may', 'exhibit', 'these', 'biases', 'upon', 'use', 'algorithmic', 'bias', 'thus', 'digitizing', 'cultural', 'prejudices', 'for', 'example', 'using', 'job', 'hiring', 'data', 'from', 'a', 'firm', 'with', 'racist', 'hiring', 'policies', 'may', 'lead', 'to', 'a', 'machine', 'learning', 'system', 'duplicating', 'the', 'bias', 'by', 'scoring', 'job', 'applicants', 'against', 'similarity', 'to', 'previous', 'successful', 'applicants', 'responsible', 'collection', 'of', 'data', 'and', 'documentation', 'of', 'algorithmic', 'rules', 'used', 'by', 'a', 'system', 'thus', 'is', 'a', 'critical', 'part', 'of', 'machine', 'learning', 'because', 'language', 'contains', 'biases', 'machines', 'trained', 'on', 'language', 'corpora', 'will', 'necessarily', 'also', 'learn', 'bias', 'other', 'forms', 'of', 'ethical', 'challenges', 'not', 'related', 'to', 'personal', 'biases', 'are', 'more', 'seen', 'in', 'health', 'care', 'there', 'are', 'concerns', 'among', 'health', 'care', 'professionals', 'that', 'these', 'systems', 'might', 'not', 'be', 'designed', 'in', 'the', 'public', 's', 'interest', 'but', 'as', 'income', 'generating', 'machines', 'this', 'is', 'especially', 'true', 'in', 'the', 'united', 'states', 'where', 'there', 'is', 'a', 'perpetual', 'ethical', 'dilemma', 'of', 'improving', 'health', 'care', 'but', 'also', 'increasing', 'profits', 'for', 'example', 'the', 'algorithms', 'could', 'be', 'designed', 'to', 'provide', 'patients', 'with', 'unnecessary', 'tests', 'or', 'medication', 'in', 'which', 'the', 'algorithm', 's', 'proprietary', 'owners', 'hold', 'stakes', 'in', 'there', 'is', 'huge', 'potential', 'for', 'machine', 'learning', 'in', 'health', 'care', 'to', 'provide', 'professionals', 'a', 'great', 'tool', 'to', 'diagnose', 'medicate', 'and', 'even', 'plan', 'recovery', 'paths', 'for', 'patients', 'but', 'this', 'will', 'not', 'happen', 'until', 'the', 'personal', 'biases', 'mentioned', 'previously', 'and', 'these', 'greed', 'biases', 'are', 'addressed', 'software', 'software', 'suites', 'containing', 'a', 'variety', 'of', 'machine', 'learning', 'algorithms', 'include', 'the', 'following', 'free', 'and', 'open', 'source', 'software', 'proprietary', 'software', 'with', 'free', 'and', 'open', 'source', 'editions', 'proprietary', 'software', 'journals', 'journal', 'of', 'machine', 'learning', 'research', 'machine', 'learning', 'neural', 'computation', 'nature', 'machine', 'intelligence', 'conferences', 'conference', 'on', 'neural', 'information', 'processing', 'systems', 'international', 'conference', 'on', 'machine', 'learning', 'see', 'also', 'references', 'further', 'reading', 'artificial', 'intelligence', 'a', 'modern', 'approach', 'rd', 'edition', 'external', 'links', 'international', 'machine', 'learning', 'society', 'mloss', 'is', 'an', 'academic', 'database', 'of', 'open', 'source', 'machine', 'learning', 'software', 'machine', 'learning', 'crash', 'course', 'by', 'google', 'this', 'is', 'a', 'free', 'course', 'on', 'machine', 'learning', 'through', 'the', 'use', 'of', 'tensorflow']\n"
     ]
    }
   ],
   "source": [
    "print(len(corpus_doc))\n",
    "print(corpus_doc[0])"
   ]
  },
  {
   "cell_type": "markdown",
   "metadata": {
    "colab_type": "text",
    "id": "eyo1zvzERVgG"
   },
   "source": [
    "### Build the gensim model for word2vec with by considering all the words with frequency >=1 with embedding size=50"
   ]
  },
  {
   "cell_type": "code",
   "execution_count": 30,
   "metadata": {
    "colab": {},
    "colab_type": "code",
    "id": "hMkxm5eHRVts"
   },
   "outputs": [],
   "source": [
    "#Building the model\n",
    "model = gensim.models.Word2Vec(corpus_doc, #Word list\n",
    "                               min_count=1, #Ignore all words with total frequency lower than this                           \n",
    "                               workers=4, #Number of CPUs\n",
    "                               size=50,  #Embedding size\n",
    "                               window=5, #Maximum Distance between current and predicted word\n",
    "                               iter=10   #Number of iterations over the text corpus\n",
    "                              )  "
   ]
  },
  {
   "cell_type": "markdown",
   "metadata": {
    "colab_type": "text",
    "id": "FyLV4F6uRYZx"
   },
   "source": [
    "### Exploring the model"
   ]
  },
  {
   "cell_type": "code",
   "execution_count": 31,
   "metadata": {
    "colab": {},
    "colab_type": "code",
    "id": "6iuSUoJERYhc"
   },
   "outputs": [
    {
     "data": {
      "text/plain": [
       "{'machine': <gensim.models.keyedvectors.Vocab at 0x1a35285198>,\n",
       " 'learning': <gensim.models.keyedvectors.Vocab at 0x1a352851d0>,\n",
       " 'ml': <gensim.models.keyedvectors.Vocab at 0x1a35285278>,\n",
       " 'is': <gensim.models.keyedvectors.Vocab at 0x1a352852b0>,\n",
       " 'the': <gensim.models.keyedvectors.Vocab at 0x1a352852e8>,\n",
       " 'scientific': <gensim.models.keyedvectors.Vocab at 0x1a35285320>,\n",
       " 'study': <gensim.models.keyedvectors.Vocab at 0x1a35285358>,\n",
       " 'of': <gensim.models.keyedvectors.Vocab at 0x1a35285390>,\n",
       " 'algorithms': <gensim.models.keyedvectors.Vocab at 0x1a352853c8>,\n",
       " 'and': <gensim.models.keyedvectors.Vocab at 0x1a35285400>,\n",
       " 'statistical': <gensim.models.keyedvectors.Vocab at 0x1a35285438>,\n",
       " 'models': <gensim.models.keyedvectors.Vocab at 0x1a35285470>,\n",
       " 'that': <gensim.models.keyedvectors.Vocab at 0x1a352854a8>,\n",
       " 'computer': <gensim.models.keyedvectors.Vocab at 0x1a352854e0>,\n",
       " 'systems': <gensim.models.keyedvectors.Vocab at 0x1a35285518>,\n",
       " 'use': <gensim.models.keyedvectors.Vocab at 0x1a35285550>,\n",
       " 'to': <gensim.models.keyedvectors.Vocab at 0x1a35285588>,\n",
       " 'effectively': <gensim.models.keyedvectors.Vocab at 0x1a352855c0>,\n",
       " 'perform': <gensim.models.keyedvectors.Vocab at 0x1a352855f8>,\n",
       " 'a': <gensim.models.keyedvectors.Vocab at 0x1a35285630>,\n",
       " 'specific': <gensim.models.keyedvectors.Vocab at 0x1a35285668>,\n",
       " 'task': <gensim.models.keyedvectors.Vocab at 0x1a352856a0>,\n",
       " 'without': <gensim.models.keyedvectors.Vocab at 0x1a352856d8>,\n",
       " 'using': <gensim.models.keyedvectors.Vocab at 0x1a35285710>,\n",
       " 'explicit': <gensim.models.keyedvectors.Vocab at 0x1a35285748>,\n",
       " 'instructions': <gensim.models.keyedvectors.Vocab at 0x1a35285780>,\n",
       " 'relying': <gensim.models.keyedvectors.Vocab at 0x1a352857b8>,\n",
       " 'on': <gensim.models.keyedvectors.Vocab at 0x1a352857f0>,\n",
       " 'patterns': <gensim.models.keyedvectors.Vocab at 0x1a35285828>,\n",
       " 'inference': <gensim.models.keyedvectors.Vocab at 0x1a35285860>,\n",
       " 'instead': <gensim.models.keyedvectors.Vocab at 0x1a35285898>,\n",
       " 'it': <gensim.models.keyedvectors.Vocab at 0x1a352858d0>,\n",
       " 'seen': <gensim.models.keyedvectors.Vocab at 0x1a35285908>,\n",
       " 'as': <gensim.models.keyedvectors.Vocab at 0x1a35285940>,\n",
       " 'subset': <gensim.models.keyedvectors.Vocab at 0x1a35285978>,\n",
       " 'artificial': <gensim.models.keyedvectors.Vocab at 0x1a352859b0>,\n",
       " 'intelligence': <gensim.models.keyedvectors.Vocab at 0x1a352859e8>,\n",
       " 'build': <gensim.models.keyedvectors.Vocab at 0x1a35285a20>,\n",
       " 'mathematical': <gensim.models.keyedvectors.Vocab at 0x1a35285a58>,\n",
       " 'model': <gensim.models.keyedvectors.Vocab at 0x1a35285a90>,\n",
       " 'sample': <gensim.models.keyedvectors.Vocab at 0x1a35285ac8>,\n",
       " 'data': <gensim.models.keyedvectors.Vocab at 0x1a35285b00>,\n",
       " 'known': <gensim.models.keyedvectors.Vocab at 0x1a35285b38>,\n",
       " 'training': <gensim.models.keyedvectors.Vocab at 0x1a35285b70>,\n",
       " 'in': <gensim.models.keyedvectors.Vocab at 0x1a35285ba8>,\n",
       " 'order': <gensim.models.keyedvectors.Vocab at 0x1a35285be0>,\n",
       " 'make': <gensim.models.keyedvectors.Vocab at 0x1a35285c18>,\n",
       " 'predictions': <gensim.models.keyedvectors.Vocab at 0x1a35285c50>,\n",
       " 'or': <gensim.models.keyedvectors.Vocab at 0x1a35285c88>,\n",
       " 'decisions': <gensim.models.keyedvectors.Vocab at 0x1a35285cc0>,\n",
       " 'being': <gensim.models.keyedvectors.Vocab at 0x1a35285cf8>,\n",
       " 'explicitly': <gensim.models.keyedvectors.Vocab at 0x1a35285d30>,\n",
       " 'programmed': <gensim.models.keyedvectors.Vocab at 0x1a35285d68>,\n",
       " 'are': <gensim.models.keyedvectors.Vocab at 0x1a35285da0>,\n",
       " 'used': <gensim.models.keyedvectors.Vocab at 0x1a35285dd8>,\n",
       " 'applications': <gensim.models.keyedvectors.Vocab at 0x1a35285e10>,\n",
       " 'email': <gensim.models.keyedvectors.Vocab at 0x1a35285e48>,\n",
       " 'filtering': <gensim.models.keyedvectors.Vocab at 0x1a35285e80>,\n",
       " 'detection': <gensim.models.keyedvectors.Vocab at 0x1a35285eb8>,\n",
       " 'network': <gensim.models.keyedvectors.Vocab at 0x1a35285ef0>,\n",
       " 'intruders': <gensim.models.keyedvectors.Vocab at 0x1a35285f28>,\n",
       " 'vision': <gensim.models.keyedvectors.Vocab at 0x1a35285f60>,\n",
       " 'where': <gensim.models.keyedvectors.Vocab at 0x1a35285f98>,\n",
       " 'infeasible': <gensim.models.keyedvectors.Vocab at 0x1a35285fd0>,\n",
       " 'develop': <gensim.models.keyedvectors.Vocab at 0x1a35284048>,\n",
       " 'an': <gensim.models.keyedvectors.Vocab at 0x1a35284080>,\n",
       " 'algorithm': <gensim.models.keyedvectors.Vocab at 0x1a352840b8>,\n",
       " 'for': <gensim.models.keyedvectors.Vocab at 0x1a352840f0>,\n",
       " 'performing': <gensim.models.keyedvectors.Vocab at 0x1a35284128>,\n",
       " 'closely': <gensim.models.keyedvectors.Vocab at 0x1a35284160>,\n",
       " 'related': <gensim.models.keyedvectors.Vocab at 0x1a35284198>,\n",
       " 'computational': <gensim.models.keyedvectors.Vocab at 0x1a352841d0>,\n",
       " 'statistics': <gensim.models.keyedvectors.Vocab at 0x1a35284208>,\n",
       " 'which': <gensim.models.keyedvectors.Vocab at 0x1a35284240>,\n",
       " 'focuses': <gensim.models.keyedvectors.Vocab at 0x1a35284278>,\n",
       " 'making': <gensim.models.keyedvectors.Vocab at 0x1a352842b0>,\n",
       " 'computers': <gensim.models.keyedvectors.Vocab at 0x1a352842e8>,\n",
       " 'optimization': <gensim.models.keyedvectors.Vocab at 0x1a35284320>,\n",
       " 'delivers': <gensim.models.keyedvectors.Vocab at 0x1a35284358>,\n",
       " 'methods': <gensim.models.keyedvectors.Vocab at 0x1a35284390>,\n",
       " 'theory': <gensim.models.keyedvectors.Vocab at 0x1a352843c8>,\n",
       " 'application': <gensim.models.keyedvectors.Vocab at 0x1a35284400>,\n",
       " 'domains': <gensim.models.keyedvectors.Vocab at 0x1a35284438>,\n",
       " 'field': <gensim.models.keyedvectors.Vocab at 0x1a35284470>,\n",
       " 'mining': <gensim.models.keyedvectors.Vocab at 0x1a352844a8>,\n",
       " 'within': <gensim.models.keyedvectors.Vocab at 0x1a352844e0>,\n",
       " 'exploratory': <gensim.models.keyedvectors.Vocab at 0x1a35284518>,\n",
       " 'analysis': <gensim.models.keyedvectors.Vocab at 0x1a35284550>,\n",
       " 'through': <gensim.models.keyedvectors.Vocab at 0x1a35284588>,\n",
       " 'unsupervised': <gensim.models.keyedvectors.Vocab at 0x1a352845c0>,\n",
       " 'its': <gensim.models.keyedvectors.Vocab at 0x1a352845f8>,\n",
       " 'across': <gensim.models.keyedvectors.Vocab at 0x1a35284630>,\n",
       " 'business': <gensim.models.keyedvectors.Vocab at 0x1a35284668>,\n",
       " 'problems': <gensim.models.keyedvectors.Vocab at 0x1a352846a0>,\n",
       " 'also': <gensim.models.keyedvectors.Vocab at 0x1a352846d8>,\n",
       " 'referred': <gensim.models.keyedvectors.Vocab at 0x1a35284710>,\n",
       " 'predictive': <gensim.models.keyedvectors.Vocab at 0x1a35284748>,\n",
       " 'analytics': <gensim.models.keyedvectors.Vocab at 0x1a35284780>,\n",
       " 'overview': <gensim.models.keyedvectors.Vocab at 0x1a352847b8>,\n",
       " 'name': <gensim.models.keyedvectors.Vocab at 0x1a352847f0>,\n",
       " 'was': <gensim.models.keyedvectors.Vocab at 0x1a35284828>,\n",
       " 'coined': <gensim.models.keyedvectors.Vocab at 0x1a35284860>,\n",
       " 'by': <gensim.models.keyedvectors.Vocab at 0x1a35284898>,\n",
       " 'arthur': <gensim.models.keyedvectors.Vocab at 0x1a352848d0>,\n",
       " 'samuel': <gensim.models.keyedvectors.Vocab at 0x1a35284908>,\n",
       " 'tom': <gensim.models.keyedvectors.Vocab at 0x1a35284940>,\n",
       " 'm': <gensim.models.keyedvectors.Vocab at 0x1a35284978>,\n",
       " 'mitchell': <gensim.models.keyedvectors.Vocab at 0x1a352849b0>,\n",
       " 'provided': <gensim.models.keyedvectors.Vocab at 0x1a352849e8>,\n",
       " 'widely': <gensim.models.keyedvectors.Vocab at 0x1a35284a20>,\n",
       " 'quoted': <gensim.models.keyedvectors.Vocab at 0x1a35284a58>,\n",
       " 'more': <gensim.models.keyedvectors.Vocab at 0x1a35284a90>,\n",
       " 'formal': <gensim.models.keyedvectors.Vocab at 0x1a35284ac8>,\n",
       " 'definition': <gensim.models.keyedvectors.Vocab at 0x1a35284b00>,\n",
       " 'studied': <gensim.models.keyedvectors.Vocab at 0x1a35284b38>,\n",
       " 'program': <gensim.models.keyedvectors.Vocab at 0x1a35284b70>,\n",
       " 'said': <gensim.models.keyedvectors.Vocab at 0x1a35284ba8>,\n",
       " 'learn': <gensim.models.keyedvectors.Vocab at 0x1a35284be0>,\n",
       " 'from': <gensim.models.keyedvectors.Vocab at 0x1a35284c18>,\n",
       " 'experience': <gensim.models.keyedvectors.Vocab at 0x1a35284c50>,\n",
       " 'e': <gensim.models.keyedvectors.Vocab at 0x1a35284c88>,\n",
       " 'with': <gensim.models.keyedvectors.Vocab at 0x1a35284cc0>,\n",
       " 'respect': <gensim.models.keyedvectors.Vocab at 0x1a35284cf8>,\n",
       " 'some': <gensim.models.keyedvectors.Vocab at 0x1a35284d30>,\n",
       " 'class': <gensim.models.keyedvectors.Vocab at 0x1a35284d68>,\n",
       " 'tasks': <gensim.models.keyedvectors.Vocab at 0x1a35284da0>,\n",
       " 't': <gensim.models.keyedvectors.Vocab at 0x1a35284dd8>,\n",
       " 'performance': <gensim.models.keyedvectors.Vocab at 0x1a35284e10>,\n",
       " 'measure': <gensim.models.keyedvectors.Vocab at 0x1a35284e48>,\n",
       " 'p': <gensim.models.keyedvectors.Vocab at 0x1a35284e80>,\n",
       " 'if': <gensim.models.keyedvectors.Vocab at 0x1a35284eb8>,\n",
       " 'at': <gensim.models.keyedvectors.Vocab at 0x1a35284ef0>,\n",
       " 'measured': <gensim.models.keyedvectors.Vocab at 0x1a35284f28>,\n",
       " 'improves': <gensim.models.keyedvectors.Vocab at 0x1a35284f60>,\n",
       " 'this': <gensim.models.keyedvectors.Vocab at 0x1a35284f98>,\n",
       " 'concerned': <gensim.models.keyedvectors.Vocab at 0x1a35284fd0>,\n",
       " 'offers': <gensim.models.keyedvectors.Vocab at 0x1a35287048>,\n",
       " 'fundamentally': <gensim.models.keyedvectors.Vocab at 0x1a35287080>,\n",
       " 'operational': <gensim.models.keyedvectors.Vocab at 0x1a352870b8>,\n",
       " 'rather': <gensim.models.keyedvectors.Vocab at 0x1a352870f0>,\n",
       " 'than': <gensim.models.keyedvectors.Vocab at 0x1a35287128>,\n",
       " 'defining': <gensim.models.keyedvectors.Vocab at 0x1a35287160>,\n",
       " 'cognitive': <gensim.models.keyedvectors.Vocab at 0x1a35287198>,\n",
       " 'terms': <gensim.models.keyedvectors.Vocab at 0x1a352871d0>,\n",
       " 'follows': <gensim.models.keyedvectors.Vocab at 0x1a35287208>,\n",
       " 'alan': <gensim.models.keyedvectors.Vocab at 0x1a35287240>,\n",
       " 'turing': <gensim.models.keyedvectors.Vocab at 0x1a35287278>,\n",
       " 's': <gensim.models.keyedvectors.Vocab at 0x1a352872b0>,\n",
       " 'proposal': <gensim.models.keyedvectors.Vocab at 0x1a352872e8>,\n",
       " 'his': <gensim.models.keyedvectors.Vocab at 0x1a35287320>,\n",
       " 'paper': <gensim.models.keyedvectors.Vocab at 0x1a35287358>,\n",
       " 'computing': <gensim.models.keyedvectors.Vocab at 0x1a35287390>,\n",
       " 'machinery': <gensim.models.keyedvectors.Vocab at 0x1a352873c8>,\n",
       " 'question': <gensim.models.keyedvectors.Vocab at 0x1a35287400>,\n",
       " 'can': <gensim.models.keyedvectors.Vocab at 0x1a35287438>,\n",
       " 'machines': <gensim.models.keyedvectors.Vocab at 0x1a35287470>,\n",
       " 'think': <gensim.models.keyedvectors.Vocab at 0x1a352874a8>,\n",
       " 'replaced': <gensim.models.keyedvectors.Vocab at 0x1a352874e0>,\n",
       " 'do': <gensim.models.keyedvectors.Vocab at 0x1a35287518>,\n",
       " 'what': <gensim.models.keyedvectors.Vocab at 0x1a35287550>,\n",
       " 'we': <gensim.models.keyedvectors.Vocab at 0x1a35287588>,\n",
       " 'thinking': <gensim.models.keyedvectors.Vocab at 0x1a352875c0>,\n",
       " 'entities': <gensim.models.keyedvectors.Vocab at 0x1a352875f8>,\n",
       " 'various': <gensim.models.keyedvectors.Vocab at 0x1a35287630>,\n",
       " 'characteristics': <gensim.models.keyedvectors.Vocab at 0x1a35287668>,\n",
       " 'could': <gensim.models.keyedvectors.Vocab at 0x1a352876a0>,\n",
       " 'be': <gensim.models.keyedvectors.Vocab at 0x1a352876d8>,\n",
       " 'possessed': <gensim.models.keyedvectors.Vocab at 0x1a35287710>,\n",
       " 'implications': <gensim.models.keyedvectors.Vocab at 0x1a35287748>,\n",
       " 'constructing': <gensim.models.keyedvectors.Vocab at 0x1a35287780>,\n",
       " 'one': <gensim.models.keyedvectors.Vocab at 0x1a352877b8>,\n",
       " 'exposed': <gensim.models.keyedvectors.Vocab at 0x1a352877f0>,\n",
       " 'classified': <gensim.models.keyedvectors.Vocab at 0x1a35287828>,\n",
       " 'into': <gensim.models.keyedvectors.Vocab at 0x1a35287860>,\n",
       " 'several': <gensim.models.keyedvectors.Vocab at 0x1a35287898>,\n",
       " 'broad': <gensim.models.keyedvectors.Vocab at 0x1a352878d0>,\n",
       " 'categories': <gensim.models.keyedvectors.Vocab at 0x1a35287908>,\n",
       " 'supervised': <gensim.models.keyedvectors.Vocab at 0x1a35287940>,\n",
       " 'builds': <gensim.models.keyedvectors.Vocab at 0x1a35287978>,\n",
       " 'set': <gensim.models.keyedvectors.Vocab at 0x1a352879b0>,\n",
       " 'contains': <gensim.models.keyedvectors.Vocab at 0x1a352879e8>,\n",
       " 'both': <gensim.models.keyedvectors.Vocab at 0x1a35287a20>,\n",
       " 'inputs': <gensim.models.keyedvectors.Vocab at 0x1a35287a58>,\n",
       " 'desired': <gensim.models.keyedvectors.Vocab at 0x1a35287a90>,\n",
       " 'outputs': <gensim.models.keyedvectors.Vocab at 0x1a35287ac8>,\n",
       " 'example': <gensim.models.keyedvectors.Vocab at 0x1a35287b00>,\n",
       " 'were': <gensim.models.keyedvectors.Vocab at 0x1a35287b38>,\n",
       " 'determining': <gensim.models.keyedvectors.Vocab at 0x1a35287b70>,\n",
       " 'whether': <gensim.models.keyedvectors.Vocab at 0x1a35287ba8>,\n",
       " 'image': <gensim.models.keyedvectors.Vocab at 0x1a35287be0>,\n",
       " 'contained': <gensim.models.keyedvectors.Vocab at 0x1a35287c18>,\n",
       " 'certain': <gensim.models.keyedvectors.Vocab at 0x1a35287c50>,\n",
       " 'object': <gensim.models.keyedvectors.Vocab at 0x1a35287c88>,\n",
       " 'would': <gensim.models.keyedvectors.Vocab at 0x1a35287cc0>,\n",
       " 'include': <gensim.models.keyedvectors.Vocab at 0x1a35287cf8>,\n",
       " 'images': <gensim.models.keyedvectors.Vocab at 0x1a35287d30>,\n",
       " 'input': <gensim.models.keyedvectors.Vocab at 0x1a35287d68>,\n",
       " 'each': <gensim.models.keyedvectors.Vocab at 0x1a35287da0>,\n",
       " 'have': <gensim.models.keyedvectors.Vocab at 0x1a35287dd8>,\n",
       " 'label': <gensim.models.keyedvectors.Vocab at 0x1a35287e10>,\n",
       " 'output': <gensim.models.keyedvectors.Vocab at 0x1a35287e48>,\n",
       " 'designating': <gensim.models.keyedvectors.Vocab at 0x1a35287e80>,\n",
       " 'special': <gensim.models.keyedvectors.Vocab at 0x1a35287eb8>,\n",
       " 'cases': <gensim.models.keyedvectors.Vocab at 0x1a35287ef0>,\n",
       " 'may': <gensim.models.keyedvectors.Vocab at 0x1a35287f28>,\n",
       " 'only': <gensim.models.keyedvectors.Vocab at 0x1a35287f60>,\n",
       " 'partially': <gensim.models.keyedvectors.Vocab at 0x1a35287f98>,\n",
       " 'available': <gensim.models.keyedvectors.Vocab at 0x1a35287fd0>,\n",
       " 'restricted': <gensim.models.keyedvectors.Vocab at 0x1a35289048>,\n",
       " 'feedback': <gensim.models.keyedvectors.Vocab at 0x1a35289080>,\n",
       " 'semi': <gensim.models.keyedvectors.Vocab at 0x1a352890b8>,\n",
       " 'incomplete': <gensim.models.keyedvectors.Vocab at 0x1a352890f0>,\n",
       " 'portion': <gensim.models.keyedvectors.Vocab at 0x1a35289128>,\n",
       " 'doesn': <gensim.models.keyedvectors.Vocab at 0x1a35289160>,\n",
       " 'labels': <gensim.models.keyedvectors.Vocab at 0x1a35289198>,\n",
       " 'classification': <gensim.models.keyedvectors.Vocab at 0x1a352891d0>,\n",
       " 'regression': <gensim.models.keyedvectors.Vocab at 0x1a35289208>,\n",
       " 'types': <gensim.models.keyedvectors.Vocab at 0x1a35289240>,\n",
       " 'when': <gensim.models.keyedvectors.Vocab at 0x1a35289278>,\n",
       " 'limited': <gensim.models.keyedvectors.Vocab at 0x1a352892b0>,\n",
       " 'values': <gensim.models.keyedvectors.Vocab at 0x1a352892e8>,\n",
       " 'filters': <gensim.models.keyedvectors.Vocab at 0x1a35289320>,\n",
       " 'emails': <gensim.models.keyedvectors.Vocab at 0x1a35289358>,\n",
       " 'incoming': <gensim.models.keyedvectors.Vocab at 0x1a35289390>,\n",
       " 'folder': <gensim.models.keyedvectors.Vocab at 0x1a352893c8>,\n",
       " 'file': <gensim.models.keyedvectors.Vocab at 0x1a35289400>,\n",
       " 'identifies': <gensim.models.keyedvectors.Vocab at 0x1a35289438>,\n",
       " 'spam': <gensim.models.keyedvectors.Vocab at 0x1a35289470>,\n",
       " 'prediction': <gensim.models.keyedvectors.Vocab at 0x1a352894a8>,\n",
       " 'either': <gensim.models.keyedvectors.Vocab at 0x1a352894e0>,\n",
       " 'not': <gensim.models.keyedvectors.Vocab at 0x1a35289518>,\n",
       " 'represented': <gensim.models.keyedvectors.Vocab at 0x1a35289550>,\n",
       " 'boolean': <gensim.models.keyedvectors.Vocab at 0x1a35289588>,\n",
       " 'true': <gensim.models.keyedvectors.Vocab at 0x1a352895c0>,\n",
       " 'false': <gensim.models.keyedvectors.Vocab at 0x1a352895f8>,\n",
       " 'named': <gensim.models.keyedvectors.Vocab at 0x1a35289630>,\n",
       " 'their': <gensim.models.keyedvectors.Vocab at 0x1a35289668>,\n",
       " 'continuous': <gensim.models.keyedvectors.Vocab at 0x1a352896a0>,\n",
       " 'meaning': <gensim.models.keyedvectors.Vocab at 0x1a352896d8>,\n",
       " 'they': <gensim.models.keyedvectors.Vocab at 0x1a35289710>,\n",
       " 'any': <gensim.models.keyedvectors.Vocab at 0x1a35289748>,\n",
       " 'value': <gensim.models.keyedvectors.Vocab at 0x1a35289780>,\n",
       " 'range': <gensim.models.keyedvectors.Vocab at 0x1a352897b8>,\n",
       " 'examples': <gensim.models.keyedvectors.Vocab at 0x1a352897f0>,\n",
       " 'temperature': <gensim.models.keyedvectors.Vocab at 0x1a35289828>,\n",
       " 'length': <gensim.models.keyedvectors.Vocab at 0x1a35289860>,\n",
       " 'price': <gensim.models.keyedvectors.Vocab at 0x1a35289898>,\n",
       " 'no': <gensim.models.keyedvectors.Vocab at 0x1a352898d0>,\n",
       " 'find': <gensim.models.keyedvectors.Vocab at 0x1a35289908>,\n",
       " 'structure': <gensim.models.keyedvectors.Vocab at 0x1a35289940>,\n",
       " 'like': <gensim.models.keyedvectors.Vocab at 0x1a35289978>,\n",
       " 'grouping': <gensim.models.keyedvectors.Vocab at 0x1a352899b0>,\n",
       " 'clustering': <gensim.models.keyedvectors.Vocab at 0x1a352899e8>,\n",
       " 'points': <gensim.models.keyedvectors.Vocab at 0x1a35289a20>,\n",
       " 'discover': <gensim.models.keyedvectors.Vocab at 0x1a35289a58>,\n",
       " 'group': <gensim.models.keyedvectors.Vocab at 0x1a35289a90>,\n",
       " 'feature': <gensim.models.keyedvectors.Vocab at 0x1a35289ac8>,\n",
       " 'dimensionality': <gensim.models.keyedvectors.Vocab at 0x1a35289b00>,\n",
       " 'reduction': <gensim.models.keyedvectors.Vocab at 0x1a35289b38>,\n",
       " 'process': <gensim.models.keyedvectors.Vocab at 0x1a35289b70>,\n",
       " 'reducing': <gensim.models.keyedvectors.Vocab at 0x1a35289ba8>,\n",
       " 'number': <gensim.models.keyedvectors.Vocab at 0x1a35289be0>,\n",
       " 'features': <gensim.models.keyedvectors.Vocab at 0x1a35289c18>,\n",
       " 'active': <gensim.models.keyedvectors.Vocab at 0x1a35289c50>,\n",
       " 'access': <gensim.models.keyedvectors.Vocab at 0x1a35289c88>,\n",
       " 'based': <gensim.models.keyedvectors.Vocab at 0x1a35289cc0>,\n",
       " 'budget': <gensim.models.keyedvectors.Vocab at 0x1a35289cf8>,\n",
       " 'optimize': <gensim.models.keyedvectors.Vocab at 0x1a35289d30>,\n",
       " 'choice': <gensim.models.keyedvectors.Vocab at 0x1a35289d68>,\n",
       " 'will': <gensim.models.keyedvectors.Vocab at 0x1a35289da0>,\n",
       " 'acquire': <gensim.models.keyedvectors.Vocab at 0x1a35289dd8>,\n",
       " 'interactively': <gensim.models.keyedvectors.Vocab at 0x1a35289e10>,\n",
       " 'these': <gensim.models.keyedvectors.Vocab at 0x1a35289e48>,\n",
       " 'presented': <gensim.models.keyedvectors.Vocab at 0x1a35289e80>,\n",
       " 'human': <gensim.models.keyedvectors.Vocab at 0x1a35289eb8>,\n",
       " 'user': <gensim.models.keyedvectors.Vocab at 0x1a348e7048>,\n",
       " 'labeling': <gensim.models.keyedvectors.Vocab at 0x1a348e72b0>,\n",
       " 'reinforcement': <gensim.models.keyedvectors.Vocab at 0x1a348e7518>,\n",
       " 'given': <gensim.models.keyedvectors.Vocab at 0x1a348e7f98>,\n",
       " 'form': <gensim.models.keyedvectors.Vocab at 0x1a348e71d0>,\n",
       " 'positive': <gensim.models.keyedvectors.Vocab at 0x1a348e7710>,\n",
       " 'negative': <gensim.models.keyedvectors.Vocab at 0x1a348e7b00>,\n",
       " 'dynamic': <gensim.models.keyedvectors.Vocab at 0x1a348e7748>,\n",
       " 'environment': <gensim.models.keyedvectors.Vocab at 0x1a348e72e8>,\n",
       " 'autonomous': <gensim.models.keyedvectors.Vocab at 0x1a348e7da0>,\n",
       " 'vehicles': <gensim.models.keyedvectors.Vocab at 0x1a348e7940>,\n",
       " 'play': <gensim.models.keyedvectors.Vocab at 0x1a348e77b8>,\n",
       " 'game': <gensim.models.keyedvectors.Vocab at 0x1a348e7a90>,\n",
       " 'against': <gensim.models.keyedvectors.Vocab at 0x1a348e7eb8>,\n",
       " 'opponent': <gensim.models.keyedvectors.Vocab at 0x1a348e7668>,\n",
       " 'other': <gensim.models.keyedvectors.Vocab at 0x1a348e7d30>,\n",
       " 'specialized': <gensim.models.keyedvectors.Vocab at 0x1a348e78d0>,\n",
       " 'topic': <gensim.models.keyedvectors.Vocab at 0x1a348e70b8>,\n",
       " 'modeling': <gensim.models.keyedvectors.Vocab at 0x1a348e7198>,\n",
       " 'natural': <gensim.models.keyedvectors.Vocab at 0x1a348e7b70>,\n",
       " 'language': <gensim.models.keyedvectors.Vocab at 0x1a348e7ba8>,\n",
       " 'documents': <gensim.models.keyedvectors.Vocab at 0x1a348e7c88>,\n",
       " 'finds': <gensim.models.keyedvectors.Vocab at 0x1a348e7208>,\n",
       " 'cover': <gensim.models.keyedvectors.Vocab at 0x1a348e7278>,\n",
       " 'similar': <gensim.models.keyedvectors.Vocab at 0x1a348e73c8>,\n",
       " 'topics': <gensim.models.keyedvectors.Vocab at 0x1a348e7ac8>,\n",
       " 'unobservable': <gensim.models.keyedvectors.Vocab at 0x1a348e7c18>,\n",
       " 'probability': <gensim.models.keyedvectors.Vocab at 0x1a348e7080>,\n",
       " 'density': <gensim.models.keyedvectors.Vocab at 0x1a348e70f0>,\n",
       " 'function': <gensim.models.keyedvectors.Vocab at 0x1a348e7160>,\n",
       " 'estimation': <gensim.models.keyedvectors.Vocab at 0x1a348e7128>,\n",
       " 'meta': <gensim.models.keyedvectors.Vocab at 0x1a348e4320>,\n",
       " 'own': <gensim.models.keyedvectors.Vocab at 0x1a348e4cf8>,\n",
       " 'inductive': <gensim.models.keyedvectors.Vocab at 0x1a348e4f60>,\n",
       " 'bias': <gensim.models.keyedvectors.Vocab at 0x1a348e4400>,\n",
       " 'previous': <gensim.models.keyedvectors.Vocab at 0x1a348e4588>,\n",
       " 'developmental': <gensim.models.keyedvectors.Vocab at 0x1a348e4eb8>,\n",
       " 'robotics': <gensim.models.keyedvectors.Vocab at 0x1a348cfda0>,\n",
       " 'robot': <gensim.models.keyedvectors.Vocab at 0x1a348cfd30>,\n",
       " 'generate': <gensim.models.keyedvectors.Vocab at 0x1a348cf828>,\n",
       " 'sequences': <gensim.models.keyedvectors.Vocab at 0x1a348cf390>,\n",
       " 'experiences': <gensim.models.keyedvectors.Vocab at 0x1a348cf5f8>,\n",
       " 'curriculum': <gensim.models.keyedvectors.Vocab at 0x1a348cfb38>,\n",
       " 'cumulatively': <gensim.models.keyedvectors.Vocab at 0x1a348cf9b0>,\n",
       " 'new': <gensim.models.keyedvectors.Vocab at 0x1a348cf160>,\n",
       " 'skills': <gensim.models.keyedvectors.Vocab at 0x1a348cf278>,\n",
       " 'self': <gensim.models.keyedvectors.Vocab at 0x1a348cf588>,\n",
       " 'guided': <gensim.models.keyedvectors.Vocab at 0x1a348cfd68>,\n",
       " 'exploration': <gensim.models.keyedvectors.Vocab at 0x1a348cf5c0>,\n",
       " 'social': <gensim.models.keyedvectors.Vocab at 0x1a348cfac8>,\n",
       " 'interaction': <gensim.models.keyedvectors.Vocab at 0x1a348cf8d0>,\n",
       " 'humans': <gensim.models.keyedvectors.Vocab at 0xb30219320>,\n",
       " 'robots': <gensim.models.keyedvectors.Vocab at 0xb30219160>,\n",
       " 'guidance': <gensim.models.keyedvectors.Vocab at 0x1a35285208>,\n",
       " 'mechanisms': <gensim.models.keyedvectors.Vocab at 0x1a35285240>,\n",
       " 'such': <gensim.models.keyedvectors.Vocab at 0x1a35289ef0>,\n",
       " 'maturation': <gensim.models.keyedvectors.Vocab at 0x1a35289f28>,\n",
       " 'motor': <gensim.models.keyedvectors.Vocab at 0x1a35289f60>,\n",
       " 'synergies': <gensim.models.keyedvectors.Vocab at 0x1a35289f98>,\n",
       " 'imitation': <gensim.models.keyedvectors.Vocab at 0x1a35289fd0>,\n",
       " 'history': <gensim.models.keyedvectors.Vocab at 0x1a348eb048>,\n",
       " 'relationships': <gensim.models.keyedvectors.Vocab at 0x1a348eb080>,\n",
       " 'fields': <gensim.models.keyedvectors.Vocab at 0x1a348eb0b8>,\n",
       " 'american': <gensim.models.keyedvectors.Vocab at 0x1a348eb0f0>,\n",
       " 'pioneer': <gensim.models.keyedvectors.Vocab at 0x1a348eb128>,\n",
       " 'gaming': <gensim.models.keyedvectors.Vocab at 0x1a348eb160>,\n",
       " 'term': <gensim.models.keyedvectors.Vocab at 0x1a348eb198>,\n",
       " 'while': <gensim.models.keyedvectors.Vocab at 0x1a348eb1d0>,\n",
       " 'ibm': <gensim.models.keyedvectors.Vocab at 0x1a348eb208>,\n",
       " 'endeavour': <gensim.models.keyedvectors.Vocab at 0x1a348eb240>,\n",
       " 'grew': <gensim.models.keyedvectors.Vocab at 0x1a348eb278>,\n",
       " 'out': <gensim.models.keyedvectors.Vocab at 0x1a348eb2b0>,\n",
       " 'quest': <gensim.models.keyedvectors.Vocab at 0x1a348eb2e8>,\n",
       " 'already': <gensim.models.keyedvectors.Vocab at 0x1a348eb320>,\n",
       " 'early': <gensim.models.keyedvectors.Vocab at 0x1a348eb358>,\n",
       " 'days': <gensim.models.keyedvectors.Vocab at 0x1a348eb390>,\n",
       " 'ai': <gensim.models.keyedvectors.Vocab at 0x1a348eb3c8>,\n",
       " 'academic': <gensim.models.keyedvectors.Vocab at 0x1a348eb400>,\n",
       " 'discipline': <gensim.models.keyedvectors.Vocab at 0x1a348eb438>,\n",
       " 'researchers': <gensim.models.keyedvectors.Vocab at 0x1a348eb470>,\n",
       " 'interested': <gensim.models.keyedvectors.Vocab at 0x1a348eb4a8>,\n",
       " 'having': <gensim.models.keyedvectors.Vocab at 0x1a348eb4e0>,\n",
       " 'attempted': <gensim.models.keyedvectors.Vocab at 0x1a348eb518>,\n",
       " 'approach': <gensim.models.keyedvectors.Vocab at 0x1a348eb550>,\n",
       " 'problem': <gensim.models.keyedvectors.Vocab at 0x1a348eb588>,\n",
       " 'symbolic': <gensim.models.keyedvectors.Vocab at 0x1a348eb5c0>,\n",
       " 'well': <gensim.models.keyedvectors.Vocab at 0x1a348eb5f8>,\n",
       " 'then': <gensim.models.keyedvectors.Vocab at 0x1a348eb630>,\n",
       " 'termed': <gensim.models.keyedvectors.Vocab at 0x1a348eb668>,\n",
       " 'neural': <gensim.models.keyedvectors.Vocab at 0x1a348eb6a0>,\n",
       " 'networks': <gensim.models.keyedvectors.Vocab at 0x1a348eb6d8>,\n",
       " 'mostly': <gensim.models.keyedvectors.Vocab at 0x1a348eb710>,\n",
       " 'perceptrons': <gensim.models.keyedvectors.Vocab at 0x1a348eb748>,\n",
       " 'later': <gensim.models.keyedvectors.Vocab at 0x1a348eb780>,\n",
       " 'found': <gensim.models.keyedvectors.Vocab at 0x1a348eb7b8>,\n",
       " 'reinventions': <gensim.models.keyedvectors.Vocab at 0x1a348eb7f0>,\n",
       " 'generalized': <gensim.models.keyedvectors.Vocab at 0x1a348eb828>,\n",
       " 'linear': <gensim.models.keyedvectors.Vocab at 0x1a348eb860>,\n",
       " 'probabilistic': <gensim.models.keyedvectors.Vocab at 0x1a348eb898>,\n",
       " 'reasoning': <gensim.models.keyedvectors.Vocab at 0x1a348eb8d0>,\n",
       " 'employed': <gensim.models.keyedvectors.Vocab at 0x1a348eb908>,\n",
       " 'especially': <gensim.models.keyedvectors.Vocab at 0x1a348eb940>,\n",
       " 'automated': <gensim.models.keyedvectors.Vocab at 0x1a348eb978>,\n",
       " 'medical': <gensim.models.keyedvectors.Vocab at 0x1a348eb9b0>,\n",
       " 'diagnosis': <gensim.models.keyedvectors.Vocab at 0x1a348eb9e8>,\n",
       " 'however': <gensim.models.keyedvectors.Vocab at 0x1a348eba20>,\n",
       " 'increasing': <gensim.models.keyedvectors.Vocab at 0x1a348eba58>,\n",
       " 'emphasis': <gensim.models.keyedvectors.Vocab at 0x1a348eba90>,\n",
       " 'logical': <gensim.models.keyedvectors.Vocab at 0x1a348ebac8>,\n",
       " 'knowledge': <gensim.models.keyedvectors.Vocab at 0x1a348ebb00>,\n",
       " 'caused': <gensim.models.keyedvectors.Vocab at 0x1a348ebb38>,\n",
       " 'rift': <gensim.models.keyedvectors.Vocab at 0x1a348ebb70>,\n",
       " 'between': <gensim.models.keyedvectors.Vocab at 0x1a348ebba8>,\n",
       " 'plagued': <gensim.models.keyedvectors.Vocab at 0x1a348ebbe0>,\n",
       " 'theoretical': <gensim.models.keyedvectors.Vocab at 0x1a348ebc18>,\n",
       " 'practical': <gensim.models.keyedvectors.Vocab at 0x1a348ebc50>,\n",
       " 'acquisition': <gensim.models.keyedvectors.Vocab at 0x1a348ebc88>,\n",
       " 'representation': <gensim.models.keyedvectors.Vocab at 0x1a348ebcc0>,\n",
       " 'expert': <gensim.models.keyedvectors.Vocab at 0x1a348ebcf8>,\n",
       " 'had': <gensim.models.keyedvectors.Vocab at 0x1a348ebd30>,\n",
       " 'come': <gensim.models.keyedvectors.Vocab at 0x1a348ebd68>,\n",
       " 'dominate': <gensim.models.keyedvectors.Vocab at 0x1a348ebda0>,\n",
       " 'favor': <gensim.models.keyedvectors.Vocab at 0x1a348ebdd8>,\n",
       " 'work': <gensim.models.keyedvectors.Vocab at 0x1a348ebe10>,\n",
       " 'did': <gensim.models.keyedvectors.Vocab at 0x1a348ebe48>,\n",
       " 'continue': <gensim.models.keyedvectors.Vocab at 0x1a348ebe80>,\n",
       " 'leading': <gensim.models.keyedvectors.Vocab at 0x1a348ebeb8>,\n",
       " 'logic': <gensim.models.keyedvectors.Vocab at 0x1a348ebef0>,\n",
       " 'programming': <gensim.models.keyedvectors.Vocab at 0x1a348ebf28>,\n",
       " 'but': <gensim.models.keyedvectors.Vocab at 0x1a348ebf60>,\n",
       " 'line': <gensim.models.keyedvectors.Vocab at 0x1a348ebf98>,\n",
       " 'research': <gensim.models.keyedvectors.Vocab at 0x1a348ebfd0>,\n",
       " 'now': <gensim.models.keyedvectors.Vocab at 0x1a3528e048>,\n",
       " 'outside': <gensim.models.keyedvectors.Vocab at 0x1a3528e080>,\n",
       " 'proper': <gensim.models.keyedvectors.Vocab at 0x1a3528e0b8>,\n",
       " 'pattern': <gensim.models.keyedvectors.Vocab at 0x1a3528e0f0>,\n",
       " 'recognition': <gensim.models.keyedvectors.Vocab at 0x1a3528e128>,\n",
       " 'information': <gensim.models.keyedvectors.Vocab at 0x1a3528e160>,\n",
       " 'retrieval': <gensim.models.keyedvectors.Vocab at 0x1a3528e198>,\n",
       " 'been': <gensim.models.keyedvectors.Vocab at 0x1a3528e1d0>,\n",
       " 'abandoned': <gensim.models.keyedvectors.Vocab at 0x1a3528e208>,\n",
       " 'science': <gensim.models.keyedvectors.Vocab at 0x1a3528e240>,\n",
       " 'around': <gensim.models.keyedvectors.Vocab at 0x1a3528e278>,\n",
       " 'same': <gensim.models.keyedvectors.Vocab at 0x1a3528e2b0>,\n",
       " 'time': <gensim.models.keyedvectors.Vocab at 0x1a3528e2e8>,\n",
       " 'too': <gensim.models.keyedvectors.Vocab at 0x1a3528e320>,\n",
       " 'continued': <gensim.models.keyedvectors.Vocab at 0x1a3528e358>,\n",
       " 'cs': <gensim.models.keyedvectors.Vocab at 0x1a3528e390>,\n",
       " 'connectionism': <gensim.models.keyedvectors.Vocab at 0x1a3528e3c8>,\n",
       " 'disciplines': <gensim.models.keyedvectors.Vocab at 0x1a3528e400>,\n",
       " 'including': <gensim.models.keyedvectors.Vocab at 0x1a3528e438>,\n",
       " 'hopfield': <gensim.models.keyedvectors.Vocab at 0x1a3528e470>,\n",
       " 'rumelhart': <gensim.models.keyedvectors.Vocab at 0x1a3528e4a8>,\n",
       " 'hinton': <gensim.models.keyedvectors.Vocab at 0x1a3528e4e0>,\n",
       " 'main': <gensim.models.keyedvectors.Vocab at 0x1a3528e518>,\n",
       " 'success': <gensim.models.keyedvectors.Vocab at 0x1a3528e550>,\n",
       " 'came': <gensim.models.keyedvectors.Vocab at 0x1a3528e588>,\n",
       " 'mid': <gensim.models.keyedvectors.Vocab at 0x1a3528e5c0>,\n",
       " 'reinvention': <gensim.models.keyedvectors.Vocab at 0x1a3528e5f8>,\n",
       " 'backpropagation': <gensim.models.keyedvectors.Vocab at 0x1a3528e630>,\n",
       " 'reorganized': <gensim.models.keyedvectors.Vocab at 0x1a3528e668>,\n",
       " 'separate': <gensim.models.keyedvectors.Vocab at 0x1a3528e6a0>,\n",
       " 'started': <gensim.models.keyedvectors.Vocab at 0x1a3528e6d8>,\n",
       " 'flourish': <gensim.models.keyedvectors.Vocab at 0x1a3528e710>,\n",
       " 'changed': <gensim.models.keyedvectors.Vocab at 0x1a3528e748>,\n",
       " 'goal': <gensim.models.keyedvectors.Vocab at 0x1a3528e780>,\n",
       " 'achieving': <gensim.models.keyedvectors.Vocab at 0x1a3528e7b8>,\n",
       " 'tackling': <gensim.models.keyedvectors.Vocab at 0x1a3528e7f0>,\n",
       " 'solvable': <gensim.models.keyedvectors.Vocab at 0x1a3528e828>,\n",
       " 'nature': <gensim.models.keyedvectors.Vocab at 0x1a3528e860>,\n",
       " 'shifted': <gensim.models.keyedvectors.Vocab at 0x1a3528e898>,\n",
       " 'focus': <gensim.models.keyedvectors.Vocab at 0x1a3528e8d0>,\n",
       " 'away': <gensim.models.keyedvectors.Vocab at 0x1a3528e908>,\n",
       " 'approaches': <gensim.models.keyedvectors.Vocab at 0x1a3528e940>,\n",
       " 'inherited': <gensim.models.keyedvectors.Vocab at 0x1a3528e978>,\n",
       " 'toward': <gensim.models.keyedvectors.Vocab at 0x1a3528e9b0>,\n",
       " 'borrowed': <gensim.models.keyedvectors.Vocab at 0x1a3528e9e8>,\n",
       " 'benefited': <gensim.models.keyedvectors.Vocab at 0x1a3528ea20>,\n",
       " 'availability': <gensim.models.keyedvectors.Vocab at 0x1a3528ea58>,\n",
       " 'digitized': <gensim.models.keyedvectors.Vocab at 0x1a3528ea90>,\n",
       " 'ability': <gensim.models.keyedvectors.Vocab at 0x1a3528eac8>,\n",
       " 'distribute': <gensim.models.keyedvectors.Vocab at 0x1a3528eb00>,\n",
       " 'via': <gensim.models.keyedvectors.Vocab at 0x1a3528eb38>,\n",
       " 'internet': <gensim.models.keyedvectors.Vocab at 0x1a3528eb70>,\n",
       " 'relation': <gensim.models.keyedvectors.Vocab at 0x1a3528eba8>,\n",
       " 'often': <gensim.models.keyedvectors.Vocab at 0x1a3528ebe0>,\n",
       " 'employ': <gensim.models.keyedvectors.Vocab at 0x1a3528ec18>,\n",
       " 'overlap': <gensim.models.keyedvectors.Vocab at 0x1a3528ec50>,\n",
       " 'significantly': <gensim.models.keyedvectors.Vocab at 0x1a3528ec88>,\n",
       " 'properties': <gensim.models.keyedvectors.Vocab at 0x1a3528ecc0>,\n",
       " 'learned': <gensim.models.keyedvectors.Vocab at 0x1a3528ecf8>,\n",
       " 'discovery': <gensim.models.keyedvectors.Vocab at 0x1a3528ed30>,\n",
       " 'previously': <gensim.models.keyedvectors.Vocab at 0x1a3528ed68>,\n",
       " 'unknown': <gensim.models.keyedvectors.Vocab at 0x1a3528eda0>,\n",
       " 'step': <gensim.models.keyedvectors.Vocab at 0x1a3528edd8>,\n",
       " 'databases': <gensim.models.keyedvectors.Vocab at 0x1a3528ee10>,\n",
       " 'uses': <gensim.models.keyedvectors.Vocab at 0x1a3528ee48>,\n",
       " 'many': <gensim.models.keyedvectors.Vocab at 0x1a3528ee80>,\n",
       " 'different': <gensim.models.keyedvectors.Vocab at 0x1a3528eeb8>,\n",
       " 'goals': <gensim.models.keyedvectors.Vocab at 0x1a3528eef0>,\n",
       " 'hand': <gensim.models.keyedvectors.Vocab at 0x1a3528ef28>,\n",
       " 'employs': <gensim.models.keyedvectors.Vocab at 0x1a3528ef60>,\n",
       " 'preprocessing': <gensim.models.keyedvectors.Vocab at 0x1a3528ef98>,\n",
       " 'improve': <gensim.models.keyedvectors.Vocab at 0x1a3528efd0>,\n",
       " 'learner': <gensim.models.keyedvectors.Vocab at 0x1a35291048>,\n",
       " 'accuracy': <gensim.models.keyedvectors.Vocab at 0x1a35291080>,\n",
       " 'much': <gensim.models.keyedvectors.Vocab at 0x1a352910b8>,\n",
       " 'confusion': <gensim.models.keyedvectors.Vocab at 0x1a352910f0>,\n",
       " 'two': <gensim.models.keyedvectors.Vocab at 0x1a35291128>,\n",
       " 'communities': <gensim.models.keyedvectors.Vocab at 0x1a35291160>,\n",
       " 'conferences': <gensim.models.keyedvectors.Vocab at 0x1a35291198>,\n",
       " 'journals': <gensim.models.keyedvectors.Vocab at 0x1a352911d0>,\n",
       " 'ecml': <gensim.models.keyedvectors.Vocab at 0x1a35291208>,\n",
       " 'pkdd': <gensim.models.keyedvectors.Vocab at 0x1a35291240>,\n",
       " 'major': <gensim.models.keyedvectors.Vocab at 0x1a35291278>,\n",
       " 'exception': <gensim.models.keyedvectors.Vocab at 0x1a352912b0>,\n",
       " 'comes': <gensim.models.keyedvectors.Vocab at 0x1a352912e8>,\n",
       " 'basic': <gensim.models.keyedvectors.Vocab at 0x1a35291320>,\n",
       " 'assumptions': <gensim.models.keyedvectors.Vocab at 0x1a35291358>,\n",
       " 'usually': <gensim.models.keyedvectors.Vocab at 0x1a35291390>,\n",
       " 'evaluated': <gensim.models.keyedvectors.Vocab at 0x1a352913c8>,\n",
       " 'reproduce': <gensim.models.keyedvectors.Vocab at 0x1a35291400>,\n",
       " 'kdd': <gensim.models.keyedvectors.Vocab at 0x1a35291438>,\n",
       " 'key': <gensim.models.keyedvectors.Vocab at 0x1a35291470>,\n",
       " 'uninformed': <gensim.models.keyedvectors.Vocab at 0x1a352914a8>,\n",
       " 'method': <gensim.models.keyedvectors.Vocab at 0x1a352914e0>,\n",
       " 'easily': <gensim.models.keyedvectors.Vocab at 0x1a35291518>,\n",
       " 'outperformed': <gensim.models.keyedvectors.Vocab at 0x1a35291550>,\n",
       " 'typical': <gensim.models.keyedvectors.Vocab at 0x1a35291588>,\n",
       " 'cannot': <gensim.models.keyedvectors.Vocab at 0x1a352915c0>,\n",
       " 'due': <gensim.models.keyedvectors.Vocab at 0x1a352915f8>,\n",
       " 'unavailability': <gensim.models.keyedvectors.Vocab at 0x1a35291630>,\n",
       " 'has': <gensim.models.keyedvectors.Vocab at 0x1a35291668>,\n",
       " 'intimate': <gensim.models.keyedvectors.Vocab at 0x1a352916a0>,\n",
       " 'ties': <gensim.models.keyedvectors.Vocab at 0x1a352916d8>,\n",
       " 'formulated': <gensim.models.keyedvectors.Vocab at 0x1a35291710>,\n",
       " 'minimization': <gensim.models.keyedvectors.Vocab at 0x1a35291748>,\n",
       " 'loss': <gensim.models.keyedvectors.Vocab at 0x1a35291780>,\n",
       " 'functions': <gensim.models.keyedvectors.Vocab at 0x1a352917b8>,\n",
       " 'express': <gensim.models.keyedvectors.Vocab at 0x1a352917f0>,\n",
       " 'discrepancy': <gensim.models.keyedvectors.Vocab at 0x1a35291828>,\n",
       " 'trained': <gensim.models.keyedvectors.Vocab at 0x1a35291860>,\n",
       " 'actual': <gensim.models.keyedvectors.Vocab at 0x1a35291898>,\n",
       " 'instances': <gensim.models.keyedvectors.Vocab at 0x1a352918d0>,\n",
       " 'wants': <gensim.models.keyedvectors.Vocab at 0x1a35291908>,\n",
       " 'assign': <gensim.models.keyedvectors.Vocab at 0x1a35291940>,\n",
       " 'correctly': <gensim.models.keyedvectors.Vocab at 0x1a35291978>,\n",
       " 'predict': <gensim.models.keyedvectors.Vocab at 0x1a352919b0>,\n",
       " 'pre': <gensim.models.keyedvectors.Vocab at 0x1a352919e8>,\n",
       " 'assigned': <gensim.models.keyedvectors.Vocab at 0x1a35291a20>,\n",
       " 'difference': <gensim.models.keyedvectors.Vocab at 0x1a35291a58>,\n",
       " 'arises': <gensim.models.keyedvectors.Vocab at 0x1a35291a90>,\n",
       " 'generalization': <gensim.models.keyedvectors.Vocab at 0x1a35291ac8>,\n",
       " 'minimize': <gensim.models.keyedvectors.Vocab at 0x1a35291b00>,\n",
       " 'minimizing': <gensim.models.keyedvectors.Vocab at 0x1a35291b38>,\n",
       " 'unseen': <gensim.models.keyedvectors.Vocab at 0x1a35291b70>,\n",
       " 'samples': <gensim.models.keyedvectors.Vocab at 0x1a35291ba8>,\n",
       " 'according': <gensim.models.keyedvectors.Vocab at 0x1a35291be0>,\n",
       " 'michael': <gensim.models.keyedvectors.Vocab at 0x1a35291c18>,\n",
       " 'i': <gensim.models.keyedvectors.Vocab at 0x1a35291c50>,\n",
       " 'jordan': <gensim.models.keyedvectors.Vocab at 0x1a35291c88>,\n",
       " 'ideas': <gensim.models.keyedvectors.Vocab at 0x1a35291cc0>,\n",
       " 'methodological': <gensim.models.keyedvectors.Vocab at 0x1a35291cf8>,\n",
       " 'principles': <gensim.models.keyedvectors.Vocab at 0x1a35291d30>,\n",
       " 'tools': <gensim.models.keyedvectors.Vocab at 0x1a35291d68>,\n",
       " 'long': <gensim.models.keyedvectors.Vocab at 0x1a35291da0>,\n",
       " 'he': <gensim.models.keyedvectors.Vocab at 0x1a35291dd8>,\n",
       " 'suggested': <gensim.models.keyedvectors.Vocab at 0x1a35291e10>,\n",
       " 'placeholder': <gensim.models.keyedvectors.Vocab at 0x1a35291e48>,\n",
       " 'call': <gensim.models.keyedvectors.Vocab at 0x1a35291e80>,\n",
       " 'overall': <gensim.models.keyedvectors.Vocab at 0x1a35291eb8>,\n",
       " 'leo': <gensim.models.keyedvectors.Vocab at 0x1a35291ef0>,\n",
       " 'breiman': <gensim.models.keyedvectors.Vocab at 0x1a35291f28>,\n",
       " 'distinguished': <gensim.models.keyedvectors.Vocab at 0x1a35291f60>,\n",
       " 'modelling': <gensim.models.keyedvectors.Vocab at 0x1a35291f98>,\n",
       " 'paradigms': <gensim.models.keyedvectors.Vocab at 0x1a35291fd0>,\n",
       " 'algorithmic': <gensim.models.keyedvectors.Vocab at 0x1a35295048>,\n",
       " 'wherein': <gensim.models.keyedvectors.Vocab at 0x1a35295080>,\n",
       " 'means': <gensim.models.keyedvectors.Vocab at 0x1a352950b8>,\n",
       " 'less': <gensim.models.keyedvectors.Vocab at 0x1a352950f0>,\n",
       " 'random': <gensim.models.keyedvectors.Vocab at 0x1a35295128>,\n",
       " 'forest': <gensim.models.keyedvectors.Vocab at 0x1a35295160>,\n",
       " 'statisticians': <gensim.models.keyedvectors.Vocab at 0x1a35295198>,\n",
       " 'adopted': <gensim.models.keyedvectors.Vocab at 0x1a352951d0>,\n",
       " 'combined': <gensim.models.keyedvectors.Vocab at 0x1a35295208>,\n",
       " 'core': <gensim.models.keyedvectors.Vocab at 0x1a35295240>,\n",
       " 'objective': <gensim.models.keyedvectors.Vocab at 0x1a35295278>,\n",
       " 'generalize': <gensim.models.keyedvectors.Vocab at 0x1a352952b0>,\n",
       " 'context': <gensim.models.keyedvectors.Vocab at 0x1a352952e8>,\n",
       " 'accurately': <gensim.models.keyedvectors.Vocab at 0x1a35295320>,\n",
       " 'after': <gensim.models.keyedvectors.Vocab at 0x1a35295358>,\n",
       " 'experienced': <gensim.models.keyedvectors.Vocab at 0x1a35295390>,\n",
       " 'generally': <gensim.models.keyedvectors.Vocab at 0x1a352953c8>,\n",
       " 'distribution': <gensim.models.keyedvectors.Vocab at 0x1a35295400>,\n",
       " 'considered': <gensim.models.keyedvectors.Vocab at 0x1a35295438>,\n",
       " 'representative': <gensim.models.keyedvectors.Vocab at 0x1a35295470>,\n",
       " 'space': <gensim.models.keyedvectors.Vocab at 0x1a352954a8>,\n",
       " 'occurrences': <gensim.models.keyedvectors.Vocab at 0x1a352954e0>,\n",
       " 'general': <gensim.models.keyedvectors.Vocab at 0x1a35295518>,\n",
       " 'about': <gensim.models.keyedvectors.Vocab at 0x1a35295550>,\n",
       " 'enables': <gensim.models.keyedvectors.Vocab at 0x1a35295588>,\n",
       " 'produce': <gensim.models.keyedvectors.Vocab at 0x1a352955c0>,\n",
       " 'sufficiently': <gensim.models.keyedvectors.Vocab at 0x1a352955f8>,\n",
       " 'accurate': <gensim.models.keyedvectors.Vocab at 0x1a35295630>,\n",
       " 'branch': <gensim.models.keyedvectors.Vocab at 0x1a35295668>,\n",
       " 'because': <gensim.models.keyedvectors.Vocab at 0x1a352956a0>,\n",
       " 'sets': <gensim.models.keyedvectors.Vocab at 0x1a352956d8>,\n",
       " 'finite': <gensim.models.keyedvectors.Vocab at 0x1a35295710>,\n",
       " 'future': <gensim.models.keyedvectors.Vocab at 0x1a35295748>,\n",
       " 'uncertain': <gensim.models.keyedvectors.Vocab at 0x1a35295780>,\n",
       " 'does': <gensim.models.keyedvectors.Vocab at 0x1a352957b8>,\n",
       " 'yield': <gensim.models.keyedvectors.Vocab at 0x1a352957f0>,\n",
       " 'guarantees': <gensim.models.keyedvectors.Vocab at 0x1a35295828>,\n",
       " 'bounds': <gensim.models.keyedvectors.Vocab at 0x1a35295860>,\n",
       " 'quite': <gensim.models.keyedvectors.Vocab at 0x1a35295898>,\n",
       " 'common': <gensim.models.keyedvectors.Vocab at 0x1a352958d0>,\n",
       " 'variance': <gensim.models.keyedvectors.Vocab at 0x1a35295908>,\n",
       " 'decomposition': <gensim.models.keyedvectors.Vocab at 0x1a35295940>,\n",
       " 'way': <gensim.models.keyedvectors.Vocab at 0x1a35295978>,\n",
       " 'quantify': <gensim.models.keyedvectors.Vocab at 0x1a352959b0>,\n",
       " 'error': <gensim.models.keyedvectors.Vocab at 0x1a352959e8>,\n",
       " 'best': <gensim.models.keyedvectors.Vocab at 0x1a35295a20>,\n",
       " 'complexity': <gensim.models.keyedvectors.Vocab at 0x1a35295a58>,\n",
       " 'hypothesis': <gensim.models.keyedvectors.Vocab at 0x1a35295a90>,\n",
       " 'should': <gensim.models.keyedvectors.Vocab at 0x1a35295ac8>,\n",
       " 'match': <gensim.models.keyedvectors.Vocab at 0x1a35295b00>,\n",
       " 'underlying': <gensim.models.keyedvectors.Vocab at 0x1a35295b38>,\n",
       " 'complex': <gensim.models.keyedvectors.Vocab at 0x1a35295b70>,\n",
       " 'underfit': <gensim.models.keyedvectors.Vocab at 0x1a35295ba8>,\n",
       " 'increased': <gensim.models.keyedvectors.Vocab at 0x1a35295be0>,\n",
       " 'response': <gensim.models.keyedvectors.Vocab at 0x1a35295c18>,\n",
       " 'decreases': <gensim.models.keyedvectors.Vocab at 0x1a35295c50>,\n",
       " 'subject': <gensim.models.keyedvectors.Vocab at 0x1a35295c88>,\n",
       " 'overfitting': <gensim.models.keyedvectors.Vocab at 0x1a35295cc0>,\n",
       " 'poorer': <gensim.models.keyedvectors.Vocab at 0x1a35295cf8>,\n",
       " 'addition': <gensim.models.keyedvectors.Vocab at 0x1a35295d30>,\n",
       " 'theorists': <gensim.models.keyedvectors.Vocab at 0x1a35295d68>,\n",
       " 'feasibility': <gensim.models.keyedvectors.Vocab at 0x1a35295da0>,\n",
       " 'computation': <gensim.models.keyedvectors.Vocab at 0x1a35295dd8>,\n",
       " 'feasible': <gensim.models.keyedvectors.Vocab at 0x1a35295e10>,\n",
       " 'done': <gensim.models.keyedvectors.Vocab at 0x1a35295e48>,\n",
       " 'polynomial': <gensim.models.keyedvectors.Vocab at 0x1a35295e80>,\n",
       " 'there': <gensim.models.keyedvectors.Vocab at 0x1a35295eb8>,\n",
       " 'kinds': <gensim.models.keyedvectors.Vocab at 0x1a35295ef0>,\n",
       " 'results': <gensim.models.keyedvectors.Vocab at 0x1a35295f28>,\n",
       " 'show': <gensim.models.keyedvectors.Vocab at 0x1a35295f60>,\n",
       " 'classes': <gensim.models.keyedvectors.Vocab at 0x1a35295f98>,\n",
       " 'differ': <gensim.models.keyedvectors.Vocab at 0x1a35295fd0>,\n",
       " 'type': <gensim.models.keyedvectors.Vocab at 0x1a35299048>,\n",
       " 'intended': <gensim.models.keyedvectors.Vocab at 0x1a35299080>,\n",
       " 'solve': <gensim.models.keyedvectors.Vocab at 0x1a352990b8>,\n",
       " 'consists': <gensim.models.keyedvectors.Vocab at 0x1a352990f0>,\n",
       " 'supervisory': <gensim.models.keyedvectors.Vocab at 0x1a35299128>,\n",
       " 'signal': <gensim.models.keyedvectors.Vocab at 0x1a35299160>,\n",
       " 'case': <gensim.models.keyedvectors.Vocab at 0x1a35299198>,\n",
       " 'missing': <gensim.models.keyedvectors.Vocab at 0x1a352991d0>,\n",
       " 'array': <gensim.models.keyedvectors.Vocab at 0x1a35299208>,\n",
       " 'vector': <gensim.models.keyedvectors.Vocab at 0x1a35299240>,\n",
       " 'matrix': <gensim.models.keyedvectors.Vocab at 0x1a35299278>,\n",
       " 'iterative': <gensim.models.keyedvectors.Vocab at 0x1a352992b0>,\n",
       " 'associated': <gensim.models.keyedvectors.Vocab at 0x1a352992e8>,\n",
       " 'optimal': <gensim.models.keyedvectors.Vocab at 0x1a35299320>,\n",
       " 'allow': <gensim.models.keyedvectors.Vocab at 0x1a35299358>,\n",
       " 'determine': <gensim.models.keyedvectors.Vocab at 0x1a35299390>,\n",
       " 'part': <gensim.models.keyedvectors.Vocab at 0x1a352993c8>,\n",
       " 'over': <gensim.models.keyedvectors.Vocab at 0x1a35299400>,\n",
       " 'numerical': <gensim.models.keyedvectors.Vocab at 0x1a35299438>,\n",
       " 'similarity': <gensim.models.keyedvectors.Vocab at 0x1a35299470>,\n",
       " 'area': <gensim.models.keyedvectors.Vocab at 0x1a352994a8>,\n",
       " 'measures': <gensim.models.keyedvectors.Vocab at 0x1a352994e0>,\n",
       " 'how': <gensim.models.keyedvectors.Vocab at 0x1a35299518>,\n",
       " 'objects': <gensim.models.keyedvectors.Vocab at 0x1a35299550>,\n",
       " 'ranking': <gensim.models.keyedvectors.Vocab at 0x1a35299588>,\n",
       " 'recommendation': <gensim.models.keyedvectors.Vocab at 0x1a352995c0>,\n",
       " 'visual': <gensim.models.keyedvectors.Vocab at 0x1a352995f8>,\n",
       " 'identity': <gensim.models.keyedvectors.Vocab at 0x1a35299630>,\n",
       " 'tracking': <gensim.models.keyedvectors.Vocab at 0x1a35299668>,\n",
       " 'face': <gensim.models.keyedvectors.Vocab at 0x1a352996a0>,\n",
       " 'verification': <gensim.models.keyedvectors.Vocab at 0x1a352996d8>,\n",
       " 'speaker': <gensim.models.keyedvectors.Vocab at 0x1a35299710>,\n",
       " 'take': <gensim.models.keyedvectors.Vocab at 0x1a35299748>,\n",
       " 'therefore': <gensim.models.keyedvectors.Vocab at 0x1a35299780>,\n",
       " 'test': <gensim.models.keyedvectors.Vocab at 0x1a352997b8>,\n",
       " 'labeled': <gensim.models.keyedvectors.Vocab at 0x1a352997f0>,\n",
       " 'categorized': <gensim.models.keyedvectors.Vocab at 0x1a35299828>,\n",
       " 'responding': <gensim.models.keyedvectors.Vocab at 0x1a35299860>,\n",
       " 'identify': <gensim.models.keyedvectors.Vocab at 0x1a35299898>,\n",
       " 'commonalities': <gensim.models.keyedvectors.Vocab at 0x1a352998d0>,\n",
       " 'react': <gensim.models.keyedvectors.Vocab at 0x1a35299908>,\n",
       " 'presence': <gensim.models.keyedvectors.Vocab at 0x1a35299940>,\n",
       " 'absence': <gensim.models.keyedvectors.Vocab at 0x1a35299978>,\n",
       " 'piece': <gensim.models.keyedvectors.Vocab at 0x1a352999b0>,\n",
       " 'central': <gensim.models.keyedvectors.Vocab at 0x1a352999e8>,\n",
       " 'though': <gensim.models.keyedvectors.Vocab at 0x1a35299a20>,\n",
       " 'encompasses': <gensim.models.keyedvectors.Vocab at 0x1a35299a58>,\n",
       " 'involving': <gensim.models.keyedvectors.Vocab at 0x1a35299a90>,\n",
       " 'summarizing': <gensim.models.keyedvectors.Vocab at 0x1a35299ac8>,\n",
       " 'explaining': <gensim.models.keyedvectors.Vocab at 0x1a35299b00>,\n",
       " 'cluster': <gensim.models.keyedvectors.Vocab at 0x1a35299b38>,\n",
       " 'assignment': <gensim.models.keyedvectors.Vocab at 0x1a35299b70>,\n",
       " 'observations': <gensim.models.keyedvectors.Vocab at 0x1a35299ba8>,\n",
       " 'subsets': <gensim.models.keyedvectors.Vocab at 0x1a35299be0>,\n",
       " 'called': <gensim.models.keyedvectors.Vocab at 0x1a35299c18>,\n",
       " 'clusters': <gensim.models.keyedvectors.Vocab at 0x1a35299c50>,\n",
       " 'so': <gensim.models.keyedvectors.Vocab at 0x1a35299c88>,\n",
       " 'predesignated': <gensim.models.keyedvectors.Vocab at 0x1a35299cc0>,\n",
       " 'criteria': <gensim.models.keyedvectors.Vocab at 0x1a35299cf8>,\n",
       " 'drawn': <gensim.models.keyedvectors.Vocab at 0x1a35299d30>,\n",
       " 'dissimilar': <gensim.models.keyedvectors.Vocab at 0x1a35299d68>,\n",
       " 'techniques': <gensim.models.keyedvectors.Vocab at 0x1a35299da0>,\n",
       " 'defined': <gensim.models.keyedvectors.Vocab at 0x1a35299dd8>,\n",
       " 'metric': <gensim.models.keyedvectors.Vocab at 0x1a35299e10>,\n",
       " 'internal': <gensim.models.keyedvectors.Vocab at 0x1a35299e48>,\n",
       " 'compactness': <gensim.models.keyedvectors.Vocab at 0x1a35299e80>,\n",
       " 'members': <gensim.models.keyedvectors.Vocab at 0x1a35299eb8>,\n",
       " 'separation': <gensim.models.keyedvectors.Vocab at 0x1a35299ef0>,\n",
       " 'estimated': <gensim.models.keyedvectors.Vocab at 0x1a35299f28>,\n",
       " 'graph': <gensim.models.keyedvectors.Vocab at 0x1a35299f60>,\n",
       " 'connectivity': <gensim.models.keyedvectors.Vocab at 0x1a35299f98>,\n",
       " 'software': <gensim.models.keyedvectors.Vocab at 0x1a35299fd0>,\n",
       " 'agents': <gensim.models.keyedvectors.Vocab at 0x1a3529c048>,\n",
       " 'ought': <gensim.models.keyedvectors.Vocab at 0x1a3529c080>,\n",
       " 'actions': <gensim.models.keyedvectors.Vocab at 0x1a3529c0b8>,\n",
       " 'maximize': <gensim.models.keyedvectors.Vocab at 0x1a3529c0f0>,\n",
       " 'notion': <gensim.models.keyedvectors.Vocab at 0x1a3529c128>,\n",
       " 'cumulative': <gensim.models.keyedvectors.Vocab at 0x1a3529c160>,\n",
       " 'reward': <gensim.models.keyedvectors.Vocab at 0x1a3529c198>,\n",
       " 'generality': <gensim.models.keyedvectors.Vocab at 0x1a3529c1d0>,\n",
       " 'control': <gensim.models.keyedvectors.Vocab at 0x1a3529c208>,\n",
       " 'operations': <gensim.models.keyedvectors.Vocab at 0x1a3529c240>,\n",
       " 'simulation': <gensim.models.keyedvectors.Vocab at 0x1a3529c278>,\n",
       " 'multi': <gensim.models.keyedvectors.Vocab at 0x1a3529c2b0>,\n",
       " 'agent': <gensim.models.keyedvectors.Vocab at 0x1a3529c2e8>,\n",
       " 'swarm': <gensim.models.keyedvectors.Vocab at 0x1a3529c320>,\n",
       " 'genetic': <gensim.models.keyedvectors.Vocab at 0x1a3529c358>,\n",
       " 'typically': <gensim.models.keyedvectors.Vocab at 0x1a3529c390>,\n",
       " 'markov': <gensim.models.keyedvectors.Vocab at 0x1a3529c3c8>,\n",
       " 'decision': <gensim.models.keyedvectors.Vocab at 0x1a3529c400>,\n",
       " 'mdp': <gensim.models.keyedvectors.Vocab at 0x1a3529c438>,\n",
       " 'assume': <gensim.models.keyedvectors.Vocab at 0x1a3529c470>,\n",
       " 'exact': <gensim.models.keyedvectors.Vocab at 0x1a3529c4a8>,\n",
       " 'processes': <gensim.models.keyedvectors.Vocab at 0x1a3529c4e0>,\n",
       " 'applied': <gensim.models.keyedvectors.Vocab at 0x1a3529c518>,\n",
       " 'enhance': <gensim.models.keyedvectors.Vocab at 0x1a3529c550>,\n",
       " 'aim': <gensim.models.keyedvectors.Vocab at 0x1a3529c588>,\n",
       " 'discovering': <gensim.models.keyedvectors.Vocab at 0x1a3529c5c0>,\n",
       " 'better': <gensim.models.keyedvectors.Vocab at 0x1a3529c5f8>,\n",
       " 'representations': <gensim.models.keyedvectors.Vocab at 0x1a3529c630>,\n",
       " 'during': <gensim.models.keyedvectors.Vocab at 0x1a3529c668>,\n",
       " 'classic': <gensim.models.keyedvectors.Vocab at 0x1a3529c6a0>,\n",
       " 'principal': <gensim.models.keyedvectors.Vocab at 0x1a3529c6d8>,\n",
       " 'components': <gensim.models.keyedvectors.Vocab at 0x1a3529c710>,\n",
       " 'attempt': <gensim.models.keyedvectors.Vocab at 0x1a3529c748>,\n",
       " 'preserve': <gensim.models.keyedvectors.Vocab at 0x1a3529c780>,\n",
       " 'transform': <gensim.models.keyedvectors.Vocab at 0x1a3529c7b8>,\n",
       " 'makes': <gensim.models.keyedvectors.Vocab at 0x1a3529c7f0>,\n",
       " 'useful': <gensim.models.keyedvectors.Vocab at 0x1a3529c828>,\n",
       " 'processing': <gensim.models.keyedvectors.Vocab at 0x1a3529c860>,\n",
       " 'before': <gensim.models.keyedvectors.Vocab at 0x1a3529c898>,\n",
       " 'technique': <gensim.models.keyedvectors.Vocab at 0x1a3529c8d0>,\n",
       " 'allows': <gensim.models.keyedvectors.Vocab at 0x1a3529c908>,\n",
       " 'reconstruction': <gensim.models.keyedvectors.Vocab at 0x1a3529c940>,\n",
       " 'coming': <gensim.models.keyedvectors.Vocab at 0x1a3529c978>,\n",
       " 'generating': <gensim.models.keyedvectors.Vocab at 0x1a3529c9b0>,\n",
       " 'necessarily': <gensim.models.keyedvectors.Vocab at 0x1a3529c9e8>,\n",
       " 'faithful': <gensim.models.keyedvectors.Vocab at 0x1a3529ca20>,\n",
       " 'configurations': <gensim.models.keyedvectors.Vocab at 0x1a3529ca58>,\n",
       " 'implausible': <gensim.models.keyedvectors.Vocab at 0x1a3529ca90>,\n",
       " 'under': <gensim.models.keyedvectors.Vocab at 0x1a3529cac8>,\n",
       " 'replaces': <gensim.models.keyedvectors.Vocab at 0x1a3529cb00>,\n",
       " 'manual': <gensim.models.keyedvectors.Vocab at 0x1a3529cb38>,\n",
       " 'engineering': <gensim.models.keyedvectors.Vocab at 0x1a3529cb70>,\n",
       " 'them': <gensim.models.keyedvectors.Vocab at 0x1a3529cba8>,\n",
       " 'multilayer': <gensim.models.keyedvectors.Vocab at 0x1a3529cbe0>,\n",
       " 'dictionary': <gensim.models.keyedvectors.Vocab at 0x1a3529cc18>,\n",
       " 'unlabeled': <gensim.models.keyedvectors.Vocab at 0x1a3529cc50>,\n",
       " 'independent': <gensim.models.keyedvectors.Vocab at 0x1a3529cc88>,\n",
       " 'component': <gensim.models.keyedvectors.Vocab at 0x1a3529ccc0>,\n",
       " 'autoencoders': <gensim.models.keyedvectors.Vocab at 0x1a3529ccf8>,\n",
       " 'factorization': <gensim.models.keyedvectors.Vocab at 0x1a3529cd30>,\n",
       " 'forms': <gensim.models.keyedvectors.Vocab at 0x1a3529cd68>,\n",
       " 'manifold': <gensim.models.keyedvectors.Vocab at 0x1a3529cda0>,\n",
       " 'constraint': <gensim.models.keyedvectors.Vocab at 0x1a3529cdd8>,\n",
       " 'low': <gensim.models.keyedvectors.Vocab at 0x1a3529ce10>,\n",
       " 'dimensional': <gensim.models.keyedvectors.Vocab at 0x1a3529ce48>,\n",
       " 'sparse': <gensim.models.keyedvectors.Vocab at 0x1a3529ce80>,\n",
       " 'coding': <gensim.models.keyedvectors.Vocab at 0x1a3529ceb8>,\n",
       " 'zeros': <gensim.models.keyedvectors.Vocab at 0x1a3529cef0>,\n",
       " 'multilinear': <gensim.models.keyedvectors.Vocab at 0x1a3529cf28>,\n",
       " 'subspace': <gensim.models.keyedvectors.Vocab at 0x1a3529cf60>,\n",
       " 'directly': <gensim.models.keyedvectors.Vocab at 0x1a3529cf98>,\n",
       " 'tensor': <gensim.models.keyedvectors.Vocab at 0x1a3529cfd0>,\n",
       " 'multidimensional': <gensim.models.keyedvectors.Vocab at 0x1a3529f048>,\n",
       " 'reshaping': <gensim.models.keyedvectors.Vocab at 0x1a3529f080>,\n",
       " 'higher': <gensim.models.keyedvectors.Vocab at 0x1a3529f0b8>,\n",
       " 'vectors': <gensim.models.keyedvectors.Vocab at 0x1a3529f0f0>,\n",
       " 'deep': <gensim.models.keyedvectors.Vocab at 0x1a3529f128>,\n",
       " 'multiple': <gensim.models.keyedvectors.Vocab at 0x1a3529f160>,\n",
       " 'levels': <gensim.models.keyedvectors.Vocab at 0x1a3529f198>,\n",
       " 'hierarchy': <gensim.models.keyedvectors.Vocab at 0x1a3529f1d0>,\n",
       " 'level': <gensim.models.keyedvectors.Vocab at 0x1a3529f208>,\n",
       " 'abstract': <gensim.models.keyedvectors.Vocab at 0x1a3529f240>,\n",
       " 'lower': <gensim.models.keyedvectors.Vocab at 0x1a3529f278>,\n",
       " 'argued': <gensim.models.keyedvectors.Vocab at 0x1a3529f2b0>,\n",
       " 'intelligent': <gensim.models.keyedvectors.Vocab at 0x1a3529f2e8>,\n",
       " 'learns': <gensim.models.keyedvectors.Vocab at 0x1a3529f320>,\n",
       " 'disentangles': <gensim.models.keyedvectors.Vocab at 0x1a3529f358>,\n",
       " 'factors': <gensim.models.keyedvectors.Vocab at 0x1a3529f390>,\n",
       " 'variation': <gensim.models.keyedvectors.Vocab at 0x1a3529f3c8>,\n",
       " 'explain': <gensim.models.keyedvectors.Vocab at 0x1a3529f400>,\n",
       " 'observed': <gensim.models.keyedvectors.Vocab at 0x1a3529f438>,\n",
       " 'motivated': <gensim.models.keyedvectors.Vocab at 0x1a3529f470>,\n",
       " 'fact': <gensim.models.keyedvectors.Vocab at 0x1a3529f4a8>,\n",
       " 'require': <gensim.models.keyedvectors.Vocab at 0x1a3529f4e0>,\n",
       " 'mathematically': <gensim.models.keyedvectors.Vocab at 0x1a3529f518>,\n",
       " 'computationally': <gensim.models.keyedvectors.Vocab at 0x1a3529f550>,\n",
       " 'convenient': <gensim.models.keyedvectors.Vocab at 0x1a3529f588>,\n",
       " 'real': <gensim.models.keyedvectors.Vocab at 0x1a3529f5c0>,\n",
       " 'world': <gensim.models.keyedvectors.Vocab at 0x1a3529f5f8>,\n",
       " 'video': <gensim.models.keyedvectors.Vocab at 0x1a3529f630>,\n",
       " 'sensory': <gensim.models.keyedvectors.Vocab at 0x1a3529f668>,\n",
       " 'yielded': <gensim.models.keyedvectors.Vocab at 0x1a3529f6a0>,\n",
       " 'attempts': <gensim.models.keyedvectors.Vocab at 0x1a3529f6d8>,\n",
       " 'algorithmically': <gensim.models.keyedvectors.Vocab at 0x1a3529f710>,\n",
       " 'define': <gensim.models.keyedvectors.Vocab at 0x1a3529f748>,\n",
       " 'alternative': <gensim.models.keyedvectors.Vocab at 0x1a3529f780>,\n",
       " 'examination': <gensim.models.keyedvectors.Vocab at 0x1a3529f7b8>,\n",
       " 'combination': <gensim.models.keyedvectors.Vocab at 0x1a3529f7f0>,\n",
       " 'basis': <gensim.models.keyedvectors.Vocab at 0x1a3529f828>,\n",
       " 'assumed': <gensim.models.keyedvectors.Vocab at 0x1a3529f860>,\n",
       " 'strongly': <gensim.models.keyedvectors.Vocab at 0x1a3529f898>,\n",
       " 'np': <gensim.models.keyedvectors.Vocab at 0x1a3529f8d0>,\n",
       " 'hard': <gensim.models.keyedvectors.Vocab at 0x1a3529f908>,\n",
       " 'difficult': <gensim.models.keyedvectors.Vocab at 0x1a3529f940>,\n",
       " 'approximately': <gensim.models.keyedvectors.Vocab at 0x1a3529f978>,\n",
       " 'popular': <gensim.models.keyedvectors.Vocab at 0x1a3529f9b0>,\n",
       " 'heuristic': <gensim.models.keyedvectors.Vocab at 0x1a3529f9e8>,\n",
       " 'k': <gensim.models.keyedvectors.Vocab at 0x1a3529fa20>,\n",
       " 'svd': <gensim.models.keyedvectors.Vocab at 0x1a3529fa58>,\n",
       " 'contexts': <gensim.models.keyedvectors.Vocab at 0x1a3529fa90>,\n",
       " 'belongs': <gensim.models.keyedvectors.Vocab at 0x1a3529fac8>,\n",
       " 'built': <gensim.models.keyedvectors.Vocab at 0x1a3529fb00>,\n",
       " 'sparsely': <gensim.models.keyedvectors.Vocab at 0x1a3529fb38>,\n",
       " 'corresponding': <gensim.models.keyedvectors.Vocab at 0x1a3529fb70>,\n",
       " 'de': <gensim.models.keyedvectors.Vocab at 0x1a3529fba8>,\n",
       " 'noising': <gensim.models.keyedvectors.Vocab at 0x1a3529fbe0>,\n",
       " 'idea': <gensim.models.keyedvectors.Vocab at 0x1a3529fc18>,\n",
       " 'clean': <gensim.models.keyedvectors.Vocab at 0x1a3529fc50>,\n",
       " 'patch': <gensim.models.keyedvectors.Vocab at 0x1a3529fc88>,\n",
       " 'noise': <gensim.models.keyedvectors.Vocab at 0x1a3529fcc0>,\n",
       " 'anomaly': <gensim.models.keyedvectors.Vocab at 0x1a3529fcf8>,\n",
       " 'outlier': <gensim.models.keyedvectors.Vocab at 0x1a3529fd30>,\n",
       " 'identification': <gensim.models.keyedvectors.Vocab at 0x1a3529fd68>,\n",
       " 'rare': <gensim.models.keyedvectors.Vocab at 0x1a3529fda0>,\n",
       " 'items': <gensim.models.keyedvectors.Vocab at 0x1a3529fdd8>,\n",
       " 'events': <gensim.models.keyedvectors.Vocab at 0x1a3529fe10>,\n",
       " 'raise': <gensim.models.keyedvectors.Vocab at 0x1a3529fe48>,\n",
       " 'suspicions': <gensim.models.keyedvectors.Vocab at 0x1a3529fe80>,\n",
       " 'differing': <gensim.models.keyedvectors.Vocab at 0x1a3529feb8>,\n",
       " 'majority': <gensim.models.keyedvectors.Vocab at 0x1a3529fef0>,\n",
       " 'anomalous': <gensim.models.keyedvectors.Vocab at 0x1a3529ff28>,\n",
       " 'represent': <gensim.models.keyedvectors.Vocab at 0x1a3529ff60>,\n",
       " 'issue': <gensim.models.keyedvectors.Vocab at 0x1a3529ff98>,\n",
       " 'bank': <gensim.models.keyedvectors.Vocab at 0x1a3529ffd0>,\n",
       " 'fraud': <gensim.models.keyedvectors.Vocab at 0x1a352a3048>,\n",
       " 'structural': <gensim.models.keyedvectors.Vocab at 0x1a352a3080>,\n",
       " 'defect': <gensim.models.keyedvectors.Vocab at 0x1a352a30b8>,\n",
       " 'errors': <gensim.models.keyedvectors.Vocab at 0x1a352a30f0>,\n",
       " 'text': <gensim.models.keyedvectors.Vocab at 0x1a352a3128>,\n",
       " 'anomalies': <gensim.models.keyedvectors.Vocab at 0x1a352a3160>,\n",
       " 'outliers': <gensim.models.keyedvectors.Vocab at 0x1a352a3198>,\n",
       " 'novelties': <gensim.models.keyedvectors.Vocab at 0x1a352a31d0>,\n",
       " 'deviations': <gensim.models.keyedvectors.Vocab at 0x1a352a3208>,\n",
       " 'exceptions': <gensim.models.keyedvectors.Vocab at 0x1a352a3240>,\n",
       " 'particular': <gensim.models.keyedvectors.Vocab at 0x1a352a3278>,\n",
       " 'abuse': <gensim.models.keyedvectors.Vocab at 0x1a352a32b0>,\n",
       " 'intrusion': <gensim.models.keyedvectors.Vocab at 0x1a352a32e8>,\n",
       " 'interesting': <gensim.models.keyedvectors.Vocab at 0x1a352a3320>,\n",
       " 'unexpected': <gensim.models.keyedvectors.Vocab at 0x1a352a3358>,\n",
       " 'bursts': <gensim.models.keyedvectors.Vocab at 0x1a352a3390>,\n",
       " 'activity': <gensim.models.keyedvectors.Vocab at 0x1a352a33c8>,\n",
       " 'adhere': <gensim.models.keyedvectors.Vocab at 0x1a352a3400>,\n",
       " 'fail': <gensim.models.keyedvectors.Vocab at 0x1a352a3438>,\n",
       " 'unless': <gensim.models.keyedvectors.Vocab at 0x1a352a3470>,\n",
       " 'aggregated': <gensim.models.keyedvectors.Vocab at 0x1a352a34a8>,\n",
       " 'appropriately': <gensim.models.keyedvectors.Vocab at 0x1a352a34e0>,\n",
       " 'able': <gensim.models.keyedvectors.Vocab at 0x1a352a3518>,\n",
       " 'detect': <gensim.models.keyedvectors.Vocab at 0x1a352a3550>,\n",
       " 'micro': <gensim.models.keyedvectors.Vocab at 0x1a352a3588>,\n",
       " 'formed': <gensim.models.keyedvectors.Vocab at 0x1a352a35c0>,\n",
       " 'three': <gensim.models.keyedvectors.Vocab at 0x1a352a35f8>,\n",
       " 'exist': <gensim.models.keyedvectors.Vocab at 0x1a352a3630>,\n",
       " 'assumption': <gensim.models.keyedvectors.Vocab at 0x1a352a3668>,\n",
       " 'normal': <gensim.models.keyedvectors.Vocab at 0x1a352a36a0>,\n",
       " 'looking': <gensim.models.keyedvectors.Vocab at 0x1a352a36d8>,\n",
       " 'seem': <gensim.models.keyedvectors.Vocab at 0x1a352a3710>,\n",
       " 'fit': <gensim.models.keyedvectors.Vocab at 0x1a352a3748>,\n",
       " 'least': <gensim.models.keyedvectors.Vocab at 0x1a352a3780>,\n",
       " 'remainder': <gensim.models.keyedvectors.Vocab at 0x1a352a37b8>,\n",
       " 'abnormal': <gensim.models.keyedvectors.Vocab at 0x1a352a37f0>,\n",
       " 'involves': <gensim.models.keyedvectors.Vocab at 0x1a352a3828>,\n",
       " 'classifier': <gensim.models.keyedvectors.Vocab at 0x1a352a3860>,\n",
       " 'inherent': <gensim.models.keyedvectors.Vocab at 0x1a352a3898>,\n",
       " 'unbalanced': <gensim.models.keyedvectors.Vocab at 0x1a352a38d0>,\n",
       " 'construct': <gensim.models.keyedvectors.Vocab at 0x1a352a3908>,\n",
       " 'representing': <gensim.models.keyedvectors.Vocab at 0x1a352a3940>,\n",
       " 'behavior': <gensim.models.keyedvectors.Vocab at 0x1a352a3978>,\n",
       " 'likelihood': <gensim.models.keyedvectors.Vocab at 0x1a352a39b0>,\n",
       " 'instance': <gensim.models.keyedvectors.Vocab at 0x1a352a39e8>,\n",
       " 'generated': <gensim.models.keyedvectors.Vocab at 0x1a352a3a20>,\n",
       " 'trees': <gensim.models.keyedvectors.Vocab at 0x1a352a3a58>,\n",
       " 'tree': <gensim.models.keyedvectors.Vocab at 0x1a352a3a90>,\n",
       " 'go': <gensim.models.keyedvectors.Vocab at 0x1a352a3ac8>,\n",
       " 'item': <gensim.models.keyedvectors.Vocab at 0x1a352a3b00>,\n",
       " 'branches': <gensim.models.keyedvectors.Vocab at 0x1a352a3b38>,\n",
       " 'conclusions': <gensim.models.keyedvectors.Vocab at 0x1a352a3b70>,\n",
       " 'target': <gensim.models.keyedvectors.Vocab at 0x1a352a3ba8>,\n",
       " 'leaves': <gensim.models.keyedvectors.Vocab at 0x1a352a3be0>,\n",
       " 'variable': <gensim.models.keyedvectors.Vocab at 0x1a352a3c18>,\n",
       " 'discrete': <gensim.models.keyedvectors.Vocab at 0x1a352a3c50>,\n",
       " 'structures': <gensim.models.keyedvectors.Vocab at 0x1a352a3c88>,\n",
       " 'conjunctions': <gensim.models.keyedvectors.Vocab at 0x1a352a3cc0>,\n",
       " 'lead': <gensim.models.keyedvectors.Vocab at 0x1a352a3cf8>,\n",
       " 'those': <gensim.models.keyedvectors.Vocab at 0x1a352a3d30>,\n",
       " 'numbers': <gensim.models.keyedvectors.Vocab at 0x1a352a3d68>,\n",
       " 'visually': <gensim.models.keyedvectors.Vocab at 0x1a352a3da0>,\n",
       " 'describes': <gensim.models.keyedvectors.Vocab at 0x1a352a3dd8>,\n",
       " 'resulting': <gensim.models.keyedvectors.Vocab at 0x1a352a3e10>,\n",
       " 'association': <gensim.models.keyedvectors.Vocab at 0x1a352a3e48>,\n",
       " 'rules': <gensim.models.keyedvectors.Vocab at 0x1a352a3e80>,\n",
       " 'rule': <gensim.models.keyedvectors.Vocab at 0x1a352a3eb8>,\n",
       " 'variables': <gensim.models.keyedvectors.Vocab at 0x1a352a3ef0>,\n",
       " 'large': <gensim.models.keyedvectors.Vocab at 0x1a352a3f28>,\n",
       " 'strong': <gensim.models.keyedvectors.Vocab at 0x1a352a3f60>,\n",
       " 'discovered': <gensim.models.keyedvectors.Vocab at 0x1a352a3f98>,\n",
       " 'interestingness': <gensim.models.keyedvectors.Vocab at 0x1a352a3fd0>,\n",
       " 'generates': <gensim.models.keyedvectors.Vocab at 0x1a352a7048>,\n",
       " 'analyzes': <gensim.models.keyedvectors.Vocab at 0x1a352a7080>,\n",
       " 'ultimate': <gensim.models.keyedvectors.Vocab at 0x1a352a70b8>,\n",
       " 'assuming': <gensim.models.keyedvectors.Vocab at 0x1a352a70f0>,\n",
       " 'enough': <gensim.models.keyedvectors.Vocab at 0x1a352a7128>,\n",
       " 'help': <gensim.models.keyedvectors.Vocab at 0x1a352a7160>,\n",
       " 'mimic': <gensim.models.keyedvectors.Vocab at 0x1a352a7198>,\n",
       " 'brain': <gensim.models.keyedvectors.Vocab at 0x1a352a71d0>,\n",
       " 'extraction': <gensim.models.keyedvectors.Vocab at 0x1a352a7208>,\n",
       " 'capabilities': <gensim.models.keyedvectors.Vocab at 0x1a352a7240>,\n",
       " 'evolves': <gensim.models.keyedvectors.Vocab at 0x1a352a7278>,\n",
       " 'store': <gensim.models.keyedvectors.Vocab at 0x1a352a72b0>,\n",
       " 'manipulate': <gensim.models.keyedvectors.Vocab at 0x1a352a72e8>,\n",
       " 'apply': <gensim.models.keyedvectors.Vocab at 0x1a352a7320>,\n",
       " 'characteristic': <gensim.models.keyedvectors.Vocab at 0x1a352a7358>,\n",
       " 'utilization': <gensim.models.keyedvectors.Vocab at 0x1a352a7390>,\n",
       " 'relational': <gensim.models.keyedvectors.Vocab at 0x1a352a73c8>,\n",
       " 'collectively': <gensim.models.keyedvectors.Vocab at 0x1a352a7400>,\n",
       " 'captured': <gensim.models.keyedvectors.Vocab at 0x1a352a7438>,\n",
       " 'system': <gensim.models.keyedvectors.Vocab at 0x1a352a7470>,\n",
       " 'contrast': <gensim.models.keyedvectors.Vocab at 0x1a352a74a8>,\n",
       " 'commonly': <gensim.models.keyedvectors.Vocab at 0x1a352a74e0>,\n",
       " 'singular': <gensim.models.keyedvectors.Vocab at 0x1a352a7518>,\n",
       " 'universally': <gensim.models.keyedvectors.Vocab at 0x1a352a7550>,\n",
       " 'immune': <gensim.models.keyedvectors.Vocab at 0x1a352a7588>,\n",
       " 'concept': <gensim.models.keyedvectors.Vocab at 0x1a352a75c0>,\n",
       " 'rakesh': <gensim.models.keyedvectors.Vocab at 0x1a352a75f8>,\n",
       " 'agrawal': <gensim.models.keyedvectors.Vocab at 0x1a352a7630>,\n",
       " 'tomasz': <gensim.models.keyedvectors.Vocab at 0x1a352a7668>,\n",
       " 'imieli': <gensim.models.keyedvectors.Vocab at 0x1a352a76a0>,\n",
       " 'ski': <gensim.models.keyedvectors.Vocab at 0x1a352a76d8>,\n",
       " 'arun': <gensim.models.keyedvectors.Vocab at 0x1a352a7710>,\n",
       " 'swami': <gensim.models.keyedvectors.Vocab at 0x1a352a7748>,\n",
       " 'introduced': <gensim.models.keyedvectors.Vocab at 0x1a352a7780>,\n",
       " 'regularities': <gensim.models.keyedvectors.Vocab at 0x1a352a77b8>,\n",
       " 'products': <gensim.models.keyedvectors.Vocab at 0x1a352a77f0>,\n",
       " 'scale': <gensim.models.keyedvectors.Vocab at 0x1a352a7828>,\n",
       " 'transaction': <gensim.models.keyedvectors.Vocab at 0x1a352a7860>,\n",
       " 'recorded': <gensim.models.keyedvectors.Vocab at 0x1a352a7898>,\n",
       " 'point': <gensim.models.keyedvectors.Vocab at 0x1a352a78d0>,\n",
       " 'sale': <gensim.models.keyedvectors.Vocab at 0x1a352a7908>,\n",
       " 'pos': <gensim.models.keyedvectors.Vocab at 0x1a352a7940>,\n",
       " 'supermarkets': <gensim.models.keyedvectors.Vocab at 0x1a352a7978>,\n",
       " 'o': <gensim.models.keyedvectors.Vocab at 0x1a352a79b0>,\n",
       " 'n': <gensim.models.keyedvectors.Vocab at 0x1a352a79e8>,\n",
       " 'b': <gensim.models.keyedvectors.Vocab at 0x1a352a7a20>,\n",
       " 'u': <gensim.models.keyedvectors.Vocab at 0x1a352a7a58>,\n",
       " 'r': <gensim.models.keyedvectors.Vocab at 0x1a352a7a90>,\n",
       " 'g': <gensim.models.keyedvectors.Vocab at 0x1a352a7ac8>,\n",
       " 'displaystyle': <gensim.models.keyedvectors.Vocab at 0x1a352a7b00>,\n",
       " 'mathrm': <gensim.models.keyedvectors.Vocab at 0x1a352a7b38>,\n",
       " 'onions': <gensim.models.keyedvectors.Vocab at 0x1a352a7b70>,\n",
       " 'potatoes': <gensim.models.keyedvectors.Vocab at 0x1a352a7ba8>,\n",
       " 'rightarrow': <gensim.models.keyedvectors.Vocab at 0x1a352a7be0>,\n",
       " 'burger': <gensim.models.keyedvectors.Vocab at 0x1a352a7c18>,\n",
       " 'sales': <gensim.models.keyedvectors.Vocab at 0x1a352a7c50>,\n",
       " 'supermarket': <gensim.models.keyedvectors.Vocab at 0x1a352a7c88>,\n",
       " 'indicate': <gensim.models.keyedvectors.Vocab at 0x1a352a7cc0>,\n",
       " 'customer': <gensim.models.keyedvectors.Vocab at 0x1a352a7cf8>,\n",
       " 'buys': <gensim.models.keyedvectors.Vocab at 0x1a352a7d30>,\n",
       " 'together': <gensim.models.keyedvectors.Vocab at 0x1a352a7d68>,\n",
       " 'likely': <gensim.models.keyedvectors.Vocab at 0x1a352a7da0>,\n",
       " 'buy': <gensim.models.keyedvectors.Vocab at 0x1a352a7dd8>,\n",
       " 'hamburger': <gensim.models.keyedvectors.Vocab at 0x1a352a7e10>,\n",
       " 'meat': <gensim.models.keyedvectors.Vocab at 0x1a352a7e48>,\n",
       " 'marketing': <gensim.models.keyedvectors.Vocab at 0x1a352a7e80>,\n",
       " 'activities': <gensim.models.keyedvectors.Vocab at 0x1a352a7eb8>,\n",
       " 'promotional': <gensim.models.keyedvectors.Vocab at 0x1a352a7ef0>,\n",
       " 'pricing': <gensim.models.keyedvectors.Vocab at 0x1a352a7f28>,\n",
       " 'product': <gensim.models.keyedvectors.Vocab at 0x1a352a7f60>,\n",
       " 'placements': <gensim.models.keyedvectors.Vocab at 0x1a352a7f98>,\n",
       " 'market': <gensim.models.keyedvectors.Vocab at 0x1a352a7fd0>,\n",
       " 'basket': <gensim.models.keyedvectors.Vocab at 0x1a352aa048>,\n",
       " 'today': <gensim.models.keyedvectors.Vocab at 0x1a352aa080>,\n",
       " 'areas': <gensim.models.keyedvectors.Vocab at 0x1a352aa0b8>,\n",
       " 'web': <gensim.models.keyedvectors.Vocab at 0x1a352aa0f0>,\n",
       " 'usage': <gensim.models.keyedvectors.Vocab at 0x1a352aa128>,\n",
       " 'production': <gensim.models.keyedvectors.Vocab at 0x1a352aa160>,\n",
       " 'bioinformatics': <gensim.models.keyedvectors.Vocab at 0x1a352aa198>,\n",
       " 'sequence': <gensim.models.keyedvectors.Vocab at 0x1a352aa1d0>,\n",
       " 'consider': <gensim.models.keyedvectors.Vocab at 0x1a352aa208>,\n",
       " 'transactions': <gensim.models.keyedvectors.Vocab at 0x1a352aa240>,\n",
       " 'lcs': <gensim.models.keyedvectors.Vocab at 0x1a352aa278>,\n",
       " 'family': <gensim.models.keyedvectors.Vocab at 0x1a352aa2b0>,\n",
       " 'combine': <gensim.models.keyedvectors.Vocab at 0x1a352aa2e8>,\n",
       " 'seek': <gensim.models.keyedvectors.Vocab at 0x1a352aa320>,\n",
       " 'dependent': <gensim.models.keyedvectors.Vocab at 0x1a352aa358>,\n",
       " 'piecewise': <gensim.models.keyedvectors.Vocab at 0x1a352aa390>,\n",
       " 'manner': <gensim.models.keyedvectors.Vocab at 0x1a352aa3c8>,\n",
       " ...}"
      ]
     },
     "execution_count": 31,
     "metadata": {},
     "output_type": "execute_result"
    }
   ],
   "source": [
    "# Getting the Vocabulary of the model\n",
    "model.wv.vocab"
   ]
  },
  {
   "cell_type": "markdown",
   "metadata": {
    "colab_type": "text",
    "id": "XxUuShBTRaYH"
   },
   "source": [
    "#### Check how many words in the model"
   ]
  },
  {
   "cell_type": "code",
   "execution_count": 32,
   "metadata": {
    "colab": {},
    "colab_type": "code",
    "id": "S4lMhzWlRamw"
   },
   "outputs": [
    {
     "name": "stderr",
     "output_type": "stream",
     "text": [
      "/anaconda3/lib/python3.6/site-packages/ipykernel_launcher.py:2: DeprecationWarning: Call to deprecated `syn0` (Attribute will be removed in 4.0.0, use self.vectors instead).\n",
      "  \n"
     ]
    },
    {
     "data": {
      "text/plain": [
       "(4448, 50)"
      ]
     },
     "execution_count": 32,
     "metadata": {},
     "output_type": "execute_result"
    }
   ],
   "source": [
    "#Model size\n",
    "model.wv.syn0.shape"
   ]
  },
  {
   "cell_type": "markdown",
   "metadata": {
    "colab_type": "text",
    "id": "KshrfDklReIl"
   },
   "source": [
    "### Get an embedding for word `SVM`"
   ]
  },
  {
   "cell_type": "code",
   "execution_count": 33,
   "metadata": {
    "colab": {},
    "colab_type": "code",
    "id": "YiwT1OjARg6e"
   },
   "outputs": [
    {
     "data": {
      "text/plain": [
       "array([ 2.8949678e-01,  9.1543978e-01, -8.2599699e-01,  1.2039758e-03,\n",
       "        2.1909651e-01,  3.2963219e-01, -8.0311678e-02, -1.3865298e+00,\n",
       "       -4.3633288e-01,  1.2381507e+00,  5.8859140e-01, -7.5110483e-01,\n",
       "       -1.0643701e-01,  4.6929082e-01, -1.0363764e+00,  1.1512121e+00,\n",
       "        4.1491702e-01, -1.0765388e-01,  6.0462046e-01, -2.8732920e-01,\n",
       "       -3.3054805e-01, -8.4095389e-02, -6.5559804e-01, -6.8883240e-01,\n",
       "       -1.0907130e+00, -2.3869409e-01, -6.1606234e-01,  9.5889620e-02,\n",
       "       -3.2280862e-01, -1.9918233e-01, -4.0791675e-02,  9.4369280e-01,\n",
       "        1.2534849e-01,  3.0088690e-01,  1.6503152e-01, -9.5337725e-01,\n",
       "       -1.5188988e-01, -4.1021609e-01, -7.2773093e-01,  7.5229919e-01,\n",
       "       -6.4770532e-01, -5.2575636e-01, -1.3623194e+00, -1.1197737e+00,\n",
       "        3.6932148e-02,  9.6105039e-01, -1.2825395e+00, -9.2610039e-02,\n",
       "       -1.4016346e+00, -7.9413384e-02], dtype=float32)"
      ]
     },
     "execution_count": 33,
     "metadata": {},
     "output_type": "execute_result"
    }
   ],
   "source": [
    "# Getting the embedding for word 'SVM'\n",
    "model.wv['svm']"
   ]
  },
  {
   "cell_type": "markdown",
   "metadata": {
    "colab_type": "text",
    "id": "7COLA1LzRhTj"
   },
   "source": [
    "### Finding most similar words for word `learning`"
   ]
  },
  {
   "cell_type": "code",
   "execution_count": 34,
   "metadata": {
    "colab": {},
    "colab_type": "code",
    "id": "tEsMKWY6Ri3n"
   },
   "outputs": [
    {
     "data": {
      "text/plain": [
       "[('machine', 0.9971202611923218),\n",
       " ('belief', 0.9971135854721069),\n",
       " ('supervised', 0.9964008331298828),\n",
       " ('projects', 0.9961934089660645),\n",
       " ('deep', 0.9958099126815796),\n",
       " ('algorithms', 0.994862973690033),\n",
       " ('neural', 0.9947255253791809),\n",
       " ('networks', 0.9945749044418335),\n",
       " ('types', 0.9927117824554443),\n",
       " ('automata', 0.991909384727478)]"
      ]
     },
     "execution_count": 34,
     "metadata": {},
     "output_type": "execute_result"
    }
   ],
   "source": [
    "# Finding similar words for 'learning'\n",
    "model.wv.most_similar('learning')"
   ]
  },
  {
   "cell_type": "markdown",
   "metadata": {
    "colab_type": "text",
    "id": "K8QjNuDKRlvt"
   },
   "source": [
    "### Find the word which is not like others from `machine, svm, ball, learning`"
   ]
  },
  {
   "cell_type": "code",
   "execution_count": 35,
   "metadata": {
    "colab": {},
    "colab_type": "code",
    "id": "oBudwDHtRl3u"
   },
   "outputs": [
    {
     "name": "stderr",
     "output_type": "stream",
     "text": [
      "/anaconda3/lib/python3.6/site-packages/ipykernel_launcher.py:1: DeprecationWarning: Call to deprecated `doesnt_match` (Method will be removed in 4.0.0, use self.wv.doesnt_match() instead).\n",
      "  \"\"\"Entry point for launching an IPython kernel.\n"
     ]
    },
    {
     "data": {
      "text/plain": [
       "'ball'"
      ]
     },
     "execution_count": 35,
     "metadata": {},
     "output_type": "execute_result"
    }
   ],
   "source": [
    "model.doesnt_match(\"machine svm ball learning\".split())"
   ]
  },
  {
   "cell_type": "markdown",
   "metadata": {
    "colab_type": "text",
    "id": "cjNQ0yMNRn6D"
   },
   "source": [
    "### Save the model with name `word2vec-wiki-10`"
   ]
  },
  {
   "cell_type": "code",
   "execution_count": 36,
   "metadata": {
    "colab": {},
    "colab_type": "code",
    "id": "bynMebY5RoLn"
   },
   "outputs": [],
   "source": [
    "# Saving the model\n",
    "model.save('word2vec-wiki-10')"
   ]
  },
  {
   "cell_type": "markdown",
   "metadata": {
    "colab_type": "text",
    "id": "cDeem0T5RqTn"
   },
   "source": [
    "### Load the model `word2vec-wiki-10`"
   ]
  },
  {
   "cell_type": "code",
   "execution_count": 37,
   "metadata": {
    "colab": {},
    "colab_type": "code",
    "id": "VJJk04KfRqen"
   },
   "outputs": [],
   "source": [
    "#Load model from memory\n",
    "model = gensim.models.Word2Vec.load('word2vec-wiki-10')"
   ]
  },
  {
   "cell_type": "code",
   "execution_count": 38,
   "metadata": {},
   "outputs": [
    {
     "name": "stderr",
     "output_type": "stream",
     "text": [
      "/anaconda3/lib/python3.6/site-packages/ipykernel_launcher.py:2: DeprecationWarning: Call to deprecated `most_similar` (Method will be removed in 4.0.0, use self.wv.most_similar() instead).\n",
      "  \n"
     ]
    },
    {
     "data": {
      "text/plain": [
       "[('belief', 0.9969014525413513),\n",
       " ('projects', 0.9955365657806396),\n",
       " ('supervised', 0.9933946132659912),\n",
       " ('deep', 0.9929084777832031),\n",
       " ('neural', 0.9917717576026917),\n",
       " ('networks', 0.9915245175361633),\n",
       " ('automata', 0.9888770580291748),\n",
       " ('types', 0.988656759262085),\n",
       " ('variety', 0.9877066016197205),\n",
       " ('learns', 0.9855288863182068)]"
      ]
     },
     "execution_count": 38,
     "metadata": {},
     "output_type": "execute_result"
    }
   ],
   "source": [
    "# Finding some similarity\n",
    "model.most_similar(positive=['machine','learning'], negative=['algorithms'])"
   ]
  },
  {
   "cell_type": "code",
   "execution_count": null,
   "metadata": {},
   "outputs": [],
   "source": []
  }
 ],
 "metadata": {
  "colab": {
   "collapsed_sections": [],
   "name": "R7_ExternalLab_Questions.ipynb",
   "provenance": [],
   "version": "0.3.2"
  },
  "kernelspec": {
   "display_name": "Python 3",
   "language": "python",
   "name": "python3"
  },
  "language_info": {
   "codemirror_mode": {
    "name": "ipython",
    "version": 3
   },
   "file_extension": ".py",
   "mimetype": "text/x-python",
   "name": "python",
   "nbconvert_exporter": "python",
   "pygments_lexer": "ipython3",
   "version": "3.6.5"
  }
 },
 "nbformat": 4,
 "nbformat_minor": 2
}
