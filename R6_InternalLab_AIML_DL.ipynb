{
 "cells": [
  {
   "cell_type": "code",
   "execution_count": 1,
   "metadata": {
    "colab": {},
    "colab_type": "code",
    "id": "CEE4rTQzVzgP"
   },
   "outputs": [
    {
     "name": "stderr",
     "output_type": "stream",
     "text": [
      "C:\\Users\\SRM\\Anaconda3\\lib\\site-packages\\h5py\\__init__.py:36: FutureWarning: Conversion of the second argument of issubdtype from `float` to `np.floating` is deprecated. In future, it will be treated as `np.float64 == np.dtype(float).type`.\n",
      "  from ._conv import register_converters as _register_converters\n"
     ]
    }
   ],
   "source": [
    "import tensorflow as tf\n",
    "tf.reset_default_graph()"
   ]
  },
  {
   "cell_type": "markdown",
   "metadata": {
    "colab_type": "text",
    "id": "TIMj9Ka1WWNp"
   },
   "source": [
    "# **Colect Data**"
   ]
  },
  {
   "cell_type": "code",
   "execution_count": 2,
   "metadata": {
    "colab": {},
    "colab_type": "code",
    "id": "CUEL6On3Wk-s"
   },
   "outputs": [],
   "source": [
    "import pandas as pd\n",
    "from sklearn import datasets, linear_model\n",
    "from sklearn.model_selection import train_test_split\n",
    "from matplotlib import pyplot as plt"
   ]
  },
  {
   "cell_type": "code",
   "execution_count": 4,
   "metadata": {
    "colab": {
     "base_uri": "https://localhost:8080/",
     "height": 204
    },
    "colab_type": "code",
    "executionInfo": {
     "elapsed": 3909,
     "status": "ok",
     "timestamp": 1547985624464,
     "user": {
      "displayName": "sairam janakiraman",
      "photoUrl": "",
      "userId": "11677302178638953515"
     },
     "user_tz": -330
    },
    "id": "sgV65QrjWvc7",
    "outputId": "fe6881cf-81b1-49e3-e915-d5e1e8676e7e"
   },
   "outputs": [
    {
     "data": {
      "text/html": [
       "<div>\n",
       "<style scoped>\n",
       "    .dataframe tbody tr th:only-of-type {\n",
       "        vertical-align: middle;\n",
       "    }\n",
       "\n",
       "    .dataframe tbody tr th {\n",
       "        vertical-align: top;\n",
       "    }\n",
       "\n",
       "    .dataframe thead th {\n",
       "        text-align: right;\n",
       "    }\n",
       "</style>\n",
       "<table border=\"1\" class=\"dataframe\">\n",
       "  <thead>\n",
       "    <tr style=\"text-align: right;\">\n",
       "      <th></th>\n",
       "      <th>date</th>\n",
       "      <th>symbol</th>\n",
       "      <th>open</th>\n",
       "      <th>close</th>\n",
       "      <th>low</th>\n",
       "      <th>high</th>\n",
       "      <th>volume</th>\n",
       "    </tr>\n",
       "  </thead>\n",
       "  <tbody>\n",
       "    <tr>\n",
       "      <th>0</th>\n",
       "      <td>2016-01-05 00:00:00</td>\n",
       "      <td>WLTW</td>\n",
       "      <td>123.430000</td>\n",
       "      <td>125.839996</td>\n",
       "      <td>122.309998</td>\n",
       "      <td>126.250000</td>\n",
       "      <td>2163600.0</td>\n",
       "    </tr>\n",
       "    <tr>\n",
       "      <th>1</th>\n",
       "      <td>2016-01-06 00:00:00</td>\n",
       "      <td>WLTW</td>\n",
       "      <td>125.239998</td>\n",
       "      <td>119.980003</td>\n",
       "      <td>119.940002</td>\n",
       "      <td>125.540001</td>\n",
       "      <td>2386400.0</td>\n",
       "    </tr>\n",
       "    <tr>\n",
       "      <th>2</th>\n",
       "      <td>2016-01-07 00:00:00</td>\n",
       "      <td>WLTW</td>\n",
       "      <td>116.379997</td>\n",
       "      <td>114.949997</td>\n",
       "      <td>114.930000</td>\n",
       "      <td>119.739998</td>\n",
       "      <td>2489500.0</td>\n",
       "    </tr>\n",
       "    <tr>\n",
       "      <th>3</th>\n",
       "      <td>2016-01-08 00:00:00</td>\n",
       "      <td>WLTW</td>\n",
       "      <td>115.480003</td>\n",
       "      <td>116.620003</td>\n",
       "      <td>113.500000</td>\n",
       "      <td>117.440002</td>\n",
       "      <td>2006300.0</td>\n",
       "    </tr>\n",
       "    <tr>\n",
       "      <th>4</th>\n",
       "      <td>2016-01-11 00:00:00</td>\n",
       "      <td>WLTW</td>\n",
       "      <td>117.010002</td>\n",
       "      <td>114.970001</td>\n",
       "      <td>114.089996</td>\n",
       "      <td>117.330002</td>\n",
       "      <td>1408600.0</td>\n",
       "    </tr>\n",
       "  </tbody>\n",
       "</table>\n",
       "</div>"
      ],
      "text/plain": [
       "                  date symbol        open       close         low        high  \\\n",
       "0  2016-01-05 00:00:00   WLTW  123.430000  125.839996  122.309998  126.250000   \n",
       "1  2016-01-06 00:00:00   WLTW  125.239998  119.980003  119.940002  125.540001   \n",
       "2  2016-01-07 00:00:00   WLTW  116.379997  114.949997  114.930000  119.739998   \n",
       "3  2016-01-08 00:00:00   WLTW  115.480003  116.620003  113.500000  117.440002   \n",
       "4  2016-01-11 00:00:00   WLTW  117.010002  114.970001  114.089996  117.330002   \n",
       "\n",
       "      volume  \n",
       "0  2163600.0  \n",
       "1  2386400.0  \n",
       "2  2489500.0  \n",
       "3  2006300.0  \n",
       "4  1408600.0  "
      ]
     },
     "execution_count": 4,
     "metadata": {},
     "output_type": "execute_result"
    }
   ],
   "source": [
    "prices_df = pd.read_csv('./prices.csv')\n",
    "prices_df.head(5)"
   ]
  },
  {
   "cell_type": "code",
   "execution_count": 5,
   "metadata": {},
   "outputs": [
    {
     "name": "stdout",
     "output_type": "stream",
     "text": [
      "<class 'pandas.core.frame.DataFrame'>\n",
      "RangeIndex: 851264 entries, 0 to 851263\n",
      "Data columns (total 7 columns):\n",
      "date      851264 non-null object\n",
      "symbol    851264 non-null object\n",
      "open      851264 non-null float64\n",
      "close     851264 non-null float64\n",
      "low       851264 non-null float64\n",
      "high      851264 non-null float64\n",
      "volume    851264 non-null float64\n",
      "dtypes: float64(5), object(2)\n",
      "memory usage: 45.5+ MB\n"
     ]
    }
   ],
   "source": [
    "prices_df.info()"
   ]
  },
  {
   "cell_type": "code",
   "execution_count": 6,
   "metadata": {
    "colab": {
     "base_uri": "https://localhost:8080/",
     "height": 153
    },
    "colab_type": "code",
    "executionInfo": {
     "elapsed": 3877,
     "status": "ok",
     "timestamp": 1547985624464,
     "user": {
      "displayName": "sairam janakiraman",
      "photoUrl": "",
      "userId": "11677302178638953515"
     },
     "user_tz": -330
    },
    "id": "X9-dYa0pbkcU",
    "outputId": "8306b36b-edd2-46d2-ebe0-2a49f234d177"
   },
   "outputs": [
    {
     "data": {
      "text/html": [
       "<div>\n",
       "<style scoped>\n",
       "    .dataframe tbody tr th:only-of-type {\n",
       "        vertical-align: middle;\n",
       "    }\n",
       "\n",
       "    .dataframe tbody tr th {\n",
       "        vertical-align: top;\n",
       "    }\n",
       "\n",
       "    .dataframe thead th {\n",
       "        text-align: right;\n",
       "    }\n",
       "</style>\n",
       "<table border=\"1\" class=\"dataframe\">\n",
       "  <thead>\n",
       "    <tr style=\"text-align: right;\">\n",
       "      <th></th>\n",
       "      <th>open</th>\n",
       "      <th>close</th>\n",
       "      <th>low</th>\n",
       "      <th>high</th>\n",
       "      <th>volume</th>\n",
       "    </tr>\n",
       "  </thead>\n",
       "  <tbody>\n",
       "    <tr>\n",
       "      <th>count</th>\n",
       "      <td>851264.000000</td>\n",
       "      <td>851264.000000</td>\n",
       "      <td>851264.000000</td>\n",
       "      <td>851264.000000</td>\n",
       "      <td>8.512640e+05</td>\n",
       "    </tr>\n",
       "    <tr>\n",
       "      <th>mean</th>\n",
       "      <td>70.836986</td>\n",
       "      <td>70.857109</td>\n",
       "      <td>70.118414</td>\n",
       "      <td>71.543476</td>\n",
       "      <td>5.415113e+06</td>\n",
       "    </tr>\n",
       "    <tr>\n",
       "      <th>std</th>\n",
       "      <td>83.695876</td>\n",
       "      <td>83.689686</td>\n",
       "      <td>82.877294</td>\n",
       "      <td>84.465504</td>\n",
       "      <td>1.249468e+07</td>\n",
       "    </tr>\n",
       "    <tr>\n",
       "      <th>min</th>\n",
       "      <td>0.850000</td>\n",
       "      <td>0.860000</td>\n",
       "      <td>0.830000</td>\n",
       "      <td>0.880000</td>\n",
       "      <td>0.000000e+00</td>\n",
       "    </tr>\n",
       "    <tr>\n",
       "      <th>25%</th>\n",
       "      <td>33.840000</td>\n",
       "      <td>33.849998</td>\n",
       "      <td>33.480000</td>\n",
       "      <td>34.189999</td>\n",
       "      <td>1.221500e+06</td>\n",
       "    </tr>\n",
       "    <tr>\n",
       "      <th>50%</th>\n",
       "      <td>52.770000</td>\n",
       "      <td>52.799999</td>\n",
       "      <td>52.230000</td>\n",
       "      <td>53.310001</td>\n",
       "      <td>2.476250e+06</td>\n",
       "    </tr>\n",
       "    <tr>\n",
       "      <th>75%</th>\n",
       "      <td>79.879997</td>\n",
       "      <td>79.889999</td>\n",
       "      <td>79.110001</td>\n",
       "      <td>80.610001</td>\n",
       "      <td>5.222500e+06</td>\n",
       "    </tr>\n",
       "    <tr>\n",
       "      <th>max</th>\n",
       "      <td>1584.439941</td>\n",
       "      <td>1578.130005</td>\n",
       "      <td>1549.939941</td>\n",
       "      <td>1600.930054</td>\n",
       "      <td>8.596434e+08</td>\n",
       "    </tr>\n",
       "  </tbody>\n",
       "</table>\n",
       "</div>"
      ],
      "text/plain": [
       "                open          close            low           high  \\\n",
       "count  851264.000000  851264.000000  851264.000000  851264.000000   \n",
       "mean       70.836986      70.857109      70.118414      71.543476   \n",
       "std        83.695876      83.689686      82.877294      84.465504   \n",
       "min         0.850000       0.860000       0.830000       0.880000   \n",
       "25%        33.840000      33.849998      33.480000      34.189999   \n",
       "50%        52.770000      52.799999      52.230000      53.310001   \n",
       "75%        79.879997      79.889999      79.110001      80.610001   \n",
       "max      1584.439941    1578.130005    1549.939941    1600.930054   \n",
       "\n",
       "             volume  \n",
       "count  8.512640e+05  \n",
       "mean   5.415113e+06  \n",
       "std    1.249468e+07  \n",
       "min    0.000000e+00  \n",
       "25%    1.221500e+06  \n",
       "50%    2.476250e+06  \n",
       "75%    5.222500e+06  \n",
       "max    8.596434e+08  "
      ]
     },
     "execution_count": 6,
     "metadata": {},
     "output_type": "execute_result"
    }
   ],
   "source": [
    "prices_df.describe()"
   ]
  },
  {
   "cell_type": "markdown",
   "metadata": {},
   "source": [
    "# Check all columns in the dataset\n"
   ]
  },
  {
   "cell_type": "code",
   "execution_count": 7,
   "metadata": {},
   "outputs": [
    {
     "data": {
      "text/plain": [
       "Index(['date', 'symbol', 'open', 'close', 'low', 'high', 'volume'], dtype='object')"
      ]
     },
     "execution_count": 7,
     "metadata": {},
     "output_type": "execute_result"
    }
   ],
   "source": [
    "prices_df.columns"
   ]
  },
  {
   "cell_type": "markdown",
   "metadata": {},
   "source": [
    "# Drop columns date and symbol\n"
   ]
  },
  {
   "cell_type": "code",
   "execution_count": 8,
   "metadata": {},
   "outputs": [],
   "source": [
    "prices_df.drop(['date', 'symbol'],axis=1,inplace=True)"
   ]
  },
  {
   "cell_type": "code",
   "execution_count": 9,
   "metadata": {},
   "outputs": [
    {
     "data": {
      "text/html": [
       "<div>\n",
       "<style scoped>\n",
       "    .dataframe tbody tr th:only-of-type {\n",
       "        vertical-align: middle;\n",
       "    }\n",
       "\n",
       "    .dataframe tbody tr th {\n",
       "        vertical-align: top;\n",
       "    }\n",
       "\n",
       "    .dataframe thead th {\n",
       "        text-align: right;\n",
       "    }\n",
       "</style>\n",
       "<table border=\"1\" class=\"dataframe\">\n",
       "  <thead>\n",
       "    <tr style=\"text-align: right;\">\n",
       "      <th></th>\n",
       "      <th>open</th>\n",
       "      <th>close</th>\n",
       "      <th>low</th>\n",
       "      <th>high</th>\n",
       "      <th>volume</th>\n",
       "    </tr>\n",
       "  </thead>\n",
       "  <tbody>\n",
       "    <tr>\n",
       "      <th>0</th>\n",
       "      <td>123.430000</td>\n",
       "      <td>125.839996</td>\n",
       "      <td>122.309998</td>\n",
       "      <td>126.250000</td>\n",
       "      <td>2163600.0</td>\n",
       "    </tr>\n",
       "    <tr>\n",
       "      <th>1</th>\n",
       "      <td>125.239998</td>\n",
       "      <td>119.980003</td>\n",
       "      <td>119.940002</td>\n",
       "      <td>125.540001</td>\n",
       "      <td>2386400.0</td>\n",
       "    </tr>\n",
       "    <tr>\n",
       "      <th>2</th>\n",
       "      <td>116.379997</td>\n",
       "      <td>114.949997</td>\n",
       "      <td>114.930000</td>\n",
       "      <td>119.739998</td>\n",
       "      <td>2489500.0</td>\n",
       "    </tr>\n",
       "    <tr>\n",
       "      <th>3</th>\n",
       "      <td>115.480003</td>\n",
       "      <td>116.620003</td>\n",
       "      <td>113.500000</td>\n",
       "      <td>117.440002</td>\n",
       "      <td>2006300.0</td>\n",
       "    </tr>\n",
       "    <tr>\n",
       "      <th>4</th>\n",
       "      <td>117.010002</td>\n",
       "      <td>114.970001</td>\n",
       "      <td>114.089996</td>\n",
       "      <td>117.330002</td>\n",
       "      <td>1408600.0</td>\n",
       "    </tr>\n",
       "  </tbody>\n",
       "</table>\n",
       "</div>"
      ],
      "text/plain": [
       "         open       close         low        high     volume\n",
       "0  123.430000  125.839996  122.309998  126.250000  2163600.0\n",
       "1  125.239998  119.980003  119.940002  125.540001  2386400.0\n",
       "2  116.379997  114.949997  114.930000  119.739998  2489500.0\n",
       "3  115.480003  116.620003  113.500000  117.440002  2006300.0\n",
       "4  117.010002  114.970001  114.089996  117.330002  1408600.0"
      ]
     },
     "execution_count": 9,
     "metadata": {},
     "output_type": "execute_result"
    }
   ],
   "source": [
    "prices_df.head()"
   ]
  },
  {
   "cell_type": "code",
   "execution_count": 10,
   "metadata": {},
   "outputs": [
    {
     "name": "stdout",
     "output_type": "stream",
     "text": [
      "open      0\n",
      "close     0\n",
      "low       0\n",
      "high      0\n",
      "volume    0\n",
      "dtype: int64\n"
     ]
    }
   ],
   "source": [
    "print(prices_df.isnull().sum())"
   ]
  },
  {
   "cell_type": "markdown",
   "metadata": {
    "colab_type": "text",
    "id": "VXu50aSddXXk"
   },
   "source": [
    "### Consider only first 1000 rows in the dataset for building feature set and target set\n"
   ]
  },
  {
   "cell_type": "code",
   "execution_count": 11,
   "metadata": {
    "colab": {},
    "colab_type": "code",
    "id": "xyevzcFMbkxp"
   },
   "outputs": [],
   "source": [
    "prices_df_new=prices_df.head(1000)"
   ]
  },
  {
   "cell_type": "code",
   "execution_count": 12,
   "metadata": {
    "colab": {},
    "colab_type": "code",
    "id": "ws1iUoW1bk21"
   },
   "outputs": [],
   "source": [
    "y = prices_df_new['close']"
   ]
  },
  {
   "cell_type": "code",
   "execution_count": 13,
   "metadata": {
    "colab": {},
    "colab_type": "code",
    "id": "7g0d_WIGbk6Q"
   },
   "outputs": [],
   "source": [
    "prices_df_new = prices_df_new.drop(['close'], axis=1)"
   ]
  },
  {
   "cell_type": "code",
   "execution_count": 14,
   "metadata": {
    "colab": {},
    "colab_type": "code",
    "id": "qrfumuP7bk_b"
   },
   "outputs": [],
   "source": [
    "X = prices_df_new"
   ]
  },
  {
   "cell_type": "code",
   "execution_count": 16,
   "metadata": {
    "colab": {
     "base_uri": "https://localhost:8080/",
     "height": 51
    },
    "colab_type": "code",
    "executionInfo": {
     "elapsed": 3797,
     "status": "ok",
     "timestamp": 1547985624475,
     "user": {
      "displayName": "sairam janakiraman",
      "photoUrl": "",
      "userId": "11677302178638953515"
     },
     "user_tz": -330
    },
    "id": "VGV8idRyew1K",
    "outputId": "2188cf55-9ddb-4157-8428-5edd07d3b12c"
   },
   "outputs": [
    {
     "name": "stdout",
     "output_type": "stream",
     "text": [
      "(800, 4) (800,)\n",
      "(200, 4) (200,)\n"
     ]
    }
   ],
   "source": [
    "# Split  training and testing from data\n",
    "X_train, X_test, y_train, y_test = train_test_split(prices_df_new, y, test_size=0.2)\n",
    "print(X_train.shape, y_train.shape)\n",
    "print (X_test.shape, y_test.shape)"
   ]
  },
  {
   "cell_type": "markdown",
   "metadata": {
    "colab_type": "text",
    "id": "EkLhsCG_hC2C"
   },
   "source": [
    "## Building the graph in tensorflow"
   ]
  },
  {
   "cell_type": "code",
   "execution_count": 17,
   "metadata": {
    "colab": {},
    "colab_type": "code",
    "id": "qURpNRe7f2YS"
   },
   "outputs": [],
   "source": [
    "# Define Input place holder\n",
    "#Input features\n",
    "x = tf.placeholder(shape=[None,4],dtype=tf.float32, name='x-input')\n",
    "\n",
    "x_n = tf.layers.batch_normalization(x, training=True)\n",
    "\n",
    "#Actual Prices\n",
    "y_ = tf.placeholder(shape=[None],dtype=tf.float32, name='y-input')"
   ]
  },
  {
   "cell_type": "code",
   "execution_count": 18,
   "metadata": {
    "colab": {},
    "colab_type": "code",
    "id": "E5cNKaW0hBdF"
   },
   "outputs": [],
   "source": [
    "# Define Weights and Bias\n",
    "\n",
    "W = tf.Variable(tf.zeros(shape=[4,1]), name=\"Weights\")\n",
    "b = tf.Variable(tf.zeros(shape=[1]), name=\"Bias\")"
   ]
  },
  {
   "cell_type": "code",
   "execution_count": 19,
   "metadata": {
    "colab": {},
    "colab_type": "code",
    "id": "wcwJWI6ChBfa"
   },
   "outputs": [],
   "source": [
    "# Prediction \n",
    "y = tf.add(tf.matmul(x_n,W),b,name='output')"
   ]
  },
  {
   "cell_type": "code",
   "execution_count": 20,
   "metadata": {
    "colab": {},
    "colab_type": "code",
    "id": "GGtxTZoshBiH"
   },
   "outputs": [],
   "source": [
    "# Loss (Cost) function [Mean square error]\n",
    "\n",
    "loss = tf.reduce_mean(tf.square(y-y_),name='Loss')"
   ]
  },
  {
   "cell_type": "code",
   "execution_count": 21,
   "metadata": {
    "colab": {},
    "colab_type": "code",
    "id": "3umPHz3_hBks"
   },
   "outputs": [],
   "source": [
    "# GradientDescent Optimizer to minimize Loss [GradientDescentOptimizer]\n",
    "train_op = tf.train.GradientDescentOptimizer(0.01).minimize(loss)"
   ]
  },
  {
   "cell_type": "markdown",
   "metadata": {
    "colab_type": "text",
    "id": "wsk1XAMHkQcA"
   },
   "source": [
    "## Execute the Graph for 100 epochs and observe the loss\n"
   ]
  },
  {
   "cell_type": "code",
   "execution_count": 22,
   "metadata": {
    "colab": {},
    "colab_type": "code",
    "id": "Ibjtj2E0jgar"
   },
   "outputs": [],
   "source": [
    "#Lets start graph Execution\n",
    "sess = tf.Session()\n",
    "\n",
    "# variables need to be initialized before we can use them\n",
    "sess.run(tf.global_variables_initializer())\n",
    "\n",
    "#how many times data need to be shown to model\n",
    "training_epochs = 100"
   ]
  },
  {
   "cell_type": "code",
   "execution_count": 23,
   "metadata": {
    "colab": {
     "base_uri": "https://localhost:8080/",
     "height": 187
    },
    "colab_type": "code",
    "executionInfo": {
     "elapsed": 6096,
     "status": "ok",
     "timestamp": 1547985626855,
     "user": {
      "displayName": "sairam janakiraman",
      "photoUrl": "",
      "userId": "11677302178638953515"
     },
     "user_tz": -330
    },
    "id": "DmhpfXKljgei",
    "outputId": "bd71cc92-4baa-4bb4-c196-b2d1b67a5a53"
   },
   "outputs": [
    {
     "name": "stdout",
     "output_type": "stream",
     "text": [
      "Training loss at step:  0  is  8454.285\n",
      "Training loss at step:  10  is  6900.1006\n",
      "Training loss at step:  20  is  5324.4126\n",
      "Training loss at step:  30  is  3779.3936\n",
      "Training loss at step:  40  is  3779.1953\n",
      "Training loss at step:  50  is  3779.0796\n",
      "Training loss at step:  60  is  3778.9973\n",
      "Training loss at step:  70  is  3778.9543\n",
      "Training loss at step:  80  is  3778.932\n",
      "Training loss at step:  90  is  3778.9087\n"
     ]
    }
   ],
   "source": [
    "for epoch in range(training_epochs):\n",
    "            \n",
    "    #Calculate train_op and loss\n",
    "    _, train_loss = sess.run([train_op, loss],feed_dict={x:X_train, \n",
    "                                                        y_:y_train})\n",
    "    \n",
    "    if epoch % 10 == 0:\n",
    "        print ('Training loss at step: ', epoch, ' is ', train_loss)"
   ]
  },
  {
   "cell_type": "markdown",
   "metadata": {
    "colab_type": "text",
    "id": "1qW6H0S7msws"
   },
   "source": [
    "## **Get the shapes and values of W and b**\n",
    "Hint: Use sess.run(W) to get W."
   ]
  },
  {
   "cell_type": "code",
   "execution_count": 24,
   "metadata": {
    "colab": {
     "base_uri": "https://localhost:8080/",
     "height": 34
    },
    "colab_type": "code",
    "executionInfo": {
     "elapsed": 6084,
     "status": "ok",
     "timestamp": 1547985626855,
     "user": {
      "displayName": "sairam janakiraman",
      "photoUrl": "",
      "userId": "11677302178638953515"
     },
     "user_tz": -330
    },
    "id": "7MQflfyMjgh3",
    "outputId": "5cc3b0c7-c0db-42d4-e28f-1013d9807a65"
   },
   "outputs": [
    {
     "data": {
      "text/plain": [
       "array([[67.953766]], dtype=float32)"
      ]
     },
     "execution_count": 24,
     "metadata": {},
     "output_type": "execute_result"
    }
   ],
   "source": [
    "sess.run(y, feed_dict={x:X_train[0:1]})"
   ]
  },
  {
   "cell_type": "code",
   "execution_count": 25,
   "metadata": {
    "colab": {
     "base_uri": "https://localhost:8080/",
     "height": 85
    },
    "colab_type": "code",
    "executionInfo": {
     "elapsed": 6075,
     "status": "ok",
     "timestamp": 1547985626858,
     "user": {
      "displayName": "sairam janakiraman",
      "photoUrl": "",
      "userId": "11677302178638953515"
     },
     "user_tz": -330
    },
    "id": "XllCnyCQmrJA",
    "outputId": "bd2d4ce3-fcde-4786-e8cd-dd6737fa59b8"
   },
   "outputs": [
    {
     "data": {
      "text/plain": [
       "array([[ 4.370232  ],\n",
       "       [-3.2456212 ],\n",
       "       [ 3.7319813 ],\n",
       "       [ 0.44276828]], dtype=float32)"
      ]
     },
     "execution_count": 25,
     "metadata": {},
     "output_type": "execute_result"
    }
   ],
   "source": [
    "sess.run(W)"
   ]
  },
  {
   "cell_type": "code",
   "execution_count": 26,
   "metadata": {
    "colab": {
     "base_uri": "https://localhost:8080/",
     "height": 34
    },
    "colab_type": "code",
    "executionInfo": {
     "elapsed": 6057,
     "status": "ok",
     "timestamp": 1547985626859,
     "user": {
      "displayName": "sairam janakiraman",
      "photoUrl": "",
      "userId": "11677302178638953515"
     },
     "user_tz": -330
    },
    "id": "zjfdI4mEmrPN",
    "outputId": "e8f00666-6bf1-49be-9fcb-6102cc02ef69"
   },
   "outputs": [
    {
     "data": {
      "text/plain": [
       "array([23.956633], dtype=float32)"
      ]
     },
     "execution_count": 26,
     "metadata": {},
     "output_type": "execute_result"
    }
   ],
   "source": [
    "sess.run(b)"
   ]
  },
  {
   "cell_type": "code",
   "execution_count": 27,
   "metadata": {
    "colab": {
     "base_uri": "https://localhost:8080/",
     "height": 34
    },
    "colab_type": "code",
    "executionInfo": {
     "elapsed": 6046,
     "status": "ok",
     "timestamp": 1547985626860,
     "user": {
      "displayName": "sairam janakiraman",
      "photoUrl": "",
      "userId": "11677302178638953515"
     },
     "user_tz": -330
    },
    "id": "qD45xEi9pI1a",
    "outputId": "f5eef3c3-1e11-47f0-c5a9-4f158cce6bd1"
   },
   "outputs": [
    {
     "name": "stdout",
     "output_type": "stream",
     "text": [
      "(4, 1) (1,)\n"
     ]
    }
   ],
   "source": [
    "print (W.shape, b.shape)"
   ]
  },
  {
   "cell_type": "code",
   "execution_count": 28,
   "metadata": {
    "colab": {},
    "colab_type": "code",
    "id": "t8t0nau0mrTw"
   },
   "outputs": [],
   "source": [
    "#sess.close()"
   ]
  },
  {
   "cell_type": "code",
   "execution_count": 29,
   "metadata": {
    "colab": {},
    "colab_type": "code",
    "id": "q8y-Gz0lmrWU"
   },
   "outputs": [],
   "source": [
    "_, test_loss = sess.run([train_op, loss],feed_dict={x:X_test, \n",
    "                                                        y_:y_test})\n",
    "    "
   ]
  },
  {
   "cell_type": "markdown",
   "metadata": {},
   "source": [
    "# Find the Absolute mean square loss difference between training and testing loss.\n"
   ]
  },
  {
   "cell_type": "code",
   "execution_count": 30,
   "metadata": {
    "colab": {
     "base_uri": "https://localhost:8080/",
     "height": 34
    },
    "colab_type": "code",
    "executionInfo": {
     "elapsed": 6012,
     "status": "ok",
     "timestamp": 1547985626866,
     "user": {
      "displayName": "sairam janakiraman",
      "photoUrl": "",
      "userId": "11677302178638953515"
     },
     "user_tz": -330
    },
    "id": "qBa914M5mrZb",
    "outputId": "51dd95dc-df6b-4e4f-ea06-bf0b9917a7ec"
   },
   "outputs": [
    {
     "data": {
      "text/plain": [
       "1869.3948"
      ]
     },
     "execution_count": 30,
     "metadata": {},
     "output_type": "execute_result"
    }
   ],
   "source": [
    "Absolute_MS_Diff_loss = train_loss - test_loss\n",
    "Absolute_MS_Diff_loss"
   ]
  },
  {
   "cell_type": "code",
   "execution_count": 31,
   "metadata": {
    "colab": {
     "base_uri": "https://localhost:8080/",
     "height": 34
    },
    "colab_type": "code",
    "executionInfo": {
     "elapsed": 6002,
     "status": "ok",
     "timestamp": 1547985626867,
     "user": {
      "displayName": "sairam janakiraman",
      "photoUrl": "",
      "userId": "11677302178638953515"
     },
     "user_tz": -330
    },
    "id": "eq6jJ_gr1n_Z",
    "outputId": "1d6c1762-a4c4-456e-fbcf-e414d0d024e7"
   },
   "outputs": [
    {
     "data": {
      "text/plain": [
       "(1000, 4)"
      ]
     },
     "execution_count": 31,
     "metadata": {},
     "output_type": "execute_result"
    }
   ],
   "source": [
    "X.shape"
   ]
  },
  {
   "cell_type": "markdown",
   "metadata": {
    "colab_type": "text",
    "id": "_-V_cG--tmt6"
   },
   "source": [
    "### Linear Classification using Keras\n",
    "Building the simple Neural Network in Keras with one neuron in the dense hidden layer.\n",
    "Use Mean square error as loss function and sgd as optimizer"
   ]
  },
  {
   "cell_type": "code",
   "execution_count": 32,
   "metadata": {
    "colab": {},
    "colab_type": "code",
    "id": "khPhhWv2mrS4"
   },
   "outputs": [],
   "source": [
    "#Initialize Sequential model\n",
    "model = tf.keras.models.Sequential()\n",
    "\n",
    "#Reshape data from 2D to 1D -> 28x28 to 784\n",
    "#model.add(tf.keras.layers.Reshape(4000,),input_shape=(1000,4))\n",
    "\n",
    "#Normalize the data\n",
    "model.add(tf.keras.layers.BatchNormalization(input_shape =(4,)))\n",
    "\n",
    "#Add Dense Layer which provides 10 Outputs after applying softmax\n",
    "model.add(tf.keras.layers.Dense(1))\n",
    "\n",
    "#Comile the model\n",
    "model.compile(optimizer='sgd', loss='mse')"
   ]
  },
  {
   "cell_type": "code",
   "execution_count": 33,
   "metadata": {
    "colab": {
     "base_uri": "https://localhost:8080/",
     "height": 1071
    },
    "colab_type": "code",
    "executionInfo": {
     "elapsed": 6631,
     "status": "ok",
     "timestamp": 1547985627530,
     "user": {
      "displayName": "sairam janakiraman",
      "photoUrl": "",
      "userId": "11677302178638953515"
     },
     "user_tz": -330
    },
    "id": "MDK4aurqmrR-",
    "outputId": "28900aa1-dc4d-4771-e3a6-21f4254ba69f"
   },
   "outputs": [
    {
     "name": "stdout",
     "output_type": "stream",
     "text": [
      "Train on 800 samples, validate on 200 samples\n",
      "Epoch 1/30\n",
      "800/800 [==============================] - 1s 904us/step - loss: 8565.7637 - val_loss: 1602.0028\n",
      "Epoch 2/30\n",
      "800/800 [==============================] - 0s 5us/step - loss: 7906.9648 - val_loss: 4046.5327\n",
      "Epoch 3/30\n",
      "800/800 [==============================] - 0s 4us/step - loss: 4866.7798 - val_loss: 312990.6250\n",
      "Epoch 4/30\n",
      "800/800 [==============================] - 0s 9us/step - loss: 810.6489 - val_loss: 812.3758\n",
      "Epoch 5/30\n",
      "800/800 [==============================] - 0s 10us/step - loss: 4512.5830 - val_loss: 183655.8750\n",
      "Epoch 6/30\n",
      "800/800 [==============================] - 0s 5us/step - loss: 1119.9304 - val_loss: 147.2439\n",
      "Epoch 7/30\n",
      "800/800 [==============================] - 0s 6us/step - loss: 5646.0640 - val_loss: 63650.4648\n",
      "Epoch 8/30\n",
      "800/800 [==============================] - 0s 7us/step - loss: 14.2144 - val_loss: 57528.3008\n",
      "Epoch 9/30\n",
      "800/800 [==============================] - 0s 7us/step - loss: 22.4673 - val_loss: 36246.1406\n",
      "Epoch 10/30\n",
      "800/800 [==============================] - 0s 32us/step - loss: 98.0670 - val_loss: 74519.3750\n",
      "Epoch 11/30\n",
      "800/800 [==============================] - 0s 6us/step - loss: 545.0482 - val_loss: 896.7717\n",
      "Epoch 12/30\n",
      "800/800 [==============================] - 0s 20us/step - loss: 3157.5120 - val_loss: 117762.7031\n",
      "Epoch 13/30\n",
      "800/800 [==============================] - 0s 30us/step - loss: 3177.6689 - val_loss: 4277.2012\n",
      "Epoch 14/30\n",
      "800/800 [==============================] - 0s 11us/step - loss: 7422.0669 - val_loss: 827.1378\n",
      "Epoch 15/30\n",
      "800/800 [==============================] - 0s 11us/step - loss: 4973.8979 - val_loss: 33054.8086\n",
      "Epoch 16/30\n",
      "800/800 [==============================] - 0s 7us/step - loss: 158.9816 - val_loss: 7608.4526\n",
      "Epoch 17/30\n",
      "800/800 [==============================] - 0s 10us/step - loss: 832.7335 - val_loss: 81048.2812\n",
      "Epoch 18/30\n",
      "800/800 [==============================] - 0s 6us/step - loss: 3190.9248 - val_loss: 4188.3018\n",
      "Epoch 19/30\n",
      "800/800 [==============================] - 0s 6us/step - loss: 7222.1050 - val_loss: 1030.0199\n",
      "Epoch 20/30\n",
      "800/800 [==============================] - 0s 4us/step - loss: 4813.4268 - val_loss: 23477.9316\n",
      "Epoch 21/30\n",
      "800/800 [==============================] - 0s 9us/step - loss: 153.3747 - val_loss: 4950.4434\n",
      "Epoch 22/30\n",
      "800/800 [==============================] - 0s 5us/step - loss: 785.6175 - val_loss: 59160.5312\n",
      "Epoch 23/30\n",
      "800/800 [==============================] - 0s 17us/step - loss: 2942.1699 - val_loss: 4377.8398\n",
      "Epoch 24/30\n",
      "800/800 [==============================] - 0s 10us/step - loss: 7261.8018 - val_loss: 2786.4424\n",
      "Epoch 25/30\n",
      "800/800 [==============================] - 0s 12us/step - loss: 6083.0923 - val_loss: 1247.0527\n",
      "Epoch 26/30\n",
      "800/800 [==============================] - 0s 7us/step - loss: 1369.8687 - val_loss: 53139.8750\n",
      "Epoch 27/30\n",
      "800/800 [==============================] - 0s 6us/step - loss: 3395.2898 - val_loss: 3530.3000\n",
      "Epoch 28/30\n",
      "800/800 [==============================] - 0s 11us/step - loss: 6575.6768 - val_loss: 360.7718\n",
      "Epoch 29/30\n",
      "800/800 [==============================] - 0s 12us/step - loss: 3349.7563 - val_loss: 30833.1855\n",
      "Epoch 30/30\n",
      "800/800 [==============================] - 0s 9us/step - loss: 1466.0491 - val_loss: 2592.1250\n"
     ]
    },
    {
     "data": {
      "text/plain": [
       "<tensorflow.python.keras.callbacks.History at 0x28831db59b0>"
      ]
     },
     "execution_count": 33,
     "metadata": {},
     "output_type": "execute_result"
    }
   ],
   "source": [
    "model.fit(X_train, y_train, \n",
    "          validation_data=(X_test, y_test), \n",
    "          epochs=30,\n",
    "          batch_size=X_train.shape[0])"
   ]
  },
  {
   "cell_type": "markdown",
   "metadata": {
    "colab_type": "text",
    "id": "LxEMgI9Y5yLJ"
   },
   "source": [
    "## Logistic Classification using Keras"
   ]
  },
  {
   "cell_type": "code",
   "execution_count": 34,
   "metadata": {
    "colab": {
     "base_uri": "https://localhost:8080/",
     "height": 204
    },
    "colab_type": "code",
    "executionInfo": {
     "elapsed": 810,
     "status": "ok",
     "timestamp": 1547986146515,
     "user": {
      "displayName": "sairam janakiraman",
      "photoUrl": "",
      "userId": "11677302178638953515"
     },
     "user_tz": -330
    },
    "id": "icUzwJoumrN-",
    "outputId": "aede8b51-5b42-48d4-e2f5-6e25e21d4589"
   },
   "outputs": [
    {
     "data": {
      "text/html": [
       "<div>\n",
       "<style scoped>\n",
       "    .dataframe tbody tr th:only-of-type {\n",
       "        vertical-align: middle;\n",
       "    }\n",
       "\n",
       "    .dataframe tbody tr th {\n",
       "        vertical-align: top;\n",
       "    }\n",
       "\n",
       "    .dataframe thead th {\n",
       "        text-align: right;\n",
       "    }\n",
       "</style>\n",
       "<table border=\"1\" class=\"dataframe\">\n",
       "  <thead>\n",
       "    <tr style=\"text-align: right;\">\n",
       "      <th></th>\n",
       "      <th>Id</th>\n",
       "      <th>SepalLengthCm</th>\n",
       "      <th>SepalWidthCm</th>\n",
       "      <th>PetalLengthCm</th>\n",
       "      <th>PetalWidthCm</th>\n",
       "      <th>Species_Iris-setosa</th>\n",
       "      <th>Species_Iris-versicolor</th>\n",
       "      <th>Species_Iris-virginica</th>\n",
       "    </tr>\n",
       "  </thead>\n",
       "  <tbody>\n",
       "    <tr>\n",
       "      <th>0</th>\n",
       "      <td>1</td>\n",
       "      <td>5.1</td>\n",
       "      <td>3.5</td>\n",
       "      <td>1.4</td>\n",
       "      <td>0.2</td>\n",
       "      <td>1</td>\n",
       "      <td>0</td>\n",
       "      <td>0</td>\n",
       "    </tr>\n",
       "    <tr>\n",
       "      <th>1</th>\n",
       "      <td>2</td>\n",
       "      <td>4.9</td>\n",
       "      <td>3.0</td>\n",
       "      <td>1.4</td>\n",
       "      <td>0.2</td>\n",
       "      <td>1</td>\n",
       "      <td>0</td>\n",
       "      <td>0</td>\n",
       "    </tr>\n",
       "    <tr>\n",
       "      <th>2</th>\n",
       "      <td>3</td>\n",
       "      <td>4.7</td>\n",
       "      <td>3.2</td>\n",
       "      <td>1.3</td>\n",
       "      <td>0.2</td>\n",
       "      <td>1</td>\n",
       "      <td>0</td>\n",
       "      <td>0</td>\n",
       "    </tr>\n",
       "    <tr>\n",
       "      <th>3</th>\n",
       "      <td>4</td>\n",
       "      <td>4.6</td>\n",
       "      <td>3.1</td>\n",
       "      <td>1.5</td>\n",
       "      <td>0.2</td>\n",
       "      <td>1</td>\n",
       "      <td>0</td>\n",
       "      <td>0</td>\n",
       "    </tr>\n",
       "    <tr>\n",
       "      <th>4</th>\n",
       "      <td>5</td>\n",
       "      <td>5.0</td>\n",
       "      <td>3.6</td>\n",
       "      <td>1.4</td>\n",
       "      <td>0.2</td>\n",
       "      <td>1</td>\n",
       "      <td>0</td>\n",
       "      <td>0</td>\n",
       "    </tr>\n",
       "  </tbody>\n",
       "</table>\n",
       "</div>"
      ],
      "text/plain": [
       "   Id  SepalLengthCm  SepalWidthCm  PetalLengthCm  PetalWidthCm  \\\n",
       "0   1            5.1           3.5            1.4           0.2   \n",
       "1   2            4.9           3.0            1.4           0.2   \n",
       "2   3            4.7           3.2            1.3           0.2   \n",
       "3   4            4.6           3.1            1.5           0.2   \n",
       "4   5            5.0           3.6            1.4           0.2   \n",
       "\n",
       "   Species_Iris-setosa  Species_Iris-versicolor  Species_Iris-virginica  \n",
       "0                    1                        0                       0  \n",
       "1                    1                        0                       0  \n",
       "2                    1                        0                       0  \n",
       "3                    1                        0                       0  \n",
       "4                    1                        0                       0  "
      ]
     },
     "execution_count": 34,
     "metadata": {},
     "output_type": "execute_result"
    }
   ],
   "source": [
    "# Load the Iris dataset\n",
    "iris_data = pd.read_csv('./Iris.csv')\n",
    "iris_data.head(5)\n",
    "iris_data = pd.get_dummies(iris_data,prefix=['Species'])\n",
    "iris_data.head(5)"
   ]
  },
  {
   "cell_type": "code",
   "execution_count": 35,
   "metadata": {
    "colab": {
     "base_uri": "https://localhost:8080/",
     "height": 85
    },
    "colab_type": "code",
    "executionInfo": {
     "elapsed": 991,
     "status": "ok",
     "timestamp": 1547986150985,
     "user": {
      "displayName": "sairam janakiraman",
      "photoUrl": "",
      "userId": "11677302178638953515"
     },
     "user_tz": -330
    },
    "id": "iuRd116MJM04",
    "outputId": "70fa249d-631d-4b1c-dfb5-ffa030a62c70"
   },
   "outputs": [
    {
     "data": {
      "text/plain": [
       "Index(['Id', 'SepalLengthCm', 'SepalWidthCm', 'PetalLengthCm', 'PetalWidthCm',\n",
       "       'Species_Iris-setosa', 'Species_Iris-versicolor',\n",
       "       'Species_Iris-virginica'],\n",
       "      dtype='object')"
      ]
     },
     "execution_count": 35,
     "metadata": {},
     "output_type": "execute_result"
    }
   ],
   "source": [
    "iris_data.columns"
   ]
  },
  {
   "cell_type": "code",
   "execution_count": 37,
   "metadata": {},
   "outputs": [
    {
     "name": "stdout",
     "output_type": "stream",
     "text": [
      "<class 'pandas.core.frame.DataFrame'>\n",
      "RangeIndex: 150 entries, 0 to 149\n",
      "Data columns (total 8 columns):\n",
      "Id                         150 non-null int64\n",
      "SepalLengthCm              150 non-null float64\n",
      "SepalWidthCm               150 non-null float64\n",
      "PetalLengthCm              150 non-null float64\n",
      "PetalWidthCm               150 non-null float64\n",
      "Species_Iris-setosa        150 non-null uint8\n",
      "Species_Iris-versicolor    150 non-null uint8\n",
      "Species_Iris-virginica     150 non-null uint8\n",
      "dtypes: float64(4), int64(1), uint8(3)\n",
      "memory usage: 6.4 KB\n"
     ]
    }
   ],
   "source": [
    "iris_data.info()"
   ]
  },
  {
   "cell_type": "code",
   "execution_count": 38,
   "metadata": {
    "colab": {},
    "colab_type": "code",
    "id": "F3EEgHXmmrM_"
   },
   "outputs": [],
   "source": [
    "y = iris_data[['Species_Iris-setosa','Species_Iris-versicolor', 'Species_Iris-virginica']]\n",
    "X = iris_data.drop(['Species_Iris-setosa','Species_Iris-versicolor', 'Species_Iris-virginica','Id'],axis =1)"
   ]
  },
  {
   "cell_type": "code",
   "execution_count": 39,
   "metadata": {
    "colab": {
     "base_uri": "https://localhost:8080/",
     "height": 357
    },
    "colab_type": "code",
    "executionInfo": {
     "elapsed": 818,
     "status": "ok",
     "timestamp": 1547986199633,
     "user": {
      "displayName": "sairam janakiraman",
      "photoUrl": "",
      "userId": "11677302178638953515"
     },
     "user_tz": -330
    },
    "id": "jB2K34PSmrHp",
    "outputId": "bc667956-67f6-4dbc-a765-2fdccf86290f"
   },
   "outputs": [
    {
     "name": "stdout",
     "output_type": "stream",
     "text": [
      "\n",
      "X_train:\n",
      "\n",
      "     SepalLengthCm  SepalWidthCm  PetalLengthCm  PetalWidthCm\n",
      "94             5.6           2.7            4.2           1.3\n",
      "116            6.5           3.0            5.5           1.8\n",
      "75             6.6           3.0            4.4           1.4\n",
      "149            5.9           3.0            5.1           1.8\n",
      "106            4.9           2.5            4.5           1.7\n",
      "(105, 4)\n",
      "\n",
      "X_test:\n",
      "\n",
      "    SepalLengthCm  SepalWidthCm  PetalLengthCm  PetalWidthCm\n",
      "38            4.4           3.0            1.3           0.2\n",
      "6             4.6           3.4            1.4           0.3\n",
      "34            4.9           3.1            1.5           0.1\n",
      "2             4.7           3.2            1.3           0.2\n",
      "43            5.0           3.5            1.6           0.6\n",
      "(45, 4)\n"
     ]
    }
   ],
   "source": [
    "X_train, X_test, y_train, y_test = train_test_split(X, y,test_size=0.3)\n",
    "print(\"\\nX_train:\\n\")\n",
    "print(X_train.head())\n",
    "print(X_train.shape)\n",
    "\n",
    "print(\"\\nX_test:\\n\")\n",
    "print(X_test.head())\n",
    "print(X_test.shape)"
   ]
  },
  {
   "cell_type": "markdown",
   "metadata": {
    "colab_type": "text",
    "id": "eCsNpMRNBPmG"
   },
   "source": [
    "## **Model**\n",
    "# Build the model with following layers: **bold text**\n",
    "\n",
    "First dense layer with 10 neurons with input shape 4 (according to the feature set) \n",
    "\n",
    "Second Dense layer with 8 neurons \n",
    "\n",
    "Output layer with 3 neurons with softmax activation (output layer, 3 neurons as we have 3 classes) \n",
    "\n",
    "\n",
    "Use SGD and categorical_crossentropy loss"
   ]
  },
  {
   "cell_type": "code",
   "execution_count": 40,
   "metadata": {
    "colab": {},
    "colab_type": "code",
    "id": "u8l-RZgk71Vo"
   },
   "outputs": [],
   "source": [
    "#Initialize Sequential model\n",
    "model = tf.keras.models.Sequential()\n",
    "\n",
    "#Reshape data from 2D to 1D -> 28x28 to 784\n",
    "#model.add(tf.keras.layers.Reshape(4000,),input_shape=(1000,4))\n",
    "\n",
    "#Normalize the data\n",
    "model.add(tf.keras.layers.BatchNormalization(input_shape = (4,)))\n",
    "\n",
    "#Add Dense Layer which provides 10 Outputs after applying softmax\n",
    "model.add(tf.keras.layers.Dense(3))\n",
    "\n",
    "#Comile the model\n",
    "model.compile(optimizer='sgd', loss='mse')"
   ]
  },
  {
   "cell_type": "code",
   "execution_count": 41,
   "metadata": {
    "colab": {},
    "colab_type": "code",
    "id": "nvs399kQBOGB"
   },
   "outputs": [],
   "source": [
    "#Add 1st hidden layer\n",
    "model.add(tf.keras.layers.Dense(10, activation='relu'))"
   ]
  },
  {
   "cell_type": "code",
   "execution_count": 42,
   "metadata": {
    "colab": {},
    "colab_type": "code",
    "id": "SHiW4Ad4BOJX"
   },
   "outputs": [],
   "source": [
    "#Add 2nd hidden layer\n",
    "model.add(tf.keras.layers.Dense(8, activation='relu'))"
   ]
  },
  {
   "cell_type": "code",
   "execution_count": 43,
   "metadata": {
    "colab": {},
    "colab_type": "code",
    "id": "V3whGWfXBOMb"
   },
   "outputs": [],
   "source": [
    "#Add OUTPUT layer\n",
    "model.add(tf.keras.layers.Dense(3, activation='softmax'))"
   ]
  },
  {
   "cell_type": "code",
   "execution_count": 44,
   "metadata": {
    "colab": {},
    "colab_type": "code",
    "id": "8WBqJBnZBOSr"
   },
   "outputs": [],
   "source": [
    "#Create optimizer with non-default learning rate\n",
    "sgd_optimizer = tf.keras.optimizers.SGD(lr=0.03)\n",
    "\n",
    "#Compile the model\n",
    "model.compile(optimizer=sgd_optimizer, loss='categorical_crossentropy', metrics=['accuracy'])"
   ]
  },
  {
   "cell_type": "code",
   "execution_count": 45,
   "metadata": {
    "colab": {
     "base_uri": "https://localhost:8080/",
     "height": 306
    },
    "colab_type": "code",
    "executionInfo": {
     "elapsed": 569,
     "status": "ok",
     "timestamp": 1547986312526,
     "user": {
      "displayName": "sairam janakiraman",
      "photoUrl": "",
      "userId": "11677302178638953515"
     },
     "user_tz": -330
    },
    "id": "HdrpLkj7F_Te",
    "outputId": "7046cd9a-33e1-43e3-cc34-53bc1101cdf0"
   },
   "outputs": [
    {
     "name": "stdout",
     "output_type": "stream",
     "text": [
      "_________________________________________________________________\n",
      "Layer (type)                 Output Shape              Param #   \n",
      "=================================================================\n",
      "batch_normalization_2 (Batch (None, 4)                 16        \n",
      "_________________________________________________________________\n",
      "dense_1 (Dense)              (None, 3)                 15        \n",
      "_________________________________________________________________\n",
      "dense_2 (Dense)              (None, 10)                40        \n",
      "_________________________________________________________________\n",
      "dense_3 (Dense)              (None, 8)                 88        \n",
      "_________________________________________________________________\n",
      "dense_4 (Dense)              (None, 3)                 27        \n",
      "=================================================================\n",
      "Total params: 186\n",
      "Trainable params: 178\n",
      "Non-trainable params: 8\n",
      "_________________________________________________________________\n"
     ]
    }
   ],
   "source": [
    "model.summary()"
   ]
  },
  {
   "cell_type": "code",
   "execution_count": 46,
   "metadata": {
    "colab": {
     "base_uri": "https://localhost:8080/",
     "height": 1071
    },
    "colab_type": "code",
    "executionInfo": {
     "elapsed": 1005,
     "status": "ok",
     "timestamp": 1547986625447,
     "user": {
      "displayName": "sairam janakiraman",
      "photoUrl": "",
      "userId": "11677302178638953515"
     },
     "user_tz": -330
    },
    "id": "J8FARFhLGW1f",
    "outputId": "30cf4a51-3fd7-44b1-dd10-833379200b68"
   },
   "outputs": [
    {
     "name": "stdout",
     "output_type": "stream",
     "text": [
      "Train on 105 samples, validate on 45 samples\n",
      "Epoch 1/30\n",
      "105/105 [==============================] - 1s 11ms/step - loss: 1.0839 - acc: 0.2952 - val_loss: 1.0637 - val_acc: 0.4222\n",
      "Epoch 2/30\n",
      "105/105 [==============================] - 0s 133us/step - loss: 0.9880 - acc: 0.4286 - val_loss: 1.0386 - val_acc: 0.3778\n",
      "Epoch 3/30\n",
      "105/105 [==============================] - 0s 105us/step - loss: 0.9163 - acc: 0.6095 - val_loss: 1.0413 - val_acc: 0.2444\n",
      "Epoch 4/30\n",
      "105/105 [==============================] - 0s 162us/step - loss: 0.8635 - acc: 0.6476 - val_loss: 1.0650 - val_acc: 0.2444\n",
      "Epoch 5/30\n",
      "105/105 [==============================] - 0s 219us/step - loss: 0.8244 - acc: 0.6571 - val_loss: 1.0979 - val_acc: 0.2444\n",
      "Epoch 6/30\n",
      "105/105 [==============================] - 0s 495us/step - loss: 0.7966 - acc: 0.6762 - val_loss: 1.1243 - val_acc: 0.2444\n",
      "Epoch 7/30\n",
      "105/105 [==============================] - 0s 143us/step - loss: 0.7695 - acc: 0.6762 - val_loss: 1.1672 - val_acc: 0.2444\n",
      "Epoch 8/30\n",
      "105/105 [==============================] - 0s 171us/step - loss: 0.7480 - acc: 0.6952 - val_loss: 1.2109 - val_acc: 0.2444\n",
      "Epoch 9/30\n",
      "105/105 [==============================] - 0s 133us/step - loss: 0.7176 - acc: 0.7048 - val_loss: 1.2537 - val_acc: 0.2444\n",
      "Epoch 10/30\n",
      "105/105 [==============================] - 0s 143us/step - loss: 0.6998 - acc: 0.6952 - val_loss: 1.3109 - val_acc: 0.2444\n",
      "Epoch 11/30\n",
      "105/105 [==============================] - 0s 143us/step - loss: 0.6709 - acc: 0.6762 - val_loss: 1.3745 - val_acc: 0.2444\n",
      "Epoch 12/30\n",
      "105/105 [==============================] - 0s 209us/step - loss: 0.6708 - acc: 0.7048 - val_loss: 1.4284 - val_acc: 0.2444\n",
      "Epoch 13/30\n",
      "105/105 [==============================] - 0s 343us/step - loss: 0.6138 - acc: 0.7048 - val_loss: 1.4901 - val_acc: 0.2444\n",
      "Epoch 14/30\n",
      "105/105 [==============================] - 0s 257us/step - loss: 0.5965 - acc: 0.7333 - val_loss: 1.5490 - val_acc: 0.2444\n",
      "Epoch 15/30\n",
      "105/105 [==============================] - 0s 152us/step - loss: 0.5823 - acc: 0.7048 - val_loss: 1.5509 - val_acc: 0.2444\n",
      "Epoch 16/30\n",
      "105/105 [==============================] - 0s 247us/step - loss: 0.5672 - acc: 0.7143 - val_loss: 1.5885 - val_acc: 0.2444\n",
      "Epoch 17/30\n",
      "105/105 [==============================] - 0s 133us/step - loss: 0.5602 - acc: 0.7143 - val_loss: 1.6084 - val_acc: 0.2444\n",
      "Epoch 18/30\n",
      "105/105 [==============================] - 0s 333us/step - loss: 0.5601 - acc: 0.7619 - val_loss: 1.5351 - val_acc: 0.2444\n",
      "Epoch 19/30\n",
      "105/105 [==============================] - 0s 219us/step - loss: 0.5162 - acc: 0.7429 - val_loss: 1.5474 - val_acc: 0.2444\n",
      "Epoch 20/30\n",
      "105/105 [==============================] - 0s 152us/step - loss: 0.5022 - acc: 0.7619 - val_loss: 1.5796 - val_acc: 0.2444\n",
      "Epoch 21/30\n",
      "105/105 [==============================] - 0s 228us/step - loss: 0.4995 - acc: 0.7524 - val_loss: 1.5573 - val_acc: 0.2444\n",
      "Epoch 22/30\n",
      "105/105 [==============================] - 0s 333us/step - loss: 0.5172 - acc: 0.7714 - val_loss: 1.3625 - val_acc: 0.2444\n",
      "Epoch 23/30\n",
      "105/105 [==============================] - 0s 200us/step - loss: 0.4854 - acc: 0.7905 - val_loss: 1.4094 - val_acc: 0.2444\n",
      "Epoch 24/30\n",
      "105/105 [==============================] - 0s 200us/step - loss: 0.4894 - acc: 0.7524 - val_loss: 1.4258 - val_acc: 0.2444\n",
      "Epoch 25/30\n",
      "105/105 [==============================] - 0s 133us/step - loss: 0.4572 - acc: 0.8000 - val_loss: 1.3819 - val_acc: 0.2667\n",
      "Epoch 26/30\n",
      "105/105 [==============================] - 0s 133us/step - loss: 0.4476 - acc: 0.8095 - val_loss: 1.3732 - val_acc: 0.2667\n",
      "Epoch 27/30\n",
      "105/105 [==============================] - 0s 209us/step - loss: 0.4481 - acc: 0.7905 - val_loss: 1.3064 - val_acc: 0.3333\n",
      "Epoch 28/30\n",
      "105/105 [==============================] - 0s 162us/step - loss: 0.4601 - acc: 0.7714 - val_loss: 1.1899 - val_acc: 0.3556\n",
      "Epoch 29/30\n",
      "105/105 [==============================] - 0s 295us/step - loss: 0.4488 - acc: 0.7905 - val_loss: 1.1860 - val_acc: 0.3556\n",
      "Epoch 30/30\n",
      "105/105 [==============================] - 0s 152us/step - loss: 0.4370 - acc: 0.7905 - val_loss: 1.0545 - val_acc: 0.4222\n"
     ]
    },
    {
     "data": {
      "text/plain": [
       "<tensorflow.python.keras.callbacks.History at 0x288325bbc18>"
      ]
     },
     "execution_count": 46,
     "metadata": {},
     "output_type": "execute_result"
    }
   ],
   "source": [
    "model.fit(X_train,y_train,          \n",
    "          validation_data=(X_test,y_test),\n",
    "          epochs=30,\n",
    "          batch_size=32)"
   ]
  },
  {
   "cell_type": "markdown",
   "metadata": {},
   "source": [
    "# Report Accuracy of the predicted values\n"
   ]
  },
  {
   "cell_type": "code",
   "execution_count": 48,
   "metadata": {
    "colab": {
     "base_uri": "https://localhost:8080/",
     "height": 51
    },
    "colab_type": "code",
    "executionInfo": {
     "elapsed": 816,
     "status": "ok",
     "timestamp": 1547986740323,
     "user": {
      "displayName": "sairam janakiraman",
      "photoUrl": "",
      "userId": "11677302178638953515"
     },
     "user_tz": -330
    },
    "id": "Y-TxMXsvGf_I",
    "outputId": "02d8047a-4553-4394-9355-29ea5b0f2fd2"
   },
   "outputs": [
    {
     "name": "stdout",
     "output_type": "stream",
     "text": [
      "45/45 [==============================] - 0s 155us/step\n"
     ]
    },
    {
     "data": {
      "text/plain": [
       "[1.0545486715104846, 0.4222222301695082]"
      ]
     },
     "execution_count": 48,
     "metadata": {},
     "output_type": "execute_result"
    }
   ],
   "source": [
    "scores = model.evaluate(X_test,y_test)\n",
    "scores"
   ]
  },
  {
   "cell_type": "code",
   "execution_count": 0,
   "metadata": {
    "colab": {},
    "colab_type": "code",
    "id": "J6KyPXltL778"
   },
   "outputs": [],
   "source": []
  }
 ],
 "metadata": {
  "colab": {
   "collapsed_sections": [],
   "name": "R6_NEURAL_NETWORK_Lab_INTERNAL_20JAN2019_Sairam.ipynb",
   "provenance": [],
   "version": "0.3.2"
  },
  "kernelspec": {
   "display_name": "Python 3",
   "language": "python",
   "name": "python3"
  },
  "language_info": {
   "codemirror_mode": {
    "name": "ipython",
    "version": 3
   },
   "file_extension": ".py",
   "mimetype": "text/x-python",
   "name": "python",
   "nbconvert_exporter": "python",
   "pygments_lexer": "ipython3",
   "version": "3.6.5"
  }
 },
 "nbformat": 4,
 "nbformat_minor": 1
}
