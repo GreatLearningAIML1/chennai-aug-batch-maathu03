{
 "cells": [
  {
   "cell_type": "markdown",
   "metadata": {
    "colab_type": "text",
    "id": "QI9jhXKPCFcJ"
   },
   "source": [
    "# Stance Detection for the Fake News Challenge\n",
    "\n",
    "## Identifying Textual Relationships with Deep Neural Nets\n",
    "\n",
    "### Check the problem context [here](https://drive.google.com/open?id=1KfWaZyQdGBw8AUTacJ2yY86Yxgw2Xwq0).\n",
    "\n",
    "### Download files required for the project from [here](https://drive.google.com/open?id=10yf39ifEwVihw4xeJJR60oeFBY30Y5J8)."
   ]
  },
  {
   "cell_type": "markdown",
   "metadata": {
    "colab_type": "text",
    "id": "vSNgdEMpenpE"
   },
   "source": [
    "## Step1: Load the given dataset  \n",
    "\n",
    "1. Mount the google drive\n",
    "\n",
    "2. Import Glove embeddings\n",
    "\n",
    "3. Import the test and train datasets"
   ]
  },
  {
   "cell_type": "markdown",
   "metadata": {
    "colab_type": "text",
    "id": "aPOZRohMiSpQ"
   },
   "source": [
    "### Mount the google drive to access required project files\n",
    "\n",
    "Run the below commands"
   ]
  },
  {
   "cell_type": "code",
   "execution_count": 0,
   "metadata": {
    "colab": {},
    "colab_type": "code",
    "id": "7AS39z1XgFpT"
   },
   "outputs": [],
   "source": [
    "from google.colab import drive"
   ]
  },
  {
   "cell_type": "code",
   "execution_count": 2,
   "metadata": {
    "colab": {
     "base_uri": "https://localhost:8080/",
     "height": 55
    },
    "colab_type": "code",
    "id": "S_7yCFdzgFsH",
    "outputId": "76ebc93b-0440-48fb-d0d8-67878ea6b32d"
   },
   "outputs": [
    {
     "name": "stdout",
     "output_type": "stream",
     "text": [
      "Drive already mounted at /content/drive/; to attempt to forcibly remount, call drive.mount(\"/content/drive/\", force_remount=True).\n"
     ]
    }
   ],
   "source": [
    "drive.mount('/content/drive/')"
   ]
  },
  {
   "cell_type": "markdown",
   "metadata": {
    "colab_type": "text",
    "id": "bhZdJ4zpwWzN"
   },
   "source": [
    "#### Path for Project files on google drive\n",
    "\n",
    "**Note:** You need to change this path according where you have kept the files in google drive. "
   ]
  },
  {
   "cell_type": "code",
   "execution_count": 0,
   "metadata": {
    "colab": {},
    "colab_type": "code",
    "id": "Aol97RUogFuS"
   },
   "outputs": [],
   "source": [
    "project_path = \"/content/drive/My Drive/Fake News/\""
   ]
  },
  {
   "cell_type": "code",
   "execution_count": 0,
   "metadata": {
    "colab": {},
    "colab_type": "code",
    "id": "GtbAODTeYM2v"
   },
   "outputs": [],
   "source": [
    "import os\n",
    "os.chdir('/content/drive/My Drive/Fake News/')"
   ]
  },
  {
   "cell_type": "markdown",
   "metadata": {
    "colab_type": "text",
    "id": "2ly0VxAnwJ2f"
   },
   "source": [
    "### Loading the Glove Embeddings"
   ]
  },
  {
   "cell_type": "code",
   "execution_count": 0,
   "metadata": {
    "colab": {},
    "colab_type": "code",
    "id": "xmsPn6PF-cgL"
   },
   "outputs": [],
   "source": [
    "from zipfile import ZipFile\n",
    "with ZipFile(project_path+'glove.6B.zip', 'r') as z:\n",
    "  z.extractall()"
   ]
  },
  {
   "cell_type": "markdown",
   "metadata": {
    "colab_type": "text",
    "id": "TjLJEQ_PwcGi"
   },
   "source": [
    "# Load the dataset [5 Marks]\n",
    "\n",
    "1. Using [read_csv()](https://pandas.pydata.org/pandas-docs/stable/generated/pandas.read_csv.html) in pandas load the given train datasets files **`train_bodies.csv`** and **`train_stances.csv`**\n",
    "\n",
    "2. Using [merge](https://pandas.pydata.org/pandas-docs/stable/generated/pandas.DataFrame.merge.html) command in pandas merge the two datasets based on the Body ID. \n",
    "\n",
    "Note: Save the final merged dataset in a dataframe with name **`dataset`**."
   ]
  },
  {
   "cell_type": "code",
   "execution_count": 0,
   "metadata": {
    "colab": {},
    "colab_type": "code",
    "id": "nzfndfainIV2"
   },
   "outputs": [],
   "source": [
    "\n",
    "import pandas\n",
    "tbodies= pandas.read_csv(project_path+'train_bodies.csv')\n",
    "tstances= pandas.read_csv(project_path+'train_stances.csv')\n",
    "train = pandas.merge(tbodies, tstances.drop_duplicates(['Body ID']), on=\"Body ID\", how=\"left\") "
   ]
  },
  {
   "cell_type": "markdown",
   "metadata": {
    "colab_type": "text",
    "id": "g4ycQbBCg20S"
   },
   "source": [
    "\n",
    "<h2> Check1:</h2>\n",
    "  \n",
    "<h3> You should see the below output if you run `dataset.head()` command as given below </h3>"
   ]
  },
  {
   "cell_type": "code",
   "execution_count": 7,
   "metadata": {
    "colab": {
     "base_uri": "https://localhost:8080/",
     "height": 289
    },
    "colab_type": "code",
    "id": "IUtF7iOmj11k",
    "outputId": "a3f8333a-c7d1-47d1-c49f-11a41d3d26ec"
   },
   "outputs": [
    {
     "data": {
      "text/html": [
       "<div>\n",
       "<style scoped>\n",
       "    .dataframe tbody tr th:only-of-type {\n",
       "        vertical-align: middle;\n",
       "    }\n",
       "\n",
       "    .dataframe tbody tr th {\n",
       "        vertical-align: top;\n",
       "    }\n",
       "\n",
       "    .dataframe thead th {\n",
       "        text-align: right;\n",
       "    }\n",
       "</style>\n",
       "<table border=\"1\" class=\"dataframe\">\n",
       "  <thead>\n",
       "    <tr style=\"text-align: right;\">\n",
       "      <th></th>\n",
       "      <th>Body ID</th>\n",
       "      <th>articleBody</th>\n",
       "      <th>Headline</th>\n",
       "      <th>Stance</th>\n",
       "    </tr>\n",
       "  </thead>\n",
       "  <tbody>\n",
       "    <tr>\n",
       "      <th>0</th>\n",
       "      <td>0</td>\n",
       "      <td>A small meteorite crashed into a wooded area i...</td>\n",
       "      <td>Soldier shot, Parliament locked down after gun...</td>\n",
       "      <td>unrelated</td>\n",
       "    </tr>\n",
       "    <tr>\n",
       "      <th>1</th>\n",
       "      <td>4</td>\n",
       "      <td>Last week we hinted at what was to come as Ebo...</td>\n",
       "      <td>It Begins: HazMat-Wearing Passenger Spotted At...</td>\n",
       "      <td>discuss</td>\n",
       "    </tr>\n",
       "    <tr>\n",
       "      <th>2</th>\n",
       "      <td>5</td>\n",
       "      <td>(NEWSER) – Wonder how long a Quarter Pounder w...</td>\n",
       "      <td>Comfort eating? Chinese woman, 26, spends an e...</td>\n",
       "      <td>unrelated</td>\n",
       "    </tr>\n",
       "    <tr>\n",
       "      <th>3</th>\n",
       "      <td>6</td>\n",
       "      <td>Posting photos of a gun-toting child online, I...</td>\n",
       "      <td>‘The cub of Baghdadi': ISIS reports its younge...</td>\n",
       "      <td>discuss</td>\n",
       "    </tr>\n",
       "    <tr>\n",
       "      <th>4</th>\n",
       "      <td>7</td>\n",
       "      <td>At least 25 suspected Boko Haram insurgents we...</td>\n",
       "      <td>ISIS Beheads American Journalist</td>\n",
       "      <td>unrelated</td>\n",
       "    </tr>\n",
       "  </tbody>\n",
       "</table>\n",
       "</div>"
      ],
      "text/plain": [
       "   Body ID  ...     Stance\n",
       "0        0  ...  unrelated\n",
       "1        4  ...    discuss\n",
       "2        5  ...  unrelated\n",
       "3        6  ...    discuss\n",
       "4        7  ...  unrelated\n",
       "\n",
       "[5 rows x 4 columns]"
      ]
     },
     "execution_count": 7,
     "metadata": {
      "tags": []
     },
     "output_type": "execute_result"
    }
   ],
   "source": [
    "train.head()"
   ]
  },
  {
   "cell_type": "markdown",
   "metadata": {
    "colab_type": "text",
    "id": "tjzVz2ifijmj"
   },
   "source": [
    "## Step2: Data Pre-processing and setting some hyper parameters needed for model\n",
    "\n",
    "\n",
    "#### Run the code given below to set the required parameters.\n",
    "\n",
    "1. `MAX_SENTS` = Maximum no.of sentences to consider in an article.\n",
    "\n",
    "2. `MAX_SENT_LENGTH` = Maximum no.of words to consider in a sentence.\n",
    "\n",
    "3. `MAX_NB_WORDS` = Maximum no.of words in the total vocabualry.\n",
    "\n",
    "4. `MAX_SENTS_HEADING` = Maximum no.of sentences to consider in a heading of an article."
   ]
  },
  {
   "cell_type": "code",
   "execution_count": 0,
   "metadata": {
    "colab": {},
    "colab_type": "code",
    "id": "KDXSdpvqjuqw"
   },
   "outputs": [],
   "source": [
    "MAX_NB_WORDS = 20000\n",
    "MAX_SENTS = 20\n",
    "MAX_SENTS_HEADING = 1\n",
    "MAX_SENT_LENGTH = 20\n",
    "VALIDATION_SPLIT = 0.2"
   ]
  },
  {
   "cell_type": "markdown",
   "metadata": {
    "colab_type": "text",
    "id": "zwE7CPHdiDT-"
   },
   "source": [
    "### Download the `Punkt` from nltk using the commands given below. This is for sentence tokenization.\n",
    "\n",
    "For more info on how to use it, read [this](https://stackoverflow.com/questions/35275001/use-of-punktsentencetokenizer-in-nltk).\n",
    "\n"
   ]
  },
  {
   "cell_type": "code",
   "execution_count": 9,
   "metadata": {
    "colab": {
     "base_uri": "https://localhost:8080/",
     "height": 69
    },
    "colab_type": "code",
    "id": "lsiKmyJUZ-hU",
    "outputId": "747aee75-3d85-4d82-ec6a-8a80e77c235e"
   },
   "outputs": [
    {
     "name": "stdout",
     "output_type": "stream",
     "text": [
      "[nltk_data] Downloading package punkt to /root/nltk_data...\n",
      "[nltk_data]   Package punkt is already up-to-date!\n"
     ]
    },
    {
     "data": {
      "text/plain": [
       "True"
      ]
     },
     "execution_count": 9,
     "metadata": {
      "tags": []
     },
     "output_type": "execute_result"
    }
   ],
   "source": [
    "import nltk\n",
    "nltk.download('punkt')"
   ]
  },
  {
   "cell_type": "markdown",
   "metadata": {
    "colab_type": "text",
    "id": "Gqwm_GbwwnhX"
   },
   "source": [
    "# Tokenizing the text and loading the pre-trained Glove word embeddings for each token  [5 marks] "
   ]
  },
  {
   "cell_type": "markdown",
   "metadata": {
    "colab_type": "text",
    "id": "WfZLR24mm32k"
   },
   "source": [
    "Keras provides [Tokenizer API](https://keras.io/preprocessing/text/) for preparing text. Read it before going any further."
   ]
  },
  {
   "cell_type": "markdown",
   "metadata": {
    "colab_type": "text",
    "id": "fLSn9S-5oG4Z"
   },
   "source": [
    "#### Import the Tokenizer from keras preprocessing text"
   ]
  },
  {
   "cell_type": "code",
   "execution_count": 10,
   "metadata": {
    "colab": {
     "base_uri": "https://localhost:8080/",
     "height": 35
    },
    "colab_type": "code",
    "id": "S-VUgh2yoMlR",
    "outputId": "2b6b569e-6a83-4e4d-dfd3-de02e6fec16f"
   },
   "outputs": [
    {
     "name": "stderr",
     "output_type": "stream",
     "text": [
      "Using TensorFlow backend.\n"
     ]
    }
   ],
   "source": [
    "import tensorflow as tf\n",
    "from keras.preprocessing.text import Tokenizer\n"
   ]
  },
  {
   "cell_type": "code",
   "execution_count": 0,
   "metadata": {
    "colab": {},
    "colab_type": "code",
    "id": "A7LKzb3mYznm"
   },
   "outputs": [],
   "source": []
  },
  {
   "cell_type": "markdown",
   "metadata": {
    "colab_type": "text",
    "id": "eml0Lge4oOuh"
   },
   "source": [
    "#### Initialize the Tokenizer class with maximum vocabulary count as `MAX_NB_WORDS` initialized at the start of step2. "
   ]
  },
  {
   "cell_type": "code",
   "execution_count": 0,
   "metadata": {
    "colab": {},
    "colab_type": "code",
    "id": "Qm85qirPofc2"
   },
   "outputs": [],
   "source": [
    "tokenizer = Tokenizer(num_words=MAX_NB_WORDS, lower=True, filters='!\"#$%&()*+,-./:;<=>?@[\\\\]^_`{|}~\\t\\n')"
   ]
  },
  {
   "cell_type": "markdown",
   "metadata": {
    "colab_type": "text",
    "id": "HBe1KuXDosJ7"
   },
   "source": [
    "#### Now, using fit_on_texts() from Tokenizer class, lets encode the data \n",
    "\n",
    "Note: We need to fit articleBody and Headline also to cover all the words."
   ]
  },
  {
   "cell_type": "code",
   "execution_count": 0,
   "metadata": {
    "colab": {},
    "colab_type": "code",
    "id": "HUTOsCoTZtai"
   },
   "outputs": [],
   "source": [
    "comb_data = train['articleBody'] + train['Headline']\n",
    "tokenizer.fit_on_texts(comb_data)"
   ]
  },
  {
   "cell_type": "code",
   "execution_count": 0,
   "metadata": {
    "colab": {},
    "colab_type": "code",
    "id": "Q5rk-UyBlmyA"
   },
   "outputs": [],
   "source": []
  },
  {
   "cell_type": "markdown",
   "metadata": {
    "colab_type": "text",
    "id": "omptHX-JpBsN"
   },
   "source": [
    "#### fit_on_texts() gives the following attributes in the output as given [here](https://faroit.github.io/keras-docs/1.2.2/preprocessing/text/).\n",
    "\n",
    "* **word_counts:** dictionary mapping words (str) to the number of times they appeared on during fit. Only set after fit_on_texts was called.\n",
    "\n",
    "* **word_docs:** dictionary mapping words (str) to the number of documents/texts they appeared on during fit. Only set after fit_on_texts was called.\n",
    "\n",
    "* **word_index:** dictionary mapping words (str) to their rank/index (int). Only set after fit_on_texts was called.\n",
    "\n",
    "* **document_count:** int. Number of documents (texts/sequences) the tokenizer was trained on. Only set after fit_on_texts or fit_on_sequences was called.\n",
    "\n"
   ]
  },
  {
   "cell_type": "markdown",
   "metadata": {
    "colab_type": "text",
    "id": "SHnsT2sTtFAA"
   },
   "source": [
    "### Now, tokenize the sentences using nltk sent_tokenize() and encode the senteces with the ids we got form the above `t.word_index`\n",
    "\n",
    "Initialise 2 lists with names `texts` and `articles`.\n",
    "\n",
    "```\n",
    "texts = [] to store text of article as it is.\n",
    "\n",
    "articles = [] split the above text into a list of sentences.\n",
    "```"
   ]
  },
  {
   "cell_type": "code",
   "execution_count": 0,
   "metadata": {
    "colab": {},
    "colab_type": "code",
    "id": "nkyV3aZp_JFC"
   },
   "outputs": [],
   "source": [
    "word_idx = tokenizer.word_index"
   ]
  },
  {
   "cell_type": "code",
   "execution_count": 0,
   "metadata": {
    "colab": {},
    "colab_type": "code",
    "id": "ctEu-d4c4EZs"
   },
   "outputs": [],
   "source": [
    "from nltk.tokenize import sent_tokenize\n",
    "texts = []\n",
    "articles = []\n",
    "for i in range(len(train['articleBody'])):\n",
    "  texts.append(train['articleBody'].iloc[i])\n",
    "  articles.append(sent_tokenize(train['articleBody'].iloc[i]))"
   ]
  },
  {
   "cell_type": "markdown",
   "metadata": {
    "colab_type": "text",
    "id": "koTVJjoO6P78"
   },
   "source": [
    "## Check 2:\n",
    "\n",
    "first element of texts and articles should be as given below. "
   ]
  },
  {
   "cell_type": "code",
   "execution_count": 15,
   "metadata": {
    "colab": {
     "base_uri": "https://localhost:8080/",
     "height": 55
    },
    "colab_type": "code",
    "id": "3mWBW99p5UW9",
    "outputId": "e7460f11-ecf3-4b43-8749-e1e4ccb0a550"
   },
   "outputs": [
    {
     "data": {
      "text/plain": [
       "'A small meteorite crashed into a wooded area in Nicaragua\\'s capital of Managua overnight, the government said Sunday. Residents reported hearing a mysterious boom that left a 16-foot deep crater near the city\\'s airport, the Associated Press reports. \\n\\nGovernment spokeswoman Rosario Murillo said a committee formed by the government to study the event determined it was a \"relatively small\" meteorite that \"appears to have come off an asteroid that was passing close to Earth.\" House-sized asteroid 2014 RC, which measured 60 feet in diameter, skimmed the Earth this weekend, ABC News reports. \\nMurillo said Nicaragua will ask international experts to help local scientists in understanding what happened.\\n\\nThe crater left by the meteorite had a radius of 39 feet and a depth of 16 feet,  said Humberto Saballos, a volcanologist with the Nicaraguan Institute of Territorial Studies who was on the committee. He said it is still not clear if the meteorite disintegrated or was buried.\\n\\nHumberto Garcia, of the Astronomy Center at the National Autonomous University of Nicaragua, said the meteorite could be related to an asteroid that was forecast to pass by the planet Saturday night.\\n\\n\"We have to study it more because it could be ice or rock,\" he said.\\n\\nWilfried Strauch, an adviser to the Institute of Territorial Studies, said it was \"very strange that no one reported a streak of light. We have to ask if anyone has a photo or something.\"\\n\\nLocal residents reported hearing a loud boom Saturday night, but said they didn\\'t see anything strange in the sky.\\n\\n\"I was sitting on my porch and I saw nothing, then all of a sudden I heard a large blast. We thought it was a bomb because we felt an expansive wave,\" Jorge Santamaria told The Associated Press.\\n\\nThe site of the crater is near Managua\\'s international airport and an air force base. Only journalists from state media were allowed to visit it.'"
      ]
     },
     "execution_count": 15,
     "metadata": {
      "tags": []
     },
     "output_type": "execute_result"
    }
   ],
   "source": [
    "texts[0]"
   ]
  },
  {
   "cell_type": "code",
   "execution_count": 16,
   "metadata": {
    "colab": {
     "base_uri": "https://localhost:8080/",
     "height": 315
    },
    "colab_type": "code",
    "id": "WtIjO3ht5EKA",
    "outputId": "f66cf071-07d2-4c87-86ca-0ea3a4b62b14"
   },
   "outputs": [
    {
     "data": {
      "text/plain": [
       "[\"A small meteorite crashed into a wooded area in Nicaragua's capital of Managua overnight, the government said Sunday.\",\n",
       " \"Residents reported hearing a mysterious boom that left a 16-foot deep crater near the city's airport, the Associated Press reports.\",\n",
       " 'Government spokeswoman Rosario Murillo said a committee formed by the government to study the event determined it was a \"relatively small\" meteorite that \"appears to have come off an asteroid that was passing close to Earth.\"',\n",
       " 'House-sized asteroid 2014 RC, which measured 60 feet in diameter, skimmed the Earth this weekend, ABC News reports.',\n",
       " 'Murillo said Nicaragua will ask international experts to help local scientists in understanding what happened.',\n",
       " 'The crater left by the meteorite had a radius of 39 feet and a depth of 16 feet,  said Humberto Saballos, a volcanologist with the Nicaraguan Institute of Territorial Studies who was on the committee.',\n",
       " 'He said it is still not clear if the meteorite disintegrated or was buried.',\n",
       " 'Humberto Garcia, of the Astronomy Center at the National Autonomous University of Nicaragua, said the meteorite could be related to an asteroid that was forecast to pass by the planet Saturday night.',\n",
       " '\"We have to study it more because it could be ice or rock,\" he said.',\n",
       " 'Wilfried Strauch, an adviser to the Institute of Territorial Studies, said it was \"very strange that no one reported a streak of light.',\n",
       " 'We have to ask if anyone has a photo or something.\"',\n",
       " \"Local residents reported hearing a loud boom Saturday night, but said they didn't see anything strange in the sky.\",\n",
       " '\"I was sitting on my porch and I saw nothing, then all of a sudden I heard a large blast.',\n",
       " 'We thought it was a bomb because we felt an expansive wave,\" Jorge Santamaria told The Associated Press.',\n",
       " \"The site of the crater is near Managua's international airport and an air force base.\",\n",
       " 'Only journalists from state media were allowed to visit it.']"
      ]
     },
     "execution_count": 16,
     "metadata": {
      "tags": []
     },
     "output_type": "execute_result"
    }
   ],
   "source": [
    "articles[0]"
   ]
  },
  {
   "cell_type": "markdown",
   "metadata": {
    "colab_type": "text",
    "id": "fpuRIA7cCfcY"
   },
   "source": [
    "# Now iterate through each article and each sentence to encode the words into ids using t.word_index  [5 marks] \n",
    "\n",
    "Here, to get words from sentence you can use `text_to_word_sequence` from keras preprocessing text.\n",
    "\n",
    "1. Import text_to_word_sequence\n",
    "\n",
    "2. Initialize a variable of shape (no.of articles, MAX_SENTS, MAX_SENT_LENGTH) with name `data` with zeros first (you can use numpy [np.zeros](https://docs.scipy.org/doc/numpy/reference/generated/numpy.zeros.html) to initialize with all zeros)and then update it while iterating through the words and sentences in each article."
   ]
  },
  {
   "cell_type": "code",
   "execution_count": 0,
   "metadata": {
    "colab": {},
    "colab_type": "code",
    "id": "YVyClBULCqWj"
   },
   "outputs": [],
   "source": [
    "from keras.preprocessing.text import text_to_word_sequence\n",
    "import numpy as np"
   ]
  },
  {
   "cell_type": "code",
   "execution_count": 18,
   "metadata": {
    "colab": {
     "base_uri": "https://localhost:8080/",
     "height": 35
    },
    "colab_type": "code",
    "id": "-6jdiWjSa381",
    "outputId": "61560e89-b955-494c-924d-4dd891365b43"
   },
   "outputs": [
    {
     "data": {
      "text/plain": [
       "(1683, 20, 20)"
      ]
     },
     "execution_count": 18,
     "metadata": {
      "tags": []
     },
     "output_type": "execute_result"
    }
   ],
   "source": [
    "data = np.zeros((len(articles), MAX_SENTS, MAX_SENT_LENGTH))\n",
    "data.shape"
   ]
  },
  {
   "cell_type": "code",
   "execution_count": 19,
   "metadata": {
    "colab": {
     "base_uri": "https://localhost:8080/",
     "height": 9509
    },
    "colab_type": "code",
    "id": "3BSCnorna7_A",
    "outputId": "2b6a5bc3-4be5-4989-87e6-ba6ccfe3fe28"
   },
   "outputs": [
    {
     "name": "stdout",
     "output_type": "stream",
     "text": [
      "processing sentence .... 0\n",
      "processing sentence .... 1\n",
      "processing sentence .... 2\n",
      "processing sentence .... 3\n",
      "processing sentence .... 4\n",
      "processing sentence .... 5\n",
      "processing sentence .... 6\n",
      "processing sentence .... 7\n",
      "processing sentence .... 8\n",
      "processing sentence .... 9\n",
      "processing sentence .... 10\n",
      "processing sentence .... 11\n",
      "processing sentence .... 12\n",
      "processing sentence .... 13\n",
      "processing sentence .... 14\n",
      "processing sentence .... 15\n",
      "processing sentence .... 0\n",
      "processing sentence .... 1\n",
      "processing sentence .... 2\n",
      "processing sentence .... 3\n",
      "processing sentence .... 4\n",
      "processing sentence .... 0\n",
      "processing sentence .... 1\n",
      "processing sentence .... 2\n",
      "processing sentence .... 3\n",
      "processing sentence .... 4\n",
      "processing sentence .... 5\n",
      "processing sentence .... 6\n",
      "processing sentence .... 7\n",
      "processing sentence .... 8\n",
      "processing sentence .... 9\n",
      "processing sentence .... 10\n",
      "processing sentence .... 11\n",
      "processing sentence .... 0\n",
      "processing sentence .... 1\n",
      "processing sentence .... 2\n",
      "processing sentence .... 3\n",
      "processing sentence .... 4\n",
      "processing sentence .... 5\n",
      "processing sentence .... 6\n",
      "processing sentence .... 7\n",
      "processing sentence .... 8\n",
      "processing sentence .... 9\n",
      "processing sentence .... 10\n",
      "processing sentence .... 11\n",
      "processing sentence .... 12\n",
      "processing sentence .... 13\n",
      "processing sentence .... 14\n",
      "processing sentence .... 15\n",
      "processing sentence .... 16\n",
      "processing sentence .... 17\n",
      "processing sentence .... 18\n",
      "processing sentence .... 0\n",
      "processing sentence .... 1\n",
      "processing sentence .... 2\n",
      "processing sentence .... 3\n",
      "processing sentence .... 4\n",
      "processing sentence .... 5\n",
      "processing sentence .... 6\n",
      "processing sentence .... 7\n",
      "processing sentence .... 8\n",
      "processing sentence .... 9\n",
      "processing sentence .... 10\n",
      "processing sentence .... 11\n",
      "processing sentence .... 12\n",
      "processing sentence .... 13\n",
      "processing sentence .... 0\n",
      "processing sentence .... 1\n",
      "processing sentence .... 2\n",
      "processing sentence .... 3\n",
      "processing sentence .... 4\n",
      "processing sentence .... 5\n",
      "processing sentence .... 6\n",
      "processing sentence .... 7\n",
      "processing sentence .... 8\n",
      "processing sentence .... 9\n",
      "processing sentence .... 10\n",
      "processing sentence .... 11\n",
      "processing sentence .... 12\n",
      "processing sentence .... 13\n",
      "processing sentence .... 14\n",
      "processing sentence .... 15\n",
      "processing sentence .... 16\n",
      "processing sentence .... 17\n",
      "processing sentence .... 18\n",
      "processing sentence .... 19\n",
      "processing sentence .... 20\n",
      "processing sentence .... 21\n",
      "processing sentence .... 22\n",
      "processing sentence .... 23\n",
      "processing sentence .... 24\n",
      "processing sentence .... 25\n",
      "processing sentence .... 26\n",
      "processing sentence .... 27\n",
      "processing sentence .... 28\n",
      "processing sentence .... 29\n",
      "processing sentence .... 30\n",
      "processing sentence .... 31\n",
      "processing sentence .... 32\n",
      "processing sentence .... 33\n",
      "processing sentence .... 34\n",
      "processing sentence .... 35\n",
      "processing sentence .... 36\n",
      "processing sentence .... 37\n",
      "processing sentence .... 38\n",
      "processing sentence .... 39\n",
      "processing sentence .... 40\n",
      "processing sentence .... 41\n",
      "processing sentence .... 42\n",
      "processing sentence .... 43\n",
      "processing sentence .... 44\n",
      "processing sentence .... 45\n",
      "processing sentence .... 46\n",
      "processing sentence .... 47\n",
      "processing sentence .... 48\n",
      "processing sentence .... 49\n",
      "processing sentence .... 50\n",
      "processing sentence .... 51\n",
      "processing sentence .... 52\n",
      "processing sentence .... 53\n",
      "processing sentence .... 54\n",
      "processing sentence .... 55\n",
      "processing sentence .... 56\n",
      "processing sentence .... 57\n",
      "processing sentence .... 58\n",
      "processing sentence .... 59\n",
      "processing sentence .... 60\n",
      "processing sentence .... 61\n",
      "processing sentence .... 62\n",
      "processing sentence .... 63\n",
      "processing sentence .... 64\n",
      "processing sentence .... 65\n",
      "processing sentence .... 66\n",
      "processing sentence .... 67\n",
      "processing sentence .... 68\n",
      "processing sentence .... 69\n",
      "processing sentence .... 70\n",
      "processing sentence .... 71\n",
      "processing sentence .... 72\n",
      "processing sentence .... 73\n",
      "processing sentence .... 74\n",
      "processing sentence .... 75\n",
      "processing sentence .... 76\n",
      "processing sentence .... 0\n",
      "processing sentence .... 1\n",
      "processing sentence .... 2\n",
      "processing sentence .... 3\n",
      "processing sentence .... 4\n",
      "processing sentence .... 5\n",
      "processing sentence .... 6\n",
      "processing sentence .... 7\n",
      "processing sentence .... 8\n",
      "processing sentence .... 9\n",
      "processing sentence .... 10\n",
      "processing sentence .... 11\n",
      "processing sentence .... 12\n",
      "processing sentence .... 13\n",
      "processing sentence .... 14\n",
      "processing sentence .... 15\n",
      "processing sentence .... 16\n",
      "processing sentence .... 17\n",
      "processing sentence .... 18\n",
      "processing sentence .... 19\n",
      "processing sentence .... 20\n",
      "processing sentence .... 21\n",
      "processing sentence .... 22\n",
      "processing sentence .... 0\n",
      "processing sentence .... 1\n",
      "processing sentence .... 2\n",
      "processing sentence .... 3\n",
      "processing sentence .... 4\n",
      "processing sentence .... 5\n",
      "processing sentence .... 6\n",
      "processing sentence .... 7\n",
      "processing sentence .... 8\n",
      "processing sentence .... 9\n",
      "processing sentence .... 10\n",
      "processing sentence .... 11\n",
      "processing sentence .... 12\n",
      "processing sentence .... 13\n",
      "processing sentence .... 14\n",
      "processing sentence .... 15\n",
      "processing sentence .... 16\n",
      "processing sentence .... 17\n",
      "processing sentence .... 18\n",
      "processing sentence .... 19\n",
      "processing sentence .... 20\n",
      "processing sentence .... 21\n",
      "processing sentence .... 22\n",
      "processing sentence .... 23\n",
      "processing sentence .... 24\n",
      "processing sentence .... 0\n",
      "processing sentence .... 1\n",
      "processing sentence .... 2\n",
      "processing sentence .... 3\n",
      "processing sentence .... 4\n",
      "processing sentence .... 5\n",
      "processing sentence .... 6\n",
      "processing sentence .... 7\n",
      "processing sentence .... 8\n",
      "processing sentence .... 9\n",
      "processing sentence .... 10\n",
      "processing sentence .... 11\n",
      "processing sentence .... 0\n",
      "processing sentence .... 1\n",
      "processing sentence .... 2\n",
      "processing sentence .... 0\n",
      "processing sentence .... 1\n",
      "processing sentence .... 2\n",
      "processing sentence .... 3\n",
      "processing sentence .... 4\n",
      "processing sentence .... 5\n",
      "processing sentence .... 6\n",
      "processing sentence .... 7\n",
      "processing sentence .... 8\n",
      "processing sentence .... 9\n",
      "processing sentence .... 10\n",
      "processing sentence .... 11\n",
      "processing sentence .... 12\n",
      "processing sentence .... 13\n",
      "processing sentence .... 14\n",
      "processing sentence .... 15\n",
      "processing sentence .... 16\n",
      "processing sentence .... 17\n",
      "processing sentence .... 18\n",
      "processing sentence .... 19\n",
      "processing sentence .... 20\n",
      "processing sentence .... 21\n",
      "processing sentence .... 22\n",
      "processing sentence .... 23\n",
      "processing sentence .... 24\n",
      "processing sentence .... 25\n",
      "processing sentence .... 26\n",
      "processing sentence .... 0\n",
      "processing sentence .... 1\n",
      "processing sentence .... 2\n",
      "processing sentence .... 3\n",
      "processing sentence .... 4\n",
      "processing sentence .... 5\n",
      "processing sentence .... 6\n",
      "processing sentence .... 7\n",
      "processing sentence .... 8\n",
      "processing sentence .... 9\n",
      "processing sentence .... 0\n",
      "processing sentence .... 1\n",
      "processing sentence .... 2\n",
      "processing sentence .... 3\n",
      "processing sentence .... 4\n",
      "processing sentence .... 5\n",
      "processing sentence .... 6\n",
      "processing sentence .... 7\n",
      "processing sentence .... 8\n",
      "processing sentence .... 9\n",
      "processing sentence .... 10\n",
      "processing sentence .... 11\n",
      "processing sentence .... 12\n",
      "processing sentence .... 13\n",
      "processing sentence .... 14\n",
      "processing sentence .... 0\n",
      "processing sentence .... 1\n",
      "processing sentence .... 2\n",
      "processing sentence .... 3\n",
      "processing sentence .... 4\n",
      "processing sentence .... 5\n",
      "processing sentence .... 6\n",
      "processing sentence .... 7\n",
      "processing sentence .... 8\n",
      "processing sentence .... 9\n",
      "processing sentence .... 10\n",
      "processing sentence .... 11\n",
      "processing sentence .... 12\n",
      "processing sentence .... 13\n",
      "processing sentence .... 14\n",
      "processing sentence .... 0\n",
      "processing sentence .... 1\n",
      "processing sentence .... 2\n",
      "processing sentence .... 3\n",
      "processing sentence .... 4\n",
      "processing sentence .... 5\n",
      "processing sentence .... 0\n",
      "processing sentence .... 1\n",
      "processing sentence .... 2\n",
      "processing sentence .... 3\n",
      "processing sentence .... 4\n",
      "processing sentence .... 5\n",
      "processing sentence .... 6\n",
      "processing sentence .... 7\n",
      "processing sentence .... 8\n",
      "processing sentence .... 9\n",
      "processing sentence .... 10\n",
      "processing sentence .... 11\n",
      "processing sentence .... 12\n",
      "processing sentence .... 13\n",
      "processing sentence .... 14\n",
      "processing sentence .... 15\n",
      "processing sentence .... 0\n",
      "processing sentence .... 1\n",
      "processing sentence .... 2\n",
      "processing sentence .... 3\n",
      "processing sentence .... 4\n",
      "processing sentence .... 5\n",
      "processing sentence .... 6\n",
      "processing sentence .... 7\n",
      "processing sentence .... 8\n",
      "processing sentence .... 9\n",
      "processing sentence .... 10\n",
      "processing sentence .... 11\n",
      "processing sentence .... 12\n",
      "processing sentence .... 13\n",
      "processing sentence .... 14\n",
      "processing sentence .... 15\n",
      "processing sentence .... 16\n",
      "processing sentence .... 17\n",
      "processing sentence .... 18\n",
      "processing sentence .... 0\n",
      "processing sentence .... 1\n",
      "processing sentence .... 2\n",
      "processing sentence .... 3\n",
      "processing sentence .... 4\n",
      "processing sentence .... 5\n",
      "processing sentence .... 6\n",
      "processing sentence .... 7\n",
      "processing sentence .... 8\n",
      "processing sentence .... 9\n",
      "processing sentence .... 10\n",
      "processing sentence .... 11\n",
      "processing sentence .... 12\n",
      "processing sentence .... 13\n",
      "processing sentence .... 14\n",
      "processing sentence .... 15\n",
      "processing sentence .... 16\n",
      "processing sentence .... 0\n",
      "processing sentence .... 1\n",
      "processing sentence .... 2\n",
      "processing sentence .... 3\n",
      "processing sentence .... 4\n",
      "processing sentence .... 5\n",
      "processing sentence .... 6\n",
      "processing sentence .... 7\n",
      "processing sentence .... 8\n",
      "processing sentence .... 9\n",
      "processing sentence .... 10\n",
      "processing sentence .... 11\n",
      "processing sentence .... 12\n",
      "processing sentence .... 0\n",
      "processing sentence .... 1\n",
      "processing sentence .... 2\n",
      "processing sentence .... 3\n",
      "processing sentence .... 4\n",
      "processing sentence .... 5\n",
      "processing sentence .... 6\n",
      "processing sentence .... 7\n",
      "processing sentence .... 8\n",
      "processing sentence .... 9\n",
      "processing sentence .... 10\n",
      "processing sentence .... 11\n",
      "processing sentence .... 12\n",
      "processing sentence .... 13\n",
      "processing sentence .... 14\n",
      "processing sentence .... 15\n",
      "processing sentence .... 16\n",
      "processing sentence .... 17\n",
      "processing sentence .... 18\n",
      "processing sentence .... 19\n",
      "processing sentence .... 20\n",
      "processing sentence .... 0\n",
      "processing sentence .... 1\n",
      "processing sentence .... 2\n",
      "processing sentence .... 3\n",
      "processing sentence .... 4\n",
      "processing sentence .... 5\n",
      "processing sentence .... 6\n",
      "processing sentence .... 7\n",
      "processing sentence .... 8\n",
      "processing sentence .... 9\n",
      "processing sentence .... 10\n",
      "processing sentence .... 11\n",
      "processing sentence .... 12\n",
      "processing sentence .... 13\n",
      "processing sentence .... 14\n",
      "processing sentence .... 15\n",
      "processing sentence .... 16\n",
      "processing sentence .... 17\n",
      "processing sentence .... 18\n",
      "processing sentence .... 19\n",
      "processing sentence .... 20\n",
      "processing sentence .... 21\n",
      "processing sentence .... 22\n",
      "processing sentence .... 23\n",
      "processing sentence .... 24\n",
      "processing sentence .... 25\n",
      "processing sentence .... 26\n",
      "processing sentence .... 27\n",
      "processing sentence .... 28\n",
      "processing sentence .... 29\n",
      "processing sentence .... 30\n",
      "processing sentence .... 31\n",
      "processing sentence .... 32\n",
      "processing sentence .... 33\n",
      "processing sentence .... 34\n",
      "processing sentence .... 35\n",
      "processing sentence .... 36\n",
      "processing sentence .... 37\n",
      "processing sentence .... 38\n",
      "processing sentence .... 39\n",
      "processing sentence .... 40\n",
      "processing sentence .... 41\n",
      "processing sentence .... 0\n",
      "processing sentence .... 1\n",
      "processing sentence .... 2\n",
      "processing sentence .... 3\n",
      "processing sentence .... 4\n",
      "processing sentence .... 5\n",
      "processing sentence .... 6\n",
      "processing sentence .... 7\n",
      "processing sentence .... 8\n",
      "processing sentence .... 9\n",
      "processing sentence .... 10\n",
      "processing sentence .... 11\n",
      "processing sentence .... 12\n",
      "processing sentence .... 13\n",
      "processing sentence .... 14\n",
      "processing sentence .... 0\n",
      "processing sentence .... 1\n",
      "processing sentence .... 2\n",
      "processing sentence .... 3\n",
      "processing sentence .... 4\n",
      "processing sentence .... 5\n",
      "processing sentence .... 6\n",
      "processing sentence .... 7\n",
      "processing sentence .... 8\n",
      "processing sentence .... 9\n",
      "processing sentence .... 10\n",
      "processing sentence .... 11\n",
      "processing sentence .... 12\n",
      "processing sentence .... 13\n",
      "processing sentence .... 14\n",
      "processing sentence .... 15\n",
      "processing sentence .... 16\n",
      "processing sentence .... 17\n",
      "processing sentence .... 0\n",
      "processing sentence .... 1\n",
      "processing sentence .... 2\n",
      "processing sentence .... 3\n",
      "processing sentence .... 4\n",
      "processing sentence .... 5\n",
      "processing sentence .... 6\n",
      "processing sentence .... 7\n",
      "processing sentence .... 8\n",
      "processing sentence .... 9\n",
      "processing sentence .... 10\n",
      "processing sentence .... 11\n",
      "processing sentence .... 12\n",
      "processing sentence .... 13\n",
      "processing sentence .... 14\n",
      "processing sentence .... 15\n",
      "processing sentence .... 16\n",
      "processing sentence .... 17\n",
      "processing sentence .... 18\n",
      "processing sentence .... 19\n",
      "processing sentence .... 20\n",
      "processing sentence .... 21\n",
      "processing sentence .... 22\n",
      "processing sentence .... 23\n",
      "processing sentence .... 24\n",
      "processing sentence .... 25\n",
      "processing sentence .... 26\n",
      "processing sentence .... 27\n",
      "processing sentence .... 0\n",
      "processing sentence .... 1\n",
      "processing sentence .... 2\n",
      "processing sentence .... 3\n",
      "processing sentence .... 4\n",
      "processing sentence .... 5\n",
      "processing sentence .... 6\n",
      "processing sentence .... 7\n",
      "processing sentence .... 8\n",
      "processing sentence .... 9\n",
      "processing sentence .... 10\n",
      "processing sentence .... 11\n",
      "processing sentence .... 12\n",
      "processing sentence .... 13\n",
      "processing sentence .... 14\n",
      "processing sentence .... 15\n",
      "processing sentence .... 16\n",
      "processing sentence .... 17\n",
      "processing sentence .... 18\n",
      "processing sentence .... 19\n",
      "processing sentence .... 20\n",
      "processing sentence .... 21\n",
      "processing sentence .... 22\n",
      "processing sentence .... 23\n",
      "processing sentence .... 24\n",
      "processing sentence .... 25\n",
      "processing sentence .... 26\n",
      "processing sentence .... 27\n",
      "processing sentence .... 28\n",
      "processing sentence .... 29\n",
      "processing sentence .... 30\n",
      "processing sentence .... 31\n",
      "processing sentence .... 32\n",
      "processing sentence .... 33\n",
      "processing sentence .... 34\n",
      "processing sentence .... 35\n",
      "processing sentence .... 36\n",
      "processing sentence .... 37\n",
      "processing sentence .... 38\n",
      "processing sentence .... 39\n",
      "processing sentence .... 40\n",
      "processing sentence .... 41\n",
      "processing sentence .... 42\n",
      "processing sentence .... 43\n",
      "processing sentence .... 44\n",
      "processing sentence .... 0\n",
      "processing sentence .... 1\n",
      "processing sentence .... 2\n",
      "processing sentence .... 3\n",
      "processing sentence .... 4\n",
      "processing sentence .... 5\n",
      "processing sentence .... 6\n",
      "processing sentence .... 7\n",
      "processing sentence .... 0\n",
      "processing sentence .... 1\n",
      "processing sentence .... 2\n",
      "processing sentence .... 0\n",
      "processing sentence .... 1\n",
      "processing sentence .... 2\n",
      "processing sentence .... 3\n",
      "processing sentence .... 4\n",
      "processing sentence .... 5\n",
      "processing sentence .... 6\n",
      "processing sentence .... 7\n",
      "processing sentence .... 8\n",
      "processing sentence .... 9\n",
      "processing sentence .... 10\n",
      "processing sentence .... 11\n",
      "processing sentence .... 12\n"
     ]
    },
    {
     "ename": "KeyError",
     "evalue": "ignored",
     "output_type": "error",
     "traceback": [
      "\u001b[0;31m---------------------------------------------------------------------------\u001b[0m",
      "\u001b[0;31mKeyError\u001b[0m                                  Traceback (most recent call last)",
      "\u001b[0;32m<ipython-input-19-89966cc3ce01>\u001b[0m in \u001b[0;36m<module>\u001b[0;34m()\u001b[0m\n\u001b[1;32m      6\u001b[0m       \u001b[0;32mfor\u001b[0m \u001b[0mk\u001b[0m\u001b[0;34m,\u001b[0m \u001b[0mword\u001b[0m \u001b[0;32min\u001b[0m \u001b[0menumerate\u001b[0m\u001b[0;34m(\u001b[0m\u001b[0mdummy\u001b[0m\u001b[0;34m)\u001b[0m\u001b[0;34m:\u001b[0m\u001b[0;34m\u001b[0m\u001b[0;34m\u001b[0m\u001b[0m\n\u001b[1;32m      7\u001b[0m         \u001b[0;32mif\u001b[0m \u001b[0mk\u001b[0m \u001b[0;34m<\u001b[0m \u001b[0mMAX_SENT_LENGTH\u001b[0m\u001b[0;34m:\u001b[0m\u001b[0;34m\u001b[0m\u001b[0;34m\u001b[0m\u001b[0m\n\u001b[0;32m----> 8\u001b[0;31m           \u001b[0mdata\u001b[0m\u001b[0;34m[\u001b[0m\u001b[0mi\u001b[0m\u001b[0;34m]\u001b[0m\u001b[0;34m[\u001b[0m\u001b[0mj\u001b[0m\u001b[0;34m]\u001b[0m\u001b[0;34m[\u001b[0m\u001b[0mk\u001b[0m\u001b[0;34m]\u001b[0m \u001b[0;34m=\u001b[0m \u001b[0mdict\u001b[0m\u001b[0;34m(\u001b[0m\u001b[0mtokenizer\u001b[0m\u001b[0;34m.\u001b[0m\u001b[0mword_index\u001b[0m\u001b[0;34m)\u001b[0m\u001b[0;34m[\u001b[0m\u001b[0mword\u001b[0m\u001b[0;34m]\u001b[0m\u001b[0;34m\u001b[0m\u001b[0;34m\u001b[0m\u001b[0m\n\u001b[0m",
      "\u001b[0;31mKeyError\u001b[0m: 'mariamzzarella'"
     ]
    }
   ],
   "source": [
    "for i, art in enumerate(articles):\n",
    "  for j, sent in enumerate(art):\n",
    "    print('processing sentence ....', j)\n",
    "    if j < MAX_SENTS:\n",
    "      dummy = text_to_word_sequence(sent)\n",
    "      for k, word in enumerate(dummy):\n",
    "        if k < MAX_SENT_LENGTH:\n",
    "          data[i][j][k] = dict(tokenizer.word_index)[word]"
   ]
  },
  {
   "cell_type": "markdown",
   "metadata": {
    "colab_type": "text",
    "id": "bFdmiDYcE144"
   },
   "source": [
    "### Check 3:\n",
    "\n",
    "Accessing first element in data should give something like given below."
   ]
  },
  {
   "cell_type": "code",
   "execution_count": 20,
   "metadata": {
    "colab": {
     "base_uri": "https://localhost:8080/",
     "height": 1404
    },
    "colab_type": "code",
    "id": "TsFWW5C2Djog",
    "outputId": "2485cb82-dae8-4a21-d599-160c2ab97f30"
   },
   "outputs": [
    {
     "data": {
      "text/plain": [
       "array([[3.0000e+00, 4.0900e+02, 4.4600e+02, 6.3600e+03, 8.2000e+01,\n",
       "        3.0000e+00, 3.6210e+03, 3.1600e+02, 5.0000e+00, 3.9200e+03,\n",
       "        3.7900e+02, 4.0000e+00, 1.4630e+03, 2.9570e+03, 1.0000e+00,\n",
       "        1.0200e+02, 1.5000e+01, 4.2300e+02, 0.0000e+00, 0.0000e+00],\n",
       "       [8.3600e+02, 9.3000e+01, 1.3660e+03, 3.0000e+00, 2.3950e+03,\n",
       "        2.3960e+03, 7.0000e+00, 1.7600e+02, 3.0000e+00, 9.4800e+02,\n",
       "        1.4150e+03, 1.8870e+03, 7.2800e+02, 1.8800e+02, 1.0000e+00,\n",
       "        3.5080e+03, 4.1000e+02, 1.0000e+00, 6.7700e+02, 2.6700e+02],\n",
       "       [1.0200e+02, 1.0900e+03, 4.0760e+03, 2.6420e+03, 1.5000e+01,\n",
       "        3.0000e+00, 1.2300e+03, 3.2580e+03, 1.9000e+01, 1.0000e+00,\n",
       "        1.0200e+02, 2.0000e+00, 1.9340e+03, 1.0000e+00, 5.2200e+02,\n",
       "        2.6430e+03, 1.4000e+01, 1.0000e+01, 3.0000e+00, 3.0590e+03],\n",
       "       [1.9200e+02, 3.3810e+03, 8.5500e+02, 1.6400e+02, 2.3520e+03,\n",
       "        4.3000e+01, 5.5460e+03, 1.8440e+03, 1.0440e+03, 5.0000e+00,\n",
       "        1.0631e+04, 1.6669e+04, 1.0000e+00, 6.3400e+02, 2.7000e+01,\n",
       "        9.1200e+02, 3.1510e+03, 6.6000e+01, 8.4000e+01, 0.0000e+00],\n",
       "       [2.6420e+03, 1.5000e+01, 1.4400e+03, 3.7000e+01, 9.5800e+02,\n",
       "        3.6900e+02, 7.0700e+02, 2.0000e+00, 3.2100e+02, 2.4200e+02,\n",
       "        1.5980e+03, 5.0000e+00, 4.0770e+03, 7.9000e+01, 4.8700e+02,\n",
       "        0.0000e+00, 0.0000e+00, 0.0000e+00, 0.0000e+00, 0.0000e+00],\n",
       "       [1.0000e+00, 7.2800e+02, 1.7600e+02, 1.9000e+01, 1.0000e+00,\n",
       "        4.4600e+02, 3.0000e+01, 3.0000e+00, 7.4760e+03, 4.0000e+00,\n",
       "        2.3530e+03, 1.0440e+03, 6.0000e+00, 3.0000e+00, 4.6940e+03,\n",
       "        4.0000e+00, 9.4800e+02, 1.0440e+03, 1.5000e+01, 3.7650e+03],\n",
       "       [1.2000e+01, 1.5000e+01, 1.4000e+01, 8.0000e+00, 1.4100e+02,\n",
       "        2.5000e+01, 5.1800e+02, 6.8000e+01, 1.0000e+00, 4.4600e+02,\n",
       "        4.0780e+03, 4.2000e+01, 1.0000e+01, 2.1050e+03, 0.0000e+00,\n",
       "        0.0000e+00, 0.0000e+00, 0.0000e+00, 0.0000e+00, 0.0000e+00],\n",
       "       [3.7650e+03, 5.9150e+03, 4.0000e+00, 1.0000e+00, 5.5480e+03,\n",
       "        7.0000e+02, 2.0000e+01, 1.0000e+00, 3.1300e+02, 4.4680e+03,\n",
       "        5.8800e+02, 4.0000e+00, 1.4400e+03, 1.5000e+01, 1.0000e+00,\n",
       "        4.4600e+02, 7.0000e+01, 2.3000e+01, 7.5000e+02, 2.0000e+00],\n",
       "       [3.9000e+01, 1.8000e+01, 2.0000e+00, 1.9340e+03, 1.4000e+01,\n",
       "        5.4000e+01, 1.1700e+02, 1.4000e+01, 7.0000e+01, 2.3000e+01,\n",
       "        4.9530e+03, 4.2000e+01, 1.8170e+03, 1.2000e+01, 1.5000e+01,\n",
       "        0.0000e+00, 0.0000e+00, 0.0000e+00, 0.0000e+00, 0.0000e+00],\n",
       "       [4.9540e+03, 3.6220e+03, 2.4000e+01, 3.5100e+03, 2.0000e+00,\n",
       "        1.0000e+00, 1.4160e+03, 4.0000e+00, 3.1520e+03, 1.7420e+03,\n",
       "        1.5000e+01, 1.4000e+01, 1.0000e+01, 1.9100e+02, 1.4170e+03,\n",
       "        7.0000e+00, 5.9000e+01, 4.1000e+01, 9.3000e+01, 3.0000e+00],\n",
       "       [3.9000e+01, 1.8000e+01, 2.0000e+00, 9.5800e+02, 6.8000e+01,\n",
       "        5.3400e+02, 2.1000e+01, 3.0000e+00, 2.4400e+02, 4.2000e+01,\n",
       "        2.5200e+02, 0.0000e+00, 0.0000e+00, 0.0000e+00, 0.0000e+00,\n",
       "        0.0000e+00, 0.0000e+00, 0.0000e+00, 0.0000e+00, 0.0000e+00],\n",
       "       [2.4200e+02, 8.3600e+02, 9.3000e+01, 1.3660e+03, 3.0000e+00,\n",
       "        2.0760e+03, 2.3960e+03, 4.7000e+02, 2.9600e+02, 2.9000e+01,\n",
       "        1.5000e+01, 3.3000e+01, 6.6900e+02, 1.5900e+02, 8.2000e+02,\n",
       "        1.4170e+03, 5.0000e+00, 1.0000e+00, 1.9350e+03, 0.0000e+00],\n",
       "       [3.6000e+01, 1.0000e+01, 1.9360e+03, 9.0000e+00, 1.1300e+02,\n",
       "        5.5500e+03, 6.0000e+00, 3.6000e+01, 5.7500e+02, 5.9600e+02,\n",
       "        1.1100e+02, 5.5000e+01, 4.0000e+00, 3.0000e+00, 2.4440e+03,\n",
       "        3.6000e+01, 2.8600e+02, 3.0000e+00, 5.2300e+02, 2.1060e+03],\n",
       "       [3.9000e+01, 3.5500e+02, 1.4000e+01, 1.0000e+01, 3.0000e+00,\n",
       "        2.0280e+03, 1.1700e+02, 3.9000e+01, 9.3100e+02, 2.4000e+01,\n",
       "        4.4690e+03, 2.3540e+03, 4.4700e+03, 4.9550e+03, 6.0000e+01,\n",
       "        1.0000e+00, 6.7700e+02, 2.6700e+02, 0.0000e+00, 0.0000e+00],\n",
       "       [1.0000e+00, 2.1900e+02, 4.0000e+00, 1.0000e+00, 7.2800e+02,\n",
       "        8.0000e+00, 1.8800e+02, 4.0790e+03, 3.6900e+02, 4.1000e+02,\n",
       "        6.0000e+00, 2.4000e+01, 1.2200e+02, 5.1500e+02, 1.5640e+03,\n",
       "        0.0000e+00, 0.0000e+00, 0.0000e+00, 0.0000e+00, 0.0000e+00],\n",
       "       [1.1800e+02, 1.0280e+03, 2.2000e+01, 5.7000e+01, 1.0300e+02,\n",
       "        3.8000e+01, 1.4880e+03, 2.0000e+00, 1.0450e+03, 1.4000e+01,\n",
       "        0.0000e+00, 0.0000e+00, 0.0000e+00, 0.0000e+00, 0.0000e+00,\n",
       "        0.0000e+00, 0.0000e+00, 0.0000e+00, 0.0000e+00, 0.0000e+00],\n",
       "       [0.0000e+00, 0.0000e+00, 0.0000e+00, 0.0000e+00, 0.0000e+00,\n",
       "        0.0000e+00, 0.0000e+00, 0.0000e+00, 0.0000e+00, 0.0000e+00,\n",
       "        0.0000e+00, 0.0000e+00, 0.0000e+00, 0.0000e+00, 0.0000e+00,\n",
       "        0.0000e+00, 0.0000e+00, 0.0000e+00, 0.0000e+00, 0.0000e+00],\n",
       "       [0.0000e+00, 0.0000e+00, 0.0000e+00, 0.0000e+00, 0.0000e+00,\n",
       "        0.0000e+00, 0.0000e+00, 0.0000e+00, 0.0000e+00, 0.0000e+00,\n",
       "        0.0000e+00, 0.0000e+00, 0.0000e+00, 0.0000e+00, 0.0000e+00,\n",
       "        0.0000e+00, 0.0000e+00, 0.0000e+00, 0.0000e+00, 0.0000e+00],\n",
       "       [0.0000e+00, 0.0000e+00, 0.0000e+00, 0.0000e+00, 0.0000e+00,\n",
       "        0.0000e+00, 0.0000e+00, 0.0000e+00, 0.0000e+00, 0.0000e+00,\n",
       "        0.0000e+00, 0.0000e+00, 0.0000e+00, 0.0000e+00, 0.0000e+00,\n",
       "        0.0000e+00, 0.0000e+00, 0.0000e+00, 0.0000e+00, 0.0000e+00],\n",
       "       [0.0000e+00, 0.0000e+00, 0.0000e+00, 0.0000e+00, 0.0000e+00,\n",
       "        0.0000e+00, 0.0000e+00, 0.0000e+00, 0.0000e+00, 0.0000e+00,\n",
       "        0.0000e+00, 0.0000e+00, 0.0000e+00, 0.0000e+00, 0.0000e+00,\n",
       "        0.0000e+00, 0.0000e+00, 0.0000e+00, 0.0000e+00, 0.0000e+00]])"
      ]
     },
     "execution_count": 20,
     "metadata": {
      "tags": []
     },
     "output_type": "execute_result"
    }
   ],
   "source": [
    "data[0, :, :]"
   ]
  },
  {
   "cell_type": "markdown",
   "metadata": {
    "colab_type": "text",
    "id": "hTG6JySHehkT"
   },
   "source": [
    "# Repeat the same process for the `Headings` as well. Use variables with names `texts_heading` and `articles_heading` accordingly. [5 marks] "
   ]
  },
  {
   "cell_type": "code",
   "execution_count": 0,
   "metadata": {
    "colab": {},
    "colab_type": "code",
    "id": "_CliiIhLemJV"
   },
   "outputs": [],
   "source": [
    "texts_heading = []\n",
    "articles_heading = []\n",
    "for i in range(len(train['Headline'])):\n",
    "  texts_heading.append(train['Headline'].iloc[i])\n",
    "  articles_heading.append(sent_tokenize(train['Headline'].iloc[i]))"
   ]
  },
  {
   "cell_type": "code",
   "execution_count": 22,
   "metadata": {
    "colab": {
     "base_uri": "https://localhost:8080/",
     "height": 35
    },
    "colab_type": "code",
    "id": "vKvVIBA5bXR8",
    "outputId": "e4565f92-9c7c-4a26-cd8c-33051963314c"
   },
   "outputs": [
    {
     "data": {
      "text/plain": [
       "(1683, 20, 20)"
      ]
     },
     "execution_count": 22,
     "metadata": {
      "tags": []
     },
     "output_type": "execute_result"
    }
   ],
   "source": [
    "data1 = np.zeros((len(articles_heading), MAX_SENTS, MAX_SENT_LENGTH))\n",
    "data1.shape"
   ]
  },
  {
   "cell_type": "code",
   "execution_count": 23,
   "metadata": {
    "colab": {
     "base_uri": "https://localhost:8080/",
     "height": 8711
    },
    "colab_type": "code",
    "id": "QbyL-ijZbba7",
    "outputId": "51e20cc8-ae86-426a-e597-9768aaf8db02"
   },
   "outputs": [
    {
     "name": "stdout",
     "output_type": "stream",
     "text": [
      "processing sentence .... 0\n",
      "processing sentence .... 0\n",
      "processing sentence .... 0\n",
      "processing sentence .... 1\n",
      "processing sentence .... 0\n",
      "processing sentence .... 0\n",
      "processing sentence .... 0\n",
      "processing sentence .... 0\n",
      "processing sentence .... 0\n",
      "processing sentence .... 0\n",
      "processing sentence .... 0\n",
      "processing sentence .... 0\n",
      "processing sentence .... 0\n",
      "processing sentence .... 0\n",
      "processing sentence .... 0\n",
      "processing sentence .... 0\n",
      "processing sentence .... 0\n",
      "processing sentence .... 1\n",
      "processing sentence .... 0\n",
      "processing sentence .... 0\n",
      "processing sentence .... 0\n",
      "processing sentence .... 0\n",
      "processing sentence .... 0\n",
      "processing sentence .... 0\n",
      "processing sentence .... 0\n",
      "processing sentence .... 0\n",
      "processing sentence .... 0\n",
      "processing sentence .... 0\n",
      "processing sentence .... 0\n",
      "processing sentence .... 0\n",
      "processing sentence .... 0\n",
      "processing sentence .... 0\n",
      "processing sentence .... 0\n",
      "processing sentence .... 0\n",
      "processing sentence .... 0\n",
      "processing sentence .... 0\n",
      "processing sentence .... 0\n",
      "processing sentence .... 0\n",
      "processing sentence .... 0\n",
      "processing sentence .... 0\n",
      "processing sentence .... 0\n",
      "processing sentence .... 0\n",
      "processing sentence .... 1\n",
      "processing sentence .... 0\n",
      "processing sentence .... 0\n",
      "processing sentence .... 0\n",
      "processing sentence .... 0\n",
      "processing sentence .... 0\n",
      "processing sentence .... 0\n",
      "processing sentence .... 0\n",
      "processing sentence .... 0\n",
      "processing sentence .... 0\n",
      "processing sentence .... 0\n",
      "processing sentence .... 0\n",
      "processing sentence .... 0\n",
      "processing sentence .... 0\n",
      "processing sentence .... 0\n",
      "processing sentence .... 0\n",
      "processing sentence .... 1\n",
      "processing sentence .... 0\n",
      "processing sentence .... 0\n",
      "processing sentence .... 0\n",
      "processing sentence .... 0\n",
      "processing sentence .... 0\n",
      "processing sentence .... 0\n",
      "processing sentence .... 0\n",
      "processing sentence .... 0\n",
      "processing sentence .... 1\n",
      "processing sentence .... 0\n",
      "processing sentence .... 1\n",
      "processing sentence .... 0\n",
      "processing sentence .... 0\n",
      "processing sentence .... 0\n",
      "processing sentence .... 0\n",
      "processing sentence .... 0\n",
      "processing sentence .... 0\n",
      "processing sentence .... 0\n",
      "processing sentence .... 0\n",
      "processing sentence .... 0\n",
      "processing sentence .... 0\n",
      "processing sentence .... 0\n",
      "processing sentence .... 0\n",
      "processing sentence .... 0\n",
      "processing sentence .... 1\n",
      "processing sentence .... 0\n",
      "processing sentence .... 0\n",
      "processing sentence .... 0\n",
      "processing sentence .... 0\n",
      "processing sentence .... 0\n",
      "processing sentence .... 0\n",
      "processing sentence .... 0\n",
      "processing sentence .... 0\n",
      "processing sentence .... 0\n",
      "processing sentence .... 1\n",
      "processing sentence .... 0\n",
      "processing sentence .... 0\n",
      "processing sentence .... 0\n",
      "processing sentence .... 0\n",
      "processing sentence .... 0\n",
      "processing sentence .... 0\n",
      "processing sentence .... 0\n",
      "processing sentence .... 0\n",
      "processing sentence .... 0\n",
      "processing sentence .... 0\n",
      "processing sentence .... 0\n",
      "processing sentence .... 0\n",
      "processing sentence .... 0\n",
      "processing sentence .... 0\n",
      "processing sentence .... 0\n",
      "processing sentence .... 0\n",
      "processing sentence .... 0\n",
      "processing sentence .... 0\n",
      "processing sentence .... 0\n",
      "processing sentence .... 0\n",
      "processing sentence .... 0\n",
      "processing sentence .... 0\n",
      "processing sentence .... 0\n",
      "processing sentence .... 0\n",
      "processing sentence .... 0\n",
      "processing sentence .... 0\n",
      "processing sentence .... 0\n",
      "processing sentence .... 0\n",
      "processing sentence .... 1\n",
      "processing sentence .... 0\n",
      "processing sentence .... 0\n",
      "processing sentence .... 0\n",
      "processing sentence .... 0\n",
      "processing sentence .... 0\n",
      "processing sentence .... 0\n",
      "processing sentence .... 0\n",
      "processing sentence .... 0\n",
      "processing sentence .... 0\n",
      "processing sentence .... 0\n",
      "processing sentence .... 0\n",
      "processing sentence .... 0\n",
      "processing sentence .... 0\n",
      "processing sentence .... 0\n",
      "processing sentence .... 1\n",
      "processing sentence .... 0\n",
      "processing sentence .... 0\n",
      "processing sentence .... 0\n",
      "processing sentence .... 0\n",
      "processing sentence .... 0\n",
      "processing sentence .... 0\n",
      "processing sentence .... 0\n",
      "processing sentence .... 0\n",
      "processing sentence .... 0\n",
      "processing sentence .... 0\n",
      "processing sentence .... 0\n",
      "processing sentence .... 0\n",
      "processing sentence .... 0\n",
      "processing sentence .... 0\n",
      "processing sentence .... 0\n",
      "processing sentence .... 0\n",
      "processing sentence .... 0\n",
      "processing sentence .... 0\n",
      "processing sentence .... 0\n",
      "processing sentence .... 0\n",
      "processing sentence .... 0\n",
      "processing sentence .... 0\n",
      "processing sentence .... 0\n",
      "processing sentence .... 0\n",
      "processing sentence .... 0\n",
      "processing sentence .... 0\n",
      "processing sentence .... 0\n",
      "processing sentence .... 0\n",
      "processing sentence .... 0\n",
      "processing sentence .... 0\n",
      "processing sentence .... 0\n",
      "processing sentence .... 0\n",
      "processing sentence .... 0\n",
      "processing sentence .... 0\n",
      "processing sentence .... 0\n",
      "processing sentence .... 0\n",
      "processing sentence .... 0\n",
      "processing sentence .... 0\n",
      "processing sentence .... 0\n",
      "processing sentence .... 0\n",
      "processing sentence .... 0\n",
      "processing sentence .... 0\n",
      "processing sentence .... 0\n",
      "processing sentence .... 0\n",
      "processing sentence .... 0\n",
      "processing sentence .... 0\n",
      "processing sentence .... 0\n",
      "processing sentence .... 0\n",
      "processing sentence .... 0\n",
      "processing sentence .... 0\n",
      "processing sentence .... 0\n",
      "processing sentence .... 0\n",
      "processing sentence .... 0\n",
      "processing sentence .... 0\n",
      "processing sentence .... 0\n",
      "processing sentence .... 0\n",
      "processing sentence .... 0\n",
      "processing sentence .... 0\n",
      "processing sentence .... 0\n",
      "processing sentence .... 0\n",
      "processing sentence .... 0\n",
      "processing sentence .... 0\n",
      "processing sentence .... 0\n",
      "processing sentence .... 0\n",
      "processing sentence .... 0\n",
      "processing sentence .... 0\n",
      "processing sentence .... 0\n",
      "processing sentence .... 0\n",
      "processing sentence .... 0\n",
      "processing sentence .... 0\n",
      "processing sentence .... 0\n",
      "processing sentence .... 0\n",
      "processing sentence .... 0\n",
      "processing sentence .... 0\n",
      "processing sentence .... 1\n",
      "processing sentence .... 0\n",
      "processing sentence .... 0\n",
      "processing sentence .... 0\n",
      "processing sentence .... 1\n",
      "processing sentence .... 0\n",
      "processing sentence .... 0\n",
      "processing sentence .... 0\n",
      "processing sentence .... 0\n",
      "processing sentence .... 0\n",
      "processing sentence .... 1\n",
      "processing sentence .... 0\n",
      "processing sentence .... 0\n",
      "processing sentence .... 0\n",
      "processing sentence .... 0\n",
      "processing sentence .... 0\n",
      "processing sentence .... 0\n",
      "processing sentence .... 0\n",
      "processing sentence .... 0\n",
      "processing sentence .... 0\n",
      "processing sentence .... 0\n",
      "processing sentence .... 0\n",
      "processing sentence .... 0\n",
      "processing sentence .... 0\n",
      "processing sentence .... 0\n",
      "processing sentence .... 0\n",
      "processing sentence .... 0\n",
      "processing sentence .... 0\n",
      "processing sentence .... 0\n",
      "processing sentence .... 0\n",
      "processing sentence .... 0\n",
      "processing sentence .... 0\n",
      "processing sentence .... 0\n",
      "processing sentence .... 0\n",
      "processing sentence .... 0\n",
      "processing sentence .... 0\n",
      "processing sentence .... 0\n",
      "processing sentence .... 0\n",
      "processing sentence .... 1\n",
      "processing sentence .... 0\n",
      "processing sentence .... 0\n",
      "processing sentence .... 0\n",
      "processing sentence .... 0\n",
      "processing sentence .... 0\n",
      "processing sentence .... 0\n",
      "processing sentence .... 0\n",
      "processing sentence .... 0\n",
      "processing sentence .... 0\n",
      "processing sentence .... 0\n",
      "processing sentence .... 0\n",
      "processing sentence .... 0\n",
      "processing sentence .... 0\n",
      "processing sentence .... 0\n",
      "processing sentence .... 0\n",
      "processing sentence .... 0\n",
      "processing sentence .... 0\n",
      "processing sentence .... 0\n",
      "processing sentence .... 0\n",
      "processing sentence .... 0\n",
      "processing sentence .... 0\n",
      "processing sentence .... 0\n",
      "processing sentence .... 0\n",
      "processing sentence .... 0\n",
      "processing sentence .... 0\n",
      "processing sentence .... 0\n",
      "processing sentence .... 0\n",
      "processing sentence .... 1\n",
      "processing sentence .... 0\n",
      "processing sentence .... 0\n",
      "processing sentence .... 0\n",
      "processing sentence .... 0\n",
      "processing sentence .... 0\n",
      "processing sentence .... 0\n",
      "processing sentence .... 0\n",
      "processing sentence .... 1\n",
      "processing sentence .... 0\n",
      "processing sentence .... 0\n",
      "processing sentence .... 0\n",
      "processing sentence .... 0\n",
      "processing sentence .... 0\n",
      "processing sentence .... 0\n",
      "processing sentence .... 0\n",
      "processing sentence .... 0\n",
      "processing sentence .... 0\n",
      "processing sentence .... 0\n",
      "processing sentence .... 0\n",
      "processing sentence .... 0\n",
      "processing sentence .... 0\n",
      "processing sentence .... 0\n",
      "processing sentence .... 0\n",
      "processing sentence .... 0\n",
      "processing sentence .... 0\n",
      "processing sentence .... 0\n",
      "processing sentence .... 1\n",
      "processing sentence .... 0\n",
      "processing sentence .... 0\n",
      "processing sentence .... 0\n",
      "processing sentence .... 0\n",
      "processing sentence .... 0\n",
      "processing sentence .... 0\n",
      "processing sentence .... 0\n",
      "processing sentence .... 0\n",
      "processing sentence .... 0\n",
      "processing sentence .... 0\n",
      "processing sentence .... 0\n",
      "processing sentence .... 1\n",
      "processing sentence .... 0\n",
      "processing sentence .... 0\n",
      "processing sentence .... 0\n",
      "processing sentence .... 0\n",
      "processing sentence .... 0\n",
      "processing sentence .... 0\n",
      "processing sentence .... 0\n",
      "processing sentence .... 0\n",
      "processing sentence .... 0\n",
      "processing sentence .... 0\n",
      "processing sentence .... 0\n",
      "processing sentence .... 0\n",
      "processing sentence .... 0\n",
      "processing sentence .... 0\n",
      "processing sentence .... 1\n",
      "processing sentence .... 0\n",
      "processing sentence .... 0\n",
      "processing sentence .... 0\n",
      "processing sentence .... 0\n",
      "processing sentence .... 0\n",
      "processing sentence .... 0\n",
      "processing sentence .... 0\n",
      "processing sentence .... 0\n",
      "processing sentence .... 0\n",
      "processing sentence .... 0\n",
      "processing sentence .... 0\n",
      "processing sentence .... 0\n",
      "processing sentence .... 0\n",
      "processing sentence .... 0\n",
      "processing sentence .... 0\n",
      "processing sentence .... 0\n",
      "processing sentence .... 0\n",
      "processing sentence .... 0\n",
      "processing sentence .... 0\n",
      "processing sentence .... 0\n",
      "processing sentence .... 0\n",
      "processing sentence .... 0\n",
      "processing sentence .... 0\n",
      "processing sentence .... 0\n",
      "processing sentence .... 0\n",
      "processing sentence .... 0\n",
      "processing sentence .... 0\n",
      "processing sentence .... 0\n",
      "processing sentence .... 0\n",
      "processing sentence .... 1\n",
      "processing sentence .... 0\n",
      "processing sentence .... 0\n",
      "processing sentence .... 0\n",
      "processing sentence .... 0\n",
      "processing sentence .... 0\n",
      "processing sentence .... 0\n",
      "processing sentence .... 0\n",
      "processing sentence .... 0\n",
      "processing sentence .... 0\n",
      "processing sentence .... 0\n",
      "processing sentence .... 0\n",
      "processing sentence .... 0\n",
      "processing sentence .... 0\n",
      "processing sentence .... 0\n",
      "processing sentence .... 0\n",
      "processing sentence .... 0\n",
      "processing sentence .... 0\n",
      "processing sentence .... 0\n",
      "processing sentence .... 0\n",
      "processing sentence .... 0\n",
      "processing sentence .... 0\n",
      "processing sentence .... 0\n",
      "processing sentence .... 0\n",
      "processing sentence .... 0\n",
      "processing sentence .... 0\n",
      "processing sentence .... 0\n",
      "processing sentence .... 0\n",
      "processing sentence .... 0\n",
      "processing sentence .... 0\n",
      "processing sentence .... 0\n",
      "processing sentence .... 0\n",
      "processing sentence .... 0\n",
      "processing sentence .... 0\n",
      "processing sentence .... 0\n",
      "processing sentence .... 0\n",
      "processing sentence .... 0\n",
      "processing sentence .... 0\n",
      "processing sentence .... 0\n",
      "processing sentence .... 0\n",
      "processing sentence .... 0\n",
      "processing sentence .... 0\n",
      "processing sentence .... 0\n",
      "processing sentence .... 0\n",
      "processing sentence .... 0\n",
      "processing sentence .... 0\n",
      "processing sentence .... 0\n",
      "processing sentence .... 0\n",
      "processing sentence .... 0\n",
      "processing sentence .... 0\n",
      "processing sentence .... 0\n",
      "processing sentence .... 0\n",
      "processing sentence .... 0\n",
      "processing sentence .... 0\n",
      "processing sentence .... 0\n",
      "processing sentence .... 0\n",
      "processing sentence .... 0\n",
      "processing sentence .... 0\n",
      "processing sentence .... 0\n",
      "processing sentence .... 0\n",
      "processing sentence .... 0\n",
      "processing sentence .... 0\n",
      "processing sentence .... 0\n",
      "processing sentence .... 0\n",
      "processing sentence .... 0\n",
      "processing sentence .... 0\n",
      "processing sentence .... 0\n",
      "processing sentence .... 0\n",
      "processing sentence .... 0\n",
      "processing sentence .... 0\n",
      "processing sentence .... 0\n",
      "processing sentence .... 0\n",
      "processing sentence .... 0\n",
      "processing sentence .... 0\n",
      "processing sentence .... 0\n",
      "processing sentence .... 0\n",
      "processing sentence .... 0\n",
      "processing sentence .... 1\n",
      "processing sentence .... 0\n",
      "processing sentence .... 0\n",
      "processing sentence .... 0\n",
      "processing sentence .... 0\n",
      "processing sentence .... 0\n",
      "processing sentence .... 0\n",
      "processing sentence .... 0\n",
      "processing sentence .... 0\n",
      "processing sentence .... 0\n",
      "processing sentence .... 0\n",
      "processing sentence .... 0\n",
      "processing sentence .... 0\n",
      "processing sentence .... 0\n",
      "processing sentence .... 0\n",
      "processing sentence .... 0\n",
      "processing sentence .... 0\n",
      "processing sentence .... 0\n",
      "processing sentence .... 0\n",
      "processing sentence .... 0\n",
      "processing sentence .... 0\n",
      "processing sentence .... 0\n",
      "processing sentence .... 0\n",
      "processing sentence .... 0\n",
      "processing sentence .... 0\n",
      "processing sentence .... 0\n",
      "processing sentence .... 1\n",
      "processing sentence .... 0\n",
      "processing sentence .... 0\n",
      "processing sentence .... 0\n",
      "processing sentence .... 1\n",
      "processing sentence .... 2\n",
      "processing sentence .... 0\n",
      "processing sentence .... 0\n",
      "processing sentence .... 0\n",
      "processing sentence .... 0\n",
      "processing sentence .... 0\n",
      "processing sentence .... 0\n",
      "processing sentence .... 0\n",
      "processing sentence .... 0\n",
      "processing sentence .... 0\n",
      "processing sentence .... 0\n",
      "processing sentence .... 0\n",
      "processing sentence .... 0\n",
      "processing sentence .... 0\n",
      "processing sentence .... 0\n",
      "processing sentence .... 0\n",
      "processing sentence .... 0\n",
      "processing sentence .... 0\n",
      "processing sentence .... 0\n",
      "processing sentence .... 0\n",
      "processing sentence .... 0\n"
     ]
    },
    {
     "ename": "KeyError",
     "evalue": "ignored",
     "output_type": "error",
     "traceback": [
      "\u001b[0;31m---------------------------------------------------------------------------\u001b[0m",
      "\u001b[0;31mKeyError\u001b[0m                                  Traceback (most recent call last)",
      "\u001b[0;32m<ipython-input-23-ec3edccf493e>\u001b[0m in \u001b[0;36m<module>\u001b[0;34m()\u001b[0m\n\u001b[1;32m      6\u001b[0m       \u001b[0;32mfor\u001b[0m \u001b[0mk\u001b[0m\u001b[0;34m,\u001b[0m \u001b[0mword\u001b[0m \u001b[0;32min\u001b[0m \u001b[0menumerate\u001b[0m\u001b[0;34m(\u001b[0m\u001b[0mdummy\u001b[0m\u001b[0;34m)\u001b[0m\u001b[0;34m:\u001b[0m\u001b[0;34m\u001b[0m\u001b[0;34m\u001b[0m\u001b[0m\n\u001b[1;32m      7\u001b[0m         \u001b[0;32mif\u001b[0m \u001b[0mk\u001b[0m \u001b[0;34m<\u001b[0m \u001b[0mMAX_SENT_LENGTH\u001b[0m\u001b[0;34m:\u001b[0m\u001b[0;34m\u001b[0m\u001b[0;34m\u001b[0m\u001b[0m\n\u001b[0;32m----> 8\u001b[0;31m           \u001b[0mdata1\u001b[0m\u001b[0;34m[\u001b[0m\u001b[0mi\u001b[0m\u001b[0;34m]\u001b[0m\u001b[0;34m[\u001b[0m\u001b[0mj\u001b[0m\u001b[0;34m]\u001b[0m\u001b[0;34m[\u001b[0m\u001b[0mk\u001b[0m\u001b[0;34m]\u001b[0m \u001b[0;34m=\u001b[0m \u001b[0mdict\u001b[0m\u001b[0;34m(\u001b[0m\u001b[0mtokenizer\u001b[0m\u001b[0;34m.\u001b[0m\u001b[0mword_index\u001b[0m\u001b[0;34m)\u001b[0m\u001b[0;34m[\u001b[0m\u001b[0mword\u001b[0m\u001b[0;34m]\u001b[0m\u001b[0;34m\u001b[0m\u001b[0;34m\u001b[0m\u001b[0m\n\u001b[0m",
      "\u001b[0;31mKeyError\u001b[0m: 'wayward'"
     ]
    }
   ],
   "source": [
    "for i, art in enumerate(articles_heading):\n",
    "  for j, sent in enumerate(art):\n",
    "    print('processing sentence ....', j)\n",
    "    if j < MAX_SENTS:\n",
    "      dummy = text_to_word_sequence(sent)\n",
    "      for k, word in enumerate(dummy):\n",
    "        if k < MAX_SENT_LENGTH:\n",
    "          data1[i][j][k] = dict(tokenizer.word_index)[word]"
   ]
  },
  {
   "cell_type": "markdown",
   "metadata": {
    "colab_type": "text",
    "id": "iaH0Ey1qe_Co"
   },
   "source": [
    "### Now the features are ready, lets make the labels ready for the model to process.\n",
    "\n",
    "### Convert labels into one-hot vectors\n",
    "\n",
    "You can use [get_dummies](https://pandas.pydata.org/pandas-docs/stable/generated/pandas.get_dummies.html) in pandas to create one-hot vectors."
   ]
  },
  {
   "cell_type": "code",
   "execution_count": 0,
   "metadata": {
    "colab": {},
    "colab_type": "code",
    "id": "Zq-VcgM8fat1"
   },
   "outputs": [],
   "source": [
    "import pandas as pd\n",
    "labels = pd.get_dummies(train['Stance'])"
   ]
  },
  {
   "cell_type": "markdown",
   "metadata": {
    "colab_type": "text",
    "id": "40mA8FI2fcxZ"
   },
   "source": [
    "### Check 4:\n",
    "\n",
    "The shape of data and labels shoould match the given below numbers."
   ]
  },
  {
   "cell_type": "code",
   "execution_count": 28,
   "metadata": {
    "colab": {
     "base_uri": "https://localhost:8080/",
     "height": 52
    },
    "colab_type": "code",
    "id": "vpEWEnjFfnFR",
    "outputId": "4a80271c-31d5-45cf-e18b-e8cc4a52a5de"
   },
   "outputs": [
    {
     "name": "stdout",
     "output_type": "stream",
     "text": [
      "Shape of data tensor: (1683, 20, 20)\n",
      "Shape of label tensor: (1683, 4)\n"
     ]
    }
   ],
   "source": [
    "print('Shape of data tensor:', data.shape)\n",
    "print('Shape of label tensor:', labels.shape)"
   ]
  },
  {
   "cell_type": "markdown",
   "metadata": {
    "colab_type": "text",
    "id": "sDOxHdR3frDu"
   },
   "source": [
    "### Shuffle the data"
   ]
  },
  {
   "cell_type": "code",
   "execution_count": 0,
   "metadata": {
    "colab": {},
    "colab_type": "code",
    "id": "-Ra-yYTvfzRt"
   },
   "outputs": [],
   "source": [
    "## get numbers upto no.of articles\n",
    "indices = np.arange(data.shape[0])\n",
    "## shuffle the numbers\n",
    "np.random.shuffle(indices)"
   ]
  },
  {
   "cell_type": "code",
   "execution_count": 0,
   "metadata": {
    "colab": {},
    "colab_type": "code",
    "id": "LKnSqwIFf3Iy"
   },
   "outputs": [],
   "source": [
    "## shuffle the data\n",
    "data = data[indices]\n",
    "data1 = data1[indices]"
   ]
  },
  {
   "cell_type": "code",
   "execution_count": 0,
   "metadata": {
    "colab": {},
    "colab_type": "code",
    "id": "Nn9obx60b8pj"
   },
   "outputs": [],
   "source": [
    "## shuffle the labels according to data\n",
    "labels = labels.iloc[indices]"
   ]
  },
  {
   "cell_type": "markdown",
   "metadata": {
    "colab_type": "text",
    "id": "JcOFVfPBf9kA"
   },
   "source": [
    "### Split into train and validation sets. Split the train set 80:20 ratio to get the train and validation sets.\n",
    "\n",
    "\n",
    "Use the variable names as given below:\n",
    "\n",
    "x_train, x_val - for body of articles.\n",
    "\n",
    "x-heading_train, x_heading_val - for heading of articles.\n",
    "\n",
    "y_train - for training labels.\n",
    "\n",
    "y_val - for validation labels.\n",
    "\n"
   ]
  },
  {
   "cell_type": "code",
   "execution_count": 0,
   "metadata": {
    "colab": {},
    "colab_type": "code",
    "id": "2neh9Wcof8iR"
   },
   "outputs": [],
   "source": [
    "from sklearn.model_selection import train_test_split\n",
    "x_train, x_val = train_test_split(data, test_size=0.20, random_state=42)\n",
    "x_heading_train, x_heading_val = train_test_split(data1, test_size=0.20, random_state=42)\n",
    "y_train, y_val = train_test_split(labels, test_size=0.20, random_state=42)"
   ]
  },
  {
   "cell_type": "code",
   "execution_count": 0,
   "metadata": {
    "colab": {},
    "colab_type": "code",
    "id": "o5u3PTz3gEV-"
   },
   "outputs": [],
   "source": []
  },
  {
   "cell_type": "markdown",
   "metadata": {
    "colab_type": "text",
    "id": "UTyvoHrsgMDw"
   },
   "source": [
    "### Check 5:\n",
    "\n",
    "The shape of x_train, x_val, y_train and y_val should match the below numbers."
   ]
  },
  {
   "cell_type": "code",
   "execution_count": 33,
   "metadata": {
    "colab": {
     "base_uri": "https://localhost:8080/",
     "height": 87
    },
    "colab_type": "code",
    "id": "KLEbiw2Yghe2",
    "outputId": "746d5af7-0e12-46ba-925c-2520a5f37003"
   },
   "outputs": [
    {
     "name": "stdout",
     "output_type": "stream",
     "text": [
      "(1346, 20, 20)\n",
      "(1346, 4)\n",
      "(337, 20, 20)\n",
      "(337, 4)\n"
     ]
    }
   ],
   "source": [
    "print(x_train.shape)\n",
    "print(y_train.shape)\n",
    "\n",
    "print(x_val.shape)\n",
    "print(y_val.shape)"
   ]
  },
  {
   "cell_type": "markdown",
   "metadata": {
    "colab_type": "text",
    "id": "yNnoBtArhJ1E"
   },
   "source": [
    "### Create embedding matrix with the glove embeddings\n",
    "\n",
    "\n",
    "Run the below code to create embedding_matrix which has all the words and their glove embedding if present in glove word list."
   ]
  },
  {
   "cell_type": "code",
   "execution_count": 34,
   "metadata": {
    "colab": {
     "base_uri": "https://localhost:8080/",
     "height": 35
    },
    "colab_type": "code",
    "id": "eKqn2IL2ZF8v",
    "outputId": "4395dd30-27e1-4b81-8c9c-d78cf6ba40fd"
   },
   "outputs": [
    {
     "name": "stdout",
     "output_type": "stream",
     "text": [
      "Loaded 400000 word vectors.\n"
     ]
    }
   ],
   "source": [
    "vocab_size = 400000\n",
    "# load the whole embedding into memory\n",
    "embeddings_index = dict()\n",
    "f = open('./glove.6B.100d.txt')\n",
    "for line in f:\n",
    "\tvalues = line.split()\n",
    "\tword = values[0]\n",
    "\tcoefs = np.asarray(values[1:], dtype='float32')\n",
    "\tembeddings_index[word] = coefs\n",
    "f.close()\n",
    "print('Loaded %s word vectors.' % len(embeddings_index))\n",
    "\n",
    "# create a weight matrix for words in training docs\n",
    "embedding_matrix = np.zeros((vocab_size, 100))\n",
    "\n",
    "\n",
    "for word, i in tokenizer.word_index.items():\n",
    "\tembedding_vector = embeddings_index.get(word)\n",
    "\tif embedding_vector is not None:\n",
    "\t\tembedding_matrix[i] = embedding_vector"
   ]
  },
  {
   "cell_type": "markdown",
   "metadata": {
    "colab_type": "text",
    "id": "LRi4o3ZspDFU"
   },
   "source": [
    "# Try the sequential model approach and report the accuracy score. [10 marks]  "
   ]
  },
  {
   "cell_type": "markdown",
   "metadata": {
    "colab_type": "text",
    "id": "zSZDnPWkw2ZZ"
   },
   "source": [
    "### Import layers from Keras to build the model"
   ]
  },
  {
   "cell_type": "code",
   "execution_count": 0,
   "metadata": {
    "colab": {},
    "colab_type": "code",
    "id": "5AgwQsfMrzAQ"
   },
   "outputs": [],
   "source": [
    "from keras.models import Sequential, load_model\n",
    "from keras.layers import LSTM, Dense, Dropout, Embedding, Masking, Bidirectional\n",
    "from keras.optimizers import Adam\n",
    "from keras import backend\n",
    "from keras.layers import Dense, Activation, Dropout, Flatten, Reshape"
   ]
  },
  {
   "cell_type": "markdown",
   "metadata": {
    "colab_type": "text",
    "id": "gpkVhIbx3gr1"
   },
   "source": [
    "### Model"
   ]
  },
  {
   "cell_type": "code",
   "execution_count": 0,
   "metadata": {
    "colab": {},
    "colab_type": "code",
    "id": "G_8QXh-rmPFq"
   },
   "outputs": [],
   "source": [
    "from keras.models import Sequential, load_model\n",
    "from keras.layers import LSTM, Dense, Dropout, Embedding, Masking, Bidirectional\n",
    "from keras.optimizers import Adam\n",
    "from keras import backend\n",
    "from keras.layers import Dense, Activation, Dropout, Flatten, Reshape"
   ]
  },
  {
   "cell_type": "code",
   "execution_count": 42,
   "metadata": {
    "colab": {
     "base_uri": "https://localhost:8080/",
     "height": 107
    },
    "colab_type": "code",
    "id": "MoEQ9Q73kFwK",
    "outputId": "da0f1d75-919e-48f8-af7a-cdaf93e3ab78"
   },
   "outputs": [
    {
     "name": "stderr",
     "output_type": "stream",
     "text": [
      "/usr/local/lib/python3.6/dist-packages/ipykernel_launcher.py:7: UserWarning: Update your `Dense` call to the Keras 2 API: `Dense(units=128, kernel_initializer=\"he_normal\", use_bias=True)`\n",
      "  import sys\n",
      "/usr/local/lib/python3.6/dist-packages/ipykernel_launcher.py:11: UserWarning: Update your `Dense` call to the Keras 2 API: `Dense(units=3, kernel_initializer=\"he_normal\", use_bias=True)`\n",
      "  # This is added back by InteractiveShellApp.init_path()\n"
     ]
    }
   ],
   "source": [
    "# Define the Type of Model\n",
    "    model1 = Sequential()\n",
    "\n",
    "    # Flatten Imgaes to Vector\n",
    "    model1.add(Dense(1346, input_shape=(1346, 20, 20)))\n",
    "\n",
    "    # Layer 1\n",
    "    model1.add(Dense(output_dim=128, init='he_normal', bias=True)) # init='he_normal' -- \n",
    "    model1.add(Activation(\"relu\"))\n",
    "\n",
    "    # Layer 2\n",
    "    model1.add(Dense(output_dim=3, init='he_normal', bias=True))\n",
    "    model1.add(Activation(\"softmax\"))\n"
   ]
  },
  {
   "cell_type": "markdown",
   "metadata": {
    "colab_type": "text",
    "id": "C5Xrd-JQ3id7"
   },
   "source": [
    "### Compile and fit the model"
   ]
  },
  {
   "cell_type": "code",
   "execution_count": 43,
   "metadata": {
    "colab": {
     "base_uri": "https://localhost:8080/",
     "height": 401
    },
    "colab_type": "code",
    "id": "MlduHU2CovxC",
    "outputId": "dbcdf826-986f-4cd5-dc97-438dada191bf"
   },
   "outputs": [
    {
     "name": "stderr",
     "output_type": "stream",
     "text": [
      "/usr/local/lib/python3.6/dist-packages/ipykernel_launcher.py:3: UserWarning: The `nb_epoch` argument in `fit` has been renamed `epochs`.\n",
      "  This is separate from the ipykernel package so we can avoid doing imports until\n"
     ]
    },
    {
     "ename": "ValueError",
     "evalue": "ignored",
     "output_type": "error",
     "traceback": [
      "\u001b[0;31m---------------------------------------------------------------------------\u001b[0m",
      "\u001b[0;31mValueError\u001b[0m                                Traceback (most recent call last)",
      "\u001b[0;32m<ipython-input-43-aef4322f76e4>\u001b[0m in \u001b[0;36m<module>\u001b[0;34m()\u001b[0m\n\u001b[1;32m      1\u001b[0m \u001b[0mmodel1\u001b[0m\u001b[0;34m.\u001b[0m\u001b[0mcompile\u001b[0m\u001b[0;34m(\u001b[0m\u001b[0mloss\u001b[0m\u001b[0;34m=\u001b[0m\u001b[0;34m'categorical_crossentropy'\u001b[0m\u001b[0;34m,\u001b[0m \u001b[0moptimizer\u001b[0m\u001b[0;34m=\u001b[0m\u001b[0;34m'adam'\u001b[0m\u001b[0;34m,\u001b[0m \u001b[0mmetrics\u001b[0m\u001b[0;34m=\u001b[0m\u001b[0;34m[\u001b[0m\u001b[0;34m'accuracy'\u001b[0m\u001b[0;34m]\u001b[0m\u001b[0;34m)\u001b[0m\u001b[0;34m\u001b[0m\u001b[0;34m\u001b[0m\u001b[0m\n\u001b[1;32m      2\u001b[0m   \u001b[0;31m# Train the model\u001b[0m\u001b[0;34m\u001b[0m\u001b[0;34m\u001b[0m\u001b[0;34m\u001b[0m\u001b[0m\n\u001b[0;32m----> 3\u001b[0;31m \u001b[0mmodel1\u001b[0m\u001b[0;34m.\u001b[0m\u001b[0mfit\u001b[0m\u001b[0;34m(\u001b[0m\u001b[0mx_train\u001b[0m\u001b[0;34m,\u001b[0m \u001b[0my_train\u001b[0m\u001b[0;34m,\u001b[0m \u001b[0mnb_epoch\u001b[0m\u001b[0;34m=\u001b[0m\u001b[0;36m10\u001b[0m\u001b[0;34m,\u001b[0m \u001b[0mbatch_size\u001b[0m\u001b[0;34m=\u001b[0m\u001b[0;36m500\u001b[0m\u001b[0;34m)\u001b[0m\u001b[0;34m\u001b[0m\u001b[0;34m\u001b[0m\u001b[0m\n\u001b[0m",
      "\u001b[0;32m/usr/local/lib/python3.6/dist-packages/keras/engine/training.py\u001b[0m in \u001b[0;36mfit\u001b[0;34m(self, x, y, batch_size, epochs, verbose, callbacks, validation_split, validation_data, shuffle, class_weight, sample_weight, initial_epoch, steps_per_epoch, validation_steps, **kwargs)\u001b[0m\n\u001b[1;32m    950\u001b[0m             \u001b[0msample_weight\u001b[0m\u001b[0;34m=\u001b[0m\u001b[0msample_weight\u001b[0m\u001b[0;34m,\u001b[0m\u001b[0;34m\u001b[0m\u001b[0;34m\u001b[0m\u001b[0m\n\u001b[1;32m    951\u001b[0m             \u001b[0mclass_weight\u001b[0m\u001b[0;34m=\u001b[0m\u001b[0mclass_weight\u001b[0m\u001b[0;34m,\u001b[0m\u001b[0;34m\u001b[0m\u001b[0;34m\u001b[0m\u001b[0m\n\u001b[0;32m--> 952\u001b[0;31m             batch_size=batch_size)\n\u001b[0m\u001b[1;32m    953\u001b[0m         \u001b[0;31m# Prepare validation data.\u001b[0m\u001b[0;34m\u001b[0m\u001b[0;34m\u001b[0m\u001b[0;34m\u001b[0m\u001b[0m\n\u001b[1;32m    954\u001b[0m         \u001b[0mdo_validation\u001b[0m \u001b[0;34m=\u001b[0m \u001b[0;32mFalse\u001b[0m\u001b[0;34m\u001b[0m\u001b[0;34m\u001b[0m\u001b[0m\n",
      "\u001b[0;32m/usr/local/lib/python3.6/dist-packages/keras/engine/training.py\u001b[0m in \u001b[0;36m_standardize_user_data\u001b[0;34m(self, x, y, sample_weight, class_weight, check_array_lengths, batch_size)\u001b[0m\n\u001b[1;32m    749\u001b[0m             \u001b[0mfeed_input_shapes\u001b[0m\u001b[0;34m,\u001b[0m\u001b[0;34m\u001b[0m\u001b[0;34m\u001b[0m\u001b[0m\n\u001b[1;32m    750\u001b[0m             \u001b[0mcheck_batch_axis\u001b[0m\u001b[0;34m=\u001b[0m\u001b[0;32mFalse\u001b[0m\u001b[0;34m,\u001b[0m  \u001b[0;31m# Don't enforce the batch size.\u001b[0m\u001b[0;34m\u001b[0m\u001b[0;34m\u001b[0m\u001b[0m\n\u001b[0;32m--> 751\u001b[0;31m             exception_prefix='input')\n\u001b[0m\u001b[1;32m    752\u001b[0m \u001b[0;34m\u001b[0m\u001b[0m\n\u001b[1;32m    753\u001b[0m         \u001b[0;32mif\u001b[0m \u001b[0my\u001b[0m \u001b[0;32mis\u001b[0m \u001b[0;32mnot\u001b[0m \u001b[0;32mNone\u001b[0m\u001b[0;34m:\u001b[0m\u001b[0;34m\u001b[0m\u001b[0;34m\u001b[0m\u001b[0m\n",
      "\u001b[0;32m/usr/local/lib/python3.6/dist-packages/keras/engine/training_utils.py\u001b[0m in \u001b[0;36mstandardize_input_data\u001b[0;34m(data, names, shapes, check_batch_axis, exception_prefix)\u001b[0m\n\u001b[1;32m    126\u001b[0m                         \u001b[0;34m': expected '\u001b[0m \u001b[0;34m+\u001b[0m \u001b[0mnames\u001b[0m\u001b[0;34m[\u001b[0m\u001b[0mi\u001b[0m\u001b[0;34m]\u001b[0m \u001b[0;34m+\u001b[0m \u001b[0;34m' to have '\u001b[0m \u001b[0;34m+\u001b[0m\u001b[0;34m\u001b[0m\u001b[0;34m\u001b[0m\u001b[0m\n\u001b[1;32m    127\u001b[0m                         \u001b[0mstr\u001b[0m\u001b[0;34m(\u001b[0m\u001b[0mlen\u001b[0m\u001b[0;34m(\u001b[0m\u001b[0mshape\u001b[0m\u001b[0;34m)\u001b[0m\u001b[0;34m)\u001b[0m \u001b[0;34m+\u001b[0m \u001b[0;34m' dimensions, but got array '\u001b[0m\u001b[0;34m\u001b[0m\u001b[0;34m\u001b[0m\u001b[0m\n\u001b[0;32m--> 128\u001b[0;31m                         'with shape ' + str(data_shape))\n\u001b[0m\u001b[1;32m    129\u001b[0m                 \u001b[0;32mif\u001b[0m \u001b[0;32mnot\u001b[0m \u001b[0mcheck_batch_axis\u001b[0m\u001b[0;34m:\u001b[0m\u001b[0;34m\u001b[0m\u001b[0;34m\u001b[0m\u001b[0m\n\u001b[1;32m    130\u001b[0m                     \u001b[0mdata_shape\u001b[0m \u001b[0;34m=\u001b[0m \u001b[0mdata_shape\u001b[0m\u001b[0;34m[\u001b[0m\u001b[0;36m1\u001b[0m\u001b[0;34m:\u001b[0m\u001b[0;34m]\u001b[0m\u001b[0;34m\u001b[0m\u001b[0;34m\u001b[0m\u001b[0m\n",
      "\u001b[0;31mValueError\u001b[0m: Error when checking input: expected dense_7_input to have 4 dimensions, but got array with shape (1346, 20, 20)"
     ]
    }
   ],
   "source": [
    "# Loss and Optimizer\n",
    "    model1.compile(loss='categorical_crossentropy', optimizer='adam', metrics=['accuracy'])\n",
    "  # Train the model\n",
    "    model1.fit(x_train, y_train, nb_epoch=10, batch_size=500)"
   ]
  },
  {
   "cell_type": "code",
   "execution_count": 0,
   "metadata": {
    "colab": {},
    "colab_type": "code",
    "id": "CM3yCmjQoCM3"
   },
   "outputs": [],
   "source": []
  },
  {
   "cell_type": "markdown",
   "metadata": {
    "colab_type": "text",
    "id": "R47A6Ysfev3l"
   },
   "source": [
    "## Build the same model with attention layers included for better performance (Optional)"
   ]
  },
  {
   "cell_type": "code",
   "execution_count": 0,
   "metadata": {
    "colab": {},
    "colab_type": "code",
    "id": "ZQ3TWuiAe1Uu"
   },
   "outputs": [],
   "source": []
  },
  {
   "cell_type": "code",
   "execution_count": 0,
   "metadata": {
    "colab": {},
    "colab_type": "code",
    "id": "wivJ-eVkfEOm"
   },
   "outputs": [],
   "source": []
  },
  {
   "cell_type": "markdown",
   "metadata": {
    "colab_type": "text",
    "id": "olqo5ytRe7eq"
   },
   "source": [
    "## Fit the model and report the accuracy score for the model with attention layer (Optional)"
   ]
  },
  {
   "cell_type": "code",
   "execution_count": 0,
   "metadata": {
    "colab": {},
    "colab_type": "code",
    "id": "1zgxPrhzfBkv"
   },
   "outputs": [],
   "source": []
  },
  {
   "cell_type": "code",
   "execution_count": 0,
   "metadata": {
    "colab": {},
    "colab_type": "code",
    "id": "z8507P94fDuX"
   },
   "outputs": [],
   "source": []
  }
 ],
 "metadata": {
  "accelerator": "GPU",
  "colab": {
   "collapsed_sections": [],
   "name": "Sequential NLP Project 2.ipynb",
   "provenance": [],
   "toc_visible": true,
   "version": "0.3.2"
  },
  "kernelspec": {
   "display_name": "Python 3",
   "language": "python",
   "name": "python3"
  },
  "language_info": {
   "codemirror_mode": {
    "name": "ipython",
    "version": 3
   },
   "file_extension": ".py",
   "mimetype": "text/x-python",
   "name": "python",
   "nbconvert_exporter": "python",
   "pygments_lexer": "ipython3",
   "version": "3.7.1"
  }
 },
 "nbformat": 4,
 "nbformat_minor": 1
}
